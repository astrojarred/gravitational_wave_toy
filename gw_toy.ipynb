{
 "metadata": {
  "language_info": {
   "codemirror_mode": {
    "name": "ipython",
    "version": 3
   },
   "file_extension": ".py",
   "mimetype": "text/x-python",
   "name": "python",
   "nbconvert_exporter": "python",
   "pygments_lexer": "ipython3",
   "version": "3.7.9-final"
  },
  "orig_nbformat": 2,
  "kernelspec": {
   "name": "python3",
   "display_name": "Python 3",
   "language": "python"
  }
 },
 "nbformat": 4,
 "nbformat_minor": 2,
 "cells": [
  {
   "source": [
    "# Testing the GW toy"
   ],
   "cell_type": "markdown",
   "metadata": {}
  },
  {
   "source": [],
   "cell_type": "code",
   "metadata": {},
   "execution_count": 3,
   "outputs": [
    {
     "output_type": "stream",
     "name": "stdout",
     "text": [
      "ok\n"
     ]
    }
   ]
  },
  {
   "cell_type": "code",
   "execution_count": 106,
   "metadata": {},
   "outputs": [],
   "source": [
    "import sys\n",
    "import os\n",
    "import subprocess\n",
    "\n",
    "from astropy.io import fits\n",
    "import numpy as np\n",
    "import pandas as pd"
   ]
  },
  {
   "cell_type": "code",
   "execution_count": 88,
   "metadata": {},
   "outputs": [],
   "source": [
    "def run_bash(command: str, show=False: bool):\n",
    "    split_command = command.split(\" \")\n",
    "    output = subprocess.Popen(split_command, stdout=subprocess.PIPE).communicate()\n",
    "    if show:\n",
    "        print(output[0].decode(\"utf-8\"))\n",
    "    else:\n",
    "        return output[0].decode(\"utf-8\")"
   ]
  },
  {
   "cell_type": "code",
   "execution_count": 112,
   "metadata": {},
   "outputs": [],
   "source": [
    "def find_files(catalog_directory: str, ext: str = \"fits\"):\n",
    "    fits_files = [os.path.abspath(f\"{catalog_directory}/{f}\") for f in os.listdir(os.path.abspath(catalog_directory)) if f.endswith(f\".{ext}\")]\n",
    "    return fits_files"
   ]
  },
  {
   "cell_type": "code",
   "execution_count": 113,
   "metadata": {},
   "outputs": [],
   "source": [
    "grbs = find_files(\"GammaCatalogV1.0\")[0:10]"
   ]
  },
  {
   "cell_type": "code",
   "execution_count": 115,
   "metadata": {},
   "outputs": [],
   "source": [
    "def open_v1_fits(filepath: str):\n",
    "    try:\n",
    "        with fits.open(filepath) as hdu_list:\n",
    "            datalc = hdu_list[3].data\n",
    "            datatime = hdu_list[2].data\n",
    "            dataenergy = hdu_list[1].data\n",
    "\n",
    "            lc = datalc.field(0)\n",
    "            time = datatime.field(0)\n",
    "            energy = dataenergy.field(0)\n",
    "            spec = datalc[0]\n",
    "\n",
    "            return lc, time, energy, spec\n",
    "            \n",
    "    except FileNotFoundError:\n",
    "        print(f\"Input V1 GRB {filepath} not found.\")"
   ]
  },
  {
   "cell_type": "code",
   "execution_count": 119,
   "metadata": {},
   "outputs": [
    {
     "output_type": "execute_result",
     "data": {
      "text/plain": [
       "(array([0.00000000e+00, 0.00000000e+00, 0.00000000e+00, 0.00000000e+00,\n",
       "        0.00000000e+00, 0.00000000e+00, 4.16598182e-28, 6.60263622e-28,\n",
       "        1.04644732e-27, 1.65850723e-27, 2.62855682e-27, 4.16598182e-27,\n",
       "        6.60263622e-27, 1.04644732e-26, 1.65850723e-26, 9.00863965e-26,\n",
       "        4.89316772e-25, 2.65771230e-24, 7.06985250e-24, 3.83967398e-23,\n",
       "        2.08524215e-22, 1.13238126e-21, 3.01160490e-21, 1.63518412e-20,\n",
       "        8.87752235e-20, 4.81909123e-19, 1.28108239e-18, 6.95209936e-18,\n",
       "        3.77196950e-17, 2.04605453e-16, 5.43429656e-16, 2.94578162e-15,\n",
       "        1.59420772e-14, 8.38853299e-14, 2.01145846e-13, 4.42686024e-13,\n",
       "        5.33516997e-13, 6.03809076e-13, 7.29293127e-13, 8.20926518e-13,\n",
       "        9.22630257e-13, 1.03505389e-12, 1.24156533e-12, 1.38638204e-12,\n",
       "        1.54351700e-12, 1.83498689e-12, 2.02764213e-12, 2.22993584e-12,\n",
       "        2.43893861e-12, 2.84012500e-12, 3.06391549e-12, 3.27753265e-12,\n",
       "        3.72075784e-12, 3.89917193e-12, 4.03626082e-12, 4.41610573e-12,\n",
       "        4.44155285e-12, 4.70827391e-12, 4.57568418e-12, 4.67543566e-12,\n",
       "        4.37083875e-12, 4.28968680e-12, 3.84879205e-12, 3.62591294e-12,\n",
       "        3.35119085e-12, 2.84285662e-12, 2.55648384e-12, 2.32937044e-12,\n",
       "        1.95161794e-12, 1.41382221e-12, 1.02422365e-12]),\n",
       " array([1.0000000e-01, 1.2589253e-01, 1.5848932e-01, 1.9952624e-01,\n",
       "        2.5118864e-01, 3.1622776e-01, 3.9810717e-01, 5.0118721e-01,\n",
       "        6.3095737e-01, 7.9432821e-01, 1.0000000e+00, 1.2589254e+00,\n",
       "        1.5848932e+00, 1.9952623e+00, 2.5118864e+00, 3.1622777e+00,\n",
       "        3.9810717e+00, 5.0118723e+00, 6.3095737e+00, 7.9432821e+00,\n",
       "        1.0000000e+01, 1.2589254e+01, 1.5848932e+01, 1.9952623e+01,\n",
       "        2.5118864e+01, 3.1622776e+01, 3.9810719e+01, 5.0118725e+01,\n",
       "        6.3095734e+01, 7.9432823e+01, 1.0000000e+02, 1.2589254e+02,\n",
       "        1.5848932e+02, 1.9952623e+02, 2.5118864e+02, 3.1622775e+02,\n",
       "        3.9810718e+02, 5.0118723e+02, 6.3095734e+02, 7.9432825e+02,\n",
       "        1.0000000e+03, 1.2589254e+03, 1.5848932e+03, 1.9952623e+03,\n",
       "        2.5118865e+03, 3.1622776e+03, 3.9810718e+03, 5.0118726e+03,\n",
       "        6.3095732e+03, 7.9432822e+03, 1.0000000e+04, 1.2589254e+04,\n",
       "        1.5848932e+04, 1.9952623e+04, 2.5118865e+04, 3.1622777e+04,\n",
       "        3.9810719e+04, 5.0118723e+04, 6.3095734e+04, 7.9432820e+04,\n",
       "        1.0000000e+05, 1.2589254e+05, 1.5848931e+05, 1.9952623e+05,\n",
       "        2.5118864e+05, 3.1622778e+05, 3.9810716e+05, 5.0118722e+05,\n",
       "        6.3095738e+05, 7.9432825e+05, 1.0000000e+06], dtype=float32),\n",
       " array([1.0000000e+00, 1.2589254e+00, 1.5848932e+00, 1.9952623e+00,\n",
       "        2.5118864e+00, 3.1622777e+00, 3.9810717e+00, 5.0118723e+00,\n",
       "        6.3095737e+00, 7.9432821e+00, 1.0000000e+01, 1.2589254e+01,\n",
       "        1.5848932e+01, 1.9952623e+01, 2.5118864e+01, 3.1622776e+01,\n",
       "        3.9810719e+01, 5.0118725e+01, 6.3095734e+01, 7.9432823e+01,\n",
       "        1.0000000e+02, 1.2589254e+02, 1.5848932e+02, 1.9952623e+02,\n",
       "        2.5118864e+02, 3.1622775e+02, 3.9810718e+02, 5.0118723e+02,\n",
       "        6.3095734e+02, 7.9432825e+02, 1.0000000e+03, 1.2589254e+03,\n",
       "        1.5848932e+03, 1.9952623e+03, 2.5118865e+03, 3.1622776e+03,\n",
       "        3.9810718e+03, 5.0118726e+03, 6.3095732e+03, 7.9432822e+03,\n",
       "        1.0000000e+04], dtype=float32),\n",
       " (0.0, 0.0, 0.0, 0.0, 0.0, 0.0, 0.0, 0.0, 0.0, 0.0, 0.0, 0.0, 0.0, 0.0, 0.0, 0.0, 0.0, 0.0, 0.0, 0.0, 0.0, 0.0, 0.0, 0.0, 0.0, 0.0, 0.0, 0.0, 0.0, 0.0, 0.0, 0.0, 0.0, 0.0, 0.0, 0.0, 0.0, 0.0, 0.0, 0.0, 0.0))"
      ]
     },
     "metadata": {},
     "execution_count": 119
    }
   ],
   "source": [
    "open_v1_fits(grbs[5])"
   ]
  },
  {
   "cell_type": "code",
   "execution_count": null,
   "metadata": {},
   "outputs": [],
   "source": []
  }
 ]
}