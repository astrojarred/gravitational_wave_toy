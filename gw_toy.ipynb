{
 "metadata": {
  "language_info": {
   "codemirror_mode": {
    "name": "ipython",
    "version": 3
   },
   "file_extension": ".py",
   "mimetype": "text/x-python",
   "name": "python",
   "nbconvert_exporter": "python",
   "pygments_lexer": "ipython3",
   "version": "3.7.9-final"
  },
  "orig_nbformat": 2,
  "kernelspec": {
   "name": "python3",
   "display_name": "Python 3",
   "language": "python"
  }
 },
 "nbformat": 4,
 "nbformat_minor": 2,
 "cells": [
  {
   "source": [
    "# Testing the GW toy"
   ],
   "cell_type": "markdown",
   "metadata": {}
  },
  {
   "cell_type": "code",
   "execution_count": 1,
   "metadata": {},
   "outputs": [],
   "source": [
    "import sys\n",
    "import os\n",
    "import subprocess\n",
    "\n",
    "import ray\n",
    "\n",
    "from astropy.io import fits\n",
    "import numpy as np\n",
    "import pandas as pd\n",
    "\n",
    "from scipy.interpolate import interp1d\n",
    "from scipy import integrate"
   ]
  },
  {
   "cell_type": "code",
   "execution_count": 2,
   "metadata": {},
   "outputs": [],
   "source": [
    "def run_bash(command: str, show: bool = False):\n",
    "    split_command = command.split(\" \")\n",
    "    output = subprocess.Popen(split_command, stdout=subprocess.PIPE).communicate()\n",
    "    if show:\n",
    "        print(output[0].decode(\"utf-8\"))\n",
    "    else:\n",
    "        return output[0].decode(\"utf-8\")\n",
    "\n",
    "\n",
    "def ParseGrbsens(catFileName, Separator=\"\\t\", names=None, orient=\"list\"):\n",
    "    as_dict = pd.read_csv(catFileName, sep=Separator, comment=\"#\", names=names).to_dict(\n",
    "        orient=orient\n",
    "    )\n",
    "    return as_dict\n",
    "\n",
    "\n",
    "def open_grbsens(filename: str):\n",
    "    col_names = [\"obs_time\", \"crab_flux\", \"photon_flux\", \"energy_flux\", \"sensitivity\"]\n",
    "    sensi_list = ParseGrbsens(filename, names=col_names, orient=\"list\")\n",
    "\n",
    "    return sensi_list\n",
    "\n",
    "\n",
    "def ParseBNS(filename, sep=\" \", names=None, orient=\"index\"):\n",
    "    as_dict = pd.read_csv(\n",
    "        filename, sep=sep, quotechar='\"', comment=\"#\", names=names\n",
    "    ).to_dict(orient=orient)\n",
    "    return as_dict\n",
    "\n",
    "\n",
    "# open grbsens files and create interpolation class:\n",
    "def get_interpolation(filename: str):\n",
    "    col_names = [\"obs_time\", \"crab_flux\", \"photon_flux\", \"energy_flux\", \"sensitivity\"]\n",
    "    sensi_list = ParseGrbsens(filename, names=col_names, orient=\"list\")\n",
    "\n",
    "    # interpolation, x-> obstime, y-> photon_flux\n",
    "    interpolation = interp1d(sensi_list[\"obs_time\"], sensi_list[\"photon_flux\"])\n",
    "\n",
    "    return interpolation\n",
    "\n",
    "\n",
    "def get_interpolation_dict(file_dict: dict):\n",
    "\n",
    "    for direction, zeniths in file_dict.items():\n",
    "        for zenith, file in zeniths.items():\n",
    "            file_dict[direction][zenith] = get_interpolation(\n",
    "                file_dict[direction][zenith]\n",
    "            )\n",
    "\n",
    "    return file_dict\n",
    "\n",
    "\n",
    "def interpolate_grbsens(x: float, direction: str, zenith: int, interpoations: dict):\n",
    "\n",
    "    try:\n",
    "        return interpolations[direction.lower()][zenith](x)\n",
    "    except KeyError:\n",
    "        raise AttributeError(f\"No {direction} z{zenith} file found!\")\n",
    "\n",
    "\n",
    "def get_energy_limits(zenith: int):\n",
    "\n",
    "    if zenith not in [20, 40, 60]:\n",
    "        raise AttributeError(\"Zenith must be 20, 40, or 60.\")\n",
    "    if zenith == 20:\n",
    "        lower, upper = 30, 10000\n",
    "    elif zenith == 40:\n",
    "        lower, upper = 40, 10000\n",
    "    else:\n",
    "        lower, upper = 110, 10000\n",
    "\n",
    "    return lower, upper\n",
    "\n",
    "\n",
    "def bns_stats(df: pd.DataFrame = None, input_file: str = None):\n",
    "    \"\"\"Print statistics about the data runs\"\"\"\n",
    "\n",
    "    if df is None and input_file is None:\n",
    "        raise AttributeError(\"Please proide either a dataframe or an input file.\")\n",
    "\n",
    "    if df:\n",
    "        n_runs = len(df)\n",
    "        df_20 = df[df[\"alt\"] == 20]\n",
    "        df_40 = df[df[\"alt\"] == 40]\n",
    "        df_60 = df[df[\"alt\"] == 60]\n",
    "\n",
    "        for data in [df_20, df_40, df_60]:\n",
    "            print(\"\")\n",
    "\n",
    "\n",
    "def find_files(catalog_directory: str, ext: str = \"fits\"):\n",
    "    fits_files = [\n",
    "        os.path.abspath(f\"{catalog_directory}/{f}\")\n",
    "        for f in os.listdir(os.path.abspath(catalog_directory))\n",
    "        if f.endswith(f\".{ext}\")\n",
    "    ]\n",
    "    return fits_files\n",
    "\n",
    "\n",
    "def open_v1_fits(filepath: str):\n",
    "    try:\n",
    "        \n",
    "        grb = {}\n",
    "\n",
    "        with fits.open(filepath) as hdu_list:\n",
    "\n",
    "            grb[\"run\"] = hdu_list[0].header[\"RUN\"]\n",
    "            grb[\"id\"] = hdu_list[0].header[\"MERGERID\"]\n",
    "            grb[\"ra\"] = hdu_list[0].header[\"RA\"]\n",
    "            grb[\"dec\"] = hdu_list[0].header[\"DEC\"]\n",
    "            grb[\"eiso\"] = hdu_list[0].header[\"EISO\"]\n",
    "            grb[\"z\"] = hdu_list[0].header[\"REDSHIFT\"]\n",
    "            grb[\"angle\"] = hdu_list[0].header[\"ANGLE\"]\n",
    "\n",
    "            datalc = hdu_list[3].data\n",
    "            datatime = hdu_list[2].data\n",
    "            dataenergy = hdu_list[1].data\n",
    "\n",
    "            grb[\"lc\"] = datalc.field(0)\n",
    "            grb[\"time\"] = datatime.field(0)\n",
    "            grb[\"energy\"] = dataenergy.field(0)\n",
    "            grb[\"spec\"] = datalc[0]\n",
    "\n",
    "            return grb\n",
    "\n",
    "    except FileNotFoundError:\n",
    "        print(f\"Input V1 GRB {filepath} not found.\")\n",
    "\n",
    "# Spectrum\n",
    "def spectrum(x):\n",
    "    return (x / 1) ** (-2.1)"
   ]
  },
  {
   "cell_type": "code",
   "execution_count": 5,
   "metadata": {},
   "outputs": [],
   "source": [
    "def observe_grb(bns_index: int, bns_dict: dict, interpolations, inttime: float, tstart: float = 0, observatory=None, zenith=None):\n",
    "\n",
    "    # get run and merger ID\n",
    "\n",
    "    run = bns_dict[bns_index][\"run\"]\n",
    "    merger_id = bns_dict[bns_index][\"MergerID\"]\n",
    "    if \"merger\" in merger_id.lower():\n",
    "        merger_id = merger_id[6:]\n",
    "\n",
    "    InputGRB = f\"GammaCatalogV1.0/{run}_{merger_id}.fits\"\n",
    "\n",
    "    # open grb file\n",
    "    grb = open_v1_fits(InputGRB)\n",
    "\n",
    "    # add other bns information:\n",
    "    #    - later these can be replaces with functions to calculate them\n",
    "    grb[\"zenith\"] = bns_dict[bns_index][\"Mean Altitude\"]\n",
    "    grb[\"observatory\"] = bns_dict[bns_index][\"Observatory\"]\n",
    "    if observatory:\n",
    "        # force observatory if given as input\n",
    "        grb[\"observatory\"] = observatory.lower().capitalize()\n",
    "    if zenith:\n",
    "        # force zenith if given as input\n",
    "        grb[\"zenith\"] = zenith\n",
    "\n",
    "    # set the grb to not be seen by default\n",
    "    grb[\"seen\"] = False\n",
    "    grb[\"tend\"] = -1\n",
    "    grb[\"obstime\"] = -1\n",
    "\n",
    "    # Integral of the spectrum\n",
    "\n",
    "    lower, upper = get_energy_limits(grb['zenith'])\n",
    "    \n",
    "    # print(f\"index: {bns_index}, zenith: {zenith}, {lower}GeV-{upper}GeV\")\n",
    "\n",
    "    intl, errl = integrate.quad(lambda x: spectrum(x), lower, upper)  # GeV\n",
    "\n",
    "    # Interpolation of the flux with time\n",
    "    flux = interp1d(grb[\"time\"], grb[\"lc\"])\n",
    "\n",
    "    # start the procedure\n",
    "    dt = 1\n",
    "    grb[\"tstart\"] = tstart\n",
    "\n",
    "    return grb\n",
    "\n",
    "    for m in range(1, inttime):  # second loop from 1 to max integration time\n",
    "\n",
    "            t = tstart + m * dt  # tstart = 210, + loop number\n",
    "            obst = t - tstart  # how much actual observing time has gone by\n",
    "\n",
    "            fluencen, errorn = integrate.quad(lambda x: flux(x), tstart, t)\n",
    "            averagefluxn = fluencen * intl / obst  # ph/cm2/s\n",
    "\n",
    "            photon_flux = interpolate_grbsens(obst, grb[\"observatory\"], grb[\"zenith\"], interpolations)\n",
    "\n",
    "            if averagefluxn > photon_flux:  # if it is visible:\n",
    "\n",
    "                if tstart + obst < inttime:  # if starting time < max time, write\n",
    "                    tend = tstart + obst\n",
    "                    grb[\"tend\"] = tend\n",
    "                    grb[\"obstime\"] = obst\n",
    "                    grb[\"seen\"] = True\n",
    "\n",
    "                tstart = tstart + obst\n",
    "\n",
    "                break\n",
    "\n",
    "    # print(f\"Seen: {new_row['seen']}\")\n",
    "    del grb[\"lc\"], grb[\"time\"], grb[\"energy\"], grb[\"spec\"]\n",
    "    return pd.DataFrame(grb, index=[bns_index])"
   ]
  },
  {
   "cell_type": "code",
   "execution_count": 6,
   "metadata": {},
   "outputs": [],
   "source": [
    "files = {\n",
    "    \"north\": {\n",
    "        20: \"grbsens-5.0sigma_t1s-t16384s_irf-North_z20_0.5h.txt\",\n",
    "        40: \"grbsens-5.0sigma_t1s-t16384s_irf-North_z40_0.5h.txt\",\n",
    "        60: \"grbsens-5.0sigma_t1s-t16384s_irf-North_z60_0.5h.txt\",\n",
    "    },\n",
    "    \"south\": {\n",
    "        20: \"grbsens-5.0sigma_t1s-t16384s_irf-South_z20_0.5h.txt\",\n",
    "        40: \"grbsens-5.0sigma_t1s-t16384s_irf-South_z40_0.5h.txt\",\n",
    "        60: \"grbsens-5.0sigma_t1s-t16384s_irf-South_z60_0.5h.txt\",\n",
    "    },\n",
    "}\n",
    "\n",
    "interpolations = get_interpolation_dict(files)\n",
    "\n",
    "bns = ParseBNS(\"BNS-GW-Time_onAxis5deg-original.txt\")"
   ]
  },
  {
   "cell_type": "code",
   "execution_count": 7,
   "metadata": {},
   "outputs": [],
   "source": [
    "grb = observe_grb(5, bns, interpolations, inttime=1000, tstart=252, zenith=40)"
   ]
  },
  {
   "cell_type": "code",
   "execution_count": 8,
   "metadata": {},
   "outputs": [
    {
     "output_type": "execute_result",
     "data": {
      "text/plain": [
       "    run      id      ra     dec          eiso      z  angle  zenith  \\\n",
       "5  0020  000430 -25.981 -48.901  2.389455e+49  0.052  4.806      40   \n",
       "\n",
       "  observatory  seen  tend  obstime  tstart  \n",
       "5       South  True   826      574     252  "
      ],
      "text/html": "<div>\n<style scoped>\n    .dataframe tbody tr th:only-of-type {\n        vertical-align: middle;\n    }\n\n    .dataframe tbody tr th {\n        vertical-align: top;\n    }\n\n    .dataframe thead th {\n        text-align: right;\n    }\n</style>\n<table border=\"1\" class=\"dataframe\">\n  <thead>\n    <tr style=\"text-align: right;\">\n      <th></th>\n      <th>run</th>\n      <th>id</th>\n      <th>ra</th>\n      <th>dec</th>\n      <th>eiso</th>\n      <th>z</th>\n      <th>angle</th>\n      <th>zenith</th>\n      <th>observatory</th>\n      <th>seen</th>\n      <th>tend</th>\n      <th>obstime</th>\n      <th>tstart</th>\n    </tr>\n  </thead>\n  <tbody>\n    <tr>\n      <th>5</th>\n      <td>0020</td>\n      <td>000430</td>\n      <td>-25.981</td>\n      <td>-48.901</td>\n      <td>2.389455e+49</td>\n      <td>0.052</td>\n      <td>4.806</td>\n      <td>40</td>\n      <td>South</td>\n      <td>True</td>\n      <td>826</td>\n      <td>574</td>\n      <td>252</td>\n    </tr>\n  </tbody>\n</table>\n</div>"
     },
     "metadata": {},
     "execution_count": 8
    }
   ],
   "source": [
    "grb"
   ]
  },
  {
   "cell_type": "code",
   "execution_count": null,
   "metadata": {},
   "outputs": [],
   "source": []
  },
  {
   "cell_type": "code",
   "execution_count": 11,
   "metadata": {},
   "outputs": [],
   "source": [
    "import matplotlib.pyplot as plt"
   ]
  },
  {
   "cell_type": "code",
   "execution_count": 15,
   "metadata": {},
   "outputs": [],
   "source": [
    "grb = observe_grb(5, bns, interpolations, inttime=1000, tstart=252, zenith=40)"
   ]
  },
  {
   "source": [
    "## Testing fitting algs"
   ],
   "cell_type": "markdown",
   "metadata": {}
  },
  {
   "source": [
    "### Plotting"
   ],
   "cell_type": "markdown",
   "metadata": {}
  },
  {
   "cell_type": "code",
   "execution_count": 30,
   "metadata": {},
   "outputs": [],
   "source": [
    "grbsens = ParseGrbsens(\"grbsens-5.0sigma_t1s-t16384s_irf-South_z40_0.5h.txt\", orient=\"list\", names = [\"obs_time\", \"crab_flux\", \"photon_flux\", \"energy_flux\", \"sensitivity\"])"
   ]
  },
  {
   "cell_type": "code",
   "execution_count": 31,
   "metadata": {},
   "outputs": [
    {
     "output_type": "execute_result",
     "data": {
      "text/plain": [
       "dict_keys(['obs_time', 'crab_flux', 'photon_flux', 'energy_flux', 'sensitivity'])"
      ]
     },
     "metadata": {},
     "execution_count": 31
    }
   ],
   "source": [
    "grbsens.keys()"
   ]
  },
  {
   "cell_type": "code",
   "execution_count": 33,
   "metadata": {},
   "outputs": [
    {
     "output_type": "execute_result",
     "data": {
      "text/plain": [
       "[<matplotlib.lines.Line2D at 0x124e8fb10>]"
      ]
     },
     "metadata": {},
     "execution_count": 33
    },
    {
     "output_type": "display_data",
     "data": {
      "text/plain": "<Figure size 432x288 with 1 Axes>",
      "image/svg+xml": "<?xml version=\"1.0\" encoding=\"utf-8\" standalone=\"no\"?>\n<!DOCTYPE svg PUBLIC \"-//W3C//DTD SVG 1.1//EN\"\n  \"http://www.w3.org/Graphics/SVG/1.1/DTD/svg11.dtd\">\n<!-- Created with matplotlib (https://matplotlib.org/) -->\n<svg height=\"248.518125pt\" version=\"1.1\" viewBox=\"0 0 384.1 248.518125\" width=\"384.1pt\" xmlns=\"http://www.w3.org/2000/svg\" xmlns:xlink=\"http://www.w3.org/1999/xlink\">\n <metadata>\n  <rdf:RDF xmlns:cc=\"http://creativecommons.org/ns#\" xmlns:dc=\"http://purl.org/dc/elements/1.1/\" xmlns:rdf=\"http://www.w3.org/1999/02/22-rdf-syntax-ns#\">\n   <cc:Work>\n    <dc:type rdf:resource=\"http://purl.org/dc/dcmitype/StillImage\"/>\n    <dc:date>2021-01-20T15:41:28.303709</dc:date>\n    <dc:format>image/svg+xml</dc:format>\n    <dc:creator>\n     <cc:Agent>\n      <dc:title>Matplotlib v3.3.3, https://matplotlib.org/</dc:title>\n     </cc:Agent>\n    </dc:creator>\n   </cc:Work>\n  </rdf:RDF>\n </metadata>\n <defs>\n  <style type=\"text/css\">*{stroke-linecap:butt;stroke-linejoin:round;}</style>\n </defs>\n <g id=\"figure_1\">\n  <g id=\"patch_1\">\n   <path d=\"M 0 248.518125 \nL 384.1 248.518125 \nL 384.1 0 \nL 0 0 \nz\n\" style=\"fill:none;\"/>\n  </g>\n  <g id=\"axes_1\">\n   <g id=\"patch_2\">\n    <path d=\"M 42.1 224.64 \nL 376.9 224.64 \nL 376.9 7.2 \nL 42.1 7.2 \nz\n\" style=\"fill:#ffffff;\"/>\n   </g>\n   <g id=\"matplotlib.axis_1\">\n    <g id=\"xtick_1\">\n     <g id=\"line2d_1\">\n      <defs>\n       <path d=\"M 0 0 \nL 0 3.5 \n\" id=\"m29a5bfc444\" style=\"stroke:#000000;stroke-width:0.8;\"/>\n      </defs>\n      <g>\n       <use style=\"stroke:#000000;stroke-width:0.8;\" x=\"57.318182\" xlink:href=\"#m29a5bfc444\" y=\"224.64\"/>\n      </g>\n     </g>\n     <g id=\"text_1\">\n      <!-- $\\mathdefault{10^{-1}}$ -->\n      <g transform=\"translate(45.568182 239.238437)scale(0.1 -0.1)\">\n       <defs>\n        <path d=\"M 12.40625 8.296875 \nL 28.515625 8.296875 \nL 28.515625 63.921875 \nL 10.984375 60.40625 \nL 10.984375 69.390625 \nL 28.421875 72.90625 \nL 38.28125 72.90625 \nL 38.28125 8.296875 \nL 54.390625 8.296875 \nL 54.390625 0 \nL 12.40625 0 \nz\n\" id=\"DejaVuSans-49\"/>\n        <path d=\"M 31.78125 66.40625 \nQ 24.171875 66.40625 20.328125 58.90625 \nQ 16.5 51.421875 16.5 36.375 \nQ 16.5 21.390625 20.328125 13.890625 \nQ 24.171875 6.390625 31.78125 6.390625 \nQ 39.453125 6.390625 43.28125 13.890625 \nQ 47.125 21.390625 47.125 36.375 \nQ 47.125 51.421875 43.28125 58.90625 \nQ 39.453125 66.40625 31.78125 66.40625 \nz\nM 31.78125 74.21875 \nQ 44.046875 74.21875 50.515625 64.515625 \nQ 56.984375 54.828125 56.984375 36.375 \nQ 56.984375 17.96875 50.515625 8.265625 \nQ 44.046875 -1.421875 31.78125 -1.421875 \nQ 19.53125 -1.421875 13.0625 8.265625 \nQ 6.59375 17.96875 6.59375 36.375 \nQ 6.59375 54.828125 13.0625 64.515625 \nQ 19.53125 74.21875 31.78125 74.21875 \nz\n\" id=\"DejaVuSans-48\"/>\n        <path d=\"M 10.59375 35.5 \nL 73.1875 35.5 \nL 73.1875 27.203125 \nL 10.59375 27.203125 \nz\n\" id=\"DejaVuSans-8722\"/>\n       </defs>\n       <use transform=\"translate(0 0.684375)\" xlink:href=\"#DejaVuSans-49\"/>\n       <use transform=\"translate(63.623047 0.684375)\" xlink:href=\"#DejaVuSans-48\"/>\n       <use transform=\"translate(128.203125 38.965625)scale(0.7)\" xlink:href=\"#DejaVuSans-8722\"/>\n       <use transform=\"translate(186.855469 38.965625)scale(0.7)\" xlink:href=\"#DejaVuSans-49\"/>\n      </g>\n     </g>\n    </g>\n    <g id=\"xtick_2\">\n     <g id=\"line2d_2\">\n      <g>\n       <use style=\"stroke:#000000;stroke-width:0.8;\" x=\"100.798701\" xlink:href=\"#m29a5bfc444\" y=\"224.64\"/>\n      </g>\n     </g>\n     <g id=\"text_2\">\n      <!-- $\\mathdefault{10^{0}}$ -->\n      <g transform=\"translate(91.998701 239.238437)scale(0.1 -0.1)\">\n       <use transform=\"translate(0 0.765625)\" xlink:href=\"#DejaVuSans-49\"/>\n       <use transform=\"translate(63.623047 0.765625)\" xlink:href=\"#DejaVuSans-48\"/>\n       <use transform=\"translate(128.203125 39.046875)scale(0.7)\" xlink:href=\"#DejaVuSans-48\"/>\n      </g>\n     </g>\n    </g>\n    <g id=\"xtick_3\">\n     <g id=\"line2d_3\">\n      <g>\n       <use style=\"stroke:#000000;stroke-width:0.8;\" x=\"144.279221\" xlink:href=\"#m29a5bfc444\" y=\"224.64\"/>\n      </g>\n     </g>\n     <g id=\"text_3\">\n      <!-- $\\mathdefault{10^{1}}$ -->\n      <g transform=\"translate(135.479221 239.238437)scale(0.1 -0.1)\">\n       <use transform=\"translate(0 0.684375)\" xlink:href=\"#DejaVuSans-49\"/>\n       <use transform=\"translate(63.623047 0.684375)\" xlink:href=\"#DejaVuSans-48\"/>\n       <use transform=\"translate(128.203125 38.965625)scale(0.7)\" xlink:href=\"#DejaVuSans-49\"/>\n      </g>\n     </g>\n    </g>\n    <g id=\"xtick_4\">\n     <g id=\"line2d_4\">\n      <g>\n       <use style=\"stroke:#000000;stroke-width:0.8;\" x=\"187.75974\" xlink:href=\"#m29a5bfc444\" y=\"224.64\"/>\n      </g>\n     </g>\n     <g id=\"text_4\">\n      <!-- $\\mathdefault{10^{2}}$ -->\n      <g transform=\"translate(178.95974 239.238437)scale(0.1 -0.1)\">\n       <defs>\n        <path d=\"M 19.1875 8.296875 \nL 53.609375 8.296875 \nL 53.609375 0 \nL 7.328125 0 \nL 7.328125 8.296875 \nQ 12.9375 14.109375 22.625 23.890625 \nQ 32.328125 33.6875 34.8125 36.53125 \nQ 39.546875 41.84375 41.421875 45.53125 \nQ 43.3125 49.21875 43.3125 52.78125 \nQ 43.3125 58.59375 39.234375 62.25 \nQ 35.15625 65.921875 28.609375 65.921875 \nQ 23.96875 65.921875 18.8125 64.3125 \nQ 13.671875 62.703125 7.8125 59.421875 \nL 7.8125 69.390625 \nQ 13.765625 71.78125 18.9375 73 \nQ 24.125 74.21875 28.421875 74.21875 \nQ 39.75 74.21875 46.484375 68.546875 \nQ 53.21875 62.890625 53.21875 53.421875 \nQ 53.21875 48.921875 51.53125 44.890625 \nQ 49.859375 40.875 45.40625 35.40625 \nQ 44.1875 33.984375 37.640625 27.21875 \nQ 31.109375 20.453125 19.1875 8.296875 \nz\n\" id=\"DejaVuSans-50\"/>\n       </defs>\n       <use transform=\"translate(0 0.765625)\" xlink:href=\"#DejaVuSans-49\"/>\n       <use transform=\"translate(63.623047 0.765625)\" xlink:href=\"#DejaVuSans-48\"/>\n       <use transform=\"translate(128.203125 39.046875)scale(0.7)\" xlink:href=\"#DejaVuSans-50\"/>\n      </g>\n     </g>\n    </g>\n    <g id=\"xtick_5\">\n     <g id=\"line2d_5\">\n      <g>\n       <use style=\"stroke:#000000;stroke-width:0.8;\" x=\"231.24026\" xlink:href=\"#m29a5bfc444\" y=\"224.64\"/>\n      </g>\n     </g>\n     <g id=\"text_5\">\n      <!-- $\\mathdefault{10^{3}}$ -->\n      <g transform=\"translate(222.44026 239.238437)scale(0.1 -0.1)\">\n       <defs>\n        <path d=\"M 40.578125 39.3125 \nQ 47.65625 37.796875 51.625 33 \nQ 55.609375 28.21875 55.609375 21.1875 \nQ 55.609375 10.40625 48.1875 4.484375 \nQ 40.765625 -1.421875 27.09375 -1.421875 \nQ 22.515625 -1.421875 17.65625 -0.515625 \nQ 12.796875 0.390625 7.625 2.203125 \nL 7.625 11.71875 \nQ 11.71875 9.328125 16.59375 8.109375 \nQ 21.484375 6.890625 26.8125 6.890625 \nQ 36.078125 6.890625 40.9375 10.546875 \nQ 45.796875 14.203125 45.796875 21.1875 \nQ 45.796875 27.640625 41.28125 31.265625 \nQ 36.765625 34.90625 28.71875 34.90625 \nL 20.21875 34.90625 \nL 20.21875 43.015625 \nL 29.109375 43.015625 \nQ 36.375 43.015625 40.234375 45.921875 \nQ 44.09375 48.828125 44.09375 54.296875 \nQ 44.09375 59.90625 40.109375 62.90625 \nQ 36.140625 65.921875 28.71875 65.921875 \nQ 24.65625 65.921875 20.015625 65.03125 \nQ 15.375 64.15625 9.8125 62.3125 \nL 9.8125 71.09375 \nQ 15.4375 72.65625 20.34375 73.4375 \nQ 25.25 74.21875 29.59375 74.21875 \nQ 40.828125 74.21875 47.359375 69.109375 \nQ 53.90625 64.015625 53.90625 55.328125 \nQ 53.90625 49.265625 50.4375 45.09375 \nQ 46.96875 40.921875 40.578125 39.3125 \nz\n\" id=\"DejaVuSans-51\"/>\n       </defs>\n       <use transform=\"translate(0 0.765625)\" xlink:href=\"#DejaVuSans-49\"/>\n       <use transform=\"translate(63.623047 0.765625)\" xlink:href=\"#DejaVuSans-48\"/>\n       <use transform=\"translate(128.203125 39.046875)scale(0.7)\" xlink:href=\"#DejaVuSans-51\"/>\n      </g>\n     </g>\n    </g>\n    <g id=\"xtick_6\">\n     <g id=\"line2d_6\">\n      <g>\n       <use style=\"stroke:#000000;stroke-width:0.8;\" x=\"274.720779\" xlink:href=\"#m29a5bfc444\" y=\"224.64\"/>\n      </g>\n     </g>\n     <g id=\"text_6\">\n      <!-- $\\mathdefault{10^{4}}$ -->\n      <g transform=\"translate(265.920779 239.238437)scale(0.1 -0.1)\">\n       <defs>\n        <path d=\"M 37.796875 64.3125 \nL 12.890625 25.390625 \nL 37.796875 25.390625 \nz\nM 35.203125 72.90625 \nL 47.609375 72.90625 \nL 47.609375 25.390625 \nL 58.015625 25.390625 \nL 58.015625 17.1875 \nL 47.609375 17.1875 \nL 47.609375 0 \nL 37.796875 0 \nL 37.796875 17.1875 \nL 4.890625 17.1875 \nL 4.890625 26.703125 \nz\n\" id=\"DejaVuSans-52\"/>\n       </defs>\n       <use transform=\"translate(0 0.684375)\" xlink:href=\"#DejaVuSans-49\"/>\n       <use transform=\"translate(63.623047 0.684375)\" xlink:href=\"#DejaVuSans-48\"/>\n       <use transform=\"translate(128.203125 38.965625)scale(0.7)\" xlink:href=\"#DejaVuSans-52\"/>\n      </g>\n     </g>\n    </g>\n    <g id=\"xtick_7\">\n     <g id=\"line2d_7\">\n      <g>\n       <use style=\"stroke:#000000;stroke-width:0.8;\" x=\"318.201299\" xlink:href=\"#m29a5bfc444\" y=\"224.64\"/>\n      </g>\n     </g>\n     <g id=\"text_7\">\n      <!-- $\\mathdefault{10^{5}}$ -->\n      <g transform=\"translate(309.401299 239.238437)scale(0.1 -0.1)\">\n       <defs>\n        <path d=\"M 10.796875 72.90625 \nL 49.515625 72.90625 \nL 49.515625 64.59375 \nL 19.828125 64.59375 \nL 19.828125 46.734375 \nQ 21.96875 47.46875 24.109375 47.828125 \nQ 26.265625 48.1875 28.421875 48.1875 \nQ 40.625 48.1875 47.75 41.5 \nQ 54.890625 34.8125 54.890625 23.390625 \nQ 54.890625 11.625 47.5625 5.09375 \nQ 40.234375 -1.421875 26.90625 -1.421875 \nQ 22.3125 -1.421875 17.546875 -0.640625 \nQ 12.796875 0.140625 7.71875 1.703125 \nL 7.71875 11.625 \nQ 12.109375 9.234375 16.796875 8.0625 \nQ 21.484375 6.890625 26.703125 6.890625 \nQ 35.15625 6.890625 40.078125 11.328125 \nQ 45.015625 15.765625 45.015625 23.390625 \nQ 45.015625 31 40.078125 35.4375 \nQ 35.15625 39.890625 26.703125 39.890625 \nQ 22.75 39.890625 18.8125 39.015625 \nQ 14.890625 38.140625 10.796875 36.28125 \nz\n\" id=\"DejaVuSans-53\"/>\n       </defs>\n       <use transform=\"translate(0 0.684375)\" xlink:href=\"#DejaVuSans-49\"/>\n       <use transform=\"translate(63.623047 0.684375)\" xlink:href=\"#DejaVuSans-48\"/>\n       <use transform=\"translate(128.203125 38.965625)scale(0.7)\" xlink:href=\"#DejaVuSans-53\"/>\n      </g>\n     </g>\n    </g>\n    <g id=\"xtick_8\">\n     <g id=\"line2d_8\">\n      <g>\n       <use style=\"stroke:#000000;stroke-width:0.8;\" x=\"361.681818\" xlink:href=\"#m29a5bfc444\" y=\"224.64\"/>\n      </g>\n     </g>\n     <g id=\"text_8\">\n      <!-- $\\mathdefault{10^{6}}$ -->\n      <g transform=\"translate(352.881818 239.238437)scale(0.1 -0.1)\">\n       <defs>\n        <path d=\"M 33.015625 40.375 \nQ 26.375 40.375 22.484375 35.828125 \nQ 18.609375 31.296875 18.609375 23.390625 \nQ 18.609375 15.53125 22.484375 10.953125 \nQ 26.375 6.390625 33.015625 6.390625 \nQ 39.65625 6.390625 43.53125 10.953125 \nQ 47.40625 15.53125 47.40625 23.390625 \nQ 47.40625 31.296875 43.53125 35.828125 \nQ 39.65625 40.375 33.015625 40.375 \nz\nM 52.59375 71.296875 \nL 52.59375 62.3125 \nQ 48.875 64.0625 45.09375 64.984375 \nQ 41.3125 65.921875 37.59375 65.921875 \nQ 27.828125 65.921875 22.671875 59.328125 \nQ 17.53125 52.734375 16.796875 39.40625 \nQ 19.671875 43.65625 24.015625 45.921875 \nQ 28.375 48.1875 33.59375 48.1875 \nQ 44.578125 48.1875 50.953125 41.515625 \nQ 57.328125 34.859375 57.328125 23.390625 \nQ 57.328125 12.15625 50.6875 5.359375 \nQ 44.046875 -1.421875 33.015625 -1.421875 \nQ 20.359375 -1.421875 13.671875 8.265625 \nQ 6.984375 17.96875 6.984375 36.375 \nQ 6.984375 53.65625 15.1875 63.9375 \nQ 23.390625 74.21875 37.203125 74.21875 \nQ 40.921875 74.21875 44.703125 73.484375 \nQ 48.484375 72.75 52.59375 71.296875 \nz\n\" id=\"DejaVuSans-54\"/>\n       </defs>\n       <use transform=\"translate(0 0.765625)\" xlink:href=\"#DejaVuSans-49\"/>\n       <use transform=\"translate(63.623047 0.765625)\" xlink:href=\"#DejaVuSans-48\"/>\n       <use transform=\"translate(128.203125 39.046875)scale(0.7)\" xlink:href=\"#DejaVuSans-54\"/>\n      </g>\n     </g>\n    </g>\n    <g id=\"xtick_9\">\n     <g id=\"line2d_9\">\n      <defs>\n       <path d=\"M 0 0 \nL 0 2 \n\" id=\"me6a3b5fd7e\" style=\"stroke:#000000;stroke-width:0.6;\"/>\n      </defs>\n      <g>\n       <use style=\"stroke:#000000;stroke-width:0.6;\" x=\"44.229241\" xlink:href=\"#me6a3b5fd7e\" y=\"224.64\"/>\n      </g>\n     </g>\n    </g>\n    <g id=\"xtick_10\">\n     <g id=\"line2d_10\">\n      <g>\n       <use style=\"stroke:#000000;stroke-width:0.6;\" x=\"47.672083\" xlink:href=\"#me6a3b5fd7e\" y=\"224.64\"/>\n      </g>\n     </g>\n    </g>\n    <g id=\"xtick_11\">\n     <g id=\"line2d_11\">\n      <g>\n       <use style=\"stroke:#000000;stroke-width:0.6;\" x=\"50.582964\" xlink:href=\"#me6a3b5fd7e\" y=\"224.64\"/>\n      </g>\n     </g>\n    </g>\n    <g id=\"xtick_12\">\n     <g id=\"line2d_12\">\n      <g>\n       <use style=\"stroke:#000000;stroke-width:0.6;\" x=\"53.104484\" xlink:href=\"#me6a3b5fd7e\" y=\"224.64\"/>\n      </g>\n     </g>\n    </g>\n    <g id=\"xtick_13\">\n     <g id=\"line2d_13\">\n      <g>\n       <use style=\"stroke:#000000;stroke-width:0.6;\" x=\"55.328622\" xlink:href=\"#me6a3b5fd7e\" y=\"224.64\"/>\n      </g>\n     </g>\n    </g>\n    <g id=\"xtick_14\">\n     <g id=\"line2d_14\">\n      <g>\n       <use style=\"stroke:#000000;stroke-width:0.6;\" x=\"70.407122\" xlink:href=\"#me6a3b5fd7e\" y=\"224.64\"/>\n      </g>\n     </g>\n    </g>\n    <g id=\"xtick_15\">\n     <g id=\"line2d_15\">\n      <g>\n       <use style=\"stroke:#000000;stroke-width:0.6;\" x=\"78.063662\" xlink:href=\"#me6a3b5fd7e\" y=\"224.64\"/>\n      </g>\n     </g>\n    </g>\n    <g id=\"xtick_16\">\n     <g id=\"line2d_16\">\n      <g>\n       <use style=\"stroke:#000000;stroke-width:0.6;\" x=\"83.496063\" xlink:href=\"#me6a3b5fd7e\" y=\"224.64\"/>\n      </g>\n     </g>\n    </g>\n    <g id=\"xtick_17\">\n     <g id=\"line2d_17\">\n      <g>\n       <use style=\"stroke:#000000;stroke-width:0.6;\" x=\"87.70976\" xlink:href=\"#me6a3b5fd7e\" y=\"224.64\"/>\n      </g>\n     </g>\n    </g>\n    <g id=\"xtick_18\">\n     <g id=\"line2d_18\">\n      <g>\n       <use style=\"stroke:#000000;stroke-width:0.6;\" x=\"91.152602\" xlink:href=\"#me6a3b5fd7e\" y=\"224.64\"/>\n      </g>\n     </g>\n    </g>\n    <g id=\"xtick_19\">\n     <g id=\"line2d_19\">\n      <g>\n       <use style=\"stroke:#000000;stroke-width:0.6;\" x=\"94.063483\" xlink:href=\"#me6a3b5fd7e\" y=\"224.64\"/>\n      </g>\n     </g>\n    </g>\n    <g id=\"xtick_20\">\n     <g id=\"line2d_20\">\n      <g>\n       <use style=\"stroke:#000000;stroke-width:0.6;\" x=\"96.585003\" xlink:href=\"#me6a3b5fd7e\" y=\"224.64\"/>\n      </g>\n     </g>\n    </g>\n    <g id=\"xtick_21\">\n     <g id=\"line2d_21\">\n      <g>\n       <use style=\"stroke:#000000;stroke-width:0.6;\" x=\"98.809142\" xlink:href=\"#me6a3b5fd7e\" y=\"224.64\"/>\n      </g>\n     </g>\n    </g>\n    <g id=\"xtick_22\">\n     <g id=\"line2d_22\">\n      <g>\n       <use style=\"stroke:#000000;stroke-width:0.6;\" x=\"113.887642\" xlink:href=\"#me6a3b5fd7e\" y=\"224.64\"/>\n      </g>\n     </g>\n    </g>\n    <g id=\"xtick_23\">\n     <g id=\"line2d_23\">\n      <g>\n       <use style=\"stroke:#000000;stroke-width:0.6;\" x=\"121.544181\" xlink:href=\"#me6a3b5fd7e\" y=\"224.64\"/>\n      </g>\n     </g>\n    </g>\n    <g id=\"xtick_24\">\n     <g id=\"line2d_24\">\n      <g>\n       <use style=\"stroke:#000000;stroke-width:0.6;\" x=\"126.976582\" xlink:href=\"#me6a3b5fd7e\" y=\"224.64\"/>\n      </g>\n     </g>\n    </g>\n    <g id=\"xtick_25\">\n     <g id=\"line2d_25\">\n      <g>\n       <use style=\"stroke:#000000;stroke-width:0.6;\" x=\"131.19028\" xlink:href=\"#me6a3b5fd7e\" y=\"224.64\"/>\n      </g>\n     </g>\n    </g>\n    <g id=\"xtick_26\">\n     <g id=\"line2d_26\">\n      <g>\n       <use style=\"stroke:#000000;stroke-width:0.6;\" x=\"134.633122\" xlink:href=\"#me6a3b5fd7e\" y=\"224.64\"/>\n      </g>\n     </g>\n    </g>\n    <g id=\"xtick_27\">\n     <g id=\"line2d_27\">\n      <g>\n       <use style=\"stroke:#000000;stroke-width:0.6;\" x=\"137.544003\" xlink:href=\"#me6a3b5fd7e\" y=\"224.64\"/>\n      </g>\n     </g>\n    </g>\n    <g id=\"xtick_28\">\n     <g id=\"line2d_28\">\n      <g>\n       <use style=\"stroke:#000000;stroke-width:0.6;\" x=\"140.065523\" xlink:href=\"#me6a3b5fd7e\" y=\"224.64\"/>\n      </g>\n     </g>\n    </g>\n    <g id=\"xtick_29\">\n     <g id=\"line2d_29\">\n      <g>\n       <use style=\"stroke:#000000;stroke-width:0.6;\" x=\"142.289661\" xlink:href=\"#me6a3b5fd7e\" y=\"224.64\"/>\n      </g>\n     </g>\n    </g>\n    <g id=\"xtick_30\">\n     <g id=\"line2d_30\">\n      <g>\n       <use style=\"stroke:#000000;stroke-width:0.6;\" x=\"157.368161\" xlink:href=\"#me6a3b5fd7e\" y=\"224.64\"/>\n      </g>\n     </g>\n    </g>\n    <g id=\"xtick_31\">\n     <g id=\"line2d_31\">\n      <g>\n       <use style=\"stroke:#000000;stroke-width:0.6;\" x=\"165.024701\" xlink:href=\"#me6a3b5fd7e\" y=\"224.64\"/>\n      </g>\n     </g>\n    </g>\n    <g id=\"xtick_32\">\n     <g id=\"line2d_32\">\n      <g>\n       <use style=\"stroke:#000000;stroke-width:0.6;\" x=\"170.457102\" xlink:href=\"#me6a3b5fd7e\" y=\"224.64\"/>\n      </g>\n     </g>\n    </g>\n    <g id=\"xtick_33\">\n     <g id=\"line2d_33\">\n      <g>\n       <use style=\"stroke:#000000;stroke-width:0.6;\" x=\"174.670799\" xlink:href=\"#me6a3b5fd7e\" y=\"224.64\"/>\n      </g>\n     </g>\n    </g>\n    <g id=\"xtick_34\">\n     <g id=\"line2d_34\">\n      <g>\n       <use style=\"stroke:#000000;stroke-width:0.6;\" x=\"178.113641\" xlink:href=\"#me6a3b5fd7e\" y=\"224.64\"/>\n      </g>\n     </g>\n    </g>\n    <g id=\"xtick_35\">\n     <g id=\"line2d_35\">\n      <g>\n       <use style=\"stroke:#000000;stroke-width:0.6;\" x=\"181.024522\" xlink:href=\"#me6a3b5fd7e\" y=\"224.64\"/>\n      </g>\n     </g>\n    </g>\n    <g id=\"xtick_36\">\n     <g id=\"line2d_36\">\n      <g>\n       <use style=\"stroke:#000000;stroke-width:0.6;\" x=\"183.546042\" xlink:href=\"#me6a3b5fd7e\" y=\"224.64\"/>\n      </g>\n     </g>\n    </g>\n    <g id=\"xtick_37\">\n     <g id=\"line2d_37\">\n      <g>\n       <use style=\"stroke:#000000;stroke-width:0.6;\" x=\"185.770181\" xlink:href=\"#me6a3b5fd7e\" y=\"224.64\"/>\n      </g>\n     </g>\n    </g>\n    <g id=\"xtick_38\">\n     <g id=\"line2d_38\">\n      <g>\n       <use style=\"stroke:#000000;stroke-width:0.6;\" x=\"200.848681\" xlink:href=\"#me6a3b5fd7e\" y=\"224.64\"/>\n      </g>\n     </g>\n    </g>\n    <g id=\"xtick_39\">\n     <g id=\"line2d_39\">\n      <g>\n       <use style=\"stroke:#000000;stroke-width:0.6;\" x=\"208.50522\" xlink:href=\"#me6a3b5fd7e\" y=\"224.64\"/>\n      </g>\n     </g>\n    </g>\n    <g id=\"xtick_40\">\n     <g id=\"line2d_40\">\n      <g>\n       <use style=\"stroke:#000000;stroke-width:0.6;\" x=\"213.937621\" xlink:href=\"#me6a3b5fd7e\" y=\"224.64\"/>\n      </g>\n     </g>\n    </g>\n    <g id=\"xtick_41\">\n     <g id=\"line2d_41\">\n      <g>\n       <use style=\"stroke:#000000;stroke-width:0.6;\" x=\"218.151319\" xlink:href=\"#me6a3b5fd7e\" y=\"224.64\"/>\n      </g>\n     </g>\n    </g>\n    <g id=\"xtick_42\">\n     <g id=\"line2d_42\">\n      <g>\n       <use style=\"stroke:#000000;stroke-width:0.6;\" x=\"221.594161\" xlink:href=\"#me6a3b5fd7e\" y=\"224.64\"/>\n      </g>\n     </g>\n    </g>\n    <g id=\"xtick_43\">\n     <g id=\"line2d_43\">\n      <g>\n       <use style=\"stroke:#000000;stroke-width:0.6;\" x=\"224.505042\" xlink:href=\"#me6a3b5fd7e\" y=\"224.64\"/>\n      </g>\n     </g>\n    </g>\n    <g id=\"xtick_44\">\n     <g id=\"line2d_44\">\n      <g>\n       <use style=\"stroke:#000000;stroke-width:0.6;\" x=\"227.026562\" xlink:href=\"#me6a3b5fd7e\" y=\"224.64\"/>\n      </g>\n     </g>\n    </g>\n    <g id=\"xtick_45\">\n     <g id=\"line2d_45\">\n      <g>\n       <use style=\"stroke:#000000;stroke-width:0.6;\" x=\"229.2507\" xlink:href=\"#me6a3b5fd7e\" y=\"224.64\"/>\n      </g>\n     </g>\n    </g>\n    <g id=\"xtick_46\">\n     <g id=\"line2d_46\">\n      <g>\n       <use style=\"stroke:#000000;stroke-width:0.6;\" x=\"244.3292\" xlink:href=\"#me6a3b5fd7e\" y=\"224.64\"/>\n      </g>\n     </g>\n    </g>\n    <g id=\"xtick_47\">\n     <g id=\"line2d_47\">\n      <g>\n       <use style=\"stroke:#000000;stroke-width:0.6;\" x=\"251.98574\" xlink:href=\"#me6a3b5fd7e\" y=\"224.64\"/>\n      </g>\n     </g>\n    </g>\n    <g id=\"xtick_48\">\n     <g id=\"line2d_48\">\n      <g>\n       <use style=\"stroke:#000000;stroke-width:0.6;\" x=\"257.418141\" xlink:href=\"#me6a3b5fd7e\" y=\"224.64\"/>\n      </g>\n     </g>\n    </g>\n    <g id=\"xtick_49\">\n     <g id=\"line2d_49\">\n      <g>\n       <use style=\"stroke:#000000;stroke-width:0.6;\" x=\"261.631839\" xlink:href=\"#me6a3b5fd7e\" y=\"224.64\"/>\n      </g>\n     </g>\n    </g>\n    <g id=\"xtick_50\">\n     <g id=\"line2d_50\">\n      <g>\n       <use style=\"stroke:#000000;stroke-width:0.6;\" x=\"265.07468\" xlink:href=\"#me6a3b5fd7e\" y=\"224.64\"/>\n      </g>\n     </g>\n    </g>\n    <g id=\"xtick_51\">\n     <g id=\"line2d_51\">\n      <g>\n       <use style=\"stroke:#000000;stroke-width:0.6;\" x=\"267.985561\" xlink:href=\"#me6a3b5fd7e\" y=\"224.64\"/>\n      </g>\n     </g>\n    </g>\n    <g id=\"xtick_52\">\n     <g id=\"line2d_52\">\n      <g>\n       <use style=\"stroke:#000000;stroke-width:0.6;\" x=\"270.507081\" xlink:href=\"#me6a3b5fd7e\" y=\"224.64\"/>\n      </g>\n     </g>\n    </g>\n    <g id=\"xtick_53\">\n     <g id=\"line2d_53\">\n      <g>\n       <use style=\"stroke:#000000;stroke-width:0.6;\" x=\"272.73122\" xlink:href=\"#me6a3b5fd7e\" y=\"224.64\"/>\n      </g>\n     </g>\n    </g>\n    <g id=\"xtick_54\">\n     <g id=\"line2d_54\">\n      <g>\n       <use style=\"stroke:#000000;stroke-width:0.6;\" x=\"287.80972\" xlink:href=\"#me6a3b5fd7e\" y=\"224.64\"/>\n      </g>\n     </g>\n    </g>\n    <g id=\"xtick_55\">\n     <g id=\"line2d_55\">\n      <g>\n       <use style=\"stroke:#000000;stroke-width:0.6;\" x=\"295.466259\" xlink:href=\"#me6a3b5fd7e\" y=\"224.64\"/>\n      </g>\n     </g>\n    </g>\n    <g id=\"xtick_56\">\n     <g id=\"line2d_56\">\n      <g>\n       <use style=\"stroke:#000000;stroke-width:0.6;\" x=\"300.89866\" xlink:href=\"#me6a3b5fd7e\" y=\"224.64\"/>\n      </g>\n     </g>\n    </g>\n    <g id=\"xtick_57\">\n     <g id=\"line2d_57\">\n      <g>\n       <use style=\"stroke:#000000;stroke-width:0.6;\" x=\"305.112358\" xlink:href=\"#me6a3b5fd7e\" y=\"224.64\"/>\n      </g>\n     </g>\n    </g>\n    <g id=\"xtick_58\">\n     <g id=\"line2d_58\">\n      <g>\n       <use style=\"stroke:#000000;stroke-width:0.6;\" x=\"308.5552\" xlink:href=\"#me6a3b5fd7e\" y=\"224.64\"/>\n      </g>\n     </g>\n    </g>\n    <g id=\"xtick_59\">\n     <g id=\"line2d_59\">\n      <g>\n       <use style=\"stroke:#000000;stroke-width:0.6;\" x=\"311.466081\" xlink:href=\"#me6a3b5fd7e\" y=\"224.64\"/>\n      </g>\n     </g>\n    </g>\n    <g id=\"xtick_60\">\n     <g id=\"line2d_60\">\n      <g>\n       <use style=\"stroke:#000000;stroke-width:0.6;\" x=\"313.987601\" xlink:href=\"#me6a3b5fd7e\" y=\"224.64\"/>\n      </g>\n     </g>\n    </g>\n    <g id=\"xtick_61\">\n     <g id=\"line2d_61\">\n      <g>\n       <use style=\"stroke:#000000;stroke-width:0.6;\" x=\"316.211739\" xlink:href=\"#me6a3b5fd7e\" y=\"224.64\"/>\n      </g>\n     </g>\n    </g>\n    <g id=\"xtick_62\">\n     <g id=\"line2d_62\">\n      <g>\n       <use style=\"stroke:#000000;stroke-width:0.6;\" x=\"331.290239\" xlink:href=\"#me6a3b5fd7e\" y=\"224.64\"/>\n      </g>\n     </g>\n    </g>\n    <g id=\"xtick_63\">\n     <g id=\"line2d_63\">\n      <g>\n       <use style=\"stroke:#000000;stroke-width:0.6;\" x=\"338.946779\" xlink:href=\"#me6a3b5fd7e\" y=\"224.64\"/>\n      </g>\n     </g>\n    </g>\n    <g id=\"xtick_64\">\n     <g id=\"line2d_64\">\n      <g>\n       <use style=\"stroke:#000000;stroke-width:0.6;\" x=\"344.37918\" xlink:href=\"#me6a3b5fd7e\" y=\"224.64\"/>\n      </g>\n     </g>\n    </g>\n    <g id=\"xtick_65\">\n     <g id=\"line2d_65\">\n      <g>\n       <use style=\"stroke:#000000;stroke-width:0.6;\" x=\"348.592878\" xlink:href=\"#me6a3b5fd7e\" y=\"224.64\"/>\n      </g>\n     </g>\n    </g>\n    <g id=\"xtick_66\">\n     <g id=\"line2d_66\">\n      <g>\n       <use style=\"stroke:#000000;stroke-width:0.6;\" x=\"352.035719\" xlink:href=\"#me6a3b5fd7e\" y=\"224.64\"/>\n      </g>\n     </g>\n    </g>\n    <g id=\"xtick_67\">\n     <g id=\"line2d_67\">\n      <g>\n       <use style=\"stroke:#000000;stroke-width:0.6;\" x=\"354.9466\" xlink:href=\"#me6a3b5fd7e\" y=\"224.64\"/>\n      </g>\n     </g>\n    </g>\n    <g id=\"xtick_68\">\n     <g id=\"line2d_68\">\n      <g>\n       <use style=\"stroke:#000000;stroke-width:0.6;\" x=\"357.46812\" xlink:href=\"#me6a3b5fd7e\" y=\"224.64\"/>\n      </g>\n     </g>\n    </g>\n    <g id=\"xtick_69\">\n     <g id=\"line2d_69\">\n      <g>\n       <use style=\"stroke:#000000;stroke-width:0.6;\" x=\"359.692259\" xlink:href=\"#me6a3b5fd7e\" y=\"224.64\"/>\n      </g>\n     </g>\n    </g>\n    <g id=\"xtick_70\">\n     <g id=\"line2d_70\">\n      <g>\n       <use style=\"stroke:#000000;stroke-width:0.6;\" x=\"374.770759\" xlink:href=\"#me6a3b5fd7e\" y=\"224.64\"/>\n      </g>\n     </g>\n    </g>\n   </g>\n   <g id=\"matplotlib.axis_2\">\n    <g id=\"ytick_1\">\n     <g id=\"line2d_71\">\n      <defs>\n       <path d=\"M 0 0 \nL -3.5 0 \n\" id=\"m28bbd61116\" style=\"stroke:#000000;stroke-width:0.8;\"/>\n      </defs>\n      <g>\n       <use style=\"stroke:#000000;stroke-width:0.8;\" x=\"42.1\" xlink:href=\"#m28bbd61116\" y=\"197.574582\"/>\n      </g>\n     </g>\n     <g id=\"text_9\">\n      <!-- $\\mathdefault{10^{-18}}$ -->\n      <g transform=\"translate(7.2 201.3738)scale(0.1 -0.1)\">\n       <defs>\n        <path d=\"M 31.78125 34.625 \nQ 24.75 34.625 20.71875 30.859375 \nQ 16.703125 27.09375 16.703125 20.515625 \nQ 16.703125 13.921875 20.71875 10.15625 \nQ 24.75 6.390625 31.78125 6.390625 \nQ 38.8125 6.390625 42.859375 10.171875 \nQ 46.921875 13.96875 46.921875 20.515625 \nQ 46.921875 27.09375 42.890625 30.859375 \nQ 38.875 34.625 31.78125 34.625 \nz\nM 21.921875 38.8125 \nQ 15.578125 40.375 12.03125 44.71875 \nQ 8.5 49.078125 8.5 55.328125 \nQ 8.5 64.0625 14.71875 69.140625 \nQ 20.953125 74.21875 31.78125 74.21875 \nQ 42.671875 74.21875 48.875 69.140625 \nQ 55.078125 64.0625 55.078125 55.328125 \nQ 55.078125 49.078125 51.53125 44.71875 \nQ 48 40.375 41.703125 38.8125 \nQ 48.828125 37.15625 52.796875 32.3125 \nQ 56.78125 27.484375 56.78125 20.515625 \nQ 56.78125 9.90625 50.3125 4.234375 \nQ 43.84375 -1.421875 31.78125 -1.421875 \nQ 19.734375 -1.421875 13.25 4.234375 \nQ 6.78125 9.90625 6.78125 20.515625 \nQ 6.78125 27.484375 10.78125 32.3125 \nQ 14.796875 37.15625 21.921875 38.8125 \nz\nM 18.3125 54.390625 \nQ 18.3125 48.734375 21.84375 45.5625 \nQ 25.390625 42.390625 31.78125 42.390625 \nQ 38.140625 42.390625 41.71875 45.5625 \nQ 45.3125 48.734375 45.3125 54.390625 \nQ 45.3125 60.0625 41.71875 63.234375 \nQ 38.140625 66.40625 31.78125 66.40625 \nQ 25.390625 66.40625 21.84375 63.234375 \nQ 18.3125 60.0625 18.3125 54.390625 \nz\n\" id=\"DejaVuSans-56\"/>\n       </defs>\n       <use transform=\"translate(0 0.765625)\" xlink:href=\"#DejaVuSans-49\"/>\n       <use transform=\"translate(63.623047 0.765625)\" xlink:href=\"#DejaVuSans-48\"/>\n       <use transform=\"translate(128.203125 39.046875)scale(0.7)\" xlink:href=\"#DejaVuSans-8722\"/>\n       <use transform=\"translate(186.855469 39.046875)scale(0.7)\" xlink:href=\"#DejaVuSans-49\"/>\n       <use transform=\"translate(231.391602 39.046875)scale(0.7)\" xlink:href=\"#DejaVuSans-56\"/>\n      </g>\n     </g>\n    </g>\n    <g id=\"ytick_2\">\n     <g id=\"line2d_72\">\n      <g>\n       <use style=\"stroke:#000000;stroke-width:0.8;\" x=\"42.1\" xlink:href=\"#m28bbd61116\" y=\"158.382756\"/>\n      </g>\n     </g>\n     <g id=\"text_10\">\n      <!-- $\\mathdefault{10^{-16}}$ -->\n      <g transform=\"translate(7.2 162.181975)scale(0.1 -0.1)\">\n       <use transform=\"translate(0 0.765625)\" xlink:href=\"#DejaVuSans-49\"/>\n       <use transform=\"translate(63.623047 0.765625)\" xlink:href=\"#DejaVuSans-48\"/>\n       <use transform=\"translate(128.203125 39.046875)scale(0.7)\" xlink:href=\"#DejaVuSans-8722\"/>\n       <use transform=\"translate(186.855469 39.046875)scale(0.7)\" xlink:href=\"#DejaVuSans-49\"/>\n       <use transform=\"translate(231.391602 39.046875)scale(0.7)\" xlink:href=\"#DejaVuSans-54\"/>\n      </g>\n     </g>\n    </g>\n    <g id=\"ytick_3\">\n     <g id=\"line2d_73\">\n      <g>\n       <use style=\"stroke:#000000;stroke-width:0.8;\" x=\"42.1\" xlink:href=\"#m28bbd61116\" y=\"119.190931\"/>\n      </g>\n     </g>\n     <g id=\"text_11\">\n      <!-- $\\mathdefault{10^{-14}}$ -->\n      <g transform=\"translate(7.2 122.99015)scale(0.1 -0.1)\">\n       <use transform=\"translate(0 0.684375)\" xlink:href=\"#DejaVuSans-49\"/>\n       <use transform=\"translate(63.623047 0.684375)\" xlink:href=\"#DejaVuSans-48\"/>\n       <use transform=\"translate(128.203125 38.965625)scale(0.7)\" xlink:href=\"#DejaVuSans-8722\"/>\n       <use transform=\"translate(186.855469 38.965625)scale(0.7)\" xlink:href=\"#DejaVuSans-49\"/>\n       <use transform=\"translate(231.391602 38.965625)scale(0.7)\" xlink:href=\"#DejaVuSans-52\"/>\n      </g>\n     </g>\n    </g>\n    <g id=\"ytick_4\">\n     <g id=\"line2d_74\">\n      <g>\n       <use style=\"stroke:#000000;stroke-width:0.8;\" x=\"42.1\" xlink:href=\"#m28bbd61116\" y=\"79.999105\"/>\n      </g>\n     </g>\n     <g id=\"text_12\">\n      <!-- $\\mathdefault{10^{-12}}$ -->\n      <g transform=\"translate(7.2 83.798324)scale(0.1 -0.1)\">\n       <use transform=\"translate(0 0.765625)\" xlink:href=\"#DejaVuSans-49\"/>\n       <use transform=\"translate(63.623047 0.765625)\" xlink:href=\"#DejaVuSans-48\"/>\n       <use transform=\"translate(128.203125 39.046875)scale(0.7)\" xlink:href=\"#DejaVuSans-8722\"/>\n       <use transform=\"translate(186.855469 39.046875)scale(0.7)\" xlink:href=\"#DejaVuSans-49\"/>\n       <use transform=\"translate(231.391602 39.046875)scale(0.7)\" xlink:href=\"#DejaVuSans-50\"/>\n      </g>\n     </g>\n    </g>\n    <g id=\"ytick_5\">\n     <g id=\"line2d_75\">\n      <g>\n       <use style=\"stroke:#000000;stroke-width:0.8;\" x=\"42.1\" xlink:href=\"#m28bbd61116\" y=\"40.80728\"/>\n      </g>\n     </g>\n     <g id=\"text_13\">\n      <!-- $\\mathdefault{10^{-10}}$ -->\n      <g transform=\"translate(7.2 44.606499)scale(0.1 -0.1)\">\n       <use transform=\"translate(0 0.765625)\" xlink:href=\"#DejaVuSans-49\"/>\n       <use transform=\"translate(63.623047 0.765625)\" xlink:href=\"#DejaVuSans-48\"/>\n       <use transform=\"translate(128.203125 39.046875)scale(0.7)\" xlink:href=\"#DejaVuSans-8722\"/>\n       <use transform=\"translate(186.855469 39.046875)scale(0.7)\" xlink:href=\"#DejaVuSans-49\"/>\n       <use transform=\"translate(231.391602 39.046875)scale(0.7)\" xlink:href=\"#DejaVuSans-48\"/>\n      </g>\n     </g>\n    </g>\n   </g>\n   <g id=\"line2d_76\">\n    <path clip-path=\"url(#pc87edeae9f)\" d=\"M 57.318182 214.756364 \nL 61.666233 210.837181 \nL 66.014285 206.917999 \nL 70.362338 202.998816 \nL 74.710389 199.079633 \nL 79.058441 195.160451 \nL 83.406493 191.241268 \nL 87.754544 187.322086 \nL 92.102598 183.402903 \nL 96.450649 179.483721 \nL 100.798701 175.564538 \nL 105.146753 171.645356 \nL 109.494805 167.726173 \nL 113.842856 163.806991 \nL 118.190908 159.887808 \nL 122.538961 145.551855 \nL 126.887013 137.303045 \nL 131.235065 122.994158 \nL 135.583117 108.702561 \nL 139.931168 94.431335 \nL 144.279221 86.258805 \nL 148.627273 72.039767 \nL 152.975325 57.855895 \nL 157.323377 49.792097 \nL 161.671428 35.935455 \nL 166.01948 25.406393 \nL 170.367533 22.613647 \nL 174.715585 21.328737 \nL 179.063636 20.785904 \nL 183.411688 20.35787 \nL 187.75974 19.444762 \nL 192.107792 19.233498 \nL 196.455844 18.560864 \nL 200.803896 18.615162 \nL 205.151948 18.232789 \nL 209.499999 18.600779 \nL 213.848052 18.553295 \nL 218.196103 19.274165 \nL 222.544155 19.593445 \nL 226.892208 20.690108 \nL 231.24026 21.388846 \nL 235.588312 22.27518 \nL 239.936363 23.931967 \nL 244.284416 25.176052 \nL 248.632468 26.585926 \nL 252.980519 28.150687 \nL 257.328572 29.858405 \nL 261.676624 32.284479 \nL 266.024675 34.240554 \nL 270.372727 36.302143 \nL 274.720779 38.457398 \nL 279.068831 40.695193 \nL 283.416883 43.005248 \nL 287.764935 45.378207 \nL 292.112988 47.805649 \nL 296.461039 50.280076 \nL 300.809092 52.794866 \nL 305.157143 55.344214 \nL 309.505195 57.92306 \nL 313.853246 60.527014 \nL 318.201299 63.15228 \nL 322.54935 65.795577 \nL 326.897402 68.454069 \nL 331.245455 71.125284 \nL 335.593506 73.807018 \nL 339.941559 76.497184 \nL 344.28961 79.193393 \nL 348.637662 81.890229 \nL 352.985715 84.605864 \nL 357.333767 87.349292 \nL 361.681818 90.09272 \n\" style=\"fill:none;stroke:#1f77b4;stroke-linecap:square;stroke-width:1.5;\"/>\n   </g>\n   <g id=\"line2d_77\">\n    <path clip-path=\"url(#pc87edeae9f)\" d=\"M 100.798701 17.083636 \nL 113.887642 22.470375 \nL 126.976582 26.270174 \nL 140.065523 31.260295 \nL 153.154463 36.664817 \nL 166.243404 39.199879 \nL 179.332345 43.342746 \nL 192.421285 46.174976 \nL 205.510226 50.817739 \nL 218.599166 54.27314 \nL 231.688107 58.774055 \nL 244.777048 62.628472 \nL 257.865988 65.902956 \nL 270.954929 68.843677 \nL 284.043869 72.158977 \n\" style=\"fill:none;stroke:#ff7f0e;stroke-linecap:square;stroke-width:1.5;\"/>\n   </g>\n   <g id=\"patch_3\">\n    <path d=\"M 42.1 224.64 \nL 42.1 7.2 \n\" style=\"fill:none;stroke:#000000;stroke-linecap:square;stroke-linejoin:miter;stroke-width:0.8;\"/>\n   </g>\n   <g id=\"patch_4\">\n    <path d=\"M 376.9 224.64 \nL 376.9 7.2 \n\" style=\"fill:none;stroke:#000000;stroke-linecap:square;stroke-linejoin:miter;stroke-width:0.8;\"/>\n   </g>\n   <g id=\"patch_5\">\n    <path d=\"M 42.1 224.64 \nL 376.9 224.64 \n\" style=\"fill:none;stroke:#000000;stroke-linecap:square;stroke-linejoin:miter;stroke-width:0.8;\"/>\n   </g>\n   <g id=\"patch_6\">\n    <path d=\"M 42.1 7.2 \nL 376.9 7.2 \n\" style=\"fill:none;stroke:#000000;stroke-linecap:square;stroke-linejoin:miter;stroke-width:0.8;\"/>\n   </g>\n  </g>\n </g>\n <defs>\n  <clipPath id=\"pc87edeae9f\">\n   <rect height=\"217.44\" width=\"334.8\" x=\"42.1\" y=\"7.2\"/>\n  </clipPath>\n </defs>\n</svg>\n",
      "image/png": "[encoded data removed]"
     },
     "metadata": {
      "needs_background": "light"
     }
    }
   ],
   "source": [
    "flux = interp1d(grb[\"time\"], grb[\"lc\"])\n",
    "plt.loglog(grb['time'],grb['lc'])\n",
    "plt.loglog(grbsens[\"obs_time\"], grbsens[\"photon_flux\"])"
   ]
  },
  {
   "cell_type": "code",
   "execution_count": null,
   "metadata": {},
   "outputs": [],
   "source": []
  }
 ]
}