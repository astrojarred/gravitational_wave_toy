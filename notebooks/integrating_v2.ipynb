{
 "cells": [
  {
   "cell_type": "markdown",
   "id": "outdoor-option",
   "metadata": {},
   "source": [
    "# Integrating v2"
   ]
  },
  {
   "cell_type": "code",
   "execution_count": 1,
   "id": "general-address",
   "metadata": {},
   "outputs": [],
   "source": [
    "%load_ext autoreload\n",
    "%autoreload 2"
   ]
  },
  {
   "cell_type": "code",
   "execution_count": 2,
   "id": "answering-anatomy",
   "metadata": {},
   "outputs": [],
   "source": [
    "import os\n",
    "import subprocess\n",
    "import yaml\n",
    "\n",
    "from astropy.io import fits\n",
    "import numpy as np\n",
    "import pandas as pd\n",
    "import glob\n",
    "from tqdm import tqdm\n",
    "import random\n",
    "\n",
    "from scipy import integrate\n",
    "from scipy.interpolate import interp2d, RectBivariateSpline\n",
    "from matplotlib import pyplot as plt"
   ]
  },
  {
   "cell_type": "code",
   "execution_count": 3,
   "id": "veterinary-huntington",
   "metadata": {},
   "outputs": [
    {
     "name": "stderr",
     "output_type": "stream",
     "text": [
      "/Users/jarred/Documents/Projects/gravitational_wave_toy/.venv/lib/python3.7/site-packages/ray/autoscaler/_private/cli_logger.py:61: FutureWarning: Not all Ray CLI dependencies were found. In Ray 1.4+, the Ray CLI, autoscaler, and dashboard will only be usable via `pip install 'ray[default]'`. Please update your install command.\n",
      "  \"update your install command.\", FutureWarning)\n"
     ]
    }
   ],
   "source": [
    "from gravitational_wave_toy import GWToyV2 as gwt\n",
    "from gravitational_wave_toy import GWToy as gwto\n",
    "from gravitational_wave_toy import GWPlotter as gwp"
   ]
  },
  {
   "cell_type": "markdown",
   "id": "productive-investing",
   "metadata": {},
   "source": [
    "## Import a sample grb"
   ]
  },
  {
   "cell_type": "code",
   "execution_count": 4,
   "id": "referenced-valuation",
   "metadata": {},
   "outputs": [],
   "source": [
    "filepath = \"./GammaCatalogV2.0/run0639_ID000222.fits\"\n",
    "filepath = \"./GammaCatalogV2.0/run0016_ID000340.fits\""
   ]
  },
  {
   "cell_type": "code",
   "execution_count": 18,
   "id": "otherwise-female",
   "metadata": {},
   "outputs": [],
   "source": [
    "grb = gwt.GRB(filepath)"
   ]
  },
  {
   "cell_type": "code",
   "execution_count": 17,
   "id": "hawaiian-property",
   "metadata": {},
   "outputs": [
    {
     "name": "stdout",
     "output_type": "stream",
     "text": [
      "Settings file found!\n"
     ]
    }
   ],
   "source": [
    "with open(\"./gw_settings.yaml\") as file:\n",
    "    print(\"Settings file found!\")\n",
    "    parsed_yaml_file = yaml.load(file, Loader=yaml.FullLoader)\n",
    "    \n",
    "sensitivity = gwt.Sensitivities(parsed_yaml_file[\"grbsens_files\"], parsed_yaml_file[\"energy_limits\"])"
   ]
  },
  {
   "cell_type": "markdown",
   "id": "thousand-gabriel",
   "metadata": {},
   "source": [
    "## Test the extrapolations"
   ]
  },
  {
   "cell_type": "code",
   "execution_count": 6,
   "id": "fiscal-safety",
   "metadata": {},
   "outputs": [
    {
     "name": "stdout",
     "output_type": "stream",
     "text": [
      "Spectrum at t=10000.0s:\n",
      "[1.04168603e-06 6.29124848e-07 3.79959090e-07 2.29475771e-07\n",
      " 1.38591578e-07 8.37021934e-08 5.05518250e-08 3.05307054e-08\n",
      " 1.84389777e-08 1.11361953e-08 6.72568989e-09 4.06197119e-09\n",
      " 2.45322193e-09 1.48162002e-09 8.94822382e-10 5.40426751e-10\n",
      " 3.26389996e-10 1.97122791e-10 1.19052039e-10 7.19013071e-11\n",
      " 4.34246624e-11 2.62261439e-11 1.58389466e-11 9.56505583e-12\n",
      " 5.77498711e-12 3.48554021e-12 2.10269992e-12 1.26792985e-12\n",
      " 7.64511320e-13 4.59613128e-13 2.74850017e-13 1.63707380e-13\n",
      " 9.55582055e-14 5.63948409e-14 3.13733175e-14 1.75472036e-14\n",
      " 8.79377525e-15 4.10965819e-15 1.70569349e-15 4.61341528e-16\n",
      " 0.00000000e+00]\n",
      "\n",
      "Value at 10.0 GeV:\n",
      "6.725689885086982e-09\n",
      "\n",
      "Lightcurve at energy 10.0 GeV:\n",
      "[1.08445940e-13 1.70921199e-13 2.79319407e-13 4.33693028e-13\n",
      " 6.82427056e-13 1.09708082e-12 1.72903451e-12 2.82555370e-12\n",
      " 4.38715674e-12 6.90329556e-12 1.10978457e-11 1.74905587e-11\n",
      " 2.85827211e-11 4.43795764e-11 6.98323196e-11 1.12263527e-10\n",
      " 1.76930898e-10 2.89136934e-10 4.48934677e-10 7.06409398e-10\n",
      " 1.13563478e-09 1.78979661e-09 2.92484982e-09 4.54133095e-09\n",
      " 7.14589233e-09 1.14878480e-08 1.81052142e-08 2.95871715e-08\n",
      " 4.59391169e-08 7.22857105e-08 1.16202895e-07 1.83088607e-07\n",
      " 2.98447437e-07 4.59325560e-07 6.78836423e-07 8.44071918e-07\n",
      " 7.65275302e-07 5.92348363e-07 4.37484010e-07 3.17005432e-07\n",
      " 2.37204919e-07 1.74175695e-07 1.24076763e-07 8.81175895e-08\n",
      " 6.23695622e-08 4.47376526e-08 3.14531814e-08 2.17021139e-08\n",
      " 1.46783133e-08 9.86055241e-09 6.72568989e-09 4.50088633e-09\n",
      " 2.96366649e-09 1.94293129e-09 1.26820102e-09 8.15000739e-10\n",
      " 5.16664812e-10 3.24024337e-10 2.03420792e-10 1.26720171e-10\n",
      " 7.74389601e-11 4.68020879e-11 2.81113344e-11 1.65985885e-11\n",
      " 9.54934835e-12 5.40749521e-12 2.98723884e-12 1.62150168e-12\n",
      " 9.14843677e-13 5.66570320e-13]\n",
      "\n",
      "LC value at t=10000.0s:\n",
      "6.725689885086982e-09\n"
     ]
    }
   ],
   "source": [
    "time_index = 50\n",
    "energy_index = 10\n",
    "\n",
    "time = grb.time[time_index]\n",
    "energy = grb.energy[energy_index]\n",
    "print(f\"Spectrum at t={time}s:\")\n",
    "print(grb.get_spectrum(time))\n",
    "print()\n",
    "print(f\"Value at {energy} GeV:\")\n",
    "print(grb.get_spectrum(time, energy))\n",
    "print()\n",
    "print(f\"Lightcurve at energy {energy} GeV:\")\n",
    "print(grb.get_flux(energy))\n",
    "print()\n",
    "print(f\"LC value at t={time}s:\")\n",
    "print(grb.get_flux(energy, time))"
   ]
  },
  {
   "cell_type": "code",
   "execution_count": 7,
   "id": "adult-classics",
   "metadata": {},
   "outputs": [
    {
     "data": {
      "text/plain": [
       "array([1.75889001e-07, 1.06227921e-07, 6.41562075e-08, 3.87470536e-08,\n",
       "       2.34012299e-08, 1.41331407e-08, 8.53569096e-09, 5.15511886e-09,\n",
       "       3.11342697e-09, 1.88034995e-09, 1.13563478e-09, 6.85865066e-10,\n",
       "       4.14227267e-10, 2.50171990e-10, 1.51091030e-10, 9.12512207e-11,\n",
       "       5.51110497e-11, 3.32842429e-11, 2.01019729e-11, 1.21405590e-11,\n",
       "       7.33227395e-12, 4.42831680e-12, 2.67447586e-12, 1.61524603e-12,\n",
       "       9.75525625e-13, 5.89167361e-13, 3.55826811e-13, 2.14901096e-13,\n",
       "       1.29789176e-13, 7.83858963e-14, 4.73409029e-14, 2.85910632e-14,\n",
       "       1.72668550e-14, 1.04267195e-14, 6.29426524e-15, 3.79546153e-15,\n",
       "       2.27942414e-15, 1.35202096e-15, 7.72566494e-16, 3.73229175e-16,\n",
       "       0.00000000e+00])"
      ]
     },
     "execution_count": 7,
     "metadata": {},
     "output_type": "execute_result"
    }
   ],
   "source": [
    "grb.get_spectrum(time=10)"
   ]
  },
  {
   "cell_type": "code",
   "execution_count": 8,
   "id": "handed-librarian",
   "metadata": {},
   "outputs": [
    {
     "data": {
      "text/plain": [
       "array([1.08445940e-13, 1.70921199e-13, 2.79319407e-13, 4.33693028e-13,\n",
       "       6.82427056e-13, 1.09708082e-12, 1.72903451e-12, 2.82555370e-12,\n",
       "       4.38715674e-12, 6.90329556e-12, 1.10978457e-11, 1.74905587e-11,\n",
       "       2.85827211e-11, 4.43795764e-11, 6.98323196e-11, 1.12263527e-10,\n",
       "       1.76930898e-10, 2.89136934e-10, 4.48934677e-10, 7.06409398e-10,\n",
       "       1.13563478e-09, 1.78979661e-09, 2.92484982e-09, 4.54133095e-09,\n",
       "       7.14589233e-09, 1.14878480e-08, 1.81052142e-08, 2.95871715e-08,\n",
       "       4.59391169e-08, 7.22857105e-08, 1.16202895e-07, 1.83088607e-07,\n",
       "       2.98447437e-07, 4.59325560e-07, 6.78836423e-07, 8.44071918e-07,\n",
       "       7.65275302e-07, 5.92348363e-07, 4.37484010e-07, 3.17005432e-07,\n",
       "       2.37204919e-07, 1.74175695e-07, 1.24076763e-07, 8.81175895e-08,\n",
       "       6.23695622e-08, 4.47376526e-08, 3.14531814e-08, 2.17021139e-08,\n",
       "       1.46783133e-08, 9.86055241e-09, 6.72568989e-09, 4.50088633e-09,\n",
       "       2.96366649e-09, 1.94293129e-09, 1.26820102e-09, 8.15000739e-10,\n",
       "       5.16664812e-10, 3.24024337e-10, 2.03420792e-10, 1.26720171e-10,\n",
       "       7.74389601e-11, 4.68020879e-11, 2.81113344e-11, 1.65985885e-11,\n",
       "       9.54934835e-12, 5.40749521e-12, 2.98723884e-12, 1.62150168e-12,\n",
       "       9.14843677e-13, 5.66570320e-13])"
      ]
     },
     "execution_count": 8,
     "metadata": {},
     "output_type": "execute_result"
    }
   ],
   "source": [
    "grb.get_flux(energy=10)"
   ]
  },
  {
   "cell_type": "markdown",
   "id": "executive-locator",
   "metadata": {},
   "source": [
    "## Test an integration"
   ]
  },
  {
   "cell_type": "code",
   "execution_count": 12,
   "id": "developing-montreal",
   "metadata": {},
   "outputs": [
    {
     "ename": "TypeError",
     "evalue": "get_integral_spectrum() missing 2 required positional arguments: 'min_energy' and 'max_energy'",
     "output_type": "error",
     "traceback": [
      "\u001b[0;31m---------------------------------------------------------------------------\u001b[0m",
      "\u001b[0;31mTypeError\u001b[0m                                 Traceback (most recent call last)",
      "\u001b[0;32m<ipython-input-12-c3fa4d70f567>\u001b[0m in \u001b[0;36m<module>\u001b[0;34m\u001b[0m\n\u001b[0;32m----> 1\u001b[0;31m \u001b[0mgrb\u001b[0m\u001b[0;34m.\u001b[0m\u001b[0mget_integral_spectrum\u001b[0m\u001b[0;34m(\u001b[0m\u001b[0;36m10\u001b[0m\u001b[0;34m)\u001b[0m\u001b[0;34m\u001b[0m\u001b[0;34m\u001b[0m\u001b[0m\n\u001b[0m",
      "\u001b[0;31mTypeError\u001b[0m: get_integral_spectrum() missing 2 required positional arguments: 'min_energy' and 'max_energy'"
     ]
    }
   ],
   "source": [
    "grb.get_integral_spectrum(10)"
   ]
  },
  {
   "cell_type": "code",
   "execution_count": 155,
   "id": "charged-jesus",
   "metadata": {},
   "outputs": [
    {
     "ename": "TypeError",
     "evalue": "get_fluence() missing 2 required positional arguments: 'min_energy' and 'max_energy'",
     "output_type": "error",
     "traceback": [
      "\u001b[0;31m---------------------------------------------------------------------------\u001b[0m",
      "\u001b[0;31mTypeError\u001b[0m                                 Traceback (most recent call last)",
      "\u001b[0;32m<ipython-input-155-daad4f0c506a>\u001b[0m in \u001b[0;36m<module>\u001b[0;34m\u001b[0m\n\u001b[0;32m----> 1\u001b[0;31m \u001b[0mgrb\u001b[0m\u001b[0;34m.\u001b[0m\u001b[0mget_fluence\u001b[0m\u001b[0;34m(\u001b[0m\u001b[0;36m0\u001b[0m\u001b[0;34m,\u001b[0m \u001b[0;36m3600\u001b[0m\u001b[0;34m*\u001b[0m\u001b[0;36m2\u001b[0m\u001b[0;34m)\u001b[0m\u001b[0;34m\u001b[0m\u001b[0;34m\u001b[0m\u001b[0m\n\u001b[0m",
      "\u001b[0;31mTypeError\u001b[0m: get_fluence() missing 2 required positional arguments: 'min_energy' and 'max_energy'"
     ]
    }
   ],
   "source": [
    "grb.get_fluence(0, 3600*2)"
   ]
  },
  {
   "cell_type": "markdown",
   "id": "general-insert",
   "metadata": {},
   "source": [
    "## Comparing numbers\n",
    "for run0016_ID000340"
   ]
  },
  {
   "cell_type": "code",
   "execution_count": 15,
   "id": "verified-garlic",
   "metadata": {},
   "outputs": [
    {
     "data": {
      "text/plain": [
       "2.1556069489602007e-08"
      ]
     },
     "execution_count": 15,
     "metadata": {},
     "output_type": "execute_result"
    }
   ],
   "source": [
    "t = grb.time[1]\n",
    "grb.get_flux(t, grb.energy[0]) * (grb.energy[5]**(-grb.get_spectral_index(t)))"
   ]
  },
  {
   "cell_type": "code",
   "execution_count": 16,
   "id": "asian-viking",
   "metadata": {},
   "outputs": [
    {
     "data": {
      "text/plain": [
       "1.7387561657620888e-08"
      ]
     },
     "execution_count": 16,
     "metadata": {},
     "output_type": "execute_result"
    }
   ],
   "source": [
    "grb.get_flux(t, grb.energy[5])"
   ]
  },
  {
   "cell_type": "code",
   "execution_count": 543,
   "id": "weekly-uganda",
   "metadata": {},
   "outputs": [
    {
     "data": {
      "image/png": "[encoded data removed]",
      "text/plain": [
       "<Figure size 432x288 with 1 Axes>"
      ]
     },
     "metadata": {
      "needs_background": "light"
     },
     "output_type": "display_data"
    }
   ],
   "source": [
    "plt.loglog(grb.energy, [grb.get_flux(energy, t) for energy in grb.energy])\n",
    "plt.loglog(grb.energy, [grb.power_law(energy, spectral_index=grb.get_spectral_index(t)) * grb.get_flux(grb.energy[0], t) for energy in grb.energy])\n",
    "plt.show()"
   ]
  },
  {
   "cell_type": "code",
   "execution_count": 17,
   "id": "conditional-invite",
   "metadata": {},
   "outputs": [
    {
     "data": {
      "image/png": "[encoded data removed]",
      "text/plain": [
       "<Figure size 432x288 with 1 Axes>"
      ]
     },
     "metadata": {
      "needs_background": "light"
     },
     "output_type": "display_data"
    }
   ],
   "source": [
    "plt.plot(grb.energy, np.array([grb.get_flux(energy, t) for energy in grb.energy])/np.array([grb.power_law(energy, spectral_index=grb.get_spectral_index(t)) * grb.get_flux(grb.energy[0], t) for energy in grb.energy]))\n",
    "plt.xlim(0, 6000)\n",
    "plt.ylim(0.9, 1.1)\n",
    "plt.show()"
   ]
  },
  {
   "cell_type": "code",
   "execution_count": 492,
   "id": "european-institute",
   "metadata": {},
   "outputs": [
    {
     "name": "stdout",
     "output_type": "stream",
     "text": [
      "5.125264282972462e-08\n",
      "-2.2772542503722426\n",
      "2937.528544989053\n"
     ]
    }
   ],
   "source": [
    "print(grb.get_flux(min(grb.energy), time=49602))\n",
    "print(grb.get_spectral_index(time=49602))\n",
    "print(grb.power_law(\n",
    "                0.03,\n",
    "                normalization=grb.get_flux(min(grb.energy), time=49602),\n",
    "                spectral_index=grb.get_spectral_index(49602),\n",
    "            ))"
   ]
  },
  {
   "cell_type": "code",
   "execution_count": 522,
   "id": "amber-hampton",
   "metadata": {},
   "outputs": [
    {
     "data": {
      "text/plain": [
       "1.28740818102992e-10"
      ]
     },
     "execution_count": 522,
     "metadata": {},
     "output_type": "execute_result"
    }
   ],
   "source": [
    "grb.power_law(\n",
    "                10,\n",
    "                energy_0=min(grb.energy),\n",
    "                normalization=grb.get_flux(min(grb.energy), time=49602),\n",
    "                spectral_index=-2.6,\n",
    "            )"
   ]
  },
  {
   "cell_type": "code",
   "execution_count": 553,
   "id": "static-catalyst",
   "metadata": {},
   "outputs": [
    {
     "data": {
      "text/plain": [
       "5.125264282972462e-08"
      ]
     },
     "execution_count": 553,
     "metadata": {},
     "output_type": "execute_result"
    }
   ],
   "source": [
    "grb.get_flux(min(grb.energy), time=49602)"
   ]
  },
  {
   "cell_type": "code",
   "execution_count": 562,
   "id": "korean-composite",
   "metadata": {},
   "outputs": [
    {
     "data": {
      "text/plain": [
       "0.03"
      ]
     },
     "execution_count": 562,
     "metadata": {},
     "output_type": "execute_result"
    }
   ],
   "source": [
    "grb.min_energy"
   ]
  },
  {
   "cell_type": "code",
   "execution_count": 21,
   "id": "treated-heather",
   "metadata": {},
   "outputs": [
    {
     "data": {
      "text/plain": [
       "0.02925206682488822"
      ]
     },
     "execution_count": 21,
     "metadata": {},
     "output_type": "execute_result"
    }
   ],
   "source": [
    "t0 = 49602\n",
    "t1 = 59602\n",
    "\n",
    "# analytically solve inner energy integral\n",
    "integrate.quad(lambda time: grb.get_flux(min(grb.energy), time=time) * \n",
    "               min(grb.energy)**(-grb.get_spectral_index(time)) * \n",
    "               1/(grb.get_spectral_index(time) + 1) * \n",
    "               (grb.max_energy**(grb.get_spectral_index(time)+1) - grb.min_energy**(grb.get_spectral_index(time)+1)), \n",
    "                t0, t1)[0]"
   ]
  },
  {
   "cell_type": "code",
   "execution_count": 22,
   "id": "novel-image",
   "metadata": {},
   "outputs": [
    {
     "data": {
      "text/plain": [
       "0.018268711167137"
      ]
     },
     "execution_count": 22,
     "metadata": {},
     "output_type": "execute_result"
    }
   ],
   "source": [
    "t0 = 49602\n",
    "t1 = 59602\n",
    "\n",
    "# analytically solve inner energy integral\n",
    "integrate.quad(lambda time: grb.get_flux(min(grb.energy), time=time) * \n",
    "               min(grb.energy)**(-2.1) * \n",
    "               1/(-2.1 + 1) * \n",
    "               (grb.max_energy**(-2.1+1) - grb.min_energy**(-2.1+1)), \n",
    "                t0, t1)[0]"
   ]
  },
  {
   "cell_type": "code",
   "execution_count": 40,
   "id": "sustainable-international",
   "metadata": {},
   "outputs": [
    {
     "data": {
      "text/plain": [
       "1.6796287381150824e-11"
      ]
     },
     "execution_count": 40,
     "metadata": {},
     "output_type": "execute_result"
    }
   ],
   "source": [
    "grb.get_spectrum(time=grb.time[0], energy=grb.energy[0])"
   ]
  },
  {
   "cell_type": "code",
   "execution_count": 42,
   "id": "affected-pleasure",
   "metadata": {},
   "outputs": [
    {
     "data": {
      "text/plain": [
       "1.6796287381150824e-11"
      ]
     },
     "execution_count": 42,
     "metadata": {},
     "output_type": "execute_result"
    }
   ],
   "source": [
    "grb.get_flux(energy=grb.energy[0], time=grb.time[0])"
   ]
  },
  {
   "cell_type": "code",
   "execution_count": 66,
   "id": "listed-recovery",
   "metadata": {},
   "outputs": [
    {
     "data": {
      "text/plain": [
       "(0.03, 10)"
      ]
     },
     "execution_count": 66,
     "metadata": {},
     "output_type": "execute_result"
    }
   ],
   "source": [
    "grb.min_energy, grb.max_energy"
   ]
  },
  {
   "cell_type": "code",
   "execution_count": 65,
   "id": "initial-adjustment",
   "metadata": {},
   "outputs": [
    {
     "name": "stdout",
     "output_type": "stream",
     "text": [
      "NEW LOOP; t=49603.00, dt=1.00, previous_t=49603.00, previous_dt=-1.00 n=1.00\n",
      "    AUTOSTEP; t=49603 dt=10000\n",
      "    AUTOSTEP; resetting n\n",
      "    Updating t: t: 59602.00, obs_t: 10000.00 start_time: 49602.00, n: 1.00, dt: 10000.00\n",
      "    Normalization_flux: 0.0004252686835290412 Integral_spectrum: 1.2363109166187433e-06\n",
      "    Fluence: 5.318776996251759e-14 norm*int_spec = 5.257643159430353e-10\n",
      "    t=59602.00, dt=10000.00, avgflux=1.2363109166187434e-10, photon_flux=6.408230545297048e-12\n",
      "\n",
      "Close solution, t=59602, avgflux=1.2363109166187434e-10, photon_flux=6.408230545297048e-12\n",
      "NEW LOOP; t=59602.00, dt=1000.00, previous_t=49603.00, previous_dt=-1.00 n=0.00\n",
      "    Updating t: t: 49603.00, obs_t: 1.00 start_time: 49603.00, n: 0.00, dt: 1000.00\n",
      "    Normalization_flux: 5.125159447410783e-08 Integral_spectrum: 1.489949958615502e-10\n",
      "    Fluence: 7.636231107632548e-18 norm*int_spec = 7.636231106567545e-18\n",
      "    t=49603.00, dt=1000.00, avgflux=1.489949958615502e-10, photon_flux=2.793960733894476e-09\n",
      "    Updating n: 0.10\n",
      "NEW LOOP; t=49603.00, dt=1000.00, previous_t=49603.00, previous_dt=1000.00 n=0.10\n",
      "    Updating t: t: 49703.00, obs_t: 101.00 start_time: 49603.00, n: 0.10, dt: 1000.00\n",
      "    Normalization_flux: 5.1658436780138735e-06 Integral_spectrum: 1.5017773892204175e-08\n",
      "    Fluence: 7.681146781330255e-16 norm*int_spec = 7.757947231888474e-14\n",
      "    t=49703.00, dt=1000.00, avgflux=1.4869083061588292e-10, photon_flux=1.3293142665530156e-10\n",
      "\n",
      "Close solution, t=49703.0, avgflux=1.4869083061588292e-10, photon_flux=1.3293142665530156e-10\n",
      "NEW LOOP; t=49703.00, dt=100.00, previous_t=49603.00, previous_dt=1000.00 n=0.00\n",
      "    Updating t: t: 49603.00, obs_t: 1.00 start_time: 49603.00, n: 0.00, dt: 100.00\n",
      "    Normalization_flux: 5.125159447410783e-08 Integral_spectrum: 1.489949958615502e-10\n",
      "    Fluence: 7.636231107632548e-18 norm*int_spec = 7.636231106567545e-18\n",
      "    t=49603.00, dt=100.00, avgflux=1.489949958615502e-10, photon_flux=2.793960733894476e-09\n",
      "    Updating n: 0.10\n",
      "NEW LOOP; t=49603.00, dt=100.00, previous_t=49603.00, previous_dt=100.00 n=0.10\n",
      "    Updating t: t: 49613.00, obs_t: 11.00 start_time: 49603.00, n: 0.10, dt: 100.00\n",
      "    Normalization_flux: 5.636522451062072e-07 Integral_spectrum: 1.6386097796309536e-09\n",
      "    Fluence: 8.396419061140868e-17 norm*int_spec = 9.236060811419745e-16\n",
      "    t=49613.00, dt=100.00, avgflux=1.4896452542099579e-10, photon_flux=5.741639778054398e-10\n",
      "    Updating n: 0.20\n",
      "NEW LOOP; t=49613.00, dt=100.00, previous_t=49613.00, previous_dt=100.00 n=0.20\n",
      "    Updating t: t: 49623.00, obs_t: 21.00 start_time: 49603.00, n: 0.20, dt: 100.00\n",
      "    Normalization_flux: 1.0758433568393977e-06 Integral_spectrum: 3.127615406793697e-09\n",
      "    Fluence: 1.6022973642980954e-16 norm*int_spec = 3.3648242581475492e-15\n",
      "    t=49623.00, dt=100.00, avgflux=1.4893406699017604e-10, photon_flux=3.74737137284686e-10\n",
      "    Updating n: 0.30\n",
      "NEW LOOP; t=49623.00, dt=100.00, previous_t=49623.00, previous_dt=100.00 n=0.30\n",
      "    Updating t: t: 49633.00, obs_t: 31.00 start_time: 49603.00, n: 0.30, dt: 100.00\n",
      "    Normalization_flux: 1.5878250534940688e-06 Integral_spectrum: 4.616012237311624e-09\n",
      "    Fluence: 2.3643293095000886e-16 norm*int_spec = 7.329419877638606e-15\n",
      "    t=49633.00, dt=100.00, avgflux=1.4890362055843947e-10, photon_flux=2.8981085497203265e-10\n",
      "    Updating n: 0.40\n",
      "NEW LOOP; t=49633.00, dt=100.00, previous_t=49633.00, previous_dt=100.00 n=0.40\n",
      "    Updating t: t: 49643.00, obs_t: 41.00 start_time: 49603.00, n: 0.40, dt: 100.00\n",
      "    Normalization_flux: 2.0995974587440525e-06 Integral_spectrum: 6.103800630720514e-09\n",
      "    Fluence: 3.125738364703423e-16 norm*int_spec = 1.2815524292941136e-14\n",
      "    t=49643.00, dt=100.00, avgflux=1.4887318611513448e-10, photon_flux=2.409859591992032e-10\n",
      "    Updating n: 0.50\n",
      "NEW LOOP; t=49643.00, dt=100.00, previous_t=49643.00, previous_dt=100.00 n=0.50\n",
      "    Updating t: t: 49653.00, obs_t: 51.00 start_time: 49603.00, n: 0.50, dt: 100.00\n",
      "    Normalization_flux: 2.6111606961166227e-06 Integral_spectrum: 7.590980946130091e-09\n",
      "    Fluence: 3.886525152004051e-16 norm*int_spec = 1.982127109150507e-14\n",
      "    t=49653.00, dt=100.00, avgflux=1.4884276364960965e-10, photon_flux=2.0866280422706278e-10\n",
      "    Updating n: 0.60\n",
      "NEW LOOP; t=49653.00, dt=100.00, previous_t=49653.00, previous_dt=100.00 n=0.60\n",
      "    Updating t: t: 49663.00, obs_t: 61.00 start_time: 49603.00, n: 0.60, dt: 100.00\n",
      "    Normalization_flux: 3.1225148889924977e-06 Integral_spectrum: 9.077553542224012e-09\n",
      "    Fluence: 4.646690292611507e-16 norm*int_spec = 2.8344796091221064e-14\n",
      "    t=49663.00, dt=100.00, avgflux=1.488123531512133e-10, photon_flux=1.8541024648647847e-10\n",
      "    Updating n: 0.70\n",
      "NEW LOOP; t=49663.00, dt=100.00, previous_t=49663.00, previous_dt=100.00 n=0.70\n",
      "    Updating t: t: 49673.00, obs_t: 71.00 start_time: 49603.00, n: 0.70, dt: 100.00\n",
      "    Normalization_flux: 3.6336601606058364e-06 Integral_spectrum: 1.0563518777259875e-08\n",
      "    Fluence: 5.40623440684988e-16 norm*int_spec = 3.838423733674089e-14\n",
      "    t=49673.00, dt=100.00, avgflux=1.48781954609294e-10, photon_flux=1.6773722239597999e-10\n",
      "    Updating n: 0.80\n",
      "NEW LOOP; t=49673.00, dt=100.00, previous_t=49673.00, previous_dt=100.00 n=0.80\n",
      "    Updating t: t: 49683.00, obs_t: 81.00 start_time: 49603.00, n: 0.80, dt: 100.00\n",
      "    Normalization_flux: 4.144596634044242e-06 Integral_spectrum: 1.2048877009069216e-08\n",
      "    Fluence: 6.165158114158794e-16 norm*int_spec = 4.993773509580132e-14\n",
      "    t=49683.00, dt=100.00, avgflux=1.487515680132002e-10, photon_flux=1.5376845587612623e-10\n",
      "    Updating n: 0.90\n",
      "NEW LOOP; t=49683.00, dt=100.00, previous_t=49683.00, previous_dt=100.00 n=0.90\n",
      "    Updating t: t: 49693.00, obs_t: 91.00 start_time: 49603.00, n: 0.90, dt: 100.00\n",
      "    Normalization_flux: 4.655324432248758e-06 Integral_spectrum: 1.3533628595057511e-08\n",
      "    Fluence: 6.923462033094379e-16 norm*int_spec = 6.300343185555166e-14\n",
      "    t=49693.00, dt=100.00, avgflux=1.4872119335228034e-10, photon_flux=1.4239888596403035e-10\n",
      "\n",
      "Close solution, t=49693.0, avgflux=1.4872119335228034e-10, photon_flux=1.4239888596403035e-10\n",
      "NEW LOOP; t=49693.00, dt=10.00, previous_t=49683.00, previous_dt=100.00 n=0.00\n",
      "    Updating t: t: 49683.00, obs_t: 81.00 start_time: 49683.00, n: 0.00, dt: 10.00\n",
      "    Normalization_flux: 4.144596634044242e-06 Integral_spectrum: 1.2048877009069216e-08\n",
      "    Fluence: 6.165158114158794e-16 norm*int_spec = 4.993773509580132e-14\n",
      "    t=49683.00, dt=10.00, avgflux=1.487515680132002e-10, photon_flux=1.5376845587612623e-10\n",
      "    Updating n: 0.10\n",
      "NEW LOOP; t=49683.00, dt=10.00, previous_t=49683.00, previous_dt=10.00 n=0.10\n",
      "    Updating t: t: 49684.00, obs_t: 82.00 start_time: 49683.00, n: 0.10, dt: 10.00\n",
      "    Normalization_flux: 4.1956788022229606e-06 Integral_spectrum: 1.2197379460836492e-08\n",
      "    Fluence: 6.241016386330623e-16 norm*int_spec = 5.1176286446501396e-14\n",
      "    t=49684.00, dt=10.00, avgflux=1.4874853001020112e-10, photon_flux=1.525284696791735e-10\n",
      "    Updating n: 0.20\n",
      "NEW LOOP; t=49684.00, dt=10.00, previous_t=49684.00, previous_dt=10.00 n=0.20\n",
      "    Updating t: t: 49685.00, obs_t: 83.00 start_time: 49683.00, n: 0.20, dt: 10.00\n",
      "    Normalization_flux: 4.246758883772322e-06 Integral_spectrum: 1.2345875846503082e-08\n",
      "    Fluence: 6.316868461237519e-16 norm*int_spec = 5.2429957929087096e-14\n",
      "    t=49685.00, dt=10.00, avgflux=1.4874549212654316e-10, photon_flux=1.513133324622711e-10\n",
      "    Updating n: 0.30\n",
      "NEW LOOP; t=49685.00, dt=10.00, previous_t=49685.00, previous_dt=10.00 n=0.30\n",
      "    Updating t: t: 49686.00, obs_t: 84.00 start_time: 49683.00, n: 0.30, dt: 10.00\n",
      "    Normalization_flux: 4.297836878815172e-06 Integral_spectrum: 1.2494366166426112e-08\n",
      "    Fluence: 6.392714339497461e-16 norm*int_spec = 5.3698747687486687e-14\n",
      "    t=49686.00, dt=10.00, avgflux=1.4874245436221562e-10, photon_flux=1.5012225577125435e-10\n",
      "    Updating n: 0.40\n",
      "NEW LOOP; t=49686.00, dt=10.00, previous_t=49686.00, previous_dt=10.00 n=0.40\n",
      "    Updating t: t: 49687.00, obs_t: 85.00 start_time: 49683.00, n: 0.40, dt: 10.00\n",
      "    Normalization_flux: 4.348912787474341e-06 Integral_spectrum: 1.2642850420962667e-08\n",
      "    Fluence: 6.468554021728346e-16 norm*int_spec = 5.49826538658499e-14\n",
      "    t=49687.00, dt=10.00, avgflux=1.4873941671720785e-10, photon_flux=1.4895448516936524e-10\n",
      "    Updating n: 0.50\n",
      "NEW LOOP; t=49687.00, dt=10.00, previous_t=49687.00, previous_dt=10.00 n=0.50\n",
      "    Updating t: t: 49688.00, obs_t: 86.00 start_time: 49683.00, n: 0.50, dt: 10.00\n",
      "    Normalization_flux: 4.399986609872645e-06 Integral_spectrum: 1.2791328610469793e-08\n",
      "    Fluence: 6.544387508547978e-16 norm*int_spec = 5.6281674608547954e-14\n",
      "    t=49688.00, dt=10.00, avgflux=1.4873637919150922e-10, photon_flux=1.4780929839033924e-10\n",
      "\n",
      "Close solution, t=49688.0, avgflux=1.4873637919150922e-10, photon_flux=1.4780929839033924e-10\n",
      "NEW LOOP; t=49688.00, dt=1.00, previous_t=49687.00, previous_dt=10.00 n=0.00\n",
      "    Updating t: t: 49687.00, obs_t: 85.00 start_time: 49687.00, n: 0.00, dt: 1.00\n",
      "    Normalization_flux: 4.348912787474341e-06 Integral_spectrum: 1.2642850420962667e-08\n",
      "    Fluence: 6.468554021728346e-16 norm*int_spec = 5.49826538658499e-14\n",
      "    t=49687.00, dt=1.00, avgflux=1.4873941671720785e-10, photon_flux=1.4895448516936524e-10\n",
      "    Updating n: 0.10\n",
      "NEW LOOP; t=49687.00, dt=1.00, previous_t=49687.00, previous_dt=1.00 n=0.10\n",
      "    Updating t: t: 49687.10, obs_t: 85.10 start_time: 49687.00, n: 0.10, dt: 1.00\n",
      "    Normalization_flux: 4.354020263593809e-06 Integral_spectrum: 1.2657698512833593e-08\n",
      "    Fluence: 6.476137649193509e-16 norm*int_spec = 5.511187581533868e-14\n",
      "    t=49687.10, dt=1.00, avgflux=1.487391129592692e-10, photon_flux=1.4883896186761994e-10\n",
      "    Updating n: 0.20\n",
      "NEW LOOP; t=49687.10, dt=1.00, previous_t=49687.10, previous_dt=1.00 n=0.20\n",
      "    Updating t: t: 49687.20, obs_t: 85.20 start_time: 49687.00, n: 0.20, dt: 1.00\n",
      "    Normalization_flux: 4.359127718850792e-06 Integral_spectrum: 1.2672546544054589e-08\n",
      "    Fluence: 6.483721214705183e-16 norm*int_spec = 5.5241248908615174e-14\n",
      "    t=49687.20, dt=1.00, avgflux=1.4873880920252372e-10, photon_flux=1.4872366367388934e-10\n",
      "\n",
      "Close solution, t=49687.2, avgflux=1.4873880920252372e-10, photon_flux=1.4872366367388934e-10\n",
      "NEW LOOP; t=49687.20, dt=0.10, previous_t=49687.10, previous_dt=1.00 n=0.00\n",
      "    Updating t: t: 49687.10, obs_t: 85.10 start_time: 49687.10, n: 0.00, dt: 0.10\n",
      "    Normalization_flux: 4.354020263593809e-06 Integral_spectrum: 1.2657698512833593e-08\n",
      "    Fluence: 6.476137649193509e-16 norm*int_spec = 5.511187581533868e-14\n",
      "    t=49687.10, dt=0.10, avgflux=1.487391129592692e-10, photon_flux=1.4883896186761994e-10\n",
      "    Updating n: 0.10\n",
      "NEW LOOP; t=49687.10, dt=0.10, previous_t=49687.10, previous_dt=0.10 n=0.10\n",
      "    Updating t: t: 49687.11, obs_t: 85.11 start_time: 49687.10, n: 0.10, dt: 0.10\n",
      "    Normalization_flux: 4.354531010058429e-06 Integral_spectrum: 1.2659183318685262e-08\n",
      "    Fluence: 6.476896008532741e-16 norm*int_spec = 5.512480632322935e-14\n",
      "    t=49687.11, dt=0.10, avgflux=1.4873908258354102e-10, photon_flux=1.4882742192999182e-10\n",
      "    Updating n: 0.20\n",
      "NEW LOOP; t=49687.11, dt=0.10, previous_t=49687.11, previous_dt=0.10 n=0.20\n",
      "    Updating t: t: 49687.12, obs_t: 85.12 start_time: 49687.10, n: 0.20, dt: 0.10\n",
      "    Normalization_flux: 4.355041756314052e-06 Integral_spectrum: 1.2660668123929348e-08\n",
      "    Fluence: 6.477654367251886e-16 norm*int_spec = 5.51377383425466e-14\n",
      "    t=49687.12, dt=0.10, avgflux=1.4873905220782473e-10, photon_flux=1.4881588424274627e-10\n",
      "    Updating n: 0.30\n",
      "NEW LOOP; t=49687.12, dt=0.10, previous_t=49687.12, previous_dt=0.10 n=0.30\n",
      "    Updating t: t: 49687.13, obs_t: 85.13 start_time: 49687.10, n: 0.30, dt: 0.10\n",
      "    Normalization_flux: 4.3555525023614215e-06 Integral_spectrum: 1.2662152928568013e-08\n",
      "    Fluence: 6.478412725352047e-16 norm*int_spec = 5.515067187330741e-14\n",
      "    t=49687.13, dt=0.10, avgflux=1.4873902183212032e-10, photon_flux=1.488043488051633e-10\n",
      "    Updating n: 0.40\n",
      "NEW LOOP; t=49687.13, dt=0.10, previous_t=49687.13, previous_dt=0.10 n=0.40\n",
      "    Updating t: t: 49687.14, obs_t: 85.14 start_time: 49687.10, n: 0.40, dt: 0.10\n",
      "    Normalization_flux: 4.356063248200168e-06 Integral_spectrum: 1.2663637732600184e-08\n",
      "    Fluence: 6.479171082832675e-16 norm*int_spec = 5.516360691550057e-14\n",
      "    t=49687.14, dt=0.10, avgflux=1.4873899145642788e-10, photon_flux=1.4879281561654862e-10\n",
      "    Updating n: 0.50\n",
      "NEW LOOP; t=49687.14, dt=0.10, previous_t=49687.14, previous_dt=0.10 n=0.50\n",
      "    Updating t: t: 49687.15, obs_t: 85.15 start_time: 49687.10, n: 0.50, dt: 0.10\n",
      "    Normalization_flux: 4.35657399383029e-06 Integral_spectrum: 1.2665122536025857e-08\n",
      "    Fluence: 6.479929439693774e-16 norm*int_spec = 5.5176543469124185e-14\n",
      "    t=49687.15, dt=0.10, avgflux=1.487389610807474e-10, photon_flux=1.4878128467619962e-10\n",
      "    Updating n: 0.60\n",
      "NEW LOOP; t=49687.15, dt=0.10, previous_t=49687.15, previous_dt=0.10 n=0.60\n",
      "    Updating t: t: 49687.16, obs_t: 85.16 start_time: 49687.10, n: 0.60, dt: 0.10\n",
      "    Normalization_flux: 4.357084739251414e-06 Integral_spectrum: 1.2666607338843942e-08\n",
      "    Fluence: 6.480687795934781e-16 norm*int_spec = 5.51894815341669e-14\n",
      "    t=49687.16, dt=0.10, avgflux=1.4873893070507874e-10, photon_flux=1.4876975598342246e-10\n",
      "    Updating n: 0.70\n",
      "NEW LOOP; t=49687.16, dt=0.10, previous_t=49687.16, previous_dt=0.10 n=0.70\n",
      "    Updating t: t: 49687.17, obs_t: 85.17 start_time: 49687.10, n: 0.70, dt: 0.10\n",
      "    Normalization_flux: 4.357595484464288e-06 Integral_spectrum: 1.2668092141056624e-08\n",
      "    Fluence: 6.481446151556816e-16 norm*int_spec = 5.5202421110645883e-14\n",
      "    t=49687.17, dt=0.10, avgflux=1.4873890032942215e-10, photon_flux=1.4875822953749903e-10\n",
      "    Updating n: 0.80\n",
      "NEW LOOP; t=49687.17, dt=0.10, previous_t=49687.17, previous_dt=0.10 n=0.80\n",
      "    Updating t: t: 49687.18, obs_t: 85.18 start_time: 49687.10, n: 0.80, dt: 0.10\n",
      "    Normalization_flux: 4.358106229468538e-06 Integral_spectrum: 1.2669576942662806e-08\n",
      "    Fluence: 6.482204506559321e-16 norm*int_spec = 5.521536219854973e-14\n",
      "    t=49687.18, dt=0.10, avgflux=1.4873886995377743e-10, photon_flux=1.487467053377347e-10\n",
      "    Updating n: 0.90\n",
      "NEW LOOP; t=49687.18, dt=0.10, previous_t=49687.18, previous_dt=0.10 n=0.90\n",
      "    Updating t: t: 49687.19, obs_t: 85.19 start_time: 49687.10, n: 0.90, dt: 0.10\n",
      "    Normalization_flux: 4.358616974263791e-06 Integral_spectrum: 1.2671061743661401e-08\n",
      "    Fluence: 6.482962860941738e-16 norm*int_spec = 5.5228304797867126e-14\n",
      "    t=49687.19, dt=0.10, avgflux=1.4873883957814458e-10, photon_flux=1.4873518338343728e-10\n",
      "\n",
      "Close solution, t=49687.19, avgflux=1.4873883957814458e-10, photon_flux=1.4873518338343728e-10\n",
      "NEW LOOP; t=49687.19, dt=0.01, previous_t=49687.18, previous_dt=0.10 n=0.00\n",
      "    Updating t: t: 49687.18, obs_t: 85.18 start_time: 49687.18, n: 0.00, dt: 0.01\n",
      "    Normalization_flux: 4.358106229468538e-06 Integral_spectrum: 1.2669576942662806e-08\n",
      "    Fluence: 6.482204506559321e-16 norm*int_spec = 5.521536219854973e-14\n",
      "    t=49687.18, dt=0.01, avgflux=1.4873886995377743e-10, photon_flux=1.487467053377347e-10\n",
      "    Updating n: 0.10\n",
      "NEW LOOP; t=49687.18, dt=0.01, previous_t=49687.18, previous_dt=0.01 n=0.10\n",
      "    Updating t: t: 49687.18, obs_t: 85.18 start_time: 49687.18, n: 0.10, dt: 0.01\n",
      "    Normalization_flux: 4.358157303957302e-06 Integral_spectrum: 1.2669725422789521e-08\n",
      "    Fluence: 6.482280342025219e-16 norm*int_spec = 5.521665639046367e-14\n",
      "    t=49687.18, dt=0.01, avgflux=1.4873886691621358e-10, photon_flux=1.4874555304127429e-10\n",
      "    Updating n: 0.20\n",
      "NEW LOOP; t=49687.18, dt=0.01, previous_t=49687.18, previous_dt=0.01 n=0.20\n",
      "    Updating t: t: 49687.18, obs_t: 85.18 start_time: 49687.18, n: 0.20, dt: 0.01\n",
      "    Normalization_flux: 4.3582083784443515e-06 Integral_spectrum: 1.2669873902911257e-08\n",
      "    Fluence: 6.482356177485475e-16 norm*int_spec = 5.5217950597501274e-14\n",
      "    t=49687.18, dt=0.01, avgflux=1.4873886387864988e-10, photon_flux=1.4874440076725955e-10\n",
      "    Updating n: 0.30\n",
      "NEW LOOP; t=49687.18, dt=0.01, previous_t=49687.18, previous_dt=0.01 n=0.30\n",
      "    Updating t: t: 49687.18, obs_t: 85.18 start_time: 49687.18, n: 0.30, dt: 0.01\n",
      "    Normalization_flux: 4.358259452928945e-06 Integral_spectrum: 1.267002238302585e-08\n",
      "    Fluence: 6.482432012938988e-16 norm*int_spec = 5.521924481964373e-14\n",
      "    t=49687.18, dt=0.01, avgflux=1.4873886084108633e-10, photon_flux=1.4874324851570592e-10\n",
      "    Updating n: 0.40\n",
      "NEW LOOP; t=49687.18, dt=0.01, previous_t=49687.18, previous_dt=0.01 n=0.40\n",
      "    Updating t: t: 49687.18, obs_t: 85.18 start_time: 49687.18, n: 0.40, dt: 0.01\n",
      "    Normalization_flux: 4.358310527411821e-06 Integral_spectrum: 1.2670170863135452e-08\n",
      "    Fluence: 6.482507848386849e-16 norm*int_spec = 5.522053905690976e-14\n",
      "    t=49687.18, dt=0.01, avgflux=1.487388578035228e-10, photon_flux=1.4874209628659657e-10\n",
      "    Updating n: 0.50\n",
      "NEW LOOP; t=49687.18, dt=0.01, previous_t=49687.18, previous_dt=0.01 n=0.50\n",
      "    Updating t: t: 49687.18, obs_t: 85.18 start_time: 49687.18, n: 0.50, dt: 0.01\n",
      "    Normalization_flux: 4.358361601892242e-06 Integral_spectrum: 1.2670319343237913e-08\n",
      "    Fluence: 6.48258368382797e-16 norm*int_spec = 5.522183330928065e-14\n",
      "    t=49687.18, dt=0.01, avgflux=1.487388547659595e-10, photon_flux=1.4874094407994757e-10\n",
      "    Updating n: 0.60\n",
      "NEW LOOP; t=49687.18, dt=0.01, previous_t=49687.18, previous_dt=0.01 n=0.60\n",
      "    Updating t: t: 49687.19, obs_t: 85.19 start_time: 49687.18, n: 0.60, dt: 0.01\n",
      "    Normalization_flux: 4.3584126763709465e-06 Integral_spectrum: 1.2670467823335396e-08\n",
      "    Fluence: 6.482659519263447e-16 norm*int_spec = 5.5223127576775186e-14\n",
      "    t=49687.19, dt=0.01, avgflux=1.4873885172839634e-10, photon_flux=1.487397918957415e-10\n",
      "    Updating n: 0.70\n",
      "NEW LOOP; t=49687.19, dt=0.01, previous_t=49687.19, previous_dt=0.01 n=0.70\n",
      "    Updating t: t: 49687.19, obs_t: 85.19 start_time: 49687.18, n: 0.70, dt: 0.01\n",
      "    Normalization_flux: 4.358463750847194e-06 Integral_spectrum: 1.267061630342572e-08\n",
      "    Fluence: 6.482735354692171e-16 norm*int_spec = 5.522442185937447e-14\n",
      "    t=49687.19, dt=0.01, avgflux=1.4873884869083318e-10, photon_flux=1.4873863973399377e-10\n",
      "\n",
      "Close solution, t=49687.19, avgflux=1.4873884869083318e-10, photon_flux=1.4873863973399377e-10\n"
     ]
    },
    {
     "data": {
      "text/html": [
       "<div>\n",
       "<style scoped>\n",
       "    .dataframe tbody tr th:only-of-type {\n",
       "        vertical-align: middle;\n",
       "    }\n",
       "\n",
       "    .dataframe tbody tr th {\n",
       "        vertical-align: top;\n",
       "    }\n",
       "\n",
       "    .dataframe thead th {\n",
       "        text-align: right;\n",
       "    }\n",
       "</style>\n",
       "<table border=\"1\" class=\"dataframe\">\n",
       "  <thead>\n",
       "    <tr style=\"text-align: right;\">\n",
       "      <th></th>\n",
       "      <th>zenith</th>\n",
       "      <th>site</th>\n",
       "      <th>min_energy</th>\n",
       "      <th>max_energy</th>\n",
       "      <th>seen</th>\n",
       "      <th>obs_time</th>\n",
       "      <th>start_time</th>\n",
       "      <th>end_time</th>\n",
       "      <th>run</th>\n",
       "      <th>id</th>\n",
       "      <th>ra</th>\n",
       "      <th>dec</th>\n",
       "      <th>eiso</th>\n",
       "      <th>z</th>\n",
       "      <th>angle</th>\n",
       "    </tr>\n",
       "  </thead>\n",
       "  <tbody>\n",
       "    <tr>\n",
       "      <th>000340_0016</th>\n",
       "      <td>20</td>\n",
       "      <td>north</td>\n",
       "      <td>30</td>\n",
       "      <td>10000</td>\n",
       "      <td>True</td>\n",
       "      <td>85.19</td>\n",
       "      <td>49602</td>\n",
       "      <td>49687.19</td>\n",
       "      <td>0016</td>\n",
       "      <td>000340</td>\n",
       "      <td>-77.259</td>\n",
       "      <td>17.294</td>\n",
       "      <td>2.090000e+51</td>\n",
       "      <td>0.054</td>\n",
       "      <td>2.56</td>\n",
       "    </tr>\n",
       "  </tbody>\n",
       "</table>\n",
       "</div>"
      ],
      "text/plain": [
       "             zenith   site  min_energy  max_energy  seen  obs_time  \\\n",
       "000340_0016      20  north          30       10000  True     85.19   \n",
       "\n",
       "             start_time  end_time   run      id      ra     dec          eiso  \\\n",
       "000340_0016       49602  49687.19  0016  000340 -77.259  17.294  2.090000e+51   \n",
       "\n",
       "                 z  angle  \n",
       "000340_0016  0.054   2.56  "
      ]
     },
     "execution_count": 65,
     "metadata": {},
     "output_type": "execute_result"
    }
   ],
   "source": [
    "gwt.observe_grb(filepath, sensitivity, start_time=49602, zeniths=[20], sites=[\"north\"], precision=2)"
   ]
  },
  {
   "cell_type": "code",
   "execution_count": null,
   "id": "broad-throat",
   "metadata": {},
   "outputs": [],
   "source": [
    "grb.get_integral_spectrum(49603.00, grb.min_energy, grb.max_energy) "
   ]
  },
  {
   "cell_type": "code",
   "execution_count": 443,
   "id": "significant-castle",
   "metadata": {},
   "outputs": [
    {
     "data": {
      "text/plain": [
       "42.9580448189514"
      ]
     },
     "execution_count": 443,
     "metadata": {},
     "output_type": "execute_result"
    }
   ],
   "source": [
    "integrate.quad(lambda x: gwto.spectrum(x), grb.min_energy, grb.max_energy)[0]"
   ]
  },
  {
   "cell_type": "code",
   "execution_count": 462,
   "id": "pleasant-ticket",
   "metadata": {},
   "outputs": [
    {
     "data": {
      "text/plain": [
       "7484.013385660429"
      ]
     },
     "execution_count": 462,
     "metadata": {},
     "output_type": "execute_result"
    }
   ],
   "source": [
    "9.41972207974572e-10 / 1.258645808650498e-13 "
   ]
  },
  {
   "cell_type": "code",
   "execution_count": null,
   "id": "contemporary-click",
   "metadata": {},
   "outputs": [],
   "source": []
  },
  {
   "cell_type": "markdown",
   "id": "honest-terrain",
   "metadata": {},
   "source": [
    "### Testing v2 stuff with v1 code"
   ]
  },
  {
   "cell_type": "code",
   "execution_count": 396,
   "id": "graduate-factory",
   "metadata": {},
   "outputs": [],
   "source": [
    "v2n = gwp.open_gw_file(\"gw_toy_results_log_v2.pkl\")\n",
    "v1n = gwp.open_gw_file(\"gw_toy_results_log.pkl\")"
   ]
  },
  {
   "cell_type": "code",
   "execution_count": 66,
   "id": "green-federation",
   "metadata": {},
   "outputs": [
    {
     "name": "stdout",
     "output_type": "stream",
     "text": [
      "NEW LOOP; t=49603.00, dt=1.00, previous_t=49603.00, previous_dt=-1.00 n=1.00\n",
      "    AUTOSTEP; t=49603.00 dt=10000.00\n",
      "    AUTOSTEP; resetting n\n",
      "    Updating t: 59602.00, obs_t: 10000.00 start_time: 49602.00, n: 1.00, dt: 10000.00\n",
      "    Normalization_flux: 0.0004375156402580362 Integral_spectrum: 0.002933908000045386\n",
      "    t=59602.00, dt=10000.00, avgflux=1.2836306370980314e-10, photon_flux=6.408230545297048e-12\n",
      "\n",
      "Close solution, t=59602, avgflux=1.2836306370980314e-10, photon_flux=6.408230545297048e-12\n",
      "NEW LOOP; t=59602.00, dt=1000.00, previous_t=49603.00, previous_dt=-1.00 n=0.00\n",
      "    Updating t: 49603.00, obs_t: 1.00 start_time: 49603.00, n: 0.00, dt: 1000.00\n",
      "    Normalization_flux: 5.167963219339084e-08 Integral_spectrum: 0.002933908000045386\n",
      "    t=49603.00, dt=1000.00, avgflux=1.5162328633159247e-10, photon_flux=2.793960733894476e-09\n",
      "    Updating n: 0.10\n",
      "NEW LOOP; t=49603.00, dt=1000.00, previous_t=49603.00, previous_dt=1000.00 n=0.10\n",
      "    Updating t: 49703.00, obs_t: 101.00 start_time: 49603.00, n: 0.10, dt: 1000.00\n",
      "    Normalization_flux: 5.205025646296667e-06 Integral_spectrum: 0.002933908000045386\n",
      "    t=49703.00, dt=1000.00, avgflux=1.511986770704079e-10, photon_flux=1.3293142665530156e-10\n",
      "\n",
      "Close solution, t=49703.0, avgflux=1.511986770704079e-10, photon_flux=1.3293142665530156e-10\n",
      "NEW LOOP; t=49703.00, dt=100.00, previous_t=49603.00, previous_dt=1000.00 n=0.00\n",
      "    Updating t: 49603.00, obs_t: 1.00 start_time: 49603.00, n: 0.00, dt: 100.00\n",
      "    Normalization_flux: 5.167963219339084e-08 Integral_spectrum: 0.002933908000045386\n",
      "    t=49603.00, dt=100.00, avgflux=1.5162328633159247e-10, photon_flux=2.793960733894476e-09\n",
      "    Updating n: 0.10\n",
      "NEW LOOP; t=49603.00, dt=100.00, previous_t=49603.00, previous_dt=100.00 n=0.10\n",
      "    Updating t: 49613.00, obs_t: 11.00 start_time: 49603.00, n: 0.10, dt: 100.00\n",
      "    Normalization_flux: 5.683167568425529e-07 Integral_spectrum: 0.002933908000045386\n",
      "    t=49613.00, dt=100.00, avgflux=1.5158082540547402e-10, photon_flux=5.741639778054398e-10\n",
      "    Updating n: 0.20\n",
      "NEW LOOP; t=49613.00, dt=100.00, previous_t=49613.00, previous_dt=100.00 n=0.20\n",
      "    Updating t: 49623.00, obs_t: 21.00 start_time: 49603.00, n: 0.20, dt: 100.00\n",
      "    Normalization_flux: 1.084664431883085e-06 Integral_spectrum: 0.002933908000045386\n",
      "    t=49623.00, dt=100.00, avgflux=1.5153836447935555e-10, photon_flux=3.74737137284686e-10\n",
      "    Updating n: 0.30\n",
      "NEW LOOP; t=49623.00, dt=100.00, previous_t=49623.00, previous_dt=100.00 n=0.30\n",
      "    Updating t: 49633.00, obs_t: 31.00 start_time: 49603.00, n: 0.30, dt: 100.00\n",
      "    Normalization_flux: 1.600722657314987e-06 Integral_spectrum: 0.002933908000045386\n",
      "    t=49633.00, dt=100.00, avgflux=1.5149590355323707e-10, photon_flux=2.8981085497203265e-10\n",
      "    Updating n: 0.40\n",
      "NEW LOOP; t=49633.00, dt=100.00, previous_t=49633.00, previous_dt=100.00 n=0.40\n",
      "    Updating t: 49643.00, obs_t: 41.00 start_time: 49603.00, n: 0.40, dt: 100.00\n",
      "    Normalization_flux: 2.116491433138259e-06 Integral_spectrum: 0.002933908000045386\n",
      "    t=49643.00, dt=100.00, avgflux=1.514534426271186e-10, photon_flux=2.409859591992032e-10\n",
      "    Updating n: 0.50\n",
      "NEW LOOP; t=49643.00, dt=100.00, previous_t=49643.00, previous_dt=100.00 n=0.50\n",
      "    Updating t: 49653.00, obs_t: 51.00 start_time: 49603.00, n: 0.50, dt: 100.00\n",
      "    Normalization_flux: 2.6319707593529017e-06 Integral_spectrum: 0.002933908000045386\n",
      "    t=49653.00, dt=100.00, avgflux=1.5141098170100014e-10, photon_flux=2.0866280422706278e-10\n",
      "    Updating n: 0.60\n",
      "NEW LOOP; t=49653.00, dt=100.00, previous_t=49653.00, previous_dt=100.00 n=0.60\n",
      "    Updating t: 49663.00, obs_t: 61.00 start_time: 49603.00, n: 0.60, dt: 100.00\n",
      "    Normalization_flux: 3.1471606359589147e-06 Integral_spectrum: 0.002933908000045386\n",
      "    t=49663.00, dt=100.00, avgflux=1.5136852077488172e-10, photon_flux=1.8541024648647847e-10\n",
      "    Updating n: 0.70\n",
      "NEW LOOP; t=49663.00, dt=100.00, previous_t=49663.00, previous_dt=100.00 n=0.70\n",
      "    Updating t: 49673.00, obs_t: 71.00 start_time: 49603.00, n: 0.70, dt: 100.00\n",
      "    Normalization_flux: 3.6620610629562977e-06 Integral_spectrum: 0.002933908000045386\n",
      "    t=49673.00, dt=100.00, avgflux=1.5132605984876324e-10, photon_flux=1.6773722239597999e-10\n",
      "    Updating n: 0.80\n",
      "NEW LOOP; t=49673.00, dt=100.00, previous_t=49673.00, previous_dt=100.00 n=0.80\n",
      "    Updating t: 49683.00, obs_t: 81.00 start_time: 49603.00, n: 0.80, dt: 100.00\n",
      "    Normalization_flux: 4.17667204034505e-06 Integral_spectrum: 0.002933908000045386\n",
      "    t=49683.00, dt=100.00, avgflux=1.512835989226448e-10, photon_flux=1.5376845587612623e-10\n",
      "    Updating n: 0.90\n",
      "NEW LOOP; t=49683.00, dt=100.00, previous_t=49683.00, previous_dt=100.00 n=0.90\n",
      "    Updating t: 49693.00, obs_t: 91.00 start_time: 49603.00, n: 0.90, dt: 100.00\n",
      "    Normalization_flux: 4.690993568125174e-06 Integral_spectrum: 0.002933908000045386\n",
      "    t=49693.00, dt=100.00, avgflux=1.5124113799652634e-10, photon_flux=1.4239888596403035e-10\n",
      "\n",
      "Close solution, t=49693.0, avgflux=1.5124113799652634e-10, photon_flux=1.4239888596403035e-10\n",
      "NEW LOOP; t=49693.00, dt=10.00, previous_t=49683.00, previous_dt=100.00 n=0.00\n",
      "    Updating t: 49683.00, obs_t: 81.00 start_time: 49683.00, n: 0.00, dt: 10.00\n",
      "    Normalization_flux: 4.17667204034505e-06 Integral_spectrum: 0.002933908000045386\n",
      "    t=49683.00, dt=10.00, avgflux=1.512835989226448e-10, photon_flux=1.5376845587612623e-10\n",
      "    Updating n: 0.10\n",
      "NEW LOOP; t=49683.00, dt=10.00, previous_t=49683.00, previous_dt=10.00 n=0.10\n",
      "    Updating t: 49684.00, obs_t: 82.00 start_time: 49683.00, n: 0.10, dt: 10.00\n",
      "    Normalization_flux: 4.228117218355451e-06 Integral_spectrum: 0.002933908000045386\n",
      "    t=49684.00, dt=10.00, avgflux=1.5127935283003295e-10, photon_flux=1.525284696791735e-10\n",
      "    Updating n: 0.20\n",
      "NEW LOOP; t=49684.00, dt=10.00, previous_t=49684.00, previous_dt=10.00 n=0.20\n",
      "    Updating t: 49685.00, obs_t: 83.00 start_time: 49683.00, n: 0.20, dt: 10.00\n",
      "    Normalization_flux: 4.279559501869765e-06 Integral_spectrum: 0.002933908000045386\n",
      "    t=49685.00, dt=10.00, avgflux=1.5127510673742107e-10, photon_flux=1.513133324622711e-10\n",
      "    Updating n: 0.30\n",
      "NEW LOOP; t=49685.00, dt=10.00, previous_t=49685.00, previous_dt=10.00 n=0.30\n",
      "    Updating t: 49686.00, obs_t: 84.00 start_time: 49683.00, n: 0.30, dt: 10.00\n",
      "    Normalization_flux: 4.330998890887993e-06 Integral_spectrum: 0.002933908000045386\n",
      "    t=49686.00, dt=10.00, avgflux=1.5127086064480922e-10, photon_flux=1.5012225577125435e-10\n",
      "\n",
      "Close solution, t=49686.0, avgflux=1.5127086064480922e-10, photon_flux=1.5012225577125435e-10\n",
      "NEW LOOP; t=49686.00, dt=1.00, previous_t=49685.00, previous_dt=10.00 n=0.00\n",
      "    Updating t: 49685.00, obs_t: 83.00 start_time: 49685.00, n: 0.00, dt: 1.00\n",
      "    Normalization_flux: 4.279559501869765e-06 Integral_spectrum: 0.002933908000045386\n",
      "    t=49685.00, dt=1.00, avgflux=1.5127510673742107e-10, photon_flux=1.513133324622711e-10\n",
      "    Updating n: 0.10\n",
      "NEW LOOP; t=49685.00, dt=1.00, previous_t=49685.00, previous_dt=1.00 n=0.10\n",
      "    Updating t: 49685.10, obs_t: 83.10 start_time: 49685.00, n: 0.10, dt: 1.00\n",
      "    Normalization_flux: 4.284703571023836e-06 Integral_spectrum: 0.002933908000045386\n",
      "    t=49685.10, dt=1.00, avgflux=1.5127468212815986e-10, photon_flux=1.511931547780446e-10\n",
      "\n",
      "Close solution, t=49685.1, avgflux=1.5127468212815986e-10, photon_flux=1.511931547780446e-10\n",
      "NEW LOOP; t=49685.10, dt=0.10, previous_t=49685.00, previous_dt=1.00 n=0.00\n",
      "    Updating t: 49685.00, obs_t: 83.00 start_time: 49685.00, n: 0.00, dt: 0.10\n",
      "    Normalization_flux: 4.279559501869765e-06 Integral_spectrum: 0.002933908000045386\n",
      "    t=49685.00, dt=0.10, avgflux=1.5127510673742107e-10, photon_flux=1.513133324622711e-10\n",
      "    Updating n: 0.10\n",
      "NEW LOOP; t=49685.00, dt=0.10, previous_t=49685.00, previous_dt=0.10 n=0.10\n",
      "    Updating t: 49685.01, obs_t: 83.01 start_time: 49685.00, n: 0.10, dt: 0.10\n",
      "    Normalization_flux: 4.280073910087807e-06 Integral_spectrum: 0.002933908000045386\n",
      "    t=49685.01, dt=0.10, avgflux=1.5127506427649493e-10, photon_flux=1.513013038805911e-10\n",
      "    Updating n: 0.20\n",
      "NEW LOOP; t=49685.01, dt=0.10, previous_t=49685.01, previous_dt=0.10 n=0.20\n",
      "    Updating t: 49685.02, obs_t: 83.02 start_time: 49685.00, n: 0.20, dt: 0.10\n",
      "    Normalization_flux: 4.280588318016028e-06 Integral_spectrum: 0.002933908000045386\n",
      "    t=49685.02, dt=0.10, avgflux=1.5127502181556892e-10, photon_flux=1.5128927770391836e-10\n",
      "    Updating n: 0.30\n",
      "NEW LOOP; t=49685.02, dt=0.10, previous_t=49685.02, previous_dt=0.10 n=0.30\n",
      "    Updating t: 49685.03, obs_t: 83.03 start_time: 49685.00, n: 0.30, dt: 0.10\n",
      "    Normalization_flux: 4.281102725655171e-06 Integral_spectrum: 0.002933908000045386\n",
      "    t=49685.03, dt=0.10, avgflux=1.5127497935464275e-10, photon_flux=1.5127725393146452e-10\n",
      "    Updating n: 0.40\n",
      "NEW LOOP; t=49685.03, dt=0.10, previous_t=49685.03, previous_dt=0.10 n=0.40\n",
      "    Updating t: 49685.04, obs_t: 83.04 start_time: 49685.00, n: 0.40, dt: 0.10\n",
      "    Normalization_flux: 4.281617133004863e-06 Integral_spectrum: 0.002933908000045386\n",
      "    t=49685.04, dt=0.10, avgflux=1.5127493689371656e-10, photon_flux=1.512652325624692e-10\n",
      "\n",
      "Close solution, t=49685.04, avgflux=1.5127493689371656e-10, photon_flux=1.512652325624692e-10\n",
      "NEW LOOP; t=49685.04, dt=0.01, previous_t=49685.03, previous_dt=0.10 n=0.00\n",
      "    Updating t: 49685.03, obs_t: 83.03 start_time: 49685.03, n: 0.00, dt: 0.01\n",
      "    Normalization_flux: 4.281102725655171e-06 Integral_spectrum: 0.002933908000045386\n",
      "    t=49685.03, dt=0.01, avgflux=1.5127497935464275e-10, photon_flux=1.5127725393146452e-10\n",
      "    Updating n: 0.10\n",
      "NEW LOOP; t=49685.03, dt=0.01, previous_t=49685.03, previous_dt=0.01 n=0.10\n",
      "    Updating t: 49685.03, obs_t: 83.03 start_time: 49685.03, n: 0.10, dt: 0.01\n",
      "    Normalization_flux: 4.281154166402979e-06 Integral_spectrum: 0.002933908000045386\n",
      "    t=49685.03, dt=0.01, avgflux=1.512749751085502e-10, photon_flux=1.512760516864265e-10\n",
      "    Updating n: 0.20\n",
      "NEW LOOP; t=49685.03, dt=0.01, previous_t=49685.03, previous_dt=0.01 n=0.20\n",
      "    Updating t: 49685.03, obs_t: 83.03 start_time: 49685.03, n: 0.20, dt: 0.01\n",
      "    Normalization_flux: 4.281205607148264e-06 Integral_spectrum: 0.002933908000045386\n",
      "    t=49685.03, dt=0.01, avgflux=1.5127497086245749e-10, photon_flux=1.5127484946541367e-10\n",
      "\n",
      "Close solution, t=49685.03, avgflux=1.5127497086245749e-10, photon_flux=1.5127484946541367e-10\n"
     ]
    },
    {
     "data": {
      "text/html": [
       "<div>\n",
       "<style scoped>\n",
       "    .dataframe tbody tr th:only-of-type {\n",
       "        vertical-align: middle;\n",
       "    }\n",
       "\n",
       "    .dataframe tbody tr th {\n",
       "        vertical-align: top;\n",
       "    }\n",
       "\n",
       "    .dataframe thead th {\n",
       "        text-align: right;\n",
       "    }\n",
       "</style>\n",
       "<table border=\"1\" class=\"dataframe\">\n",
       "  <thead>\n",
       "    <tr style=\"text-align: right;\">\n",
       "      <th></th>\n",
       "      <th>run</th>\n",
       "      <th>id</th>\n",
       "      <th>ra</th>\n",
       "      <th>dec</th>\n",
       "      <th>eiso</th>\n",
       "      <th>z</th>\n",
       "      <th>angle</th>\n",
       "      <th>observatory</th>\n",
       "      <th>zenith</th>\n",
       "      <th>seen</th>\n",
       "      <th>tend</th>\n",
       "      <th>obstime</th>\n",
       "      <th>tstart</th>\n",
       "    </tr>\n",
       "  </thead>\n",
       "  <tbody>\n",
       "    <tr>\n",
       "      <th>413</th>\n",
       "      <td>0016</td>\n",
       "      <td>000340</td>\n",
       "      <td>-77.259</td>\n",
       "      <td>17.294</td>\n",
       "      <td>2.090000e+51</td>\n",
       "      <td>0.054</td>\n",
       "      <td>2.56</td>\n",
       "      <td>north</td>\n",
       "      <td>20</td>\n",
       "      <td>True</td>\n",
       "      <td>49685.03</td>\n",
       "      <td>83.03</td>\n",
       "      <td>49602</td>\n",
       "    </tr>\n",
       "  </tbody>\n",
       "</table>\n",
       "</div>"
      ],
      "text/plain": [
       "      run      id      ra     dec          eiso      z  angle observatory  \\\n",
       "413  0016  000340 -77.259  17.294  2.090000e+51  0.054   2.56       north   \n",
       "\n",
       "     zenith  seen      tend  obstime  tstart  \n",
       "413      20  True  49685.03    83.03   49602  "
      ]
     },
     "execution_count": 66,
     "metadata": {},
     "output_type": "execute_result"
    }
   ],
   "source": [
    "files = {\n",
    "    \"north\": {\n",
    "        20: \"grbsens_output_v1_July_2020/grbsens-5.0sigma_t1s-t16384s_irf-North_z20_0.5h.txt\",\n",
    "        40: \"grbsens_output_v1_July_2020/grbsens-5.0sigma_t1s-t16384s_irf-North_z40_0.5h.txt\",\n",
    "        60: \"grbsens_output_v1_July_2020/grbsens-5.0sigma_t1s-t16384s_irf-North_z60_0.5h.txt\",\n",
    "    },\n",
    "    \"south\": {\n",
    "        20: \"grbsens_output_v1_July_2020/grbsens-5.0sigma_t1s-t16384s_irf-South_z20_0.5h.txt\",\n",
    "        40: \"grbsens_output_v1_July_2020/grbsens-5.0sigma_t1s-t16384s_irf-South_z40_0.5h.txt\",\n",
    "        60: \"grbsens_output_v1_July_2020/grbsens-5.0sigma_t1s-t16384s_irf-South_z60_0.5h.txt\",\n",
    "    },\n",
    "}\n",
    "\n",
    "interpolations = gwto.get_fit_dict(files)\n",
    "spectral_dict = gwto.get_integral_spectra(zeniths=[20, 40, 60])\n",
    "\n",
    "bns = gwto.ParseBNS(\"BNS-GW.txt\", sep=\"\\t\")\n",
    "\n",
    "gwto.observe_grb(\n",
    "    413,\n",
    "    bns,\n",
    "    interpolations,\n",
    "    spectral_dict,\n",
    "    tstart=49602,\n",
    "    zenith=20,\n",
    "    observatory=\"north\",\n",
    "    precision=2\n",
    ")"
   ]
  },
  {
   "cell_type": "code",
   "execution_count": 400,
   "id": "experienced-production",
   "metadata": {},
   "outputs": [
    {
     "data": {
      "text/html": [
       "<div>\n",
       "<style scoped>\n",
       "    .dataframe tbody tr th:only-of-type {\n",
       "        vertical-align: middle;\n",
       "    }\n",
       "\n",
       "    .dataframe tbody tr th {\n",
       "        vertical-align: top;\n",
       "    }\n",
       "\n",
       "    .dataframe thead th {\n",
       "        text-align: right;\n",
       "    }\n",
       "</style>\n",
       "<table border=\"1\" class=\"dataframe\">\n",
       "  <thead>\n",
       "    <tr style=\"text-align: right;\">\n",
       "      <th></th>\n",
       "      <th>run</th>\n",
       "      <th>id</th>\n",
       "      <th>ra</th>\n",
       "      <th>dec</th>\n",
       "      <th>eiso</th>\n",
       "      <th>z</th>\n",
       "      <th>angle</th>\n",
       "      <th>zenith</th>\n",
       "      <th>observatory</th>\n",
       "      <th>seen</th>\n",
       "      <th>tend</th>\n",
       "      <th>obstime</th>\n",
       "      <th>tstart</th>\n",
       "    </tr>\n",
       "  </thead>\n",
       "  <tbody>\n",
       "    <tr>\n",
       "      <th>0</th>\n",
       "      <td>0016</td>\n",
       "      <td>000340</td>\n",
       "      <td>-77.259</td>\n",
       "      <td>17.294</td>\n",
       "      <td>2.090000e+51</td>\n",
       "      <td>0.054</td>\n",
       "      <td>2.56</td>\n",
       "      <td>20</td>\n",
       "      <td>North</td>\n",
       "      <td>True</td>\n",
       "      <td>86421.69</td>\n",
       "      <td>21.69</td>\n",
       "      <td>86400</td>\n",
       "    </tr>\n",
       "    <tr>\n",
       "      <th>0</th>\n",
       "      <td>0016</td>\n",
       "      <td>000340</td>\n",
       "      <td>-77.259</td>\n",
       "      <td>17.294</td>\n",
       "      <td>2.090000e+51</td>\n",
       "      <td>0.054</td>\n",
       "      <td>2.56</td>\n",
       "      <td>20</td>\n",
       "      <td>North</td>\n",
       "      <td>True</td>\n",
       "      <td>71821.01</td>\n",
       "      <td>12.01</td>\n",
       "      <td>71809</td>\n",
       "    </tr>\n",
       "    <tr>\n",
       "      <th>0</th>\n",
       "      <td>0016</td>\n",
       "      <td>000340</td>\n",
       "      <td>-77.259</td>\n",
       "      <td>17.294</td>\n",
       "      <td>2.090000e+51</td>\n",
       "      <td>0.054</td>\n",
       "      <td>2.56</td>\n",
       "      <td>20</td>\n",
       "      <td>North</td>\n",
       "      <td>True</td>\n",
       "      <td>59687.86</td>\n",
       "      <td>6.86</td>\n",
       "      <td>59681</td>\n",
       "    </tr>\n",
       "    <tr>\n",
       "      <th>0</th>\n",
       "      <td>0016</td>\n",
       "      <td>000340</td>\n",
       "      <td>-77.259</td>\n",
       "      <td>17.294</td>\n",
       "      <td>2.090000e+51</td>\n",
       "      <td>0.054</td>\n",
       "      <td>2.56</td>\n",
       "      <td>20</td>\n",
       "      <td>North</td>\n",
       "      <td>True</td>\n",
       "      <td>49606.04</td>\n",
       "      <td>4.04</td>\n",
       "      <td>49602</td>\n",
       "    </tr>\n",
       "    <tr>\n",
       "      <th>0</th>\n",
       "      <td>0016</td>\n",
       "      <td>000340</td>\n",
       "      <td>-77.259</td>\n",
       "      <td>17.294</td>\n",
       "      <td>2.090000e+51</td>\n",
       "      <td>0.054</td>\n",
       "      <td>2.56</td>\n",
       "      <td>20</td>\n",
       "      <td>North</td>\n",
       "      <td>True</td>\n",
       "      <td>41227.25</td>\n",
       "      <td>2.25</td>\n",
       "      <td>41225</td>\n",
       "    </tr>\n",
       "    <tr>\n",
       "      <th>0</th>\n",
       "      <td>0016</td>\n",
       "      <td>000340</td>\n",
       "      <td>-77.259</td>\n",
       "      <td>17.294</td>\n",
       "      <td>2.090000e+51</td>\n",
       "      <td>0.054</td>\n",
       "      <td>2.56</td>\n",
       "      <td>20</td>\n",
       "      <td>North</td>\n",
       "      <td>True</td>\n",
       "      <td>34264.26</td>\n",
       "      <td>1.26</td>\n",
       "      <td>34263</td>\n",
       "    </tr>\n",
       "    <tr>\n",
       "      <th>0</th>\n",
       "      <td>0016</td>\n",
       "      <td>000340</td>\n",
       "      <td>-77.259</td>\n",
       "      <td>17.294</td>\n",
       "      <td>2.090000e+51</td>\n",
       "      <td>0.054</td>\n",
       "      <td>2.56</td>\n",
       "      <td>20</td>\n",
       "      <td>North</td>\n",
       "      <td>True</td>\n",
       "      <td>28478.00</td>\n",
       "      <td>1.00</td>\n",
       "      <td>28477</td>\n",
       "    </tr>\n",
       "    <tr>\n",
       "      <th>0</th>\n",
       "      <td>0016</td>\n",
       "      <td>000340</td>\n",
       "      <td>-77.259</td>\n",
       "      <td>17.294</td>\n",
       "      <td>2.090000e+51</td>\n",
       "      <td>0.054</td>\n",
       "      <td>2.56</td>\n",
       "      <td>20</td>\n",
       "      <td>North</td>\n",
       "      <td>True</td>\n",
       "      <td>23669.00</td>\n",
       "      <td>1.00</td>\n",
       "      <td>23668</td>\n",
       "    </tr>\n",
       "    <tr>\n",
       "      <th>0</th>\n",
       "      <td>0016</td>\n",
       "      <td>000340</td>\n",
       "      <td>-77.259</td>\n",
       "      <td>17.294</td>\n",
       "      <td>2.090000e+51</td>\n",
       "      <td>0.054</td>\n",
       "      <td>2.56</td>\n",
       "      <td>20</td>\n",
       "      <td>North</td>\n",
       "      <td>True</td>\n",
       "      <td>19672.00</td>\n",
       "      <td>1.00</td>\n",
       "      <td>19671</td>\n",
       "    </tr>\n",
       "    <tr>\n",
       "      <th>0</th>\n",
       "      <td>0016</td>\n",
       "      <td>000340</td>\n",
       "      <td>-77.259</td>\n",
       "      <td>17.294</td>\n",
       "      <td>2.090000e+51</td>\n",
       "      <td>0.054</td>\n",
       "      <td>2.56</td>\n",
       "      <td>20</td>\n",
       "      <td>North</td>\n",
       "      <td>True</td>\n",
       "      <td>16350.00</td>\n",
       "      <td>1.00</td>\n",
       "      <td>16349</td>\n",
       "    </tr>\n",
       "  </tbody>\n",
       "</table>\n",
       "</div>"
      ],
      "text/plain": [
       "    run      id      ra     dec          eiso      z  angle  zenith  \\\n",
       "0  0016  000340 -77.259  17.294  2.090000e+51  0.054   2.56      20   \n",
       "0  0016  000340 -77.259  17.294  2.090000e+51  0.054   2.56      20   \n",
       "0  0016  000340 -77.259  17.294  2.090000e+51  0.054   2.56      20   \n",
       "0  0016  000340 -77.259  17.294  2.090000e+51  0.054   2.56      20   \n",
       "0  0016  000340 -77.259  17.294  2.090000e+51  0.054   2.56      20   \n",
       "0  0016  000340 -77.259  17.294  2.090000e+51  0.054   2.56      20   \n",
       "0  0016  000340 -77.259  17.294  2.090000e+51  0.054   2.56      20   \n",
       "0  0016  000340 -77.259  17.294  2.090000e+51  0.054   2.56      20   \n",
       "0  0016  000340 -77.259  17.294  2.090000e+51  0.054   2.56      20   \n",
       "0  0016  000340 -77.259  17.294  2.090000e+51  0.054   2.56      20   \n",
       "\n",
       "  observatory  seen      tend  obstime  tstart  \n",
       "0       North  True  86421.69    21.69   86400  \n",
       "0       North  True  71821.01    12.01   71809  \n",
       "0       North  True  59687.86     6.86   59681  \n",
       "0       North  True  49606.04     4.04   49602  \n",
       "0       North  True  41227.25     2.25   41225  \n",
       "0       North  True  34264.26     1.26   34263  \n",
       "0       North  True  28478.00     1.00   28477  \n",
       "0       North  True  23669.00     1.00   23668  \n",
       "0       North  True  19672.00     1.00   19671  \n",
       "0       North  True  16350.00     1.00   16349  "
      ]
     },
     "execution_count": 400,
     "metadata": {},
     "output_type": "execute_result"
    }
   ],
   "source": [
    "v2n[v2n.run == \"0016\"][:10]"
   ]
  },
  {
   "cell_type": "markdown",
   "id": "optimum-trademark",
   "metadata": {},
   "source": [
    "### Testing the v1 code.  [it works]"
   ]
  },
  {
   "cell_type": "code",
   "execution_count": 399,
   "id": "flush-approach",
   "metadata": {},
   "outputs": [
    {
     "data": {
      "text/html": [
       "<div>\n",
       "<style scoped>\n",
       "    .dataframe tbody tr th:only-of-type {\n",
       "        vertical-align: middle;\n",
       "    }\n",
       "\n",
       "    .dataframe tbody tr th {\n",
       "        vertical-align: top;\n",
       "    }\n",
       "\n",
       "    .dataframe thead th {\n",
       "        text-align: right;\n",
       "    }\n",
       "</style>\n",
       "<table border=\"1\" class=\"dataframe\">\n",
       "  <thead>\n",
       "    <tr style=\"text-align: right;\">\n",
       "      <th></th>\n",
       "      <th>run</th>\n",
       "      <th>id</th>\n",
       "      <th>ra</th>\n",
       "      <th>dec</th>\n",
       "      <th>eiso</th>\n",
       "      <th>z</th>\n",
       "      <th>angle</th>\n",
       "      <th>observatory</th>\n",
       "      <th>zenith</th>\n",
       "      <th>seen</th>\n",
       "      <th>tend</th>\n",
       "      <th>obstime</th>\n",
       "      <th>tstart</th>\n",
       "    </tr>\n",
       "  </thead>\n",
       "  <tbody>\n",
       "    <tr>\n",
       "      <th>413</th>\n",
       "      <td>0016</td>\n",
       "      <td>000340</td>\n",
       "      <td>-77.259</td>\n",
       "      <td>17.294</td>\n",
       "      <td>1.001666e+52</td>\n",
       "      <td>0.054</td>\n",
       "      <td>2.563</td>\n",
       "      <td>north</td>\n",
       "      <td>20</td>\n",
       "      <td>True</td>\n",
       "      <td>49673.99</td>\n",
       "      <td>71.99</td>\n",
       "      <td>49602</td>\n",
       "    </tr>\n",
       "  </tbody>\n",
       "</table>\n",
       "</div>"
      ],
      "text/plain": [
       "      run      id      ra     dec          eiso      z  angle observatory  \\\n",
       "413  0016  000340 -77.259  17.294  1.001666e+52  0.054  2.563       north   \n",
       "\n",
       "     zenith  seen      tend  obstime  tstart  \n",
       "413      20  True  49673.99    71.99   49602  "
      ]
     },
     "execution_count": 399,
     "metadata": {},
     "output_type": "execute_result"
    }
   ],
   "source": [
    "files = {\n",
    "    \"north\": {\n",
    "        20: \"grbsens_output_v1_July_2020/grbsens-5.0sigma_t1s-t16384s_irf-North_z20_0.5h.txt\",\n",
    "        40: \"grbsens_output_v1_July_2020/grbsens-5.0sigma_t1s-t16384s_irf-North_z40_0.5h.txt\",\n",
    "        60: \"grbsens_output_v1_July_2020/grbsens-5.0sigma_t1s-t16384s_irf-North_z60_0.5h.txt\",\n",
    "    },\n",
    "    \"south\": {\n",
    "        20: \"grbsens_output_v1_July_2020/grbsens-5.0sigma_t1s-t16384s_irf-South_z20_0.5h.txt\",\n",
    "        40: \"grbsens_output_v1_July_2020/grbsens-5.0sigma_t1s-t16384s_irf-South_z40_0.5h.txt\",\n",
    "        60: \"grbsens_output_v1_July_2020/grbsens-5.0sigma_t1s-t16384s_irf-South_z60_0.5h.txt\",\n",
    "    },\n",
    "}\n",
    "\n",
    "interpolations = gwto.get_fit_dict(files)\n",
    "spectral_dict = gwto.get_integral_spectra(zeniths=[20, 40, 60])\n",
    "\n",
    "bns = gwto.ParseBNS(\"BNS-GW.txt\", sep=\"\\t\")\n",
    "\n",
    "gwto.observe_grb(\n",
    "    413,\n",
    "    bns,\n",
    "    interpolations,\n",
    "    spectral_dict,\n",
    "    tstart=49602,\n",
    "    zenith=20,\n",
    "    observatory=\"north\",\n",
    "    precision=2\n",
    ")"
   ]
  },
  {
   "cell_type": "code",
   "execution_count": 398,
   "id": "accessible-clear",
   "metadata": {},
   "outputs": [
    {
     "data": {
      "text/html": [
       "<div>\n",
       "<style scoped>\n",
       "    .dataframe tbody tr th:only-of-type {\n",
       "        vertical-align: middle;\n",
       "    }\n",
       "\n",
       "    .dataframe tbody tr th {\n",
       "        vertical-align: top;\n",
       "    }\n",
       "\n",
       "    .dataframe thead th {\n",
       "        text-align: right;\n",
       "    }\n",
       "</style>\n",
       "<table border=\"1\" class=\"dataframe\">\n",
       "  <thead>\n",
       "    <tr style=\"text-align: right;\">\n",
       "      <th></th>\n",
       "      <th>run</th>\n",
       "      <th>id</th>\n",
       "      <th>ra</th>\n",
       "      <th>dec</th>\n",
       "      <th>eiso</th>\n",
       "      <th>z</th>\n",
       "      <th>angle</th>\n",
       "      <th>zenith</th>\n",
       "      <th>observatory</th>\n",
       "      <th>seen</th>\n",
       "      <th>tend</th>\n",
       "      <th>obstime</th>\n",
       "      <th>tstart</th>\n",
       "    </tr>\n",
       "  </thead>\n",
       "  <tbody>\n",
       "    <tr>\n",
       "      <th>0</th>\n",
       "      <td>0016</td>\n",
       "      <td>000340</td>\n",
       "      <td>-77.259</td>\n",
       "      <td>17.294</td>\n",
       "      <td>1.001666e+52</td>\n",
       "      <td>0.054</td>\n",
       "      <td>2.563</td>\n",
       "      <td>20</td>\n",
       "      <td>North</td>\n",
       "      <td>True</td>\n",
       "      <td>86624.34</td>\n",
       "      <td>224.34</td>\n",
       "      <td>86400</td>\n",
       "    </tr>\n",
       "    <tr>\n",
       "      <th>0</th>\n",
       "      <td>0016</td>\n",
       "      <td>000340</td>\n",
       "      <td>-77.259</td>\n",
       "      <td>17.294</td>\n",
       "      <td>1.001666e+52</td>\n",
       "      <td>0.054</td>\n",
       "      <td>2.563</td>\n",
       "      <td>20</td>\n",
       "      <td>North</td>\n",
       "      <td>True</td>\n",
       "      <td>71960.77</td>\n",
       "      <td>151.77</td>\n",
       "      <td>71809</td>\n",
       "    </tr>\n",
       "    <tr>\n",
       "      <th>0</th>\n",
       "      <td>0016</td>\n",
       "      <td>000340</td>\n",
       "      <td>-77.259</td>\n",
       "      <td>17.294</td>\n",
       "      <td>1.001666e+52</td>\n",
       "      <td>0.054</td>\n",
       "      <td>2.563</td>\n",
       "      <td>20</td>\n",
       "      <td>North</td>\n",
       "      <td>True</td>\n",
       "      <td>59784.83</td>\n",
       "      <td>103.83</td>\n",
       "      <td>59681</td>\n",
       "    </tr>\n",
       "    <tr>\n",
       "      <th>0</th>\n",
       "      <td>0016</td>\n",
       "      <td>000340</td>\n",
       "      <td>-77.259</td>\n",
       "      <td>17.294</td>\n",
       "      <td>1.001666e+52</td>\n",
       "      <td>0.054</td>\n",
       "      <td>2.563</td>\n",
       "      <td>20</td>\n",
       "      <td>North</td>\n",
       "      <td>True</td>\n",
       "      <td>49673.99</td>\n",
       "      <td>71.99</td>\n",
       "      <td>49602</td>\n",
       "    </tr>\n",
       "    <tr>\n",
       "      <th>0</th>\n",
       "      <td>0016</td>\n",
       "      <td>000340</td>\n",
       "      <td>-77.259</td>\n",
       "      <td>17.294</td>\n",
       "      <td>1.001666e+52</td>\n",
       "      <td>0.054</td>\n",
       "      <td>2.563</td>\n",
       "      <td>20</td>\n",
       "      <td>North</td>\n",
       "      <td>True</td>\n",
       "      <td>41273.54</td>\n",
       "      <td>48.54</td>\n",
       "      <td>41225</td>\n",
       "    </tr>\n",
       "    <tr>\n",
       "      <th>0</th>\n",
       "      <td>0016</td>\n",
       "      <td>000340</td>\n",
       "      <td>-77.259</td>\n",
       "      <td>17.294</td>\n",
       "      <td>1.001666e+52</td>\n",
       "      <td>0.054</td>\n",
       "      <td>2.563</td>\n",
       "      <td>20</td>\n",
       "      <td>North</td>\n",
       "      <td>True</td>\n",
       "      <td>34295.67</td>\n",
       "      <td>32.67</td>\n",
       "      <td>34263</td>\n",
       "    </tr>\n",
       "    <tr>\n",
       "      <th>0</th>\n",
       "      <td>0016</td>\n",
       "      <td>000340</td>\n",
       "      <td>-77.259</td>\n",
       "      <td>17.294</td>\n",
       "      <td>1.001666e+52</td>\n",
       "      <td>0.054</td>\n",
       "      <td>2.563</td>\n",
       "      <td>20</td>\n",
       "      <td>North</td>\n",
       "      <td>True</td>\n",
       "      <td>28499.21</td>\n",
       "      <td>22.21</td>\n",
       "      <td>28477</td>\n",
       "    </tr>\n",
       "    <tr>\n",
       "      <th>0</th>\n",
       "      <td>0016</td>\n",
       "      <td>000340</td>\n",
       "      <td>-77.259</td>\n",
       "      <td>17.294</td>\n",
       "      <td>1.001666e+52</td>\n",
       "      <td>0.054</td>\n",
       "      <td>2.563</td>\n",
       "      <td>20</td>\n",
       "      <td>North</td>\n",
       "      <td>True</td>\n",
       "      <td>23683.27</td>\n",
       "      <td>15.27</td>\n",
       "      <td>23668</td>\n",
       "    </tr>\n",
       "    <tr>\n",
       "      <th>0</th>\n",
       "      <td>0016</td>\n",
       "      <td>000340</td>\n",
       "      <td>-77.259</td>\n",
       "      <td>17.294</td>\n",
       "      <td>1.001666e+52</td>\n",
       "      <td>0.054</td>\n",
       "      <td>2.563</td>\n",
       "      <td>20</td>\n",
       "      <td>North</td>\n",
       "      <td>True</td>\n",
       "      <td>19681.64</td>\n",
       "      <td>10.64</td>\n",
       "      <td>19671</td>\n",
       "    </tr>\n",
       "    <tr>\n",
       "      <th>0</th>\n",
       "      <td>0016</td>\n",
       "      <td>000340</td>\n",
       "      <td>-77.259</td>\n",
       "      <td>17.294</td>\n",
       "      <td>1.001666e+52</td>\n",
       "      <td>0.054</td>\n",
       "      <td>2.563</td>\n",
       "      <td>20</td>\n",
       "      <td>North</td>\n",
       "      <td>True</td>\n",
       "      <td>16356.27</td>\n",
       "      <td>7.27</td>\n",
       "      <td>16349</td>\n",
       "    </tr>\n",
       "  </tbody>\n",
       "</table>\n",
       "</div>"
      ],
      "text/plain": [
       "    run      id      ra     dec          eiso      z  angle  zenith  \\\n",
       "0  0016  000340 -77.259  17.294  1.001666e+52  0.054  2.563      20   \n",
       "0  0016  000340 -77.259  17.294  1.001666e+52  0.054  2.563      20   \n",
       "0  0016  000340 -77.259  17.294  1.001666e+52  0.054  2.563      20   \n",
       "0  0016  000340 -77.259  17.294  1.001666e+52  0.054  2.563      20   \n",
       "0  0016  000340 -77.259  17.294  1.001666e+52  0.054  2.563      20   \n",
       "0  0016  000340 -77.259  17.294  1.001666e+52  0.054  2.563      20   \n",
       "0  0016  000340 -77.259  17.294  1.001666e+52  0.054  2.563      20   \n",
       "0  0016  000340 -77.259  17.294  1.001666e+52  0.054  2.563      20   \n",
       "0  0016  000340 -77.259  17.294  1.001666e+52  0.054  2.563      20   \n",
       "0  0016  000340 -77.259  17.294  1.001666e+52  0.054  2.563      20   \n",
       "\n",
       "  observatory  seen      tend  obstime  tstart  \n",
       "0       North  True  86624.34   224.34   86400  \n",
       "0       North  True  71960.77   151.77   71809  \n",
       "0       North  True  59784.83   103.83   59681  \n",
       "0       North  True  49673.99    71.99   49602  \n",
       "0       North  True  41273.54    48.54   41225  \n",
       "0       North  True  34295.67    32.67   34263  \n",
       "0       North  True  28499.21    22.21   28477  \n",
       "0       North  True  23683.27    15.27   23668  \n",
       "0       North  True  19681.64    10.64   19671  \n",
       "0       North  True  16356.27     7.27   16349  "
      ]
     },
     "execution_count": 398,
     "metadata": {},
     "output_type": "execute_result"
    }
   ],
   "source": [
    "v1n[v1n.run == \"0016\"][0:10]"
   ]
  },
  {
   "cell_type": "code",
   "execution_count": null,
   "id": "vanilla-lover",
   "metadata": {},
   "outputs": [],
   "source": []
  },
  {
   "cell_type": "markdown",
   "id": "attempted-practitioner",
   "metadata": {},
   "source": [
    "# Integration with the GW Toy\n",
    "\n",
    "### Fluence calculation (S)\n",
    "\n",
    "$S=\\int_{t_0}^{t_\\text{stop}} \\int_{E_\\text{min}}^{E_\\text{max}} A \\frac{E}{E_0}^{-\\alpha} dE dt$\n",
    "\n",
    "$S=\\int_{t_0}^{t_\\text{stop}} \\int_{E_\\text{min}}^{E_\\text{max}} F(E_0, t) \\frac{E}{E_0}^{\\alpha(t)} dEdt$"
   ]
  },
  {
   "cell_type": "code",
   "execution_count": null,
   "id": "medical-colombia",
   "metadata": {},
   "outputs": [],
   "source": [
    "def power_law(self, energy, spectral_index=-2.1, energy_0=None, normalization=1):\n",
    "    \"\"\"The Power Law spectrum, including normalization\"\"\"\n",
    "\n",
    "    if not energy_0:\n",
    "        energy_0 = min(self.energy)\n",
    "\n",
    "    return normalization * (energy / energy_0) ** (spectral_index)\n",
    "\n",
    "\n",
    "def get_integral_spectrum(self, time, min_energy, max_energy):\n",
    "    \"\"\"Integrate the spectrum, including the normalization\"\"\"\n",
    "\n",
    "    integral_spectrum = integrate.quad(\n",
    "        lambda energy: self.power_law(\n",
    "            energy,\n",
    "            spectral_index=self.get_spectral_index(time),\n",
    "            energy_0=min(self.energy),\n",
    "            normalization=self.get_flux(energy=min(self.energy), time=time),\n",
    "        ),\n",
    "        min_energy,\n",
    "        max_energy,\n",
    "    )[0]\n",
    "\n",
    "    return integral_spectrum\n",
    "\n",
    "def get_fluence(self, start_time, stop_time, min_energy=None, max_energy=None):\n",
    "    \"\"\"Double integral: Integrate the integral spectrum from min_energy to max_energy, then integrate this in time\"\"\"\n",
    "    \n",
    "    fluence = integrate.quad(\n",
    "        lambda time: self.get_integral_spectrum(time, min_energy, max_energy),\n",
    "        start_time,\n",
    "        stop_time,\n",
    "    )[0]\n",
    "\n",
    "    return fluence"
   ]
  },
  {
   "cell_type": "code",
   "execution_count": null,
   "id": "annual-spain",
   "metadata": {},
   "outputs": [],
   "source": []
  }
 ],
 "metadata": {
  "kernelspec": {
   "display_name": "gw-toy",
   "language": "python",
   "name": "gw-toy"
  },
  "language_info": {
   "codemirror_mode": {
    "name": "ipython",
    "version": 3
   },
   "file_extension": ".py",
   "mimetype": "text/x-python",
   "name": "python",
   "nbconvert_exporter": "python",
   "pygments_lexer": "ipython3",
   "version": "3.7.10"
  }
 },
 "nbformat": 4,
 "nbformat_minor": 5
}
