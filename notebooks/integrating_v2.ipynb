{
 "cells": [
  {
   "cell_type": "markdown",
   "id": "compact-dialogue",
   "metadata": {},
   "source": [
    "# Integrating v2"
   ]
  },
  {
   "cell_type": "code",
   "execution_count": 1,
   "id": "broadband-edgar",
   "metadata": {
    "vscode": {
     "languageId": "python"
    }
   },
   "outputs": [],
   "source": [
    "%load_ext autoreload\n",
    "%autoreload 2"
   ]
  },
  {
   "cell_type": "code",
   "execution_count": 1002,
   "id": "parallel-coupon",
   "metadata": {
    "vscode": {
     "languageId": "python"
    }
   },
   "outputs": [],
   "source": [
    "import os\n",
    "import subprocess\n",
    "import yaml\n",
    "\n",
    "from astropy.io import fits\n",
    "import numpy as np\n",
    "import pandas as pd\n",
    "import glob\n",
    "from tqdm import tqdm\n",
    "import random\n",
    "import logging\n",
    "\n",
    "from scipy import integrate\n",
    "from scipy.interpolate import interp2d, RectBivariateSpline\n",
    "import scipy.optimize as op\n",
    "from matplotlib import pyplot as plt\n",
    "import seaborn as sns\n",
    "sns.set()"
   ]
  },
  {
   "cell_type": "code",
   "execution_count": 3,
   "id": "muslim-unknown",
   "metadata": {
    "vscode": {
     "languageId": "python"
    }
   },
   "outputs": [
    {
     "name": "stderr",
     "output_type": "stream",
     "text": [
      "/Users/jarred/Documents/Projects/gravitational_wave_toy/.venv/lib/python3.7/site-packages/ray/autoscaler/_private/cli_logger.py:61: FutureWarning: Not all Ray CLI dependencies were found. In Ray 1.4+, the Ray CLI, autoscaler, and dashboard will only be usable via `pip install 'ray[default]'`. Please update your install command.\n",
      "  \"update your install command.\", FutureWarning)\n"
     ]
    }
   ],
   "source": [
    "from gravitational_wave_toy import GWToyV2 as gwt\n",
    "from gravitational_wave_toy import GWToy as gwto\n",
    "from gravitational_wave_toy import GWPlotter as gwp"
   ]
  },
  {
   "cell_type": "markdown",
   "id": "prostate-income",
   "metadata": {},
   "source": [
    "## Import a sample grb"
   ]
  },
  {
   "cell_type": "code",
   "execution_count": 4,
   "id": "smooth-hartford",
   "metadata": {
    "vscode": {
     "languageId": "python"
    }
   },
   "outputs": [],
   "source": [
    "filepath = \"./GammaCatalogV2.0/run0639_ID000222.fits\"\n",
    "filepath = \"./GammaCatalogV2.0/run0016_ID000340.fits\""
   ]
  },
  {
   "cell_type": "code",
   "execution_count": 247,
   "id": "complex-rehabilitation",
   "metadata": {
    "vscode": {
     "languageId": "python"
    }
   },
   "outputs": [
    {
     "name": "stderr",
     "output_type": "stream",
     "text": [
      "INFO:root:Got GRB run0016_ID000340, north, z40, 2.56º\n"
     ]
    }
   ],
   "source": [
    "grb = gwt.GRB(filepath)"
   ]
  },
  {
   "cell_type": "code",
   "execution_count": 248,
   "id": "cutting-tyler",
   "metadata": {
    "vscode": {
     "languageId": "python"
    }
   },
   "outputs": [
    {
     "name": "stdout",
     "output_type": "stream",
     "text": [
      "Settings file found!\n"
     ]
    }
   ],
   "source": [
    "with open(\"./gw_settings.yaml\") as file:\n",
    "    print(\"Settings file found!\")\n",
    "    parsed_yaml_file = yaml.load(file, Loader=yaml.FullLoader)\n",
    "    \n",
    "sensitivity = gwt.Sensitivities(parsed_yaml_file[\"grbsens_files\"], parsed_yaml_file[\"energy_limits\"])"
   ]
  },
  {
   "cell_type": "markdown",
   "id": "faced-graphics",
   "metadata": {},
   "source": [
    "## Test the extrapolations"
   ]
  },
  {
   "cell_type": "code",
   "execution_count": 249,
   "id": "czech-uzbekistan",
   "metadata": {
    "vscode": {
     "languageId": "python"
    }
   },
   "outputs": [
    {
     "name": "stdout",
     "output_type": "stream",
     "text": [
      "Spectrum at t=10000.0s:\n",
      "[1.04168603e-06 6.29124848e-07 3.79959090e-07 2.29475771e-07\n",
      " 1.38591578e-07 8.37021934e-08 5.05518250e-08 3.05307054e-08\n",
      " 1.84389777e-08 1.11361953e-08 6.72568989e-09 4.06197119e-09\n",
      " 2.45322193e-09 1.48162002e-09 8.94822382e-10 5.40426751e-10\n",
      " 3.26389996e-10 1.97122791e-10 1.19052039e-10 7.19013071e-11\n",
      " 4.34246624e-11 2.62261439e-11 1.58389466e-11 9.56505583e-12\n",
      " 5.77498711e-12 3.48554021e-12 2.10269992e-12 1.26792985e-12\n",
      " 7.64511320e-13 4.59613128e-13 2.74850017e-13 1.63707380e-13\n",
      " 9.55582055e-14 5.63948409e-14 3.13733175e-14 1.75472036e-14\n",
      " 8.79377525e-15 4.10965819e-15 1.70569349e-15 4.61341528e-16\n",
      " 0.00000000e+00]\n",
      "\n",
      "Value at 10.0 GeV:\n",
      "6.725689885086982e-09\n",
      "\n",
      "Lightcurve at energy 10.0 GeV:\n",
      "[1.08445940e-13 1.70921199e-13 2.79319407e-13 4.33693028e-13\n",
      " 6.82427056e-13 1.09708082e-12 1.72903451e-12 2.82555370e-12\n",
      " 4.38715674e-12 6.90329556e-12 1.10978457e-11 1.74905587e-11\n",
      " 2.85827211e-11 4.43795764e-11 6.98323196e-11 1.12263527e-10\n",
      " 1.76930898e-10 2.89136934e-10 4.48934677e-10 7.06409398e-10\n",
      " 1.13563478e-09 1.78979661e-09 2.92484982e-09 4.54133095e-09\n",
      " 7.14589233e-09 1.14878480e-08 1.81052142e-08 2.95871715e-08\n",
      " 4.59391169e-08 7.22857105e-08 1.16202895e-07 1.83088607e-07\n",
      " 2.98447437e-07 4.59325560e-07 6.78836423e-07 8.44071918e-07\n",
      " 7.65275302e-07 5.92348363e-07 4.37484010e-07 3.17005432e-07\n",
      " 2.37204919e-07 1.74175695e-07 1.24076763e-07 8.81175895e-08\n",
      " 6.23695622e-08 4.47376526e-08 3.14531814e-08 2.17021139e-08\n",
      " 1.46783133e-08 9.86055241e-09 6.72568989e-09 4.50088633e-09\n",
      " 2.96366649e-09 1.94293129e-09 1.26820102e-09 8.15000739e-10\n",
      " 5.16664812e-10 3.24024337e-10 2.03420792e-10 1.26720171e-10\n",
      " 7.74389601e-11 4.68020879e-11 2.81113344e-11 1.65985885e-11\n",
      " 9.54934835e-12 5.40749521e-12 2.98723884e-12 1.62150168e-12\n",
      " 9.14843677e-13 5.66570320e-13]\n",
      "\n",
      "LC value at t=10000.0s:\n",
      "6.725689885086982e-09\n",
      "\n",
      "Spectral indices\n",
      "[-2.19063007 -2.1906425  -2.19062333 -2.1906426  -2.19064684 -2.19063547\n",
      " -2.19064436 -2.19062397 -2.19064281 -2.19064691 -2.19063549 -2.19064437\n",
      " -2.19062398 -2.19064281 -2.19064691 -2.19063549 -2.19064437 -2.19062398\n",
      " -2.19064281 -2.19064691 -2.19063549 -2.19064437 -2.19062398 -2.19064281\n",
      " -2.19064691 -2.19063549 -2.19064437 -2.19062398 -2.19064281 -2.19064692\n",
      " -2.19063552 -2.19064458 -2.19062574 -2.19065055 -2.19069704 -2.1909002\n",
      " -2.19163736 -2.19329368 -2.1951531  -2.19704057 -2.19829661 -2.19965767\n",
      " -2.20165171 -2.2031985  -2.20411329 -2.20601913 -2.20886893 -2.21155636\n",
      " -2.2147096  -2.21688438 -2.21885923 -2.22048155 -2.22293916 -2.22586276\n",
      " -2.22783975 -2.22940014 -2.23044352 -2.2314582  -2.23163419 -2.23147958\n",
      " -2.23178389 -2.23105674 -2.22801283 -2.22532543 -2.22349103 -2.21958874\n",
      " -2.21411331 -2.20830652 -2.20144031 -2.19522389]\n"
     ]
    }
   ],
   "source": [
    "time_index = 50\n",
    "energy_index = 10\n",
    "\n",
    "time = grb.time[time_index]\n",
    "energy = grb.energy[energy_index]\n",
    "print(f\"Spectrum at t={time}s:\")\n",
    "print(grb.get_spectrum(time))\n",
    "print()\n",
    "print(f\"Value at {energy} GeV:\")\n",
    "print(grb.get_spectrum(time, energy))\n",
    "print()\n",
    "print(f\"Lightcurve at energy {energy} GeV:\")\n",
    "print(grb.get_flux(energy))\n",
    "print()\n",
    "print(f\"LC value at t={time}s:\")\n",
    "print(grb.get_flux(energy, time))\n",
    "print()\n",
    "print(\"Spectral indices\")\n",
    "print(grb.power_law_slopes)"
   ]
  },
  {
   "cell_type": "code",
   "execution_count": 7,
   "id": "broke-looking",
   "metadata": {
    "vscode": {
     "languageId": "python"
    }
   },
   "outputs": [
    {
     "data": {
      "text/plain": [
       "array([1.75889001e-07, 1.06227921e-07, 6.41562075e-08, 3.87470536e-08,\n",
       "       2.34012299e-08, 1.41331407e-08, 8.53569096e-09, 5.15511886e-09,\n",
       "       3.11342697e-09, 1.88034995e-09, 1.13563478e-09, 6.85865066e-10,\n",
       "       4.14227267e-10, 2.50171990e-10, 1.51091030e-10, 9.12512207e-11,\n",
       "       5.51110497e-11, 3.32842429e-11, 2.01019729e-11, 1.21405590e-11,\n",
       "       7.33227395e-12, 4.42831680e-12, 2.67447586e-12, 1.61524603e-12,\n",
       "       9.75525625e-13, 5.89167361e-13, 3.55826811e-13, 2.14901096e-13,\n",
       "       1.29789176e-13, 7.83858963e-14, 4.73409029e-14, 2.85910632e-14,\n",
       "       1.72668550e-14, 1.04267195e-14, 6.29426524e-15, 3.79546153e-15,\n",
       "       2.27942414e-15, 1.35202096e-15, 7.72566494e-16, 3.73229175e-16,\n",
       "       0.00000000e+00])"
      ]
     },
     "execution_count": 7,
     "metadata": {},
     "output_type": "execute_result"
    }
   ],
   "source": [
    "grb.get_spectrum(time=10)"
   ]
  },
  {
   "cell_type": "code",
   "execution_count": 8,
   "id": "herbal-corpus",
   "metadata": {
    "vscode": {
     "languageId": "python"
    }
   },
   "outputs": [
    {
     "data": {
      "text/plain": [
       "array([1.08445940e-13, 1.70921199e-13, 2.79319407e-13, 4.33693028e-13,\n",
       "       6.82427056e-13, 1.09708082e-12, 1.72903451e-12, 2.82555370e-12,\n",
       "       4.38715674e-12, 6.90329556e-12, 1.10978457e-11, 1.74905587e-11,\n",
       "       2.85827211e-11, 4.43795764e-11, 6.98323196e-11, 1.12263527e-10,\n",
       "       1.76930898e-10, 2.89136934e-10, 4.48934677e-10, 7.06409398e-10,\n",
       "       1.13563478e-09, 1.78979661e-09, 2.92484982e-09, 4.54133095e-09,\n",
       "       7.14589233e-09, 1.14878480e-08, 1.81052142e-08, 2.95871715e-08,\n",
       "       4.59391169e-08, 7.22857105e-08, 1.16202895e-07, 1.83088607e-07,\n",
       "       2.98447437e-07, 4.59325560e-07, 6.78836423e-07, 8.44071918e-07,\n",
       "       7.65275302e-07, 5.92348363e-07, 4.37484010e-07, 3.17005432e-07,\n",
       "       2.37204919e-07, 1.74175695e-07, 1.24076763e-07, 8.81175895e-08,\n",
       "       6.23695622e-08, 4.47376526e-08, 3.14531814e-08, 2.17021139e-08,\n",
       "       1.46783133e-08, 9.86055241e-09, 6.72568989e-09, 4.50088633e-09,\n",
       "       2.96366649e-09, 1.94293129e-09, 1.26820102e-09, 8.15000739e-10,\n",
       "       5.16664812e-10, 3.24024337e-10, 2.03420792e-10, 1.26720171e-10,\n",
       "       7.74389601e-11, 4.68020879e-11, 2.81113344e-11, 1.65985885e-11,\n",
       "       9.54934835e-12, 5.40749521e-12, 2.98723884e-12, 1.62150168e-12,\n",
       "       9.14843677e-13, 5.66570320e-13])"
      ]
     },
     "execution_count": 8,
     "metadata": {},
     "output_type": "execute_result"
    }
   ],
   "source": [
    "grb.get_flux(energy=10)"
   ]
  },
  {
   "cell_type": "markdown",
   "id": "delayed-cologne",
   "metadata": {},
   "source": [
    "## Test an integration"
   ]
  },
  {
   "cell_type": "code",
   "execution_count": 12,
   "id": "acoustic-appraisal",
   "metadata": {
    "vscode": {
     "languageId": "python"
    }
   },
   "outputs": [
    {
     "ename": "TypeError",
     "evalue": "get_integral_spectrum() missing 2 required positional arguments: 'min_energy' and 'max_energy'",
     "output_type": "error",
     "traceback": [
      "\u001b[0;31m---------------------------------------------------------------------------\u001b[0m",
      "\u001b[0;31mTypeError\u001b[0m                                 Traceback (most recent call last)",
      "\u001b[0;32m<ipython-input-12-c3fa4d70f567>\u001b[0m in \u001b[0;36m<module>\u001b[0;34m\u001b[0m\n\u001b[0;32m----> 1\u001b[0;31m \u001b[0mgrb\u001b[0m\u001b[0;34m.\u001b[0m\u001b[0mget_integral_spectrum\u001b[0m\u001b[0;34m(\u001b[0m\u001b[0;36m10\u001b[0m\u001b[0;34m)\u001b[0m\u001b[0;34m\u001b[0m\u001b[0;34m\u001b[0m\u001b[0m\n\u001b[0m",
      "\u001b[0;31mTypeError\u001b[0m: get_integral_spectrum() missing 2 required positional arguments: 'min_energy' and 'max_energy'"
     ]
    }
   ],
   "source": [
    "grb.get_integral_spectrum(10)"
   ]
  },
  {
   "cell_type": "code",
   "execution_count": 155,
   "id": "advised-rubber",
   "metadata": {
    "vscode": {
     "languageId": "python"
    }
   },
   "outputs": [
    {
     "ename": "TypeError",
     "evalue": "get_fluence() missing 2 required positional arguments: 'min_energy' and 'max_energy'",
     "output_type": "error",
     "traceback": [
      "\u001b[0;31m---------------------------------------------------------------------------\u001b[0m",
      "\u001b[0;31mTypeError\u001b[0m                                 Traceback (most recent call last)",
      "\u001b[0;32m<ipython-input-155-daad4f0c506a>\u001b[0m in \u001b[0;36m<module>\u001b[0;34m\u001b[0m\n\u001b[0;32m----> 1\u001b[0;31m \u001b[0mgrb\u001b[0m\u001b[0;34m.\u001b[0m\u001b[0mget_fluence\u001b[0m\u001b[0;34m(\u001b[0m\u001b[0;36m0\u001b[0m\u001b[0;34m,\u001b[0m \u001b[0;36m3600\u001b[0m\u001b[0;34m*\u001b[0m\u001b[0;36m2\u001b[0m\u001b[0;34m)\u001b[0m\u001b[0;34m\u001b[0m\u001b[0;34m\u001b[0m\u001b[0m\n\u001b[0m",
      "\u001b[0;31mTypeError\u001b[0m: get_fluence() missing 2 required positional arguments: 'min_energy' and 'max_energy'"
     ]
    }
   ],
   "source": [
    "grb.get_fluence(0, 3600*2)"
   ]
  },
  {
   "cell_type": "markdown",
   "id": "bibliographic-crossing",
   "metadata": {},
   "source": [
    "## Comparing numbers\n",
    "for run0016_ID000340"
   ]
  },
  {
   "cell_type": "code",
   "execution_count": 15,
   "id": "divine-spending",
   "metadata": {
    "vscode": {
     "languageId": "python"
    }
   },
   "outputs": [
    {
     "data": {
      "text/plain": [
       "2.1556069489602007e-08"
      ]
     },
     "execution_count": 15,
     "metadata": {},
     "output_type": "execute_result"
    }
   ],
   "source": [
    "t = grb.time[1]\n",
    "grb.get_flux(t, grb.energy[0]) * (grb.energy[5]**(-grb.get_spectral_index(t)))"
   ]
  },
  {
   "cell_type": "code",
   "execution_count": 16,
   "id": "false-plenty",
   "metadata": {
    "vscode": {
     "languageId": "python"
    }
   },
   "outputs": [
    {
     "data": {
      "text/plain": [
       "1.7387561657620888e-08"
      ]
     },
     "execution_count": 16,
     "metadata": {},
     "output_type": "execute_result"
    }
   ],
   "source": [
    "grb.get_flux(t, grb.energy[5])"
   ]
  },
  {
   "cell_type": "code",
   "execution_count": 543,
   "id": "automated-midwest",
   "metadata": {
    "vscode": {
     "languageId": "python"
    }
   },
   "outputs": [
    {
     "data": {
      "image/png": "[encoded data removed]",
      "text/plain": [
       "<Figure size 432x288 with 1 Axes>"
      ]
     },
     "metadata": {
      "needs_background": "light"
     },
     "output_type": "display_data"
    }
   ],
   "source": [
    "plt.loglog(grb.energy, [grb.get_flux(energy, t) for energy in grb.energy])\n",
    "plt.loglog(grb.energy, [grb.power_law(energy, spectral_index=grb.get_spectral_index(t)) * grb.get_flux(grb.energy[0], t) for energy in grb.energy])\n",
    "plt.show()"
   ]
  },
  {
   "cell_type": "code",
   "execution_count": 1067,
   "id": "functioning-master",
   "metadata": {
    "vscode": {
     "languageId": "python"
    }
   },
   "outputs": [
    {
     "ename": "ValueError",
     "evalue": "The truth value of an array with more than one element is ambiguous. Use a.any() or a.all()",
     "output_type": "error",
     "traceback": [
      "\u001b[0;31m---------------------------------------------------------------------------\u001b[0m",
      "\u001b[0;31mValueError\u001b[0m                                Traceback (most recent call last)",
      "\u001b[0;32m<ipython-input-1067-340de8d7c65b>\u001b[0m in \u001b[0;36m<module>\u001b[0;34m\u001b[0m\n\u001b[0;32m----> 1\u001b[0;31m \u001b[0mplt\u001b[0m\u001b[0;34m.\u001b[0m\u001b[0mplot\u001b[0m\u001b[0;34m(\u001b[0m\u001b[0mgrb\u001b[0m\u001b[0;34m.\u001b[0m\u001b[0menergy\u001b[0m\u001b[0;34m,\u001b[0m \u001b[0mnp\u001b[0m\u001b[0;34m.\u001b[0m\u001b[0marray\u001b[0m\u001b[0;34m(\u001b[0m\u001b[0;34m[\u001b[0m\u001b[0mgrb\u001b[0m\u001b[0;34m.\u001b[0m\u001b[0mget_flux\u001b[0m\u001b[0;34m(\u001b[0m\u001b[0menergy\u001b[0m\u001b[0;34m,\u001b[0m \u001b[0mt\u001b[0m\u001b[0;34m)\u001b[0m \u001b[0;32mfor\u001b[0m \u001b[0menergy\u001b[0m \u001b[0;32min\u001b[0m \u001b[0mgrb\u001b[0m\u001b[0;34m.\u001b[0m\u001b[0menergy\u001b[0m\u001b[0;34m]\u001b[0m\u001b[0;34m)\u001b[0m\u001b[0;34m/\u001b[0m\u001b[0mnp\u001b[0m\u001b[0;34m.\u001b[0m\u001b[0marray\u001b[0m\u001b[0;34m(\u001b[0m\u001b[0;34m[\u001b[0m\u001b[0mgrb\u001b[0m\u001b[0;34m.\u001b[0m\u001b[0mpower_law\u001b[0m\u001b[0;34m(\u001b[0m\u001b[0menergy\u001b[0m\u001b[0;34m,\u001b[0m \u001b[0mspectral_index\u001b[0m\u001b[0;34m=\u001b[0m\u001b[0mgrb\u001b[0m\u001b[0;34m.\u001b[0m\u001b[0mget_spectral_index\u001b[0m\u001b[0;34m(\u001b[0m\u001b[0mt\u001b[0m\u001b[0;34m)\u001b[0m\u001b[0;34m)\u001b[0m \u001b[0;34m*\u001b[0m \u001b[0mgrb\u001b[0m\u001b[0;34m.\u001b[0m\u001b[0mget_flux\u001b[0m\u001b[0;34m(\u001b[0m\u001b[0mgrb\u001b[0m\u001b[0;34m.\u001b[0m\u001b[0menergy\u001b[0m\u001b[0;34m[\u001b[0m\u001b[0;36m0\u001b[0m\u001b[0;34m]\u001b[0m\u001b[0;34m,\u001b[0m \u001b[0mt\u001b[0m\u001b[0;34m)\u001b[0m \u001b[0;32mfor\u001b[0m \u001b[0menergy\u001b[0m \u001b[0;32min\u001b[0m \u001b[0mgrb\u001b[0m\u001b[0;34m.\u001b[0m\u001b[0menergy\u001b[0m\u001b[0;34m]\u001b[0m\u001b[0;34m)\u001b[0m\u001b[0;34m)\u001b[0m\u001b[0;34m\u001b[0m\u001b[0;34m\u001b[0m\u001b[0m\n\u001b[0m\u001b[1;32m      2\u001b[0m \u001b[0mplt\u001b[0m\u001b[0;34m.\u001b[0m\u001b[0mxlim\u001b[0m\u001b[0;34m(\u001b[0m\u001b[0;36m0\u001b[0m\u001b[0;34m,\u001b[0m \u001b[0;36m6000\u001b[0m\u001b[0;34m)\u001b[0m\u001b[0;34m\u001b[0m\u001b[0;34m\u001b[0m\u001b[0m\n\u001b[1;32m      3\u001b[0m \u001b[0mplt\u001b[0m\u001b[0;34m.\u001b[0m\u001b[0mylim\u001b[0m\u001b[0;34m(\u001b[0m\u001b[0;36m0.9\u001b[0m\u001b[0;34m,\u001b[0m \u001b[0;36m1.1\u001b[0m\u001b[0;34m)\u001b[0m\u001b[0;34m\u001b[0m\u001b[0;34m\u001b[0m\u001b[0m\n\u001b[1;32m      4\u001b[0m \u001b[0mplt\u001b[0m\u001b[0;34m.\u001b[0m\u001b[0mshow\u001b[0m\u001b[0;34m(\u001b[0m\u001b[0;34m)\u001b[0m\u001b[0;34m\u001b[0m\u001b[0;34m\u001b[0m\u001b[0m\n",
      "\u001b[0;32m<ipython-input-1067-340de8d7c65b>\u001b[0m in \u001b[0;36m<listcomp>\u001b[0;34m(.0)\u001b[0m\n\u001b[0;32m----> 1\u001b[0;31m \u001b[0mplt\u001b[0m\u001b[0;34m.\u001b[0m\u001b[0mplot\u001b[0m\u001b[0;34m(\u001b[0m\u001b[0mgrb\u001b[0m\u001b[0;34m.\u001b[0m\u001b[0menergy\u001b[0m\u001b[0;34m,\u001b[0m \u001b[0mnp\u001b[0m\u001b[0;34m.\u001b[0m\u001b[0marray\u001b[0m\u001b[0;34m(\u001b[0m\u001b[0;34m[\u001b[0m\u001b[0mgrb\u001b[0m\u001b[0;34m.\u001b[0m\u001b[0mget_flux\u001b[0m\u001b[0;34m(\u001b[0m\u001b[0menergy\u001b[0m\u001b[0;34m,\u001b[0m \u001b[0mt\u001b[0m\u001b[0;34m)\u001b[0m \u001b[0;32mfor\u001b[0m \u001b[0menergy\u001b[0m \u001b[0;32min\u001b[0m \u001b[0mgrb\u001b[0m\u001b[0;34m.\u001b[0m\u001b[0menergy\u001b[0m\u001b[0;34m]\u001b[0m\u001b[0;34m)\u001b[0m\u001b[0;34m/\u001b[0m\u001b[0mnp\u001b[0m\u001b[0;34m.\u001b[0m\u001b[0marray\u001b[0m\u001b[0;34m(\u001b[0m\u001b[0;34m[\u001b[0m\u001b[0mgrb\u001b[0m\u001b[0;34m.\u001b[0m\u001b[0mpower_law\u001b[0m\u001b[0;34m(\u001b[0m\u001b[0menergy\u001b[0m\u001b[0;34m,\u001b[0m \u001b[0mspectral_index\u001b[0m\u001b[0;34m=\u001b[0m\u001b[0mgrb\u001b[0m\u001b[0;34m.\u001b[0m\u001b[0mget_spectral_index\u001b[0m\u001b[0;34m(\u001b[0m\u001b[0mt\u001b[0m\u001b[0;34m)\u001b[0m\u001b[0;34m)\u001b[0m \u001b[0;34m*\u001b[0m \u001b[0mgrb\u001b[0m\u001b[0;34m.\u001b[0m\u001b[0mget_flux\u001b[0m\u001b[0;34m(\u001b[0m\u001b[0mgrb\u001b[0m\u001b[0;34m.\u001b[0m\u001b[0menergy\u001b[0m\u001b[0;34m[\u001b[0m\u001b[0;36m0\u001b[0m\u001b[0;34m]\u001b[0m\u001b[0;34m,\u001b[0m \u001b[0mt\u001b[0m\u001b[0;34m)\u001b[0m \u001b[0;32mfor\u001b[0m \u001b[0menergy\u001b[0m \u001b[0;32min\u001b[0m \u001b[0mgrb\u001b[0m\u001b[0;34m.\u001b[0m\u001b[0menergy\u001b[0m\u001b[0;34m]\u001b[0m\u001b[0;34m)\u001b[0m\u001b[0;34m)\u001b[0m\u001b[0;34m\u001b[0m\u001b[0;34m\u001b[0m\u001b[0m\n\u001b[0m\u001b[1;32m      2\u001b[0m \u001b[0mplt\u001b[0m\u001b[0;34m.\u001b[0m\u001b[0mxlim\u001b[0m\u001b[0;34m(\u001b[0m\u001b[0;36m0\u001b[0m\u001b[0;34m,\u001b[0m \u001b[0;36m6000\u001b[0m\u001b[0;34m)\u001b[0m\u001b[0;34m\u001b[0m\u001b[0;34m\u001b[0m\u001b[0m\n\u001b[1;32m      3\u001b[0m \u001b[0mplt\u001b[0m\u001b[0;34m.\u001b[0m\u001b[0mylim\u001b[0m\u001b[0;34m(\u001b[0m\u001b[0;36m0.9\u001b[0m\u001b[0;34m,\u001b[0m \u001b[0;36m1.1\u001b[0m\u001b[0;34m)\u001b[0m\u001b[0;34m\u001b[0m\u001b[0;34m\u001b[0m\u001b[0m\n\u001b[1;32m      4\u001b[0m \u001b[0mplt\u001b[0m\u001b[0;34m.\u001b[0m\u001b[0mshow\u001b[0m\u001b[0;34m(\u001b[0m\u001b[0;34m)\u001b[0m\u001b[0;34m\u001b[0m\u001b[0;34m\u001b[0m\u001b[0m\n",
      "\u001b[0;32m~/Documents/Projects/gravitational_wave_toy/gravitational_wave_toy/GWToyV2.py\u001b[0m in \u001b[0;36mget_flux\u001b[0;34m(self, energy, time)\u001b[0m\n\u001b[1;32m    165\u001b[0m     \u001b[0;32mdef\u001b[0m \u001b[0mget_flux\u001b[0m\u001b[0;34m(\u001b[0m\u001b[0mself\u001b[0m\u001b[0;34m,\u001b[0m \u001b[0menergy\u001b[0m\u001b[0;34m,\u001b[0m \u001b[0mtime\u001b[0m\u001b[0;34m=\u001b[0m\u001b[0;32mNone\u001b[0m\u001b[0;34m)\u001b[0m\u001b[0;34m:\u001b[0m\u001b[0;34m\u001b[0m\u001b[0;34m\u001b[0m\u001b[0m\n\u001b[1;32m    166\u001b[0m \u001b[0;34m\u001b[0m\u001b[0m\n\u001b[0;32m--> 167\u001b[0;31m         \u001b[0;32mif\u001b[0m \u001b[0;32mnot\u001b[0m \u001b[0mtime\u001b[0m\u001b[0;34m:\u001b[0m\u001b[0;34m\u001b[0m\u001b[0;34m\u001b[0m\u001b[0m\n\u001b[0m\u001b[1;32m    168\u001b[0m             \u001b[0mtime\u001b[0m \u001b[0;34m=\u001b[0m \u001b[0mself\u001b[0m\u001b[0;34m.\u001b[0m\u001b[0mtime\u001b[0m\u001b[0;34m\u001b[0m\u001b[0;34m\u001b[0m\u001b[0m\n\u001b[1;32m    169\u001b[0m \u001b[0;34m\u001b[0m\u001b[0m\n",
      "\u001b[0;31mValueError\u001b[0m: The truth value of an array with more than one element is ambiguous. Use a.any() or a.all()"
     ]
    }
   ],
   "source": [
    "plt.plot(grb.energy, np.array([grb.get_flux(energy, t) for energy in grb.energy])/np.array([grb.power_law(energy, spectral_index=grb.get_spectral_index(t)) * grb.get_flux(grb.energy[0], t) for energy in grb.energy]))\n",
    "plt.xlim(0, 6000)\n",
    "plt.ylim(0.9, 1.1)\n",
    "plt.show()"
   ]
  },
  {
   "cell_type": "code",
   "execution_count": 98,
   "id": "specified-committee",
   "metadata": {
    "vscode": {
     "languageId": "python"
    }
   },
   "outputs": [],
   "source": [
    "res = gwt.observe_grb(filepath, sensitivity, log_directory=parsed_yaml_file[\"log_directory\"], start_time=49602, zeniths=[20], sites=[\"north\"], precision=2)"
   ]
  },
  {
   "cell_type": "markdown",
   "id": "female-packaging",
   "metadata": {},
   "source": [
    "### Testing v2 stuff with v1 code"
   ]
  },
  {
   "cell_type": "code",
   "execution_count": 396,
   "id": "victorian-jacksonville",
   "metadata": {
    "vscode": {
     "languageId": "python"
    }
   },
   "outputs": [],
   "source": [
    "v2n = gwp.open_gw_file(\"gw_toy_results_log_v2.pkl\")\n",
    "v1n = gwp.open_gw_file(\"gw_toy_results_log.pkl\")"
   ]
  },
  {
   "cell_type": "code",
   "execution_count": 66,
   "id": "southeast-cache",
   "metadata": {
    "vscode": {
     "languageId": "python"
    }
   },
   "outputs": [
    {
     "name": "stdout",
     "output_type": "stream",
     "text": [
      "NEW LOOP; t=49603.00, dt=1.00, previous_t=49603.00, previous_dt=-1.00 n=1.00\n",
      "    AUTOSTEP; t=49603.00 dt=10000.00\n",
      "    AUTOSTEP; resetting n\n",
      "    Updating t: 59602.00, obs_t: 10000.00 start_time: 49602.00, n: 1.00, dt: 10000.00\n",
      "    Normalization_flux: 0.0004375156402580362 Integral_spectrum: 0.002933908000045386\n",
      "    t=59602.00, dt=10000.00, avgflux=1.2836306370980314e-10, photon_flux=6.408230545297048e-12\n",
      "\n",
      "Close solution, t=59602, avgflux=1.2836306370980314e-10, photon_flux=6.408230545297048e-12\n",
      "NEW LOOP; t=59602.00, dt=1000.00, previous_t=49603.00, previous_dt=-1.00 n=0.00\n",
      "    Updating t: 49603.00, obs_t: 1.00 start_time: 49603.00, n: 0.00, dt: 1000.00\n",
      "    Normalization_flux: 5.167963219339084e-08 Integral_spectrum: 0.002933908000045386\n",
      "    t=49603.00, dt=1000.00, avgflux=1.5162328633159247e-10, photon_flux=2.793960733894476e-09\n",
      "    Updating n: 0.10\n",
      "NEW LOOP; t=49603.00, dt=1000.00, previous_t=49603.00, previous_dt=1000.00 n=0.10\n",
      "    Updating t: 49703.00, obs_t: 101.00 start_time: 49603.00, n: 0.10, dt: 1000.00\n",
      "    Normalization_flux: 5.205025646296667e-06 Integral_spectrum: 0.002933908000045386\n",
      "    t=49703.00, dt=1000.00, avgflux=1.511986770704079e-10, photon_flux=1.3293142665530156e-10\n",
      "\n",
      "Close solution, t=49703.0, avgflux=1.511986770704079e-10, photon_flux=1.3293142665530156e-10\n",
      "NEW LOOP; t=49703.00, dt=100.00, previous_t=49603.00, previous_dt=1000.00 n=0.00\n",
      "    Updating t: 49603.00, obs_t: 1.00 start_time: 49603.00, n: 0.00, dt: 100.00\n",
      "    Normalization_flux: 5.167963219339084e-08 Integral_spectrum: 0.002933908000045386\n",
      "    t=49603.00, dt=100.00, avgflux=1.5162328633159247e-10, photon_flux=2.793960733894476e-09\n",
      "    Updating n: 0.10\n",
      "NEW LOOP; t=49603.00, dt=100.00, previous_t=49603.00, previous_dt=100.00 n=0.10\n",
      "    Updating t: 49613.00, obs_t: 11.00 start_time: 49603.00, n: 0.10, dt: 100.00\n",
      "    Normalization_flux: 5.683167568425529e-07 Integral_spectrum: 0.002933908000045386\n",
      "    t=49613.00, dt=100.00, avgflux=1.5158082540547402e-10, photon_flux=5.741639778054398e-10\n",
      "    Updating n: 0.20\n",
      "NEW LOOP; t=49613.00, dt=100.00, previous_t=49613.00, previous_dt=100.00 n=0.20\n",
      "    Updating t: 49623.00, obs_t: 21.00 start_time: 49603.00, n: 0.20, dt: 100.00\n",
      "    Normalization_flux: 1.084664431883085e-06 Integral_spectrum: 0.002933908000045386\n",
      "    t=49623.00, dt=100.00, avgflux=1.5153836447935555e-10, photon_flux=3.74737137284686e-10\n",
      "    Updating n: 0.30\n",
      "NEW LOOP; t=49623.00, dt=100.00, previous_t=49623.00, previous_dt=100.00 n=0.30\n",
      "    Updating t: 49633.00, obs_t: 31.00 start_time: 49603.00, n: 0.30, dt: 100.00\n",
      "    Normalization_flux: 1.600722657314987e-06 Integral_spectrum: 0.002933908000045386\n",
      "    t=49633.00, dt=100.00, avgflux=1.5149590355323707e-10, photon_flux=2.8981085497203265e-10\n",
      "    Updating n: 0.40\n",
      "NEW LOOP; t=49633.00, dt=100.00, previous_t=49633.00, previous_dt=100.00 n=0.40\n",
      "    Updating t: 49643.00, obs_t: 41.00 start_time: 49603.00, n: 0.40, dt: 100.00\n",
      "    Normalization_flux: 2.116491433138259e-06 Integral_spectrum: 0.002933908000045386\n",
      "    t=49643.00, dt=100.00, avgflux=1.514534426271186e-10, photon_flux=2.409859591992032e-10\n",
      "    Updating n: 0.50\n",
      "NEW LOOP; t=49643.00, dt=100.00, previous_t=49643.00, previous_dt=100.00 n=0.50\n",
      "    Updating t: 49653.00, obs_t: 51.00 start_time: 49603.00, n: 0.50, dt: 100.00\n",
      "    Normalization_flux: 2.6319707593529017e-06 Integral_spectrum: 0.002933908000045386\n",
      "    t=49653.00, dt=100.00, avgflux=1.5141098170100014e-10, photon_flux=2.0866280422706278e-10\n",
      "    Updating n: 0.60\n",
      "NEW LOOP; t=49653.00, dt=100.00, previous_t=49653.00, previous_dt=100.00 n=0.60\n",
      "    Updating t: 49663.00, obs_t: 61.00 start_time: 49603.00, n: 0.60, dt: 100.00\n",
      "    Normalization_flux: 3.1471606359589147e-06 Integral_spectrum: 0.002933908000045386\n",
      "    t=49663.00, dt=100.00, avgflux=1.5136852077488172e-10, photon_flux=1.8541024648647847e-10\n",
      "    Updating n: 0.70\n",
      "NEW LOOP; t=49663.00, dt=100.00, previous_t=49663.00, previous_dt=100.00 n=0.70\n",
      "    Updating t: 49673.00, obs_t: 71.00 start_time: 49603.00, n: 0.70, dt: 100.00\n",
      "    Normalization_flux: 3.6620610629562977e-06 Integral_spectrum: 0.002933908000045386\n",
      "    t=49673.00, dt=100.00, avgflux=1.5132605984876324e-10, photon_flux=1.6773722239597999e-10\n",
      "    Updating n: 0.80\n",
      "NEW LOOP; t=49673.00, dt=100.00, previous_t=49673.00, previous_dt=100.00 n=0.80\n",
      "    Updating t: 49683.00, obs_t: 81.00 start_time: 49603.00, n: 0.80, dt: 100.00\n",
      "    Normalization_flux: 4.17667204034505e-06 Integral_spectrum: 0.002933908000045386\n",
      "    t=49683.00, dt=100.00, avgflux=1.512835989226448e-10, photon_flux=1.5376845587612623e-10\n",
      "    Updating n: 0.90\n",
      "NEW LOOP; t=49683.00, dt=100.00, previous_t=49683.00, previous_dt=100.00 n=0.90\n",
      "    Updating t: 49693.00, obs_t: 91.00 start_time: 49603.00, n: 0.90, dt: 100.00\n",
      "    Normalization_flux: 4.690993568125174e-06 Integral_spectrum: 0.002933908000045386\n",
      "    t=49693.00, dt=100.00, avgflux=1.5124113799652634e-10, photon_flux=1.4239888596403035e-10\n",
      "\n",
      "Close solution, t=49693.0, avgflux=1.5124113799652634e-10, photon_flux=1.4239888596403035e-10\n",
      "NEW LOOP; t=49693.00, dt=10.00, previous_t=49683.00, previous_dt=100.00 n=0.00\n",
      "    Updating t: 49683.00, obs_t: 81.00 start_time: 49683.00, n: 0.00, dt: 10.00\n",
      "    Normalization_flux: 4.17667204034505e-06 Integral_spectrum: 0.002933908000045386\n",
      "    t=49683.00, dt=10.00, avgflux=1.512835989226448e-10, photon_flux=1.5376845587612623e-10\n",
      "    Updating n: 0.10\n",
      "NEW LOOP; t=49683.00, dt=10.00, previous_t=49683.00, previous_dt=10.00 n=0.10\n",
      "    Updating t: 49684.00, obs_t: 82.00 start_time: 49683.00, n: 0.10, dt: 10.00\n",
      "    Normalization_flux: 4.228117218355451e-06 Integral_spectrum: 0.002933908000045386\n",
      "    t=49684.00, dt=10.00, avgflux=1.5127935283003295e-10, photon_flux=1.525284696791735e-10\n",
      "    Updating n: 0.20\n",
      "NEW LOOP; t=49684.00, dt=10.00, previous_t=49684.00, previous_dt=10.00 n=0.20\n",
      "    Updating t: 49685.00, obs_t: 83.00 start_time: 49683.00, n: 0.20, dt: 10.00\n",
      "    Normalization_flux: 4.279559501869765e-06 Integral_spectrum: 0.002933908000045386\n",
      "    t=49685.00, dt=10.00, avgflux=1.5127510673742107e-10, photon_flux=1.513133324622711e-10\n",
      "    Updating n: 0.30\n",
      "NEW LOOP; t=49685.00, dt=10.00, previous_t=49685.00, previous_dt=10.00 n=0.30\n",
      "    Updating t: 49686.00, obs_t: 84.00 start_time: 49683.00, n: 0.30, dt: 10.00\n",
      "    Normalization_flux: 4.330998890887993e-06 Integral_spectrum: 0.002933908000045386\n",
      "    t=49686.00, dt=10.00, avgflux=1.5127086064480922e-10, photon_flux=1.5012225577125435e-10\n",
      "\n",
      "Close solution, t=49686.0, avgflux=1.5127086064480922e-10, photon_flux=1.5012225577125435e-10\n",
      "NEW LOOP; t=49686.00, dt=1.00, previous_t=49685.00, previous_dt=10.00 n=0.00\n",
      "    Updating t: 49685.00, obs_t: 83.00 start_time: 49685.00, n: 0.00, dt: 1.00\n",
      "    Normalization_flux: 4.279559501869765e-06 Integral_spectrum: 0.002933908000045386\n",
      "    t=49685.00, dt=1.00, avgflux=1.5127510673742107e-10, photon_flux=1.513133324622711e-10\n",
      "    Updating n: 0.10\n",
      "NEW LOOP; t=49685.00, dt=1.00, previous_t=49685.00, previous_dt=1.00 n=0.10\n",
      "    Updating t: 49685.10, obs_t: 83.10 start_time: 49685.00, n: 0.10, dt: 1.00\n",
      "    Normalization_flux: 4.284703571023836e-06 Integral_spectrum: 0.002933908000045386\n",
      "    t=49685.10, dt=1.00, avgflux=1.5127468212815986e-10, photon_flux=1.511931547780446e-10\n",
      "\n",
      "Close solution, t=49685.1, avgflux=1.5127468212815986e-10, photon_flux=1.511931547780446e-10\n",
      "NEW LOOP; t=49685.10, dt=0.10, previous_t=49685.00, previous_dt=1.00 n=0.00\n",
      "    Updating t: 49685.00, obs_t: 83.00 start_time: 49685.00, n: 0.00, dt: 0.10\n",
      "    Normalization_flux: 4.279559501869765e-06 Integral_spectrum: 0.002933908000045386\n",
      "    t=49685.00, dt=0.10, avgflux=1.5127510673742107e-10, photon_flux=1.513133324622711e-10\n",
      "    Updating n: 0.10\n",
      "NEW LOOP; t=49685.00, dt=0.10, previous_t=49685.00, previous_dt=0.10 n=0.10\n",
      "    Updating t: 49685.01, obs_t: 83.01 start_time: 49685.00, n: 0.10, dt: 0.10\n",
      "    Normalization_flux: 4.280073910087807e-06 Integral_spectrum: 0.002933908000045386\n",
      "    t=49685.01, dt=0.10, avgflux=1.5127506427649493e-10, photon_flux=1.513013038805911e-10\n",
      "    Updating n: 0.20\n",
      "NEW LOOP; t=49685.01, dt=0.10, previous_t=49685.01, previous_dt=0.10 n=0.20\n",
      "    Updating t: 49685.02, obs_t: 83.02 start_time: 49685.00, n: 0.20, dt: 0.10\n",
      "    Normalization_flux: 4.280588318016028e-06 Integral_spectrum: 0.002933908000045386\n",
      "    t=49685.02, dt=0.10, avgflux=1.5127502181556892e-10, photon_flux=1.5128927770391836e-10\n",
      "    Updating n: 0.30\n",
      "NEW LOOP; t=49685.02, dt=0.10, previous_t=49685.02, previous_dt=0.10 n=0.30\n",
      "    Updating t: 49685.03, obs_t: 83.03 start_time: 49685.00, n: 0.30, dt: 0.10\n",
      "    Normalization_flux: 4.281102725655171e-06 Integral_spectrum: 0.002933908000045386\n",
      "    t=49685.03, dt=0.10, avgflux=1.5127497935464275e-10, photon_flux=1.5127725393146452e-10\n",
      "    Updating n: 0.40\n",
      "NEW LOOP; t=49685.03, dt=0.10, previous_t=49685.03, previous_dt=0.10 n=0.40\n",
      "    Updating t: 49685.04, obs_t: 83.04 start_time: 49685.00, n: 0.40, dt: 0.10\n",
      "    Normalization_flux: 4.281617133004863e-06 Integral_spectrum: 0.002933908000045386\n",
      "    t=49685.04, dt=0.10, avgflux=1.5127493689371656e-10, photon_flux=1.512652325624692e-10\n",
      "\n",
      "Close solution, t=49685.04, avgflux=1.5127493689371656e-10, photon_flux=1.512652325624692e-10\n",
      "NEW LOOP; t=49685.04, dt=0.01, previous_t=49685.03, previous_dt=0.10 n=0.00\n",
      "    Updating t: 49685.03, obs_t: 83.03 start_time: 49685.03, n: 0.00, dt: 0.01\n",
      "    Normalization_flux: 4.281102725655171e-06 Integral_spectrum: 0.002933908000045386\n",
      "    t=49685.03, dt=0.01, avgflux=1.5127497935464275e-10, photon_flux=1.5127725393146452e-10\n",
      "    Updating n: 0.10\n",
      "NEW LOOP; t=49685.03, dt=0.01, previous_t=49685.03, previous_dt=0.01 n=0.10\n",
      "    Updating t: 49685.03, obs_t: 83.03 start_time: 49685.03, n: 0.10, dt: 0.01\n",
      "    Normalization_flux: 4.281154166402979e-06 Integral_spectrum: 0.002933908000045386\n",
      "    t=49685.03, dt=0.01, avgflux=1.512749751085502e-10, photon_flux=1.512760516864265e-10\n",
      "    Updating n: 0.20\n",
      "NEW LOOP; t=49685.03, dt=0.01, previous_t=49685.03, previous_dt=0.01 n=0.20\n",
      "    Updating t: 49685.03, obs_t: 83.03 start_time: 49685.03, n: 0.20, dt: 0.01\n",
      "    Normalization_flux: 4.281205607148264e-06 Integral_spectrum: 0.002933908000045386\n",
      "    t=49685.03, dt=0.01, avgflux=1.5127497086245749e-10, photon_flux=1.5127484946541367e-10\n",
      "\n",
      "Close solution, t=49685.03, avgflux=1.5127497086245749e-10, photon_flux=1.5127484946541367e-10\n"
     ]
    },
    {
     "data": {
      "text/html": [
       "<div>\n",
       "<style scoped>\n",
       "    .dataframe tbody tr th:only-of-type {\n",
       "        vertical-align: middle;\n",
       "    }\n",
       "\n",
       "    .dataframe tbody tr th {\n",
       "        vertical-align: top;\n",
       "    }\n",
       "\n",
       "    .dataframe thead th {\n",
       "        text-align: right;\n",
       "    }\n",
       "</style>\n",
       "<table border=\"1\" class=\"dataframe\">\n",
       "  <thead>\n",
       "    <tr style=\"text-align: right;\">\n",
       "      <th></th>\n",
       "      <th>run</th>\n",
       "      <th>id</th>\n",
       "      <th>ra</th>\n",
       "      <th>dec</th>\n",
       "      <th>eiso</th>\n",
       "      <th>z</th>\n",
       "      <th>angle</th>\n",
       "      <th>observatory</th>\n",
       "      <th>zenith</th>\n",
       "      <th>seen</th>\n",
       "      <th>tend</th>\n",
       "      <th>obstime</th>\n",
       "      <th>tstart</th>\n",
       "    </tr>\n",
       "  </thead>\n",
       "  <tbody>\n",
       "    <tr>\n",
       "      <th>413</th>\n",
       "      <td>0016</td>\n",
       "      <td>000340</td>\n",
       "      <td>-77.259</td>\n",
       "      <td>17.294</td>\n",
       "      <td>2.090000e+51</td>\n",
       "      <td>0.054</td>\n",
       "      <td>2.56</td>\n",
       "      <td>north</td>\n",
       "      <td>20</td>\n",
       "      <td>True</td>\n",
       "      <td>49685.03</td>\n",
       "      <td>83.03</td>\n",
       "      <td>49602</td>\n",
       "    </tr>\n",
       "  </tbody>\n",
       "</table>\n",
       "</div>"
      ],
      "text/plain": [
       "      run      id      ra     dec          eiso      z  angle observatory  \\\n",
       "413  0016  000340 -77.259  17.294  2.090000e+51  0.054   2.56       north   \n",
       "\n",
       "     zenith  seen      tend  obstime  tstart  \n",
       "413      20  True  49685.03    83.03   49602  "
      ]
     },
     "execution_count": 66,
     "metadata": {},
     "output_type": "execute_result"
    }
   ],
   "source": [
    "files = {\n",
    "    \"north\": {\n",
    "        20: \"grbsens_output_v1_July_2020/grbsens-5.0sigma_t1s-t16384s_irf-North_z20_0.5h.txt\",\n",
    "        40: \"grbsens_output_v1_July_2020/grbsens-5.0sigma_t1s-t16384s_irf-North_z40_0.5h.txt\",\n",
    "        60: \"grbsens_output_v1_July_2020/grbsens-5.0sigma_t1s-t16384s_irf-North_z60_0.5h.txt\",\n",
    "    },\n",
    "    \"south\": {\n",
    "        20: \"grbsens_output_v1_July_2020/grbsens-5.0sigma_t1s-t16384s_irf-South_z20_0.5h.txt\",\n",
    "        40: \"grbsens_output_v1_July_2020/grbsens-5.0sigma_t1s-t16384s_irf-South_z40_0.5h.txt\",\n",
    "        60: \"grbsens_output_v1_July_2020/grbsens-5.0sigma_t1s-t16384s_irf-South_z60_0.5h.txt\",\n",
    "    },\n",
    "}\n",
    "\n",
    "interpolations = gwto.get_fit_dict(files)\n",
    "spectral_dict = gwto.get_integral_spectra(zeniths=[20, 40, 60])\n",
    "\n",
    "bns = gwto.ParseBNS(\"BNS-GW.txt\", sep=\"\\t\")\n",
    "\n",
    "gwto.observe_grb(\n",
    "    413,\n",
    "    bns,\n",
    "    interpolations,\n",
    "    spectral_dict,\n",
    "    tstart=49602,\n",
    "    zenith=20,\n",
    "    observatory=\"north\",\n",
    "    precision=2\n",
    ")"
   ]
  },
  {
   "cell_type": "code",
   "execution_count": 400,
   "id": "comic-citizenship",
   "metadata": {
    "vscode": {
     "languageId": "python"
    }
   },
   "outputs": [
    {
     "data": {
      "text/html": [
       "<div>\n",
       "<style scoped>\n",
       "    .dataframe tbody tr th:only-of-type {\n",
       "        vertical-align: middle;\n",
       "    }\n",
       "\n",
       "    .dataframe tbody tr th {\n",
       "        vertical-align: top;\n",
       "    }\n",
       "\n",
       "    .dataframe thead th {\n",
       "        text-align: right;\n",
       "    }\n",
       "</style>\n",
       "<table border=\"1\" class=\"dataframe\">\n",
       "  <thead>\n",
       "    <tr style=\"text-align: right;\">\n",
       "      <th></th>\n",
       "      <th>run</th>\n",
       "      <th>id</th>\n",
       "      <th>ra</th>\n",
       "      <th>dec</th>\n",
       "      <th>eiso</th>\n",
       "      <th>z</th>\n",
       "      <th>angle</th>\n",
       "      <th>zenith</th>\n",
       "      <th>observatory</th>\n",
       "      <th>seen</th>\n",
       "      <th>tend</th>\n",
       "      <th>obstime</th>\n",
       "      <th>tstart</th>\n",
       "    </tr>\n",
       "  </thead>\n",
       "  <tbody>\n",
       "    <tr>\n",
       "      <th>0</th>\n",
       "      <td>0016</td>\n",
       "      <td>000340</td>\n",
       "      <td>-77.259</td>\n",
       "      <td>17.294</td>\n",
       "      <td>2.090000e+51</td>\n",
       "      <td>0.054</td>\n",
       "      <td>2.56</td>\n",
       "      <td>20</td>\n",
       "      <td>North</td>\n",
       "      <td>True</td>\n",
       "      <td>86421.69</td>\n",
       "      <td>21.69</td>\n",
       "      <td>86400</td>\n",
       "    </tr>\n",
       "    <tr>\n",
       "      <th>0</th>\n",
       "      <td>0016</td>\n",
       "      <td>000340</td>\n",
       "      <td>-77.259</td>\n",
       "      <td>17.294</td>\n",
       "      <td>2.090000e+51</td>\n",
       "      <td>0.054</td>\n",
       "      <td>2.56</td>\n",
       "      <td>20</td>\n",
       "      <td>North</td>\n",
       "      <td>True</td>\n",
       "      <td>71821.01</td>\n",
       "      <td>12.01</td>\n",
       "      <td>71809</td>\n",
       "    </tr>\n",
       "    <tr>\n",
       "      <th>0</th>\n",
       "      <td>0016</td>\n",
       "      <td>000340</td>\n",
       "      <td>-77.259</td>\n",
       "      <td>17.294</td>\n",
       "      <td>2.090000e+51</td>\n",
       "      <td>0.054</td>\n",
       "      <td>2.56</td>\n",
       "      <td>20</td>\n",
       "      <td>North</td>\n",
       "      <td>True</td>\n",
       "      <td>59687.86</td>\n",
       "      <td>6.86</td>\n",
       "      <td>59681</td>\n",
       "    </tr>\n",
       "    <tr>\n",
       "      <th>0</th>\n",
       "      <td>0016</td>\n",
       "      <td>000340</td>\n",
       "      <td>-77.259</td>\n",
       "      <td>17.294</td>\n",
       "      <td>2.090000e+51</td>\n",
       "      <td>0.054</td>\n",
       "      <td>2.56</td>\n",
       "      <td>20</td>\n",
       "      <td>North</td>\n",
       "      <td>True</td>\n",
       "      <td>49606.04</td>\n",
       "      <td>4.04</td>\n",
       "      <td>49602</td>\n",
       "    </tr>\n",
       "    <tr>\n",
       "      <th>0</th>\n",
       "      <td>0016</td>\n",
       "      <td>000340</td>\n",
       "      <td>-77.259</td>\n",
       "      <td>17.294</td>\n",
       "      <td>2.090000e+51</td>\n",
       "      <td>0.054</td>\n",
       "      <td>2.56</td>\n",
       "      <td>20</td>\n",
       "      <td>North</td>\n",
       "      <td>True</td>\n",
       "      <td>41227.25</td>\n",
       "      <td>2.25</td>\n",
       "      <td>41225</td>\n",
       "    </tr>\n",
       "    <tr>\n",
       "      <th>0</th>\n",
       "      <td>0016</td>\n",
       "      <td>000340</td>\n",
       "      <td>-77.259</td>\n",
       "      <td>17.294</td>\n",
       "      <td>2.090000e+51</td>\n",
       "      <td>0.054</td>\n",
       "      <td>2.56</td>\n",
       "      <td>20</td>\n",
       "      <td>North</td>\n",
       "      <td>True</td>\n",
       "      <td>34264.26</td>\n",
       "      <td>1.26</td>\n",
       "      <td>34263</td>\n",
       "    </tr>\n",
       "    <tr>\n",
       "      <th>0</th>\n",
       "      <td>0016</td>\n",
       "      <td>000340</td>\n",
       "      <td>-77.259</td>\n",
       "      <td>17.294</td>\n",
       "      <td>2.090000e+51</td>\n",
       "      <td>0.054</td>\n",
       "      <td>2.56</td>\n",
       "      <td>20</td>\n",
       "      <td>North</td>\n",
       "      <td>True</td>\n",
       "      <td>28478.00</td>\n",
       "      <td>1.00</td>\n",
       "      <td>28477</td>\n",
       "    </tr>\n",
       "    <tr>\n",
       "      <th>0</th>\n",
       "      <td>0016</td>\n",
       "      <td>000340</td>\n",
       "      <td>-77.259</td>\n",
       "      <td>17.294</td>\n",
       "      <td>2.090000e+51</td>\n",
       "      <td>0.054</td>\n",
       "      <td>2.56</td>\n",
       "      <td>20</td>\n",
       "      <td>North</td>\n",
       "      <td>True</td>\n",
       "      <td>23669.00</td>\n",
       "      <td>1.00</td>\n",
       "      <td>23668</td>\n",
       "    </tr>\n",
       "    <tr>\n",
       "      <th>0</th>\n",
       "      <td>0016</td>\n",
       "      <td>000340</td>\n",
       "      <td>-77.259</td>\n",
       "      <td>17.294</td>\n",
       "      <td>2.090000e+51</td>\n",
       "      <td>0.054</td>\n",
       "      <td>2.56</td>\n",
       "      <td>20</td>\n",
       "      <td>North</td>\n",
       "      <td>True</td>\n",
       "      <td>19672.00</td>\n",
       "      <td>1.00</td>\n",
       "      <td>19671</td>\n",
       "    </tr>\n",
       "    <tr>\n",
       "      <th>0</th>\n",
       "      <td>0016</td>\n",
       "      <td>000340</td>\n",
       "      <td>-77.259</td>\n",
       "      <td>17.294</td>\n",
       "      <td>2.090000e+51</td>\n",
       "      <td>0.054</td>\n",
       "      <td>2.56</td>\n",
       "      <td>20</td>\n",
       "      <td>North</td>\n",
       "      <td>True</td>\n",
       "      <td>16350.00</td>\n",
       "      <td>1.00</td>\n",
       "      <td>16349</td>\n",
       "    </tr>\n",
       "  </tbody>\n",
       "</table>\n",
       "</div>"
      ],
      "text/plain": [
       "    run      id      ra     dec          eiso      z  angle  zenith  \\\n",
       "0  0016  000340 -77.259  17.294  2.090000e+51  0.054   2.56      20   \n",
       "0  0016  000340 -77.259  17.294  2.090000e+51  0.054   2.56      20   \n",
       "0  0016  000340 -77.259  17.294  2.090000e+51  0.054   2.56      20   \n",
       "0  0016  000340 -77.259  17.294  2.090000e+51  0.054   2.56      20   \n",
       "0  0016  000340 -77.259  17.294  2.090000e+51  0.054   2.56      20   \n",
       "0  0016  000340 -77.259  17.294  2.090000e+51  0.054   2.56      20   \n",
       "0  0016  000340 -77.259  17.294  2.090000e+51  0.054   2.56      20   \n",
       "0  0016  000340 -77.259  17.294  2.090000e+51  0.054   2.56      20   \n",
       "0  0016  000340 -77.259  17.294  2.090000e+51  0.054   2.56      20   \n",
       "0  0016  000340 -77.259  17.294  2.090000e+51  0.054   2.56      20   \n",
       "\n",
       "  observatory  seen      tend  obstime  tstart  \n",
       "0       North  True  86421.69    21.69   86400  \n",
       "0       North  True  71821.01    12.01   71809  \n",
       "0       North  True  59687.86     6.86   59681  \n",
       "0       North  True  49606.04     4.04   49602  \n",
       "0       North  True  41227.25     2.25   41225  \n",
       "0       North  True  34264.26     1.26   34263  \n",
       "0       North  True  28478.00     1.00   28477  \n",
       "0       North  True  23669.00     1.00   23668  \n",
       "0       North  True  19672.00     1.00   19671  \n",
       "0       North  True  16350.00     1.00   16349  "
      ]
     },
     "execution_count": 400,
     "metadata": {},
     "output_type": "execute_result"
    }
   ],
   "source": [
    "v2n[v2n.run == \"0016\"][:10]"
   ]
  },
  {
   "cell_type": "markdown",
   "id": "statistical-sally",
   "metadata": {},
   "source": [
    "### Testing the v1 code.  [it works]"
   ]
  },
  {
   "cell_type": "code",
   "execution_count": 399,
   "id": "expressed-logging",
   "metadata": {
    "vscode": {
     "languageId": "python"
    }
   },
   "outputs": [
    {
     "data": {
      "text/html": [
       "<div>\n",
       "<style scoped>\n",
       "    .dataframe tbody tr th:only-of-type {\n",
       "        vertical-align: middle;\n",
       "    }\n",
       "\n",
       "    .dataframe tbody tr th {\n",
       "        vertical-align: top;\n",
       "    }\n",
       "\n",
       "    .dataframe thead th {\n",
       "        text-align: right;\n",
       "    }\n",
       "</style>\n",
       "<table border=\"1\" class=\"dataframe\">\n",
       "  <thead>\n",
       "    <tr style=\"text-align: right;\">\n",
       "      <th></th>\n",
       "      <th>run</th>\n",
       "      <th>id</th>\n",
       "      <th>ra</th>\n",
       "      <th>dec</th>\n",
       "      <th>eiso</th>\n",
       "      <th>z</th>\n",
       "      <th>angle</th>\n",
       "      <th>observatory</th>\n",
       "      <th>zenith</th>\n",
       "      <th>seen</th>\n",
       "      <th>tend</th>\n",
       "      <th>obstime</th>\n",
       "      <th>tstart</th>\n",
       "    </tr>\n",
       "  </thead>\n",
       "  <tbody>\n",
       "    <tr>\n",
       "      <th>413</th>\n",
       "      <td>0016</td>\n",
       "      <td>000340</td>\n",
       "      <td>-77.259</td>\n",
       "      <td>17.294</td>\n",
       "      <td>1.001666e+52</td>\n",
       "      <td>0.054</td>\n",
       "      <td>2.563</td>\n",
       "      <td>north</td>\n",
       "      <td>20</td>\n",
       "      <td>True</td>\n",
       "      <td>49673.99</td>\n",
       "      <td>71.99</td>\n",
       "      <td>49602</td>\n",
       "    </tr>\n",
       "  </tbody>\n",
       "</table>\n",
       "</div>"
      ],
      "text/plain": [
       "      run      id      ra     dec          eiso      z  angle observatory  \\\n",
       "413  0016  000340 -77.259  17.294  1.001666e+52  0.054  2.563       north   \n",
       "\n",
       "     zenith  seen      tend  obstime  tstart  \n",
       "413      20  True  49673.99    71.99   49602  "
      ]
     },
     "execution_count": 399,
     "metadata": {},
     "output_type": "execute_result"
    }
   ],
   "source": [
    "files = {\n",
    "    \"north\": {\n",
    "        20: \"grbsens_output_v1_July_2020/grbsens-5.0sigma_t1s-t16384s_irf-North_z20_0.5h.txt\",\n",
    "        40: \"grbsens_output_v1_July_2020/grbsens-5.0sigma_t1s-t16384s_irf-North_z40_0.5h.txt\",\n",
    "        60: \"grbsens_output_v1_July_2020/grbsens-5.0sigma_t1s-t16384s_irf-North_z60_0.5h.txt\",\n",
    "    },\n",
    "    \"south\": {\n",
    "        20: \"grbsens_output_v1_July_2020/grbsens-5.0sigma_t1s-t16384s_irf-South_z20_0.5h.txt\",\n",
    "        40: \"grbsens_output_v1_July_2020/grbsens-5.0sigma_t1s-t16384s_irf-South_z40_0.5h.txt\",\n",
    "        60: \"grbsens_output_v1_July_2020/grbsens-5.0sigma_t1s-t16384s_irf-South_z60_0.5h.txt\",\n",
    "    },\n",
    "}\n",
    "\n",
    "interpolations = gwto.get_fit_dict(files)\n",
    "spectral_dict = gwto.get_integral_spectra(zeniths=[20, 40, 60])\n",
    "\n",
    "bns = gwto.ParseBNS(\"BNS-GW.txt\", sep=\"\\t\")\n",
    "\n",
    "gwto.observe_grb(\n",
    "    413,\n",
    "    bns,\n",
    "    interpolations,\n",
    "    spectral_dict,\n",
    "    tstart=49602,\n",
    "    zenith=20,\n",
    "    observatory=\"north\",\n",
    "    precision=2\n",
    ")"
   ]
  },
  {
   "cell_type": "code",
   "execution_count": 398,
   "id": "searching-bangladesh",
   "metadata": {
    "vscode": {
     "languageId": "python"
    }
   },
   "outputs": [
    {
     "data": {
      "text/html": [
       "<div>\n",
       "<style scoped>\n",
       "    .dataframe tbody tr th:only-of-type {\n",
       "        vertical-align: middle;\n",
       "    }\n",
       "\n",
       "    .dataframe tbody tr th {\n",
       "        vertical-align: top;\n",
       "    }\n",
       "\n",
       "    .dataframe thead th {\n",
       "        text-align: right;\n",
       "    }\n",
       "</style>\n",
       "<table border=\"1\" class=\"dataframe\">\n",
       "  <thead>\n",
       "    <tr style=\"text-align: right;\">\n",
       "      <th></th>\n",
       "      <th>run</th>\n",
       "      <th>id</th>\n",
       "      <th>ra</th>\n",
       "      <th>dec</th>\n",
       "      <th>eiso</th>\n",
       "      <th>z</th>\n",
       "      <th>angle</th>\n",
       "      <th>zenith</th>\n",
       "      <th>observatory</th>\n",
       "      <th>seen</th>\n",
       "      <th>tend</th>\n",
       "      <th>obstime</th>\n",
       "      <th>tstart</th>\n",
       "    </tr>\n",
       "  </thead>\n",
       "  <tbody>\n",
       "    <tr>\n",
       "      <th>0</th>\n",
       "      <td>0016</td>\n",
       "      <td>000340</td>\n",
       "      <td>-77.259</td>\n",
       "      <td>17.294</td>\n",
       "      <td>1.001666e+52</td>\n",
       "      <td>0.054</td>\n",
       "      <td>2.563</td>\n",
       "      <td>20</td>\n",
       "      <td>North</td>\n",
       "      <td>True</td>\n",
       "      <td>86624.34</td>\n",
       "      <td>224.34</td>\n",
       "      <td>86400</td>\n",
       "    </tr>\n",
       "    <tr>\n",
       "      <th>0</th>\n",
       "      <td>0016</td>\n",
       "      <td>000340</td>\n",
       "      <td>-77.259</td>\n",
       "      <td>17.294</td>\n",
       "      <td>1.001666e+52</td>\n",
       "      <td>0.054</td>\n",
       "      <td>2.563</td>\n",
       "      <td>20</td>\n",
       "      <td>North</td>\n",
       "      <td>True</td>\n",
       "      <td>71960.77</td>\n",
       "      <td>151.77</td>\n",
       "      <td>71809</td>\n",
       "    </tr>\n",
       "    <tr>\n",
       "      <th>0</th>\n",
       "      <td>0016</td>\n",
       "      <td>000340</td>\n",
       "      <td>-77.259</td>\n",
       "      <td>17.294</td>\n",
       "      <td>1.001666e+52</td>\n",
       "      <td>0.054</td>\n",
       "      <td>2.563</td>\n",
       "      <td>20</td>\n",
       "      <td>North</td>\n",
       "      <td>True</td>\n",
       "      <td>59784.83</td>\n",
       "      <td>103.83</td>\n",
       "      <td>59681</td>\n",
       "    </tr>\n",
       "    <tr>\n",
       "      <th>0</th>\n",
       "      <td>0016</td>\n",
       "      <td>000340</td>\n",
       "      <td>-77.259</td>\n",
       "      <td>17.294</td>\n",
       "      <td>1.001666e+52</td>\n",
       "      <td>0.054</td>\n",
       "      <td>2.563</td>\n",
       "      <td>20</td>\n",
       "      <td>North</td>\n",
       "      <td>True</td>\n",
       "      <td>49673.99</td>\n",
       "      <td>71.99</td>\n",
       "      <td>49602</td>\n",
       "    </tr>\n",
       "    <tr>\n",
       "      <th>0</th>\n",
       "      <td>0016</td>\n",
       "      <td>000340</td>\n",
       "      <td>-77.259</td>\n",
       "      <td>17.294</td>\n",
       "      <td>1.001666e+52</td>\n",
       "      <td>0.054</td>\n",
       "      <td>2.563</td>\n",
       "      <td>20</td>\n",
       "      <td>North</td>\n",
       "      <td>True</td>\n",
       "      <td>41273.54</td>\n",
       "      <td>48.54</td>\n",
       "      <td>41225</td>\n",
       "    </tr>\n",
       "    <tr>\n",
       "      <th>0</th>\n",
       "      <td>0016</td>\n",
       "      <td>000340</td>\n",
       "      <td>-77.259</td>\n",
       "      <td>17.294</td>\n",
       "      <td>1.001666e+52</td>\n",
       "      <td>0.054</td>\n",
       "      <td>2.563</td>\n",
       "      <td>20</td>\n",
       "      <td>North</td>\n",
       "      <td>True</td>\n",
       "      <td>34295.67</td>\n",
       "      <td>32.67</td>\n",
       "      <td>34263</td>\n",
       "    </tr>\n",
       "    <tr>\n",
       "      <th>0</th>\n",
       "      <td>0016</td>\n",
       "      <td>000340</td>\n",
       "      <td>-77.259</td>\n",
       "      <td>17.294</td>\n",
       "      <td>1.001666e+52</td>\n",
       "      <td>0.054</td>\n",
       "      <td>2.563</td>\n",
       "      <td>20</td>\n",
       "      <td>North</td>\n",
       "      <td>True</td>\n",
       "      <td>28499.21</td>\n",
       "      <td>22.21</td>\n",
       "      <td>28477</td>\n",
       "    </tr>\n",
       "    <tr>\n",
       "      <th>0</th>\n",
       "      <td>0016</td>\n",
       "      <td>000340</td>\n",
       "      <td>-77.259</td>\n",
       "      <td>17.294</td>\n",
       "      <td>1.001666e+52</td>\n",
       "      <td>0.054</td>\n",
       "      <td>2.563</td>\n",
       "      <td>20</td>\n",
       "      <td>North</td>\n",
       "      <td>True</td>\n",
       "      <td>23683.27</td>\n",
       "      <td>15.27</td>\n",
       "      <td>23668</td>\n",
       "    </tr>\n",
       "    <tr>\n",
       "      <th>0</th>\n",
       "      <td>0016</td>\n",
       "      <td>000340</td>\n",
       "      <td>-77.259</td>\n",
       "      <td>17.294</td>\n",
       "      <td>1.001666e+52</td>\n",
       "      <td>0.054</td>\n",
       "      <td>2.563</td>\n",
       "      <td>20</td>\n",
       "      <td>North</td>\n",
       "      <td>True</td>\n",
       "      <td>19681.64</td>\n",
       "      <td>10.64</td>\n",
       "      <td>19671</td>\n",
       "    </tr>\n",
       "    <tr>\n",
       "      <th>0</th>\n",
       "      <td>0016</td>\n",
       "      <td>000340</td>\n",
       "      <td>-77.259</td>\n",
       "      <td>17.294</td>\n",
       "      <td>1.001666e+52</td>\n",
       "      <td>0.054</td>\n",
       "      <td>2.563</td>\n",
       "      <td>20</td>\n",
       "      <td>North</td>\n",
       "      <td>True</td>\n",
       "      <td>16356.27</td>\n",
       "      <td>7.27</td>\n",
       "      <td>16349</td>\n",
       "    </tr>\n",
       "  </tbody>\n",
       "</table>\n",
       "</div>"
      ],
      "text/plain": [
       "    run      id      ra     dec          eiso      z  angle  zenith  \\\n",
       "0  0016  000340 -77.259  17.294  1.001666e+52  0.054  2.563      20   \n",
       "0  0016  000340 -77.259  17.294  1.001666e+52  0.054  2.563      20   \n",
       "0  0016  000340 -77.259  17.294  1.001666e+52  0.054  2.563      20   \n",
       "0  0016  000340 -77.259  17.294  1.001666e+52  0.054  2.563      20   \n",
       "0  0016  000340 -77.259  17.294  1.001666e+52  0.054  2.563      20   \n",
       "0  0016  000340 -77.259  17.294  1.001666e+52  0.054  2.563      20   \n",
       "0  0016  000340 -77.259  17.294  1.001666e+52  0.054  2.563      20   \n",
       "0  0016  000340 -77.259  17.294  1.001666e+52  0.054  2.563      20   \n",
       "0  0016  000340 -77.259  17.294  1.001666e+52  0.054  2.563      20   \n",
       "0  0016  000340 -77.259  17.294  1.001666e+52  0.054  2.563      20   \n",
       "\n",
       "  observatory  seen      tend  obstime  tstart  \n",
       "0       North  True  86624.34   224.34   86400  \n",
       "0       North  True  71960.77   151.77   71809  \n",
       "0       North  True  59784.83   103.83   59681  \n",
       "0       North  True  49673.99    71.99   49602  \n",
       "0       North  True  41273.54    48.54   41225  \n",
       "0       North  True  34295.67    32.67   34263  \n",
       "0       North  True  28499.21    22.21   28477  \n",
       "0       North  True  23683.27    15.27   23668  \n",
       "0       North  True  19681.64    10.64   19671  \n",
       "0       North  True  16356.27     7.27   16349  "
      ]
     },
     "execution_count": 398,
     "metadata": {},
     "output_type": "execute_result"
    }
   ],
   "source": [
    "v1n[v1n.run == \"0016\"][0:10]"
   ]
  },
  {
   "cell_type": "code",
   "execution_count": null,
   "id": "after-methodology",
   "metadata": {
    "vscode": {
     "languageId": "python"
    }
   },
   "outputs": [],
   "source": []
  },
  {
   "cell_type": "markdown",
   "id": "advisory-africa",
   "metadata": {},
   "source": [
    "# Integration with the GW Toy\n",
    "\n",
    "### Fluence calculation (S)\n",
    "\n",
    "$S=\\int_{t_0}^{t_\\text{stop}} \\int_{E_\\text{min}}^{E_\\text{max}} A \\frac{E}{E_0}^{-\\alpha} dE dt$\n",
    "\n",
    "$S=\\int_{t_0}^{t_\\text{stop}} \\int_{E_\\text{min}}^{E_\\text{max}} F(E_0, t) \\frac{E}{E_0}^{\\alpha(t)} dEdt$"
   ]
  },
  {
   "cell_type": "code",
   "execution_count": null,
   "id": "advance-projection",
   "metadata": {
    "vscode": {
     "languageId": "python"
    }
   },
   "outputs": [],
   "source": [
    "def power_law(self, energy, spectral_index=-2.1, energy_0=None, normalization=1):\n",
    "    \"\"\"The Power Law spectrum, including normalization\"\"\"\n",
    "\n",
    "    if not energy_0:\n",
    "        energy_0 = min(self.energy)\n",
    "\n",
    "    return normalization * (energy / energy_0) ** (spectral_index)\n",
    "\n",
    "\n",
    "def get_integral_spectrum(self, time, min_energy, max_energy):\n",
    "    \"\"\"Integrate the spectrum, including the normalization\"\"\"\n",
    "\n",
    "    integral_spectrum = integrate.quad(\n",
    "        lambda energy: self.power_law(\n",
    "            energy,\n",
    "            spectral_index=self.get_spectral_index(time),\n",
    "            energy_0=min(self.energy),\n",
    "            normalization=self.get_flux(energy=min(self.energy), time=time),\n",
    "        ),\n",
    "        min_energy,\n",
    "        max_energy,\n",
    "    )[0]\n",
    "\n",
    "    return integral_spectrum\n",
    "\n",
    "def get_fluence(self, start_time, stop_time, min_energy=None, max_energy=None):\n",
    "    \"\"\"Double integral: Integrate the integral spectrum from min_energy to max_energy, then integrate this in time\"\"\"\n",
    "    \n",
    "    fluence = integrate.quad(\n",
    "        lambda time: self.get_integral_spectrum(time, min_energy, max_energy),\n",
    "        start_time,\n",
    "        stop_time,\n",
    "    )[0]\n",
    "\n",
    "    return fluence"
   ]
  },
  {
   "cell_type": "markdown",
   "id": "dense-guide",
   "metadata": {},
   "source": [
    "# Speeding up the code"
   ]
  },
  {
   "cell_type": "code",
   "execution_count": 107,
   "id": "precise-lottery",
   "metadata": {
    "vscode": {
     "languageId": "python"
    }
   },
   "outputs": [
    {
     "name": "stdout",
     "output_type": "stream",
     "text": [
      "CPU times: user 2 µs, sys: 1e+03 ns, total: 3 µs\n",
      "Wall time: 3.1 µs\n"
     ]
    }
   ],
   "source": [
    "%time\n",
    "res = gwt.observe_grb(filepath, sensitivity, log_directory=parsed_yaml_file[\"log_directory\"], start_time=49602, zeniths=[20], sites=[\"north\"], precision=2)"
   ]
  },
  {
   "cell_type": "code",
   "execution_count": 198,
   "id": "soviet-reunion",
   "metadata": {
    "vscode": {
     "languageId": "python"
    }
   },
   "outputs": [
    {
     "data": {
      "text/plain": [
       "array([1.0000000e-01, 1.2589253e-01, 1.5848932e-01, 1.9952624e-01,\n",
       "       2.5118864e-01, 3.1622776e-01, 3.9810717e-01, 5.0118721e-01,\n",
       "       6.3095737e-01, 7.9432821e-01, 1.0000000e+00, 1.2589254e+00,\n",
       "       1.5848932e+00, 1.9952623e+00, 2.5118864e+00, 3.1622777e+00,\n",
       "       3.9810717e+00, 5.0118723e+00, 6.3095737e+00, 7.9432821e+00,\n",
       "       1.0000000e+01, 1.2589254e+01, 1.5848932e+01, 1.9952623e+01,\n",
       "       2.5118864e+01, 3.1622776e+01, 3.9810719e+01, 5.0118725e+01,\n",
       "       6.3095734e+01, 7.9432823e+01, 1.0000000e+02, 1.2589254e+02,\n",
       "       1.5848932e+02, 1.9952623e+02, 2.5118864e+02, 3.1622775e+02,\n",
       "       3.9810718e+02, 5.0118723e+02, 6.3095734e+02, 7.9432825e+02,\n",
       "       1.0000000e+03, 1.2589254e+03, 1.5848932e+03, 1.9952623e+03,\n",
       "       2.5118865e+03, 3.1622776e+03, 3.9810718e+03, 5.0118726e+03,\n",
       "       6.3095732e+03, 7.9432822e+03, 1.0000000e+04, 1.2589254e+04,\n",
       "       1.5848932e+04, 1.9952623e+04, 2.5118865e+04, 3.1622777e+04,\n",
       "       3.9810719e+04, 5.0118723e+04, 6.3095734e+04, 7.9432820e+04,\n",
       "       1.0000000e+05, 1.2589254e+05, 1.5848931e+05, 1.9952623e+05,\n",
       "       2.5118864e+05, 3.1622778e+05, 3.9810716e+05], dtype=float32)"
      ]
     },
     "execution_count": 198,
     "metadata": {},
     "output_type": "execute_result"
    }
   ],
   "source": [
    "grb.time[:-3]"
   ]
  },
  {
   "cell_type": "code",
   "execution_count": 110,
   "id": "continued-violin",
   "metadata": {
    "vscode": {
     "languageId": "python"
    }
   },
   "outputs": [],
   "source": [
    "catalog_directory = parsed_yaml_file[\"catalog\"]"
   ]
  },
  {
   "cell_type": "code",
   "execution_count": 193,
   "id": "governing-roberts",
   "metadata": {
    "vscode": {
     "languageId": "python"
    }
   },
   "outputs": [
    {
     "data": {
      "text/plain": [
       "18949"
      ]
     },
     "execution_count": 193,
     "metadata": {},
     "output_type": "execute_result"
    }
   ],
   "source": [
    "len(glob.glob(f\"{catalog_directory}/*.fits\"))"
   ]
  },
  {
   "cell_type": "code",
   "execution_count": 123,
   "id": "spoken-lyric",
   "metadata": {
    "vscode": {
     "languageId": "python"
    }
   },
   "outputs": [
    {
     "name": "stderr",
     "output_type": "stream",
     "text": [
      "INFO:root:Got GRB run0810_ID000373, north, z20, 27.85º\n"
     ]
    },
    {
     "name": "stdout",
     "output_type": "stream",
     "text": [
      "CPU times: user 1e+03 ns, sys: 2 µs, total: 3 µs\n",
      "Wall time: 5.01 µs\n",
      "None\n"
     ]
    }
   ],
   "source": [
    "%time\n",
    "res = gwt.observe_grb(glob.glob(f\"{catalog_directory}/*.fits\")[0], sensitivity, log_directory=parsed_yaml_file[\"log_directory\"], start_time=49602, zeniths=[20], max_angle=5, sites=[\"north\"], precision=2)\n",
    "\n",
    "print(res)"
   ]
  },
  {
   "cell_type": "code",
   "execution_count": 151,
   "id": "olympic-training",
   "metadata": {
    "vscode": {
     "languageId": "python"
    }
   },
   "outputs": [
    {
     "name": "stderr",
     "output_type": "stream",
     "text": [
      "INFO:root:Got GRB run0810_ID000373, north, z60, 27.85º\n"
     ]
    },
    {
     "name": "stdout",
     "output_type": "stream",
     "text": [
      "CPU times: user 54.3 ms, sys: 13.9 ms, total: 68.3 ms\n",
      "Wall time: 124 ms\n"
     ]
    }
   ],
   "source": [
    "%time res = gwt.observe_grb(glob.glob(f\"{catalog_directory}/*.fits\")[0], sensitivity, log_directory=parsed_yaml_file[\"log_directory\"], start_time=10, precision=0)"
   ]
  },
  {
   "cell_type": "code",
   "execution_count": 270,
   "id": "final-indication",
   "metadata": {
    "vscode": {
     "languageId": "python"
    }
   },
   "outputs": [
    {
     "name": "stderr",
     "output_type": "stream",
     "text": [
      "INFO:root:Got GRB run0810_ID000373, north, z60, 27.85º\n",
      "INFO:root:\n",
      "Close solution, t=25000.0, avgflux=2.7068562987263122e-12, photon_flux=2.673438199794829e-12\n",
      "INFO:root:\n",
      "Close solution, t=24500.0, avgflux=2.736351619682363e-12, photon_flux=2.732700475693424e-12\n",
      "INFO:root:\n",
      "Close solution, t=24450.0, avgflux=2.7393449727828918e-12, photon_flux=2.7388119788429875e-12\n",
      "INFO:root:\n",
      "Close solution, t=24442.0, avgflux=2.739824661367303e-12, photon_flux=2.7397930518787046e-12\n",
      "INFO:root:\n",
      "Close solution, t=24441.5, avgflux=2.739854648804773e-12, photon_flux=2.739854398657556e-12\n",
      "INFO:root:\n",
      "Close solution, t=24441.5, avgflux=2.739854648804773e-12, photon_flux=2.739854398657556e-12\n",
      "INFO:root:\n",
      "Close solution, t=24441.5, avgflux=2.7398548287318486e-12, photon_flux=2.739854766748783e-12\n",
      "INFO:root:dt=0.01, tend=24441.5, obst=14441.5\n",
      "INFO:root:Got GRB run0785_ID000449, north, z40, 5.79º\n",
      "INFO:root:\n",
      "Close solution, t=20000, avgflux=1.1595645323795048e-09, photon_flux=6.022481324504629e-12\n"
     ]
    },
    {
     "name": "stdout",
     "output_type": "stream",
     "text": [
      "{'zenith': 60, 'site': 'north', 'min_energy': 110, 'max_energy': 10000, 'seen': True, 'obs_time': 14441.5, 'start_time': 10000, 'end_time': 24441.5, 'run': '0810', 'id': '000373', 'ra': -46.584, 'dec': -60.923, 'eiso': 3.88e+49, 'z': 0.056, 'angle': 27.85}\n",
      "CPU times: user 3.38 s, sys: 24.2 ms, total: 3.4 s\n",
      "Wall time: 3.41 s\n"
     ]
    },
    {
     "name": "stderr",
     "output_type": "stream",
     "text": [
      "INFO:root:\n",
      "Close solution, t=10101.0, avgflux=2.241708039639426e-09, photon_flux=1.218726181258844e-10\n",
      "INFO:root:\n",
      "Close solution, t=10011.0, avgflux=2.260916536000133e-09, photon_flux=5.201435215107789e-10\n",
      "INFO:root:\n",
      "Close solution, t=10002.0, avgflux=2.2628542154329473e-09, photon_flux=1.5873597735864645e-09\n",
      "INFO:root:\n",
      "Close solution, t=10001.2, avgflux=2.263026602549788e-09, photon_flux=2.2175367262792302e-09\n",
      "INFO:root:\n",
      "Close solution, t=10001.17, avgflux=2.263033067539991e-09, photon_flux=2.254587394281554e-09\n",
      "INFO:root:\n",
      "Close solution, t=10001.16, avgflux=2.2630343605421377e-09, photon_flux=2.2621867249499504e-09\n",
      "INFO:root:dt=0.01, tend=10001.16, obst=1.16\n",
      "INFO:root:Got GRB run0325_ID000305, north, z60, 13.42º\n",
      "INFO:root:\n",
      "Close solution, t=20000, avgflux=6.686555426128631e-12, photon_flux=3.4749822295671003e-12\n"
     ]
    },
    {
     "name": "stdout",
     "output_type": "stream",
     "text": [
      "{'zenith': 40, 'site': 'north', 'min_energy': 40, 'max_energy': 10000, 'seen': True, 'obs_time': 1.16, 'start_time': 10000, 'end_time': 10001.16, 'run': '0785', 'id': '000449', 'ra': -39.481, 'dec': 18.193, 'eiso': 2.84e+51, 'z': 0.035, 'angle': 5.79}\n",
      "CPU times: user 1.79 s, sys: 22.7 ms, total: 1.81 s\n",
      "Wall time: 1.82 s\n"
     ]
    },
    {
     "name": "stderr",
     "output_type": "stream",
     "text": [
      "INFO:root:\n",
      "Close solution, t=12801.0, avgflux=8.062867465090849e-12, photon_flux=7.913861592331585e-12\n",
      "INFO:root:\n",
      "Close solution, t=12711.0, avgflux=8.085431502300341e-12, photon_flux=8.08279043751528e-12\n",
      "INFO:root:\n",
      "Close solution, t=12710.0, avgflux=8.085683241161745e-12, photon_flux=8.084719217474336e-12\n",
      "INFO:root:\n",
      "Close solution, t=12709.5, avgflux=8.085809118968034e-12, photon_flux=8.085684047022526e-12\n",
      "INFO:root:\n",
      "Close solution, t=12709.43, avgflux=8.085826742306536e-12, photon_flux=8.085819146556277e-12\n",
      "INFO:root:\n",
      "Close solution, t=12709.43, avgflux=8.085827749357756e-12, photon_flux=8.085826866703251e-12\n",
      "INFO:root:dt=0.01, tend=12709.43, obst=2709.43\n",
      "INFO:root:Got GRB run0601_ID000209, south, z40, 9.36º\n",
      "INFO:root:\n",
      "Close solution, t=20000, avgflux=1.920291415817549e-11, photon_flux=3.900193720097296e-12\n"
     ]
    },
    {
     "name": "stdout",
     "output_type": "stream",
     "text": [
      "{'zenith': 60, 'site': 'north', 'min_energy': 110, 'max_energy': 10000, 'seen': True, 'obs_time': 2709.43, 'start_time': 10000, 'end_time': 12709.43, 'run': '0325', 'id': '000305', 'ra': -1.992, 'dec': 13.391, 'eiso': 9.74999999999999e+49, 'z': 0.033, 'angle': 13.42}\n",
      "CPU times: user 4.51 s, sys: 35.8 ms, total: 4.55 s\n",
      "Wall time: 4.56 s\n"
     ]
    },
    {
     "name": "stderr",
     "output_type": "stream",
     "text": [
      "INFO:root:\n",
      "Close solution, t=10401.0, avgflux=3.15527499139507e-11, photon_flux=3.117715245342539e-11\n",
      "INFO:root:\n",
      "Close solution, t=10401.0, avgflux=3.15527499139507e-11, photon_flux=3.117715245342539e-11\n",
      "INFO:root:\n",
      "Close solution, t=10394.0, avgflux=3.156797416117168e-11, photon_flux=3.15340129067753e-11\n",
      "INFO:root:\n",
      "Close solution, t=10393.4, avgflux=3.15692798348061e-11, photon_flux=3.1565086763266565e-11\n",
      "INFO:root:\n",
      "Close solution, t=10393.32, avgflux=3.156945393343418e-11, photon_flux=3.156923583961277e-11\n",
      "INFO:root:\n",
      "Close solution, t=10393.32, avgflux=3.1569462638420007e-11, photon_flux=3.1569443329899244e-11\n",
      "INFO:root:dt=0.01, tend=10393.32, obst=393.32\n",
      "INFO:root:Got GRB run0437_ID000034, south, z20, 55.06º\n",
      "INFO:root:\n",
      "Close solution, t=20000, avgflux=3.4419539776285225e-11, photon_flux=5.8300298607017124e-12\n"
     ]
    },
    {
     "name": "stdout",
     "output_type": "stream",
     "text": [
      "{'zenith': 40, 'site': 'south', 'min_energy': 40, 'max_energy': 10000, 'seen': True, 'obs_time': 393.32, 'start_time': 10000, 'end_time': 10393.32, 'run': '0601', 'id': '000209', 'ra': 165.557, 'dec': 8.993, 'eiso': 4.52e+50, 'z': 0.082, 'angle': 9.36}\n",
      "CPU times: user 2.78 s, sys: 36.1 ms, total: 2.81 s\n",
      "Wall time: 2.81 s\n"
     ]
    },
    {
     "name": "stderr",
     "output_type": "stream",
     "text": [
      "INFO:root:\n",
      "Close solution, t=10401.0, avgflux=5.062400316152968e-11, photon_flux=4.5250655000699474e-11\n",
      "INFO:root:\n",
      "Close solution, t=10341.0, avgflux=5.0775837469984196e-11, photon_flux=5.017313177394603e-11\n",
      "INFO:root:\n",
      "Close solution, t=10335.0, avgflux=5.0791081250132416e-11, photon_flux=5.074381025139652e-11\n",
      "INFO:root:\n",
      "Close solution, t=10334.5, avgflux=5.079235206247353e-11, photon_flux=5.0792122284566154e-11\n",
      "INFO:root:\n",
      "Close solution, t=10334.5, avgflux=5.079235206247353e-11, photon_flux=5.0792122284566154e-11\n",
      "INFO:root:\n",
      "Close solution, t=10334.5, avgflux=5.0792357145876594e-11, photon_flux=5.0792315770073697e-11\n",
      "INFO:root:dt=0.01, tend=10334.5, obst=334.5\n",
      "INFO:root:Got GRB run0127_ID000124, south, z40, 32.9º\n",
      "INFO:root:\n",
      "Close solution, t=20000, avgflux=4.239334763394451e-12, photon_flux=3.900193720097296e-12\n"
     ]
    },
    {
     "name": "stdout",
     "output_type": "stream",
     "text": [
      "{'zenith': 20, 'site': 'south', 'min_energy': 30, 'max_energy': 10000, 'seen': True, 'obs_time': 334.5, 'start_time': 10000, 'end_time': 10334.5, 'run': '0437', 'id': '000034', 'ra': -145.723, 'dec': 21.963, 'eiso': 1.13e+51, 'z': 0.038, 'angle': 55.06}\n",
      "CPU times: user 3.24 s, sys: 33.8 ms, total: 3.27 s\n",
      "Wall time: 3.29 s\n"
     ]
    },
    {
     "name": "stderr",
     "output_type": "stream",
     "text": [
      "INFO:root:\n",
      "Close solution, t=18601.0, avgflux=4.3018273926825185e-12, photon_flux=4.299178087982626e-12\n",
      "INFO:root:\n",
      "Close solution, t=18601.0, avgflux=4.3018273926825185e-12, photon_flux=4.299178087982626e-12\n",
      "INFO:root:\n",
      "Close solution, t=18592.0, avgflux=4.302247167301869e-12, photon_flux=4.302087929615113e-12\n",
      "INFO:root:\n",
      "Close solution, t=18591.5, avgflux=4.3022704951795415e-12, photon_flux=4.302249734610978e-12\n",
      "INFO:root:\n",
      "Close solution, t=18591.43, avgflux=4.302273761141788e-12, photon_flux=4.302272388547484e-12\n",
      "INFO:root:\n",
      "Close solution, t=18591.43, avgflux=4.302273947768641e-12, photon_flux=4.302273683067319e-12\n",
      "INFO:root:dt=0.01, tend=18591.43, obst=8591.43\n",
      "INFO:root:Got GRB run0286_ID000021, south, z20, 7.52º\n",
      "INFO:root:\n",
      "Close solution, t=20000, avgflux=6.063030238854023e-11, photon_flux=5.8300298607017124e-12\n"
     ]
    },
    {
     "name": "stdout",
     "output_type": "stream",
     "text": [
      "{'zenith': 40, 'site': 'south', 'min_energy': 40, 'max_energy': 10000, 'seen': True, 'obs_time': 8591.43, 'start_time': 10000, 'end_time': 18591.43, 'run': '0127', 'id': '000124', 'ra': 57.598, 'dec': -63.337, 'eiso': 5.26e+50, 'z': 0.063, 'angle': 32.9}\n",
      "CPU times: user 8.8 s, sys: 28.6 ms, total: 8.83 s\n",
      "Wall time: 8.85 s\n"
     ]
    },
    {
     "name": "stderr",
     "output_type": "stream",
     "text": [
      "INFO:root:\n",
      "Close solution, t=10201.0, avgflux=8.815061101741789e-11, photon_flux=7.026283542981773e-11\n",
      "INFO:root:\n",
      "Close solution, t=10141.0, avgflux=8.842269642351316e-11, photon_flux=8.806965557317349e-11\n",
      "INFO:root:\n",
      "Close solution, t=10141.0, avgflux=8.842269642351316e-11, photon_flux=8.806965557317349e-11\n",
      "INFO:root:\n",
      "Close solution, t=10140.2, avgflux=8.842633718704678e-11, photon_flux=8.83894976815404e-11\n",
      "INFO:root:\n",
      "Close solution, t=10140.11, avgflux=8.842674679433027e-11, photon_flux=8.842566693280314e-11\n",
      "INFO:root:\n",
      "Close solution, t=10140.11, avgflux=8.842675589676349e-11, photon_flux=8.842647112594164e-11\n",
      "INFO:root:dt=0.01, tend=10140.11, obst=140.11\n",
      "INFO:root:Got GRB run0248_ID000057, north, z20, 49.61º\n"
     ]
    },
    {
     "name": "stdout",
     "output_type": "stream",
     "text": [
      "{'zenith': 20, 'site': 'south', 'min_energy': 30, 'max_energy': 10000, 'seen': True, 'obs_time': 140.11, 'start_time': 10000, 'end_time': 10140.11, 'run': '0286', 'id': '000021', 'ra': -72.029, 'dec': 68.822, 'eiso': 2.09e+51, 'z': 0.062, 'angle': 7.52}\n",
      "CPU times: user 2.58 s, sys: 26.6 ms, total: 2.6 s\n",
      "Wall time: 2.62 s\n"
     ]
    },
    {
     "name": "stderr",
     "output_type": "stream",
     "text": [
      "INFO:root:Got GRB run0552_ID000375, north, z20, 54.6º\n"
     ]
    },
    {
     "name": "stdout",
     "output_type": "stream",
     "text": [
      "{'zenith': 20, 'site': 'north', 'min_energy': 30, 'max_energy': 10000, 'seen': False, 'obs_time': -1, 'start_time': 10000, 'end_time': -1, 'run': '0248', 'id': '000057', 'ra': 178.302, 'dec': 40.454, 'eiso': 2.65e+49, 'z': 0.028, 'angle': 49.61}\n",
      "CPU times: user 2.67 s, sys: 15.7 ms, total: 2.69 s\n",
      "Wall time: 2.72 s\n"
     ]
    },
    {
     "name": "stderr",
     "output_type": "stream",
     "text": [
      "INFO:root:Got GRB run0241_ID000319, south, z20, 43.89º\n"
     ]
    },
    {
     "name": "stdout",
     "output_type": "stream",
     "text": [
      "{'zenith': 20, 'site': 'north', 'min_energy': 30, 'max_energy': 10000, 'seen': False, 'obs_time': -1, 'start_time': 10000, 'end_time': -1, 'run': '0552', 'id': '000375', 'ra': -62.914, 'dec': -21.142, 'eiso': 1.05e+52, 'z': 0.018, 'angle': 54.6}\n",
      "CPU times: user 2.73 s, sys: 29.2 ms, total: 2.76 s\n",
      "Wall time: 2.78 s\n",
      "{'zenith': 20, 'site': 'south', 'min_energy': 30, 'max_energy': 10000, 'seen': False, 'obs_time': -1, 'start_time': 10000, 'end_time': -1, 'run': '0241', 'id': '000319', 'ra': -139.646, 'dec': -41.483, 'eiso': 1.67e+48, 'z': 0.028, 'angle': 43.89}\n",
      "CPU times: user 2.73 s, sys: 16.4 ms, total: 2.74 s\n",
      "Wall time: 2.77 s\n"
     ]
    }
   ],
   "source": [
    "for i in range(0,10):\n",
    "    %time res = gwt.observe_grb(glob.glob(f\"{catalog_directory}/*.fits\")[i], sensitivity, log_directory=parsed_yaml_file[\"log_directory\"], start_time=10000, precision=2)"
   ]
  },
  {
   "cell_type": "code",
   "execution_count": null,
   "id": "armed-third",
   "metadata": {
    "vscode": {
     "languageId": "python"
    }
   },
   "outputs": [],
   "source": [
    "for i in range(5,11):\n",
    "    %time res = gwt.observe_grb(glob.glob(f\"{catalog_directory}/*.fits\")[i], sensitivity, log_directory=parsed_yaml_file[\"log_directory\"], start_time=3602, precision=0)"
   ]
  },
  {
   "cell_type": "code",
   "execution_count": 205,
   "id": "blessed-level",
   "metadata": {
    "vscode": {
     "languageId": "python"
    }
   },
   "outputs": [
    {
     "ename": "TypeError",
     "evalue": "get_spectral_index() missing 1 required positional argument: 'time'",
     "output_type": "error",
     "traceback": [
      "\u001b[0;31m---------------------------------------------------------------------------\u001b[0m",
      "\u001b[0;31mTypeError\u001b[0m                                 Traceback (most recent call last)",
      "\u001b[0;32m<ipython-input-205-7623e5db9401>\u001b[0m in \u001b[0;36m<module>\u001b[0;34m\u001b[0m\n\u001b[0;32m----> 1\u001b[0;31m \u001b[0mnp\u001b[0m\u001b[0;34m.\u001b[0m\u001b[0mvectorize\u001b[0m\u001b[0;34m(\u001b[0m\u001b[0mgrb\u001b[0m\u001b[0;34m.\u001b[0m\u001b[0mget_spectral_index\u001b[0m\u001b[0;34m(\u001b[0m\u001b[0;34m)\u001b[0m\u001b[0;34m)\u001b[0m\u001b[0;34m\u001b[0m\u001b[0;34m\u001b[0m\u001b[0m\n\u001b[0m",
      "\u001b[0;31mTypeError\u001b[0m: get_spectral_index() missing 1 required positional argument: 'time'"
     ]
    }
   ],
   "source": [
    "np.vectorize(grb.get_spectral_index())"
   ]
  },
  {
   "cell_type": "code",
   "execution_count": 166,
   "id": "offensive-bargain",
   "metadata": {
    "vscode": {
     "languageId": "python"
    }
   },
   "outputs": [
    {
     "data": {
      "text/plain": [
       "9.19361400462963"
      ]
     },
     "execution_count": 166,
     "metadata": {},
     "output_type": "execute_result"
    }
   ],
   "source": [
    "max(grb.time)/3600/24"
   ]
  },
  {
   "cell_type": "code",
   "execution_count": 167,
   "id": "asian-spice",
   "metadata": {
    "vscode": {
     "languageId": "python"
    }
   },
   "outputs": [
    {
     "data": {
      "text/plain": [
       "518400"
      ]
     },
     "execution_count": 167,
     "metadata": {},
     "output_type": "execute_result"
    }
   ],
   "source": [
    "6*3600*24"
   ]
  },
  {
   "cell_type": "code",
   "execution_count": 267,
   "id": "dominant-consciousness",
   "metadata": {
    "vscode": {
     "languageId": "python"
    }
   },
   "outputs": [
    {
     "name": "stderr",
     "output_type": "stream",
     "text": [
      "INFO:root:Got GRB run0437_ID000034, south, z20, 55.06º\n",
      "INFO:root:NEW LOOP; t=154.00, dt=1.00, previous_t=154.00, previous_dt=-1.00 n=1.00\n",
      "INFO:root:\n",
      "Close solution, t=253, avgflux=3.6922258906539567e-10, photon_flux=1.0962147722050396e-10\n",
      "INFO:root:NEW LOOP; t=253.00, dt=10.00, previous_t=154.00, previous_dt=-1.00 n=0.00\n",
      "INFO:root:NEW LOOP; t=154.00, dt=10.00, previous_t=154.00, previous_dt=10.00 n=0.10\n",
      "INFO:root:NEW LOOP; t=155.00, dt=10.00, previous_t=155.00, previous_dt=10.00 n=0.20\n",
      "INFO:root:NEW LOOP; t=156.00, dt=10.00, previous_t=156.00, previous_dt=10.00 n=0.30\n",
      "INFO:root:NEW LOOP; t=157.00, dt=10.00, previous_t=157.00, previous_dt=10.00 n=0.40\n",
      "INFO:root:NEW LOOP; t=158.00, dt=10.00, previous_t=158.00, previous_dt=10.00 n=0.50\n",
      "INFO:root:NEW LOOP; t=159.00, dt=10.00, previous_t=159.00, previous_dt=10.00 n=0.60\n",
      "INFO:root:NEW LOOP; t=160.00, dt=10.00, previous_t=160.00, previous_dt=10.00 n=0.70\n",
      "INFO:root:NEW LOOP; t=161.00, dt=10.00, previous_t=161.00, previous_dt=10.00 n=0.80\n",
      "INFO:root:NEW LOOP; t=162.00, dt=10.00, previous_t=162.00, previous_dt=10.00 n=0.90\n",
      "INFO:root:NEW LOOP; t=163.00, dt=10.00, previous_t=163.00, previous_dt=10.00 n=1.00\n",
      "INFO:root:NEW LOOP; t=164.00, dt=10.00, previous_t=164.00, previous_dt=10.00 n=1.10\n",
      "INFO:root:NEW LOOP; t=165.00, dt=10.00, previous_t=165.00, previous_dt=10.00 n=1.20\n",
      "INFO:root:NEW LOOP; t=166.00, dt=10.00, previous_t=166.00, previous_dt=10.00 n=1.30\n",
      "INFO:root:NEW LOOP; t=167.00, dt=10.00, previous_t=167.00, previous_dt=10.00 n=1.40\n",
      "INFO:root:NEW LOOP; t=168.00, dt=10.00, previous_t=168.00, previous_dt=10.00 n=1.50\n",
      "INFO:root:NEW LOOP; t=169.00, dt=10.00, previous_t=169.00, previous_dt=10.00 n=1.60\n",
      "INFO:root:NEW LOOP; t=170.00, dt=10.00, previous_t=170.00, previous_dt=10.00 n=1.70\n",
      "INFO:root:NEW LOOP; t=171.00, dt=10.00, previous_t=171.00, previous_dt=10.00 n=1.80\n",
      "INFO:root:NEW LOOP; t=172.00, dt=10.00, previous_t=172.00, previous_dt=10.00 n=1.90\n",
      "INFO:root:NEW LOOP; t=173.00, dt=10.00, previous_t=173.00, previous_dt=10.00 n=2.00\n",
      "INFO:root:NEW LOOP; t=174.00, dt=10.00, previous_t=174.00, previous_dt=10.00 n=2.10\n",
      "INFO:root:NEW LOOP; t=175.00, dt=10.00, previous_t=175.00, previous_dt=10.00 n=2.20\n",
      "INFO:root:NEW LOOP; t=176.00, dt=10.00, previous_t=176.00, previous_dt=10.00 n=2.30\n",
      "INFO:root:NEW LOOP; t=177.00, dt=10.00, previous_t=177.00, previous_dt=10.00 n=2.40\n",
      "INFO:root:NEW LOOP; t=178.00, dt=10.00, previous_t=178.00, previous_dt=10.00 n=2.50\n",
      "INFO:root:NEW LOOP; t=179.00, dt=10.00, previous_t=179.00, previous_dt=10.00 n=2.60\n",
      "INFO:root:NEW LOOP; t=180.00, dt=10.00, previous_t=180.00, previous_dt=10.00 n=2.70\n",
      "INFO:root:\n",
      "Close solution, t=181.0, avgflux=2.492134001381293e-10, photon_flux=2.4667102773660805e-10\n",
      "INFO:root:NEW LOOP; t=181.00, dt=1.00, previous_t=180.00, previous_dt=10.00 n=0.00\n",
      "INFO:root:NEW LOOP; t=180.00, dt=1.00, previous_t=180.00, previous_dt=1.00 n=0.10\n",
      "INFO:root:NEW LOOP; t=180.10, dt=1.00, previous_t=180.10, previous_dt=1.00 n=0.20\n",
      "INFO:root:NEW LOOP; t=180.20, dt=1.00, previous_t=180.20, previous_dt=1.00 n=0.30\n",
      "INFO:root:NEW LOOP; t=180.30, dt=1.00, previous_t=180.30, previous_dt=1.00 n=0.40\n",
      "INFO:root:NEW LOOP; t=180.40, dt=1.00, previous_t=180.40, previous_dt=1.00 n=0.50\n",
      "INFO:root:NEW LOOP; t=180.50, dt=1.00, previous_t=180.50, previous_dt=1.00 n=0.60\n",
      "INFO:root:NEW LOOP; t=180.60, dt=1.00, previous_t=180.60, previous_dt=1.00 n=0.70\n",
      "INFO:root:\n",
      "Close solution, t=181.0, avgflux=2.4875965868313773e-10, photon_flux=2.483697626855321e-10\n",
      "INFO:root:dt=1.0, tend=181.0, obst=28.0\n"
     ]
    },
    {
     "name": "stdout",
     "output_type": "stream",
     "text": [
      "{'zenith': 20, 'site': 'south', 'min_energy': 30, 'max_energy': 10000, 'seen': True, 'obs_time': 28.0, 'start_time': 153, 'end_time': 181.0, 'run': '0437', 'id': '000034', 'ra': -145.723, 'dec': 21.963, 'eiso': 1.13e+51, 'z': 0.038, 'angle': 55.06}\n",
      "CPU times: user 2.79 s, sys: 49.2 ms, total: 2.84 s\n",
      "Wall time: 2.84 s\n"
     ]
    }
   ],
   "source": [
    "%time res = gwt.observe_grb(glob.glob(f\"{catalog_directory}/*.fits\")[4], sensitivity, log_directory=parsed_yaml_file[\"log_directory\"], start_time=153, precision=0)"
   ]
  },
  {
   "cell_type": "code",
   "execution_count": 208,
   "id": "spread-criminal",
   "metadata": {
    "vscode": {
     "languageId": "python"
    }
   },
   "outputs": [
    {
     "data": {
      "text/plain": [
       "[-2.190630065812002,\n",
       " -2.1906424971334917,\n",
       " -2.190623329741619,\n",
       " -2.190642602715898,\n",
       " -2.1906468440009066,\n",
       " -2.1906354673043396,\n",
       " -2.190644364111233,\n",
       " -2.190623974331183,\n",
       " -2.1906428075362467,\n",
       " -2.1906469143657907,\n",
       " -2.1906354870156806,\n",
       " -2.190644370935923,\n",
       " -2.190623976319507,\n",
       " -2.1906428081449216,\n",
       " -2.1906469145519303,\n",
       " -2.190635487074621,\n",
       " -2.190644370954106,\n",
       " -2.190623976325624,\n",
       " -2.1906428081467104,\n",
       " -2.19064691455252,\n",
       " -2.19063548707479,\n",
       " -2.190644370954165,\n",
       " -2.190623976325656,\n",
       " -2.190642808146792,\n",
       " -2.190646914553102,\n",
       " -2.190635487077937,\n",
       " -2.190644370975011,\n",
       " -2.19062397649959,\n",
       " -2.1906428089215226,\n",
       " -2.190646920478805,\n",
       " -2.1906355192682345,\n",
       " -2.1906445841173268,\n",
       " -2.1906257420988013,\n",
       " -2.190650552772459,\n",
       " -2.190697038786485,\n",
       " -2.1909002023559956,\n",
       " -2.191637362981365,\n",
       " -2.193293678484103,\n",
       " -2.195153099929331,\n",
       " -2.197040568399985,\n",
       " -2.1982966086600015,\n",
       " -2.199657673584009,\n",
       " -2.201651713716415,\n",
       " -2.203198497022747,\n",
       " -2.2041132930283283,\n",
       " -2.2060191312903963,\n",
       " -2.2088689290623584,\n",
       " -2.2115563560483738,\n",
       " -2.2147096009376597,\n",
       " -2.2168843810722856,\n",
       " -2.218859231979244,\n",
       " -2.220481549632775,\n",
       " -2.2229391561102325,\n",
       " -2.2258627567652085,\n",
       " -2.2278397503381586,\n",
       " -2.2294001402467667,\n",
       " -2.2304435154371087,\n",
       " -2.231458195194704,\n",
       " -2.231634186628111,\n",
       " -2.2314795791734277,\n",
       " -2.2317838919232282,\n",
       " -2.231056736588051,\n",
       " -2.228012831652493,\n",
       " -2.2253254288852427,\n",
       " -2.223491026816176,\n",
       " -2.2195887437641995,\n",
       " -2.2141133148115286,\n",
       " -2.2083065204972723,\n",
       " -2.201440313290726,\n",
       " -2.195223888842514]"
      ]
     },
     "execution_count": 208,
     "metadata": {},
     "output_type": "execute_result"
    }
   ],
   "source": [
    "grb.power_law_slopes"
   ]
  },
  {
   "cell_type": "code",
   "execution_count": 140,
   "id": "empty-worker",
   "metadata": {
    "vscode": {
     "languageId": "python"
    }
   },
   "outputs": [
    {
     "name": "stdout",
     "output_type": "stream",
     "text": [
      "79.5 µs ± 2.54 µs per loop (mean ± std. dev. of 7 runs, 10000 loops each)\n"
     ]
    }
   ],
   "source": [
    "%timeit grb.get_spectral_index(time=2343)"
   ]
  },
  {
   "cell_type": "code",
   "execution_count": 141,
   "id": "viral-cattle",
   "metadata": {
    "vscode": {
     "languageId": "python"
    }
   },
   "outputs": [
    {
     "name": "stdout",
     "output_type": "stream",
     "text": [
      "77.2 µs ± 513 ns per loop (mean ± std. dev. of 7 runs, 10000 loops each)\n"
     ]
    }
   ],
   "source": [
    "%timeit grb.get_spectral_index(time=43200)"
   ]
  },
  {
   "cell_type": "code",
   "execution_count": null,
   "id": "induced-browse",
   "metadata": {
    "vscode": {
     "languageId": "python"
    }
   },
   "outputs": [],
   "source": [
    "%timeit grb.get_fluence(10, 43200)"
   ]
  },
  {
   "cell_type": "code",
   "execution_count": 143,
   "id": "metropolitan-torture",
   "metadata": {
    "vscode": {
     "languageId": "python"
    }
   },
   "outputs": [
    {
     "name": "stdout",
     "output_type": "stream",
     "text": [
      "9.95 s ± 129 ms per loop (mean ± std. dev. of 7 runs, 1 loop each)\n"
     ]
    }
   ],
   "source": [
    "%timeit grb.get_fluence(10, 43200)"
   ]
  },
  {
   "cell_type": "code",
   "execution_count": 146,
   "id": "western-yukon",
   "metadata": {
    "vscode": {
     "languageId": "python"
    }
   },
   "outputs": [
    {
     "name": "stdout",
     "output_type": "stream",
     "text": [
      "5.78 ms ± 123 µs per loop (mean ± std. dev. of 7 runs, 100 loops each)\n"
     ]
    }
   ],
   "source": [
    "%timeit grb.get_integral_spectrum(10, grb.min_energy, grb.max_energy)"
   ]
  },
  {
   "cell_type": "code",
   "execution_count": 148,
   "id": "willing-agriculture",
   "metadata": {
    "vscode": {
     "languageId": "python"
    }
   },
   "outputs": [
    {
     "name": "stdout",
     "output_type": "stream",
     "text": [
      "5.74 ms ± 31.6 µs per loop (mean ± std. dev. of 7 runs, 100 loops each)\n"
     ]
    }
   ],
   "source": [
    "%timeit grb.get_integral_spectrum(43200, grb.min_energy, grb.max_energy)"
   ]
  },
  {
   "cell_type": "code",
   "execution_count": 144,
   "id": "favorite-education",
   "metadata": {
    "vscode": {
     "languageId": "python"
    }
   },
   "outputs": [
    {
     "name": "stdout",
     "output_type": "stream",
     "text": [
      "time_delays:  # in seconds\n",
      "# log scale from 10s to 12h (25 bins)\n",
      "    - 10\n",
      "    - 14\n",
      "    - 20\n",
      "    - 28\n",
      "    - 40\n",
      "    - 57\n",
      "    - 81\n",
      "    - 115\n",
      "    - 163\n",
      "    - 231\n",
      "    - 327\n",
      "    - 464\n",
      "    - 657\n",
      "    - 932\n",
      "    - 1320\n",
      "    - 1871\n",
      "    - 2653\n",
      "    - 3760\n",
      "    - 5329\n",
      "    - 7553\n",
      "    - 10705\n",
      "    - 15172\n",
      "    - 21504\n",
      "    - 30479\n",
      "    - 43200\n"
     ]
    }
   ],
   "source": [
    "print(\"time_delays:  # in seconds\\n# log scale from 10s to 12h (25 bins)\")\n",
    "for i in np.logspace(1, np.log10(12*3600), 25):\n",
    "    print(f\"    - {round(i)}\")"
   ]
  },
  {
   "cell_type": "markdown",
   "id": "formal-pearl",
   "metadata": {},
   "source": [
    "# Testing analytic solution"
   ]
  },
  {
   "cell_type": "code",
   "execution_count": 455,
   "id": "chinese-tribe",
   "metadata": {
    "vscode": {
     "languageId": "python"
    }
   },
   "outputs": [
    {
     "name": "stdout",
     "output_type": "stream",
     "text": [
      "13.6 ms ± 438 µs per loop (mean ± std. dev. of 7 runs, 100 loops each)\n"
     ]
    }
   ],
   "source": [
    "%timeit grb.get_integral_spectrum(1000, grb.min_energy, grb.max_energy)"
   ]
  },
  {
   "cell_type": "code",
   "execution_count": 456,
   "id": "textile-flower",
   "metadata": {
    "vscode": {
     "languageId": "python"
    }
   },
   "outputs": [
    {
     "name": "stdout",
     "output_type": "stream",
     "text": [
      "54.4 µs ± 1.57 µs per loop (mean ± std. dev. of 7 runs, 10000 loops each)\n"
     ]
    }
   ],
   "source": [
    "%timeit grb.get_fast_integral_spectrum(1000, min(grb.energy))"
   ]
  },
  {
   "cell_type": "code",
   "execution_count": null,
   "id": "caroline-eight",
   "metadata": {
    "vscode": {
     "languageId": "python"
    }
   },
   "outputs": [],
   "source": [
    "%timeit grb.get_fluence(10, 90000)"
   ]
  },
  {
   "cell_type": "code",
   "execution_count": null,
   "id": "american-holocaust",
   "metadata": {
    "vscode": {
     "languageId": "python"
    }
   },
   "outputs": [],
   "source": [
    "%timeit grb.get_fast_fluence(10, 90000)"
   ]
  },
  {
   "cell_type": "code",
   "execution_count": 914,
   "id": "understanding-gilbert",
   "metadata": {
    "vscode": {
     "languageId": "python"
    }
   },
   "outputs": [
    {
     "name": "stderr",
     "output_type": "stream",
     "text": [
      "INFO:root:Got GRB run0116_ID000033, south, z40, 23.56º\n",
      "INFO:root:dt=0.1, tend=60053.5, obst=53.5\n"
     ]
    },
    {
     "name": "stdout",
     "output_type": "stream",
     "text": [
      "CPU times: user 1.93 s, sys: 18.2 ms, total: 1.95 s\n",
      "Wall time: 1.99 s\n"
     ]
    },
    {
     "data": {
      "text/html": [
       "<div>\n",
       "<style scoped>\n",
       "    .dataframe tbody tr th:only-of-type {\n",
       "        vertical-align: middle;\n",
       "    }\n",
       "\n",
       "    .dataframe tbody tr th {\n",
       "        vertical-align: top;\n",
       "    }\n",
       "\n",
       "    .dataframe thead th {\n",
       "        text-align: right;\n",
       "    }\n",
       "</style>\n",
       "<table border=\"1\" class=\"dataframe\">\n",
       "  <thead>\n",
       "    <tr style=\"text-align: right;\">\n",
       "      <th></th>\n",
       "      <th>zenith</th>\n",
       "      <th>site</th>\n",
       "      <th>min_energy</th>\n",
       "      <th>max_energy</th>\n",
       "      <th>seen</th>\n",
       "      <th>obs_time</th>\n",
       "      <th>start_time</th>\n",
       "      <th>end_time</th>\n",
       "      <th>run</th>\n",
       "      <th>id</th>\n",
       "      <th>ra</th>\n",
       "      <th>dec</th>\n",
       "      <th>eiso</th>\n",
       "      <th>z</th>\n",
       "      <th>angle</th>\n",
       "    </tr>\n",
       "  </thead>\n",
       "  <tbody>\n",
       "    <tr>\n",
       "      <th>000033_0116</th>\n",
       "      <td>40</td>\n",
       "      <td>south</td>\n",
       "      <td>40</td>\n",
       "      <td>10000</td>\n",
       "      <td>True</td>\n",
       "      <td>53.5</td>\n",
       "      <td>60000</td>\n",
       "      <td>60053.5</td>\n",
       "      <td>0116</td>\n",
       "      <td>000033</td>\n",
       "      <td>169.073</td>\n",
       "      <td>17.637</td>\n",
       "      <td>4.500000e+51</td>\n",
       "      <td>0.047</td>\n",
       "      <td>23.56</td>\n",
       "    </tr>\n",
       "  </tbody>\n",
       "</table>\n",
       "</div>"
      ],
      "text/plain": [
       "             zenith   site  min_energy  max_energy  seen  obs_time  \\\n",
       "000033_0116      40  south          40       10000  True      53.5   \n",
       "\n",
       "             start_time  end_time   run      id       ra     dec  \\\n",
       "000033_0116       60000   60053.5  0116  000033  169.073  17.637   \n",
       "\n",
       "                     eiso      z  angle  \n",
       "000033_0116  4.500000e+51  0.047  23.56  "
      ]
     },
     "execution_count": 914,
     "metadata": {},
     "output_type": "execute_result"
    }
   ],
   "source": [
    "%time gwt.observe_grb(glob.glob(f\"{catalog_directory}/*.fits\")[35], sensitivity, log_directory=parsed_yaml_file[\"log_directory\"], start_time=60000, precision=1, read=False)"
   ]
  },
  {
   "cell_type": "code",
   "execution_count": 941,
   "id": "revised-species",
   "metadata": {
    "vscode": {
     "languageId": "python"
    }
   },
   "outputs": [
    {
     "name": "stdout",
     "output_type": "stream",
     "text": [
      "CPU times: user 114 ms, sys: 27 ms, total: 141 ms\n",
      "Wall time: 177 ms\n"
     ]
    },
    {
     "data": {
      "text/html": [
       "<div>\n",
       "<style scoped>\n",
       "    .dataframe tbody tr th:only-of-type {\n",
       "        vertical-align: middle;\n",
       "    }\n",
       "\n",
       "    .dataframe tbody tr th {\n",
       "        vertical-align: top;\n",
       "    }\n",
       "\n",
       "    .dataframe thead th {\n",
       "        text-align: right;\n",
       "    }\n",
       "</style>\n",
       "<table border=\"1\" class=\"dataframe\">\n",
       "  <thead>\n",
       "    <tr style=\"text-align: right;\">\n",
       "      <th></th>\n",
       "      <th>zenith</th>\n",
       "      <th>site</th>\n",
       "      <th>min_energy</th>\n",
       "      <th>max_energy</th>\n",
       "      <th>seen</th>\n",
       "      <th>obs_time</th>\n",
       "      <th>start_time</th>\n",
       "      <th>end_time</th>\n",
       "      <th>run</th>\n",
       "      <th>id</th>\n",
       "      <th>ra</th>\n",
       "      <th>dec</th>\n",
       "      <th>eiso</th>\n",
       "      <th>z</th>\n",
       "      <th>angle</th>\n",
       "    </tr>\n",
       "  </thead>\n",
       "  <tbody>\n",
       "    <tr>\n",
       "      <th>000162_0482</th>\n",
       "      <td>20</td>\n",
       "      <td>south</td>\n",
       "      <td>30</td>\n",
       "      <td>10000</td>\n",
       "      <td>True</td>\n",
       "      <td>4</td>\n",
       "      <td>10</td>\n",
       "      <td>14</td>\n",
       "      <td>0482</td>\n",
       "      <td>000162</td>\n",
       "      <td>111.549</td>\n",
       "      <td>13.198</td>\n",
       "      <td>4.550000e+47</td>\n",
       "      <td>0.03</td>\n",
       "      <td>16.48</td>\n",
       "    </tr>\n",
       "  </tbody>\n",
       "</table>\n",
       "</div>"
      ],
      "text/plain": [
       "             zenith   site  min_energy  max_energy  seen  obs_time  \\\n",
       "000162_0482      20  south          30       10000  True         4   \n",
       "\n",
       "             start_time  end_time   run      id       ra     dec  \\\n",
       "000162_0482          10        14  0482  000162  111.549  13.198   \n",
       "\n",
       "                     eiso     z  angle  \n",
       "000162_0482  4.550000e+47  0.03  16.48  "
      ]
     },
     "execution_count": 941,
     "metadata": {},
     "output_type": "execute_result"
    }
   ],
   "source": [
    "%time gwt.observe_grb(glob.glob(f\"{catalog_directory}/*.fits\")[40], sensitivity, log_directory=parsed_yaml_file[\"log_directory\"], start_time=10, target_precision=1, read=False)"
   ]
  },
  {
   "cell_type": "code",
   "execution_count": 939,
   "id": "stuffed-bargain",
   "metadata": {
    "vscode": {
     "languageId": "python"
    }
   },
   "outputs": [
    {
     "data": {
      "text/plain": [
       "array([ True,  True, False])"
      ]
     },
     "execution_count": 939,
     "metadata": {},
     "output_type": "execute_result"
    }
   ],
   "source": [
    "np.isfinite(np.array([1,2,np.nan])) "
   ]
  },
  {
   "cell_type": "code",
   "execution_count": 935,
   "id": "rotary-effects",
   "metadata": {
    "vscode": {
     "languageId": "python"
    }
   },
   "outputs": [
    {
     "data": {
      "text/plain": [
       "array([1.0000000e+00, 1.2589254e+00, 1.5848932e+00, 1.9952623e+00,\n",
       "       2.5118864e+00, 3.1622777e+00, 3.9810717e+00, 5.0118723e+00,\n",
       "       6.3095737e+00, 7.9432821e+00, 1.0000000e+01, 1.2589254e+01,\n",
       "       1.5848932e+01, 1.9952623e+01, 2.5118864e+01, 3.1622776e+01,\n",
       "       3.9810719e+01, 5.0118725e+01, 6.3095734e+01, 7.9432823e+01,\n",
       "       1.0000000e+02, 1.2589254e+02, 1.5848932e+02, 1.9952623e+02,\n",
       "       2.5118864e+02, 3.1622775e+02, 3.9810718e+02, 5.0118723e+02,\n",
       "       6.3095734e+02, 7.9432825e+02, 1.0000000e+03, 1.2589254e+03,\n",
       "       1.5848932e+03, 1.9952623e+03, 2.5118865e+03, 3.1622776e+03,\n",
       "       3.9810718e+03, 5.0118726e+03, 6.3095732e+03, 7.9432822e+03,\n",
       "       1.0000000e+04], dtype=float32)"
      ]
     },
     "execution_count": 935,
     "metadata": {},
     "output_type": "execute_result"
    }
   ],
   "source": [
    "the_grb.get_get_spectrum"
   ]
  },
  {
   "cell_type": "code",
   "execution_count": 920,
   "id": "distinct-superintendent",
   "metadata": {
    "vscode": {
     "languageId": "python"
    }
   },
   "outputs": [
    {
     "name": "stdout",
     "output_type": "stream",
     "text": [
      "0\n",
      "1\n"
     ]
    }
   ],
   "source": [
    "i = 0\n",
    "while i < 2:\n",
    "    print(i)\n",
    "    i += 1\n",
    "else:\n",
    "    \"done with loop!\""
   ]
  },
  {
   "cell_type": "code",
   "execution_count": 905,
   "id": "differential-detail",
   "metadata": {
    "vscode": {
     "languageId": "python"
    }
   },
   "outputs": [
    {
     "name": "stderr",
     "output_type": "stream",
     "text": [
      "INFO:root:    visible:True avgflux=7.906039213055426e-11, photon_flux=7.649489489993954e-11\n"
     ]
    },
    {
     "data": {
      "text/plain": [
       "True"
      ]
     },
     "execution_count": 905,
     "metadata": {},
     "output_type": "execute_result"
    }
   ],
   "source": [
    "gwt.check_if_visible(the_grb, sensitivity, 100000, 100000+100)"
   ]
  },
  {
   "cell_type": "markdown",
   "id": "adopted-prairie",
   "metadata": {},
   "source": [
    "# Individual Detectability chart"
   ]
  },
  {
   "cell_type": "code",
   "execution_count": 1078,
   "id": "earlier-monaco",
   "metadata": {
    "vscode": {
     "languageId": "python"
    }
   },
   "outputs": [
    {
     "name": "stderr",
     "output_type": "stream",
     "text": [
      "/Users/jarred/Documents/Projects/gravitational_wave_toy/.venv/lib/python3.7/site-packages/ipykernel_launcher.py:23: UserWarning: Matplotlib is currently using agg, which is a non-GUI backend, so cannot show the figure.\n"
     ]
    },
    {
     "data": {
      "image/png": "[encoded data removed]",
      "text/plain": [
       "<Figure size 432x288 with 1 Axes>"
      ]
     },
     "metadata": {},
     "output_type": "display_data"
    }
   ],
   "source": [
    "grb_index = 35\n",
    "delay = 10     # seconds\n",
    "max_time = 24*6  # consecutive dark hours observing the source\n",
    "\n",
    "\n",
    "\n",
    "the_grb = gwt.GRB(glob.glob(f\"{catalog_directory}/*.fits\")[grb_index])\n",
    "times = np.logspace(0, np.log10(max_time*3600), 100)\n",
    "fluences = np.array([the_grb.get_fast_fluence(delay, delay+time)/(time) for time in times])\n",
    "sensitivites = np.array([sensitivity.get(t=time, site=the_grb.site, zenith=the_grb.zenith) for time in times])\n",
    "\n",
    "\n",
    "plt.loglog(times, fluences, label=\"average flux\")\n",
    "plt.loglog(times, sensitivites, label=\"CTA photon flux\")\n",
    "\n",
    "visible_matrix = np.greater(fluences, sensitivites)\n",
    "for idx, time in enumerate(times[:-1]):\n",
    "    plt.axvspan(times[idx], times[idx+1], facecolor='green' if visible_matrix[idx] else 'red', alpha=0.2)\n",
    "plt.title(f\"Detectability Chart for merger {the_grb.run}_{the_grb.id}\")\n",
    "plt.xlabel(\"time\")\n",
    "plt.ylabel(\"flux\")\n",
    "plt.legend()\n",
    "plt.show()"
   ]
  },
  {
   "cell_type": "code",
   "execution_count": null,
   "id": "turned-chase",
   "metadata": {
    "vscode": {
     "languageId": "python"
    }
   },
   "outputs": [],
   "source": []
  },
  {
   "cell_type": "markdown",
   "id": "persistent-rouge",
   "metadata": {},
   "source": [
    "### Plotting the new results"
   ]
  },
  {
   "cell_type": "code",
   "execution_count": 984,
   "id": "earned-colony",
   "metadata": {
    "vscode": {
     "languageId": "python"
    }
   },
   "outputs": [],
   "source": [
    "v1 = gwp.open_gw_file(\"./results/gw_toy_results_log_v2.pkl\")\n",
    "v2 = gwp.open_gw_file(\"./results/gw_toy_v2_new_algo.pkl\")"
   ]
  },
  {
   "cell_type": "code",
   "execution_count": 1031,
   "id": "planned-martial",
   "metadata": {
    "vscode": {
     "languageId": "python"
    }
   },
   "outputs": [
    {
     "data": {
      "text/html": [
       "<div>\n",
       "<style scoped>\n",
       "    .dataframe tbody tr th:only-of-type {\n",
       "        vertical-align: middle;\n",
       "    }\n",
       "\n",
       "    .dataframe tbody tr th {\n",
       "        vertical-align: top;\n",
       "    }\n",
       "\n",
       "    .dataframe thead th {\n",
       "        text-align: right;\n",
       "    }\n",
       "</style>\n",
       "<table border=\"1\" class=\"dataframe\">\n",
       "  <thead>\n",
       "    <tr style=\"text-align: right;\">\n",
       "      <th></th>\n",
       "      <th>zenith</th>\n",
       "      <th>site</th>\n",
       "      <th>min_energy</th>\n",
       "      <th>max_energy</th>\n",
       "      <th>seen</th>\n",
       "      <th>obs_time</th>\n",
       "      <th>start_time</th>\n",
       "      <th>end_time</th>\n",
       "      <th>run</th>\n",
       "      <th>id</th>\n",
       "      <th>ra</th>\n",
       "      <th>dec</th>\n",
       "      <th>eiso</th>\n",
       "      <th>z</th>\n",
       "      <th>angle</th>\n",
       "    </tr>\n",
       "  </thead>\n",
       "  <tbody>\n",
       "    <tr>\n",
       "      <th>000373_0810</th>\n",
       "      <td>20</td>\n",
       "      <td>south</td>\n",
       "      <td>30</td>\n",
       "      <td>10000</td>\n",
       "      <td>True</td>\n",
       "      <td>72</td>\n",
       "      <td>1227</td>\n",
       "      <td>1299</td>\n",
       "      <td>810</td>\n",
       "      <td>373</td>\n",
       "      <td>-46.584</td>\n",
       "      <td>-60.923</td>\n",
       "      <td>3.880000e+49</td>\n",
       "      <td>0.056</td>\n",
       "      <td>27.85</td>\n",
       "    </tr>\n",
       "    <tr>\n",
       "      <th>000373_0810</th>\n",
       "      <td>20</td>\n",
       "      <td>south</td>\n",
       "      <td>30</td>\n",
       "      <td>10000</td>\n",
       "      <td>True</td>\n",
       "      <td>1055</td>\n",
       "      <td>7801</td>\n",
       "      <td>8856</td>\n",
       "      <td>810</td>\n",
       "      <td>373</td>\n",
       "      <td>-46.584</td>\n",
       "      <td>-60.923</td>\n",
       "      <td>3.880000e+49</td>\n",
       "      <td>0.056</td>\n",
       "      <td>27.85</td>\n",
       "    </tr>\n",
       "    <tr>\n",
       "      <th>000373_0810</th>\n",
       "      <td>20</td>\n",
       "      <td>south</td>\n",
       "      <td>30</td>\n",
       "      <td>10000</td>\n",
       "      <td>True</td>\n",
       "      <td>2</td>\n",
       "      <td>44</td>\n",
       "      <td>46</td>\n",
       "      <td>810</td>\n",
       "      <td>373</td>\n",
       "      <td>-46.584</td>\n",
       "      <td>-60.923</td>\n",
       "      <td>3.880000e+49</td>\n",
       "      <td>0.056</td>\n",
       "      <td>27.85</td>\n",
       "    </tr>\n",
       "    <tr>\n",
       "      <th>000373_0810</th>\n",
       "      <td>20</td>\n",
       "      <td>south</td>\n",
       "      <td>30</td>\n",
       "      <td>10000</td>\n",
       "      <td>True</td>\n",
       "      <td>43</td>\n",
       "      <td>847</td>\n",
       "      <td>890</td>\n",
       "      <td>810</td>\n",
       "      <td>373</td>\n",
       "      <td>-46.584</td>\n",
       "      <td>-60.923</td>\n",
       "      <td>3.880000e+49</td>\n",
       "      <td>0.056</td>\n",
       "      <td>27.85</td>\n",
       "    </tr>\n",
       "    <tr>\n",
       "      <th>000373_0810</th>\n",
       "      <td>20</td>\n",
       "      <td>south</td>\n",
       "      <td>30</td>\n",
       "      <td>10000</td>\n",
       "      <td>True</td>\n",
       "      <td>609</td>\n",
       "      <td>5388</td>\n",
       "      <td>5997</td>\n",
       "      <td>810</td>\n",
       "      <td>373</td>\n",
       "      <td>-46.584</td>\n",
       "      <td>-60.923</td>\n",
       "      <td>3.880000e+49</td>\n",
       "      <td>0.056</td>\n",
       "      <td>27.85</td>\n",
       "    </tr>\n",
       "    <tr>\n",
       "      <th>...</th>\n",
       "      <td>...</td>\n",
       "      <td>...</td>\n",
       "      <td>...</td>\n",
       "      <td>...</td>\n",
       "      <td>...</td>\n",
       "      <td>...</td>\n",
       "      <td>...</td>\n",
       "      <td>...</td>\n",
       "      <td>...</td>\n",
       "      <td>...</td>\n",
       "      <td>...</td>\n",
       "      <td>...</td>\n",
       "      <td>...</td>\n",
       "      <td>...</td>\n",
       "      <td>...</td>\n",
       "    </tr>\n",
       "    <tr>\n",
       "      <th>000164_0562</th>\n",
       "      <td>40</td>\n",
       "      <td>north</td>\n",
       "      <td>40</td>\n",
       "      <td>10000</td>\n",
       "      <td>True</td>\n",
       "      <td>8</td>\n",
       "      <td>77</td>\n",
       "      <td>85</td>\n",
       "      <td>562</td>\n",
       "      <td>164</td>\n",
       "      <td>-141.295</td>\n",
       "      <td>57.538</td>\n",
       "      <td>3.330000e+49</td>\n",
       "      <td>0.074</td>\n",
       "      <td>6.96</td>\n",
       "    </tr>\n",
       "    <tr>\n",
       "      <th>000164_0562</th>\n",
       "      <td>40</td>\n",
       "      <td>north</td>\n",
       "      <td>40</td>\n",
       "      <td>10000</td>\n",
       "      <td>True</td>\n",
       "      <td>10</td>\n",
       "      <td>92</td>\n",
       "      <td>102</td>\n",
       "      <td>562</td>\n",
       "      <td>164</td>\n",
       "      <td>-141.295</td>\n",
       "      <td>57.538</td>\n",
       "      <td>3.330000e+49</td>\n",
       "      <td>0.074</td>\n",
       "      <td>6.96</td>\n",
       "    </tr>\n",
       "    <tr>\n",
       "      <th>000297_0865</th>\n",
       "      <td>40</td>\n",
       "      <td>south</td>\n",
       "      <td>40</td>\n",
       "      <td>10000</td>\n",
       "      <td>False</td>\n",
       "      <td>-1</td>\n",
       "      <td>5388</td>\n",
       "      <td>-1</td>\n",
       "      <td>865</td>\n",
       "      <td>297</td>\n",
       "      <td>37.088</td>\n",
       "      <td>-36.200</td>\n",
       "      <td>3.070000e+51</td>\n",
       "      <td>0.033</td>\n",
       "      <td>51.64</td>\n",
       "    </tr>\n",
       "    <tr>\n",
       "      <th>000297_0865</th>\n",
       "      <td>40</td>\n",
       "      <td>south</td>\n",
       "      <td>40</td>\n",
       "      <td>10000</td>\n",
       "      <td>False</td>\n",
       "      <td>-1</td>\n",
       "      <td>3722</td>\n",
       "      <td>-1</td>\n",
       "      <td>865</td>\n",
       "      <td>297</td>\n",
       "      <td>37.088</td>\n",
       "      <td>-36.200</td>\n",
       "      <td>3.070000e+51</td>\n",
       "      <td>0.033</td>\n",
       "      <td>51.64</td>\n",
       "    </tr>\n",
       "    <tr>\n",
       "      <th>000297_0865</th>\n",
       "      <td>40</td>\n",
       "      <td>south</td>\n",
       "      <td>40</td>\n",
       "      <td>10000</td>\n",
       "      <td>False</td>\n",
       "      <td>-1</td>\n",
       "      <td>1227</td>\n",
       "      <td>-1</td>\n",
       "      <td>865</td>\n",
       "      <td>297</td>\n",
       "      <td>37.088</td>\n",
       "      <td>-36.200</td>\n",
       "      <td>3.070000e+51</td>\n",
       "      <td>0.033</td>\n",
       "      <td>51.64</td>\n",
       "    </tr>\n",
       "  </tbody>\n",
       "</table>\n",
       "<p>67008 rows × 15 columns</p>\n",
       "</div>"
      ],
      "text/plain": [
       "             zenith   site  min_energy  max_energy   seen  obs_time  \\\n",
       "000373_0810      20  south          30       10000   True        72   \n",
       "000373_0810      20  south          30       10000   True      1055   \n",
       "000373_0810      20  south          30       10000   True         2   \n",
       "000373_0810      20  south          30       10000   True        43   \n",
       "000373_0810      20  south          30       10000   True       609   \n",
       "...             ...    ...         ...         ...    ...       ...   \n",
       "000164_0562      40  north          40       10000   True         8   \n",
       "000164_0562      40  north          40       10000   True        10   \n",
       "000297_0865      40  south          40       10000  False        -1   \n",
       "000297_0865      40  south          40       10000  False        -1   \n",
       "000297_0865      40  south          40       10000  False        -1   \n",
       "\n",
       "             start_time  end_time  run   id       ra     dec          eiso  \\\n",
       "000373_0810        1227      1299  810  373  -46.584 -60.923  3.880000e+49   \n",
       "000373_0810        7801      8856  810  373  -46.584 -60.923  3.880000e+49   \n",
       "000373_0810          44        46  810  373  -46.584 -60.923  3.880000e+49   \n",
       "000373_0810         847       890  810  373  -46.584 -60.923  3.880000e+49   \n",
       "000373_0810        5388      5997  810  373  -46.584 -60.923  3.880000e+49   \n",
       "...                 ...       ...  ...  ...      ...     ...           ...   \n",
       "000164_0562          77        85  562  164 -141.295  57.538  3.330000e+49   \n",
       "000164_0562          92       102  562  164 -141.295  57.538  3.330000e+49   \n",
       "000297_0865        5388        -1  865  297   37.088 -36.200  3.070000e+51   \n",
       "000297_0865        3722        -1  865  297   37.088 -36.200  3.070000e+51   \n",
       "000297_0865        1227        -1  865  297   37.088 -36.200  3.070000e+51   \n",
       "\n",
       "                 z  angle  \n",
       "000373_0810  0.056  27.85  \n",
       "000373_0810  0.056  27.85  \n",
       "000373_0810  0.056  27.85  \n",
       "000373_0810  0.056  27.85  \n",
       "000373_0810  0.056  27.85  \n",
       "...            ...    ...  \n",
       "000164_0562  0.074   6.96  \n",
       "000164_0562  0.074   6.96  \n",
       "000297_0865  0.033  51.64  \n",
       "000297_0865  0.033  51.64  \n",
       "000297_0865  0.033  51.64  \n",
       "\n",
       "[67008 rows x 15 columns]"
      ]
     },
     "execution_count": 1031,
     "metadata": {},
     "output_type": "execute_result"
    }
   ],
   "source": [
    "v2"
   ]
  },
  {
   "cell_type": "code",
   "execution_count": 1049,
   "id": "political-married",
   "metadata": {
    "vscode": {
     "languageId": "python"
    }
   },
   "outputs": [
    {
     "name": "stdout",
     "output_type": "stream",
     "text": [
      "Plot settings file found!\n"
     ]
    },
    {
     "data": {
      "image/png": "[encoded data removed]",
      "text/plain": [
       "<Figure size 648x648 with 2 Axes>"
      ]
     },
     "metadata": {},
     "output_type": "display_data"
    }
   ],
   "source": [
    "# load in the settings\n",
    "with open(\"./plot_settings.yaml\") as file:\n",
    "    print(\"Plot settings file found!\")\n",
    "    parsed_yaml_file = yaml.load(file, Loader=yaml.FullLoader)\n",
    "\n",
    "input_file = parsed_yaml_file[\"input_file\"]\n",
    "output_dir = parsed_yaml_file[\"output_directory\"]\n",
    "sites = parsed_yaml_file[\"sites\"]\n",
    "zeniths = parsed_yaml_file[\"zeniths\"]\n",
    "obs_times = parsed_yaml_file[\"observation_times\"]\n",
    "annotate = parsed_yaml_file[\"show_percents\"]\n",
    "log_scale = parsed_yaml_file[\"log_scale\"]\n",
    "color_scheme = parsed_yaml_file[\"color_scheme\"]\n",
    "x_tick_labels = parsed_yaml_file.get(\"x_tick_labels\")\n",
    "y_tick_labels = parsed_yaml_file.get(\"y_tick_labels\")\n",
    "min_value = parsed_yaml_file[\"min_value\"]\n",
    "max_value = parsed_yaml_file[\"max_value\"]\n",
    "\n",
    "\n",
    "######\n",
    "\n",
    "reduce = v2.angle > 10\n",
    "\n",
    "gwp.plot_toy(\n",
    "    data=v2[reduce],\n",
    "    output_dir=\"v2_tests\",\n",
    "    site=\"south\",\n",
    "    zenith=20,\n",
    "    min_value=0,\n",
    "    max_value=100,\n",
    "    color_scheme=\"mako\",\n",
    "    show_only = True\n",
    ")"
   ]
  },
  {
   "cell_type": "code",
   "execution_count": 1059,
   "id": "verified-bloom",
   "metadata": {
    "vscode": {
     "languageId": "python"
    }
   },
   "outputs": [
    {
     "data": {
      "text/plain": [
       "9.19361400462963"
      ]
     },
     "execution_count": 1059,
     "metadata": {},
     "output_type": "execute_result"
    }
   ],
   "source": [
    "the_grb.time[-1]/(24*3600)"
   ]
  },
  {
   "cell_type": "code",
   "execution_count": 1080,
   "id": "impaired-helen",
   "metadata": {
    "vscode": {
     "languageId": "python"
    }
   },
   "outputs": [
    {
     "data": {
      "text/plain": [
       "False"
      ]
     },
     "execution_count": 1080,
     "metadata": {},
     "output_type": "execute_result"
    }
   ],
   "source": [
    "isinstance(v2, type(None))"
   ]
  },
  {
   "cell_type": "code",
   "execution_count": 1063,
   "id": "textile-baghdad",
   "metadata": {
    "vscode": {
     "languageId": "python"
    }
   },
   "outputs": [
    {
     "data": {
      "text/plain": [
       "777600"
      ]
     },
     "execution_count": 1063,
     "metadata": {},
     "output_type": "execute_result"
    }
   ],
   "source": [
    "9*24*3600"
   ]
  },
  {
   "cell_type": "code",
   "execution_count": 1065,
   "id": "happy-vampire",
   "metadata": {
    "vscode": {
     "languageId": "python"
    }
   },
   "outputs": [
    {
     "name": "stdout",
     "output_type": "stream",
     "text": [
      "time_delays:  # in seconds\n",
      "# log scale from 10s to 9 days (50 bins)\n",
      "    - 10\n",
      "    - 13\n",
      "    - 16\n",
      "    - 20\n",
      "    - 25\n",
      "    - 32\n",
      "    - 40\n",
      "    - 50\n",
      "    - 63\n",
      "    - 79\n",
      "    - 100\n",
      "    - 125\n",
      "    - 158\n",
      "    - 198\n",
      "    - 250\n",
      "    - 314\n",
      "    - 395\n",
      "    - 497\n",
      "    - 626\n",
      "    - 788\n",
      "    - 991\n",
      "    - 1247\n",
      "    - 1570\n",
      "    - 1975\n",
      "    - 2486\n",
      "    - 3128\n",
      "    - 3936\n",
      "    - 4953\n",
      "    - 6233\n",
      "    - 7844\n",
      "    - 9871\n",
      "    - 12421\n",
      "    - 15630\n",
      "    - 19669\n",
      "    - 24751\n",
      "    - 31146\n",
      "    - 39193\n",
      "    - 49320\n",
      "    - 62063\n",
      "    - 78099\n",
      "    - 98277\n",
      "    - 123670\n",
      "    - 155624\n",
      "    - 195834\n",
      "    - 246433\n",
      "    - 310106\n",
      "    - 390231\n",
      "    - 491059\n",
      "    - 617938\n",
      "    - 777600\n"
     ]
    }
   ],
   "source": [
    "print(\"time_delays:  # in seconds\\n# log scale from 10s to 9 days (50 bins)\")\n",
    "for i in np.logspace(1, np.log10(9*24*3600), 50):\n",
    "    print(f\"    - {round(i)}\")"
   ]
  },
  {
   "cell_type": "code",
   "execution_count": null,
   "id": "distinguished-miniature",
   "metadata": {
    "vscode": {
     "languageId": "python"
    }
   },
   "outputs": [],
   "source": []
  }
 ],
 "metadata": {
  "kernelspec": {
   "display_name": "gw-toy",
   "language": "python",
   "name": "gw-toy"
  }
 },
 "nbformat": 4,
 "nbformat_minor": 5
}
