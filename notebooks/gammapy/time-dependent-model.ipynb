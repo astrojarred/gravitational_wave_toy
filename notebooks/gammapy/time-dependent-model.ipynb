{
 "cells": [
  {
   "cell_type": "markdown",
   "metadata": {},
   "source": [
    "# Create a time-dependent GRB class"
   ]
  },
  {
   "cell_type": "markdown",
   "metadata": {},
   "source": [
    "### Units\n",
    "- FITS GRB files\n",
    "  - time [s]\n",
    "  - energy [GeV]\n",
    "  - spectral flux [ph/cm2/s/GeV]\n",
    "- ctools grbsens outputs\n",
    "  - prefactor [ph/cm2/s/MeV]\n",
    "  - pivot energy [MeV]\n",
    "  - emin/emax [TeV]\n",
    "  - photon flux [ph/cm2/s]\n",
    "  - sensitivity [erg/cm2/s]\n",
    "\n",
    "Things to check\n",
    "- Sensitivity vs. Time curves (compare photon fluxes)\n",
    "- Compare power law used in each time bin\n",
    "- Compare observation times of GRBs"
   ]
  },
  {
   "cell_type": "code",
   "execution_count": 1,
   "metadata": {},
   "outputs": [],
   "source": [
    "import random\n",
    "from pathlib import Path\n",
    "\n",
    "import astropy.units as u\n",
    "\n",
    "# %matplotlib inline\n",
    "import matplotlib.pyplot as plt\n",
    "import numpy as np\n",
    "import pandas as pd\n",
    "import seaborn as sns\n",
    "from gammapy.modeling.models import PowerLawSpectralModel\n",
    "from tqdm import tqdm\n",
    "\n",
    "from gravitational_wave_toy.ctairf import IRFHouse\n",
    "from gravitational_wave_toy.observe import GRB, oGRB\n",
    "from gravitational_wave_toy.sensitivity import SensitivityCtools, SensitivityGammapy\n",
    "from gravitational_wave_toy.util import suppress_warnings_and_logs\n",
    "from gravitational_wave_toy.logging import logger as logging\n",
    "\n",
    "sns.set()\n",
    "    \n",
    "# set logging level to debug\n",
    "# logging.basicConfig(level=logging.DEBUG)\n",
    "logger = logging(__name__)"
   ]
  },
  {
   "cell_type": "markdown",
   "metadata": {},
   "source": [
    "# Comparing sensitivities\n",
    "- Prod5-v0.1 [alpha config], South, z20, 0.5h"
   ]
  },
  {
   "cell_type": "code",
   "execution_count": 2,
   "metadata": {},
   "outputs": [],
   "source": [
    "# load in the IRF\n",
    "\n",
    "house = IRFHouse(base_directory=\"/Users/jarred/Documents/Work/CTA-IRFs\")\n",
    "\n",
    "irf20 = house.get_irf(\n",
    "    site=\"south\",\n",
    "    configuration=\"alpha\",\n",
    "    zenith=20,\n",
    "    duration=1800,\n",
    "    azimuth=\"average\",\n",
    "    version=\"prod5-v0.1\",\n",
    ")"
   ]
  },
  {
   "cell_type": "code",
   "execution_count": 3,
   "metadata": {},
   "outputs": [],
   "source": [
    "# load in the sensitivity files\n",
    "sens_ctools = SensitivityCtools(\n",
    "    \"/Users/jarred/Documents/Work/gravitational_wave_toy/CTA_sensitivity/grbsens_output_v3_Sep_2022/alpha_configuration/grbsens-5.0sigma_t1s-t16384s_irf-South_z20_0.5h.txt\",\n",
    "    min_energy=30 * u.GeV,\n",
    "    max_energy=10000 * u.GeV,\n",
    "    mode=\"sensitivity\"\n",
    ")\n",
    "\n",
    "sens_gamma = SensitivityGammapy(\n",
    "    irf=irf20,\n",
    "    observatory=f\"cta_{irf20.site.name}\",\n",
    "    min_energy=30 * u.GeV,\n",
    "    max_energy=10000 * u.GeV,\n",
    "    radius=3.0 * u.deg,\n",
    ")\n",
    "\n",
    "time_bins = np.array([2**i for i in range(0, 15, 1)]) * u.s"
   ]
  },
  {
   "cell_type": "code",
   "execution_count": 4,
   "metadata": {},
   "outputs": [],
   "source": [
    "# get ctools photon flux curve\n",
    "\n",
    "ctools_unit = sens_ctools.get(t=1*u.s).unit\n",
    "ctools_res = np.array([sens_ctools.get(t=t).value for t in time_bins]) * ctools_unit\n",
    "\n"
   ]
  },
  {
   "cell_type": "code",
   "execution_count": 6,
   "metadata": {},
   "outputs": [
    {
     "ename": "UnitConversionError",
     "evalue": "'' (dimensionless) and 'deg' (angle) are not convertible",
     "output_type": "error",
     "traceback": [
      "\u001b[0;31m---------------------------------------------------------------------------\u001b[0m",
      "\u001b[0;31mUnitConversionError\u001b[0m                       Traceback (most recent call last)",
      "\u001b[0;32m~/Documents/Work/gravitational_wave_toy/.venv/lib/python3.10/site-packages/astropy/units/quantity.py\u001b[0m in \u001b[0;36mto_value\u001b[0;34m(self, unit, equivalencies)\u001b[0m\n\u001b[1;32m    981\u001b[0m             \u001b[0;32mtry\u001b[0m\u001b[0;34m:\u001b[0m\u001b[0;34m\u001b[0m\u001b[0;34m\u001b[0m\u001b[0m\n\u001b[0;32m--> 982\u001b[0;31m                 \u001b[0mscale\u001b[0m \u001b[0;34m=\u001b[0m \u001b[0mself\u001b[0m\u001b[0;34m.\u001b[0m\u001b[0munit\u001b[0m\u001b[0;34m.\u001b[0m\u001b[0m_to\u001b[0m\u001b[0;34m(\u001b[0m\u001b[0munit\u001b[0m\u001b[0;34m)\u001b[0m\u001b[0;34m\u001b[0m\u001b[0;34m\u001b[0m\u001b[0m\n\u001b[0m\u001b[1;32m    983\u001b[0m             \u001b[0;32mexcept\u001b[0m \u001b[0mException\u001b[0m\u001b[0;34m:\u001b[0m\u001b[0;34m\u001b[0m\u001b[0;34m\u001b[0m\u001b[0m\n",
      "\u001b[0;32m~/Documents/Work/gravitational_wave_toy/.venv/lib/python3.10/site-packages/astropy/units/core.py\u001b[0m in \u001b[0;36m_to\u001b[0;34m(self, other)\u001b[0m\n\u001b[1;32m   1158\u001b[0m \u001b[0;34m\u001b[0m\u001b[0m\n\u001b[0;32m-> 1159\u001b[0;31m         \u001b[0;32mraise\u001b[0m \u001b[0mUnitConversionError\u001b[0m\u001b[0;34m(\u001b[0m\u001b[0;34mf\"'{self!r}' is not a scaled version of '{other!r}'\"\u001b[0m\u001b[0;34m)\u001b[0m\u001b[0;34m\u001b[0m\u001b[0;34m\u001b[0m\u001b[0m\n\u001b[0m\u001b[1;32m   1160\u001b[0m \u001b[0;34m\u001b[0m\u001b[0m\n",
      "\u001b[0;31mUnitConversionError\u001b[0m: 'Unit(dimensionless)' is not a scaled version of 'Unit(\"deg\")'",
      "\nDuring handling of the above exception, another exception occurred:\n",
      "\u001b[0;31mUnitConversionError\u001b[0m                       Traceback (most recent call last)",
      "\u001b[0;32m<ipython-input-6-11c424ec87bb>\u001b[0m in \u001b[0;36m<cell line: 6>\u001b[0;34m()\u001b[0m\n\u001b[1;32m      4\u001b[0m \u001b[0mpivot\u001b[0m \u001b[0;34m=\u001b[0m \u001b[0;36m1\u001b[0m \u001b[0;34m*\u001b[0m \u001b[0mu\u001b[0m\u001b[0;34m.\u001b[0m\u001b[0mGeV\u001b[0m\u001b[0;34m\u001b[0m\u001b[0;34m\u001b[0m\u001b[0m\n\u001b[1;32m      5\u001b[0m \u001b[0;31m# gamma_unit = sens_gamma.get(t=1*u.s, index=index, amplitude=amplitude, reference=pivot, mode=\"sensitivity\")\u001b[0m\u001b[0;34m\u001b[0m\u001b[0;34m\u001b[0m\u001b[0m\n\u001b[0;32m----> 6\u001b[0;31m gamma_res = np.array([\n\u001b[0m\u001b[1;32m      7\u001b[0m     sens_gamma.get(\n\u001b[1;32m      8\u001b[0m         \u001b[0mt\u001b[0m\u001b[0;34m=\u001b[0m\u001b[0mt\u001b[0m\u001b[0;34m.\u001b[0m\u001b[0mvalue\u001b[0m\u001b[0;34m,\u001b[0m \u001b[0mindex\u001b[0m\u001b[0;34m=\u001b[0m\u001b[0mindex\u001b[0m\u001b[0;34m,\u001b[0m \u001b[0mamplitude\u001b[0m\u001b[0;34m=\u001b[0m\u001b[0mamplitude\u001b[0m\u001b[0;34m,\u001b[0m \u001b[0mreference\u001b[0m\u001b[0;34m=\u001b[0m\u001b[0mpivot\u001b[0m\u001b[0;34m,\u001b[0m \u001b[0mmode\u001b[0m\u001b[0;34m=\u001b[0m\u001b[0;34m\"sensitivity\"\u001b[0m\u001b[0;34m\u001b[0m\u001b[0;34m\u001b[0m\u001b[0m\n",
      "\u001b[0;32m<ipython-input-6-11c424ec87bb>\u001b[0m in \u001b[0;36m<listcomp>\u001b[0;34m(.0)\u001b[0m\n\u001b[1;32m      5\u001b[0m \u001b[0;31m# gamma_unit = sens_gamma.get(t=1*u.s, index=index, amplitude=amplitude, reference=pivot, mode=\"sensitivity\")\u001b[0m\u001b[0;34m\u001b[0m\u001b[0;34m\u001b[0m\u001b[0m\n\u001b[1;32m      6\u001b[0m gamma_res = np.array([\n\u001b[0;32m----> 7\u001b[0;31m     sens_gamma.get(\n\u001b[0m\u001b[1;32m      8\u001b[0m         \u001b[0mt\u001b[0m\u001b[0;34m=\u001b[0m\u001b[0mt\u001b[0m\u001b[0;34m.\u001b[0m\u001b[0mvalue\u001b[0m\u001b[0;34m,\u001b[0m \u001b[0mindex\u001b[0m\u001b[0;34m=\u001b[0m\u001b[0mindex\u001b[0m\u001b[0;34m,\u001b[0m \u001b[0mamplitude\u001b[0m\u001b[0;34m=\u001b[0m\u001b[0mamplitude\u001b[0m\u001b[0;34m,\u001b[0m \u001b[0mreference\u001b[0m\u001b[0;34m=\u001b[0m\u001b[0mpivot\u001b[0m\u001b[0;34m,\u001b[0m \u001b[0mmode\u001b[0m\u001b[0;34m=\u001b[0m\u001b[0;34m\"sensitivity\"\u001b[0m\u001b[0;34m\u001b[0m\u001b[0;34m\u001b[0m\u001b[0m\n\u001b[1;32m      9\u001b[0m     ).value for t in time_bins\n",
      "\u001b[0;32m~/Documents/Work/gravitational_wave_toy/gravitational_wave_toy/sensitivity.py\u001b[0m in \u001b[0;36mget\u001b[0;34m(self, t, index, amplitude, reference, mode, **kwargs)\u001b[0m\n\u001b[1;32m    149\u001b[0m \u001b[0;34m\u001b[0m\u001b[0m\n\u001b[1;32m    150\u001b[0m         \u001b[0;32mwith\u001b[0m \u001b[0msuppress_warnings_and_logs\u001b[0m\u001b[0;34m(\u001b[0m\u001b[0mlogging_ok\u001b[0m\u001b[0;34m=\u001b[0m\u001b[0;32mTrue\u001b[0m\u001b[0;34m)\u001b[0m\u001b[0;34m:\u001b[0m\u001b[0;34m\u001b[0m\u001b[0;34m\u001b[0m\u001b[0m\n\u001b[0;32m--> 151\u001b[0;31m             sens_table = gamma_sens_old(\n\u001b[0m\u001b[1;32m    152\u001b[0m                 \u001b[0mirf\u001b[0m\u001b[0;34m=\u001b[0m\u001b[0mself\u001b[0m\u001b[0;34m.\u001b[0m\u001b[0mirf\u001b[0m\u001b[0;34m,\u001b[0m\u001b[0;34m\u001b[0m\u001b[0;34m\u001b[0m\u001b[0m\n\u001b[1;32m    153\u001b[0m                 \u001b[0mobservatory\u001b[0m\u001b[0;34m=\u001b[0m\u001b[0mself\u001b[0m\u001b[0;34m.\u001b[0m\u001b[0mobservatory\u001b[0m\u001b[0;34m,\u001b[0m\u001b[0;34m\u001b[0m\u001b[0;34m\u001b[0m\u001b[0m\n",
      "\u001b[0;32m~/Documents/Work/gravitational_wave_toy/gravitational_wave_toy/sensitivity.py\u001b[0m in \u001b[0;36mgamma_sens_old\u001b[0;34m(irf, observatory, duration, radius, min_energy, max_energy, model, source_ra, source_dec, sigma, bins, offset, acceptance, acceptance_off, bkg_syst_fraction)\u001b[0m\n\u001b[1;32m    426\u001b[0m \u001b[0;34m\u001b[0m\u001b[0m\n\u001b[1;32m    427\u001b[0m     \u001b[0;31m# Define on region radius\u001b[0m\u001b[0;34m\u001b[0m\u001b[0;34m\u001b[0m\u001b[0m\n\u001b[0;32m--> 428\u001b[0;31m     on_radii = obs.psf.containment_radius(\n\u001b[0m\u001b[1;32m    429\u001b[0m         \u001b[0menergy_true\u001b[0m\u001b[0;34m=\u001b[0m\u001b[0menergy_axis\u001b[0m\u001b[0;34m.\u001b[0m\u001b[0mcenter\u001b[0m\u001b[0;34m,\u001b[0m \u001b[0moffset\u001b[0m\u001b[0;34m=\u001b[0m\u001b[0moffset\u001b[0m\u001b[0;34m,\u001b[0m \u001b[0mfraction\u001b[0m\u001b[0;34m=\u001b[0m\u001b[0mcontainment\u001b[0m\u001b[0;34m\u001b[0m\u001b[0;34m\u001b[0m\u001b[0m\n\u001b[1;32m    430\u001b[0m     )\n",
      "\u001b[0;32m~/Documents/Work/gravitational_wave_toy/.venv/lib/python3.10/site-packages/gammapy/irf/psf/core.py\u001b[0m in \u001b[0;36mcontainment_radius\u001b[0;34m(self, fraction, factor, **kwargs)\u001b[0m\n\u001b[1;32m     68\u001b[0m         \u001b[0maxis\u001b[0m \u001b[0;34m=\u001b[0m \u001b[0mtuple\u001b[0m\u001b[0;34m(\u001b[0m\u001b[0mrange\u001b[0m\u001b[0;34m(\u001b[0m\u001b[0moutput\u001b[0m\u001b[0;34m.\u001b[0m\u001b[0mndim\u001b[0m\u001b[0;34m)\u001b[0m\u001b[0;34m)\u001b[0m\u001b[0;34m\u001b[0m\u001b[0;34m\u001b[0m\u001b[0m\n\u001b[1;32m     69\u001b[0m         \u001b[0mrad\u001b[0m \u001b[0;34m=\u001b[0m \u001b[0mnp\u001b[0m\u001b[0;34m.\u001b[0m\u001b[0mexpand_dims\u001b[0m\u001b[0;34m(\u001b[0m\u001b[0mrad\u001b[0m\u001b[0;34m,\u001b[0m \u001b[0maxis\u001b[0m\u001b[0;34m=\u001b[0m\u001b[0maxis\u001b[0m\u001b[0;34m)\u001b[0m\u001b[0;34m.\u001b[0m\u001b[0mT\u001b[0m\u001b[0;34m\u001b[0m\u001b[0;34m\u001b[0m\u001b[0m\n\u001b[0;32m---> 70\u001b[0;31m         \u001b[0mcontainment\u001b[0m \u001b[0;34m=\u001b[0m \u001b[0mself\u001b[0m\u001b[0;34m.\u001b[0m\u001b[0mcontainment\u001b[0m\u001b[0;34m(\u001b[0m\u001b[0mrad\u001b[0m\u001b[0;34m=\u001b[0m\u001b[0mrad\u001b[0m\u001b[0;34m,\u001b[0m \u001b[0;34m**\u001b[0m\u001b[0mkwargs\u001b[0m\u001b[0;34m)\u001b[0m\u001b[0;34m\u001b[0m\u001b[0;34m\u001b[0m\u001b[0m\n\u001b[0m\u001b[1;32m     71\u001b[0m \u001b[0;34m\u001b[0m\u001b[0m\n\u001b[1;32m     72\u001b[0m         \u001b[0mfraction_idx\u001b[0m \u001b[0;34m=\u001b[0m \u001b[0mnp\u001b[0m\u001b[0;34m.\u001b[0m\u001b[0margmin\u001b[0m\u001b[0;34m(\u001b[0m\u001b[0mnp\u001b[0m\u001b[0;34m.\u001b[0m\u001b[0mabs\u001b[0m\u001b[0;34m(\u001b[0m\u001b[0mcontainment\u001b[0m \u001b[0;34m-\u001b[0m \u001b[0mfraction\u001b[0m\u001b[0;34m)\u001b[0m\u001b[0;34m,\u001b[0m \u001b[0maxis\u001b[0m\u001b[0;34m=\u001b[0m\u001b[0;36m0\u001b[0m\u001b[0;34m)\u001b[0m\u001b[0;34m\u001b[0m\u001b[0;34m\u001b[0m\u001b[0m\n",
      "\u001b[0;32m~/Documents/Work/gravitational_wave_toy/.venv/lib/python3.10/site-packages/gammapy/irf/psf/parametric.py\u001b[0m in \u001b[0;36mcontainment\u001b[0;34m(self, rad, **kwargs)\u001b[0m\n\u001b[1;32m    226\u001b[0m             \u001b[0mContainment\u001b[0m\u001b[0;34m\u001b[0m\u001b[0;34m\u001b[0m\u001b[0m\n\u001b[1;32m    227\u001b[0m         \"\"\"\n\u001b[0;32m--> 228\u001b[0;31m         \u001b[0mpars\u001b[0m \u001b[0;34m=\u001b[0m \u001b[0mself\u001b[0m\u001b[0;34m.\u001b[0m\u001b[0mevaluate_parameters\u001b[0m\u001b[0;34m(\u001b[0m\u001b[0;34m**\u001b[0m\u001b[0mkwargs\u001b[0m\u001b[0;34m)\u001b[0m\u001b[0;34m\u001b[0m\u001b[0;34m\u001b[0m\u001b[0m\n\u001b[0m\u001b[1;32m    229\u001b[0m         \u001b[0mcontainment\u001b[0m \u001b[0;34m=\u001b[0m \u001b[0mself\u001b[0m\u001b[0;34m.\u001b[0m\u001b[0mevaluate_containment\u001b[0m\u001b[0;34m(\u001b[0m\u001b[0mrad\u001b[0m\u001b[0;34m=\u001b[0m\u001b[0mrad\u001b[0m\u001b[0;34m,\u001b[0m \u001b[0;34m**\u001b[0m\u001b[0mpars\u001b[0m\u001b[0;34m)\u001b[0m\u001b[0;34m\u001b[0m\u001b[0;34m\u001b[0m\u001b[0m\n\u001b[1;32m    230\u001b[0m         \u001b[0;32mreturn\u001b[0m \u001b[0mcontainment\u001b[0m\u001b[0;34m\u001b[0m\u001b[0;34m\u001b[0m\u001b[0m\n",
      "\u001b[0;32m~/Documents/Work/gravitational_wave_toy/.venv/lib/python3.10/site-packages/gammapy/irf/psf/parametric.py\u001b[0m in \u001b[0;36mevaluate_parameters\u001b[0;34m(self, energy_true, offset)\u001b[0m\n\u001b[1;32m     97\u001b[0m         \u001b[0mpars\u001b[0m \u001b[0;34m=\u001b[0m \u001b[0;34m{\u001b[0m\u001b[0;34m}\u001b[0m\u001b[0;34m\u001b[0m\u001b[0;34m\u001b[0m\u001b[0m\n\u001b[1;32m     98\u001b[0m         \u001b[0;32mfor\u001b[0m \u001b[0mname\u001b[0m \u001b[0;32min\u001b[0m \u001b[0mself\u001b[0m\u001b[0;34m.\u001b[0m\u001b[0mrequired_parameters\u001b[0m\u001b[0;34m:\u001b[0m\u001b[0;34m\u001b[0m\u001b[0;34m\u001b[0m\u001b[0m\n\u001b[0;32m---> 99\u001b[0;31m             \u001b[0mvalue\u001b[0m \u001b[0;34m=\u001b[0m \u001b[0mself\u001b[0m\u001b[0;34m.\u001b[0m\u001b[0m_interpolators\u001b[0m\u001b[0;34m[\u001b[0m\u001b[0mname\u001b[0m\u001b[0;34m]\u001b[0m\u001b[0;34m(\u001b[0m\u001b[0;34m(\u001b[0m\u001b[0menergy_true\u001b[0m\u001b[0;34m,\u001b[0m \u001b[0moffset\u001b[0m\u001b[0;34m)\u001b[0m\u001b[0;34m)\u001b[0m\u001b[0;34m\u001b[0m\u001b[0;34m\u001b[0m\u001b[0m\n\u001b[0m\u001b[1;32m    100\u001b[0m             \u001b[0mpars\u001b[0m\u001b[0;34m[\u001b[0m\u001b[0mname\u001b[0m\u001b[0;34m]\u001b[0m \u001b[0;34m=\u001b[0m \u001b[0mvalue\u001b[0m\u001b[0;34m\u001b[0m\u001b[0;34m\u001b[0m\u001b[0m\n\u001b[1;32m    101\u001b[0m \u001b[0;34m\u001b[0m\u001b[0m\n",
      "\u001b[0;32m~/Documents/Work/gravitational_wave_toy/.venv/lib/python3.10/site-packages/gammapy/utils/interpolation.py\u001b[0m in \u001b[0;36m__call__\u001b[0;34m(self, points, method, clip, **kwargs)\u001b[0m\n\u001b[1;32m    113\u001b[0m             \u001b[0mClip\u001b[0m \u001b[0mvalues\u001b[0m \u001b[0mat\u001b[0m \u001b[0mzero\u001b[0m \u001b[0mafter\u001b[0m \u001b[0minterpolation\u001b[0m\u001b[0;34m.\u001b[0m\u001b[0;34m\u001b[0m\u001b[0;34m\u001b[0m\u001b[0m\n\u001b[1;32m    114\u001b[0m         \"\"\"\n\u001b[0;32m--> 115\u001b[0;31m         \u001b[0mpoints\u001b[0m \u001b[0;34m=\u001b[0m \u001b[0mself\u001b[0m\u001b[0;34m.\u001b[0m\u001b[0m_scale_points\u001b[0m\u001b[0;34m(\u001b[0m\u001b[0mpoints\u001b[0m\u001b[0;34m=\u001b[0m\u001b[0mpoints\u001b[0m\u001b[0;34m)\u001b[0m\u001b[0;34m\u001b[0m\u001b[0;34m\u001b[0m\u001b[0m\n\u001b[0m\u001b[1;32m    116\u001b[0m \u001b[0;34m\u001b[0m\u001b[0m\n\u001b[1;32m    117\u001b[0m         \u001b[0;32mif\u001b[0m \u001b[0mself\u001b[0m\u001b[0;34m.\u001b[0m\u001b[0maxis\u001b[0m \u001b[0;32mis\u001b[0m \u001b[0;32mNone\u001b[0m\u001b[0;34m:\u001b[0m\u001b[0;34m\u001b[0m\u001b[0;34m\u001b[0m\u001b[0m\n",
      "\u001b[0;32m~/Documents/Work/gravitational_wave_toy/.venv/lib/python3.10/site-packages/gammapy/utils/interpolation.py\u001b[0m in \u001b[0;36m_scale_points\u001b[0;34m(self, points)\u001b[0m\n\u001b[1;32m     92\u001b[0m \u001b[0;34m\u001b[0m\u001b[0m\n\u001b[1;32m     93\u001b[0m     \u001b[0;32mdef\u001b[0m \u001b[0m_scale_points\u001b[0m\u001b[0;34m(\u001b[0m\u001b[0mself\u001b[0m\u001b[0;34m,\u001b[0m \u001b[0mpoints\u001b[0m\u001b[0;34m)\u001b[0m\u001b[0;34m:\u001b[0m\u001b[0;34m\u001b[0m\u001b[0;34m\u001b[0m\u001b[0m\n\u001b[0;32m---> 94\u001b[0;31m         \u001b[0mpoints_scaled\u001b[0m \u001b[0;34m=\u001b[0m \u001b[0;34m[\u001b[0m\u001b[0mscale\u001b[0m\u001b[0;34m(\u001b[0m\u001b[0mp\u001b[0m\u001b[0;34m)\u001b[0m \u001b[0;32mfor\u001b[0m \u001b[0mp\u001b[0m\u001b[0;34m,\u001b[0m \u001b[0mscale\u001b[0m \u001b[0;32min\u001b[0m \u001b[0mzip\u001b[0m\u001b[0;34m(\u001b[0m\u001b[0mpoints\u001b[0m\u001b[0;34m,\u001b[0m \u001b[0mself\u001b[0m\u001b[0;34m.\u001b[0m\u001b[0mscale_points\u001b[0m\u001b[0;34m)\u001b[0m\u001b[0;34m]\u001b[0m\u001b[0;34m\u001b[0m\u001b[0;34m\u001b[0m\u001b[0m\n\u001b[0m\u001b[1;32m     95\u001b[0m \u001b[0;34m\u001b[0m\u001b[0m\n\u001b[1;32m     96\u001b[0m         \u001b[0;32mif\u001b[0m \u001b[0mnp\u001b[0m\u001b[0;34m.\u001b[0m\u001b[0many\u001b[0m\u001b[0;34m(\u001b[0m\u001b[0mself\u001b[0m\u001b[0;34m.\u001b[0m\u001b[0m_include_dimensions\u001b[0m\u001b[0;34m)\u001b[0m\u001b[0;34m:\u001b[0m\u001b[0;34m\u001b[0m\u001b[0;34m\u001b[0m\u001b[0m\n",
      "\u001b[0;32m~/Documents/Work/gravitational_wave_toy/.venv/lib/python3.10/site-packages/gammapy/utils/interpolation.py\u001b[0m in \u001b[0;36m<listcomp>\u001b[0;34m(.0)\u001b[0m\n\u001b[1;32m     92\u001b[0m \u001b[0;34m\u001b[0m\u001b[0m\n\u001b[1;32m     93\u001b[0m     \u001b[0;32mdef\u001b[0m \u001b[0m_scale_points\u001b[0m\u001b[0;34m(\u001b[0m\u001b[0mself\u001b[0m\u001b[0;34m,\u001b[0m \u001b[0mpoints\u001b[0m\u001b[0;34m)\u001b[0m\u001b[0;34m:\u001b[0m\u001b[0;34m\u001b[0m\u001b[0;34m\u001b[0m\u001b[0m\n\u001b[0;32m---> 94\u001b[0;31m         \u001b[0mpoints_scaled\u001b[0m \u001b[0;34m=\u001b[0m \u001b[0;34m[\u001b[0m\u001b[0mscale\u001b[0m\u001b[0;34m(\u001b[0m\u001b[0mp\u001b[0m\u001b[0;34m)\u001b[0m \u001b[0;32mfor\u001b[0m \u001b[0mp\u001b[0m\u001b[0;34m,\u001b[0m \u001b[0mscale\u001b[0m \u001b[0;32min\u001b[0m \u001b[0mzip\u001b[0m\u001b[0;34m(\u001b[0m\u001b[0mpoints\u001b[0m\u001b[0;34m,\u001b[0m \u001b[0mself\u001b[0m\u001b[0;34m.\u001b[0m\u001b[0mscale_points\u001b[0m\u001b[0;34m)\u001b[0m\u001b[0;34m]\u001b[0m\u001b[0;34m\u001b[0m\u001b[0;34m\u001b[0m\u001b[0m\n\u001b[0m\u001b[1;32m     95\u001b[0m \u001b[0;34m\u001b[0m\u001b[0m\n\u001b[1;32m     96\u001b[0m         \u001b[0;32mif\u001b[0m \u001b[0mnp\u001b[0m\u001b[0;34m.\u001b[0m\u001b[0many\u001b[0m\u001b[0;34m(\u001b[0m\u001b[0mself\u001b[0m\u001b[0;34m.\u001b[0m\u001b[0m_include_dimensions\u001b[0m\u001b[0;34m)\u001b[0m\u001b[0;34m:\u001b[0m\u001b[0;34m\u001b[0m\u001b[0;34m\u001b[0m\u001b[0m\n",
      "\u001b[0;32m~/Documents/Work/gravitational_wave_toy/.venv/lib/python3.10/site-packages/gammapy/utils/interpolation.py\u001b[0m in \u001b[0;36m__call__\u001b[0;34m(self, values)\u001b[0m\n\u001b[1;32m    157\u001b[0m     \u001b[0;32mdef\u001b[0m \u001b[0m__call__\u001b[0m\u001b[0;34m(\u001b[0m\u001b[0mself\u001b[0m\u001b[0;34m,\u001b[0m \u001b[0mvalues\u001b[0m\u001b[0;34m)\u001b[0m\u001b[0;34m:\u001b[0m\u001b[0;34m\u001b[0m\u001b[0;34m\u001b[0m\u001b[0m\n\u001b[1;32m    158\u001b[0m         \u001b[0;32mif\u001b[0m \u001b[0mhasattr\u001b[0m\u001b[0;34m(\u001b[0m\u001b[0mself\u001b[0m\u001b[0;34m,\u001b[0m \u001b[0;34m\"_unit\"\u001b[0m\u001b[0;34m)\u001b[0m\u001b[0;34m:\u001b[0m\u001b[0;34m\u001b[0m\u001b[0;34m\u001b[0m\u001b[0m\n\u001b[0;32m--> 159\u001b[0;31m             \u001b[0mvalues\u001b[0m \u001b[0;34m=\u001b[0m \u001b[0mu\u001b[0m\u001b[0;34m.\u001b[0m\u001b[0mQuantity\u001b[0m\u001b[0;34m(\u001b[0m\u001b[0mvalues\u001b[0m\u001b[0;34m,\u001b[0m \u001b[0mcopy\u001b[0m\u001b[0;34m=\u001b[0m\u001b[0;32mFalse\u001b[0m\u001b[0;34m)\u001b[0m\u001b[0;34m.\u001b[0m\u001b[0mto_value\u001b[0m\u001b[0;34m(\u001b[0m\u001b[0mself\u001b[0m\u001b[0;34m.\u001b[0m\u001b[0m_unit\u001b[0m\u001b[0;34m)\u001b[0m\u001b[0;34m\u001b[0m\u001b[0;34m\u001b[0m\u001b[0m\n\u001b[0m\u001b[1;32m    160\u001b[0m         \u001b[0;32melse\u001b[0m\u001b[0;34m:\u001b[0m\u001b[0;34m\u001b[0m\u001b[0;34m\u001b[0m\u001b[0m\n\u001b[1;32m    161\u001b[0m             \u001b[0;32mif\u001b[0m \u001b[0misinstance\u001b[0m\u001b[0;34m(\u001b[0m\u001b[0mvalues\u001b[0m\u001b[0;34m,\u001b[0m \u001b[0mu\u001b[0m\u001b[0;34m.\u001b[0m\u001b[0mQuantity\u001b[0m\u001b[0;34m)\u001b[0m\u001b[0;34m:\u001b[0m\u001b[0;34m\u001b[0m\u001b[0;34m\u001b[0m\u001b[0m\n",
      "\u001b[0;32m~/Documents/Work/gravitational_wave_toy/.venv/lib/python3.10/site-packages/astropy/units/quantity.py\u001b[0m in \u001b[0;36mto_value\u001b[0;34m(self, unit, equivalencies)\u001b[0m\n\u001b[1;32m    983\u001b[0m             \u001b[0;32mexcept\u001b[0m \u001b[0mException\u001b[0m\u001b[0;34m:\u001b[0m\u001b[0;34m\u001b[0m\u001b[0;34m\u001b[0m\u001b[0m\n\u001b[1;32m    984\u001b[0m                 \u001b[0;31m# Short-cut failed; try default (maybe equivalencies help).\u001b[0m\u001b[0;34m\u001b[0m\u001b[0;34m\u001b[0m\u001b[0m\n\u001b[0;32m--> 985\u001b[0;31m                 \u001b[0mvalue\u001b[0m \u001b[0;34m=\u001b[0m \u001b[0mself\u001b[0m\u001b[0;34m.\u001b[0m\u001b[0m_to_value\u001b[0m\u001b[0;34m(\u001b[0m\u001b[0munit\u001b[0m\u001b[0;34m,\u001b[0m \u001b[0mequivalencies\u001b[0m\u001b[0;34m)\u001b[0m\u001b[0;34m\u001b[0m\u001b[0;34m\u001b[0m\u001b[0m\n\u001b[0m\u001b[1;32m    986\u001b[0m             \u001b[0;32melse\u001b[0m\u001b[0;34m:\u001b[0m\u001b[0;34m\u001b[0m\u001b[0;34m\u001b[0m\u001b[0m\n\u001b[1;32m    987\u001b[0m                 \u001b[0mvalue\u001b[0m \u001b[0;34m=\u001b[0m \u001b[0mself\u001b[0m\u001b[0;34m.\u001b[0m\u001b[0mview\u001b[0m\u001b[0;34m(\u001b[0m\u001b[0mnp\u001b[0m\u001b[0;34m.\u001b[0m\u001b[0mndarray\u001b[0m\u001b[0;34m)\u001b[0m\u001b[0;34m\u001b[0m\u001b[0;34m\u001b[0m\u001b[0m\n",
      "\u001b[0;32m~/Documents/Work/gravitational_wave_toy/.venv/lib/python3.10/site-packages/astropy/units/quantity.py\u001b[0m in \u001b[0;36m_to_value\u001b[0;34m(self, unit, equivalencies)\u001b[0m\n\u001b[1;32m    889\u001b[0m         \u001b[0;32mif\u001b[0m \u001b[0;32mnot\u001b[0m \u001b[0mself\u001b[0m\u001b[0;34m.\u001b[0m\u001b[0mdtype\u001b[0m\u001b[0;34m.\u001b[0m\u001b[0mnames\u001b[0m \u001b[0;32mor\u001b[0m \u001b[0misinstance\u001b[0m\u001b[0;34m(\u001b[0m\u001b[0mself\u001b[0m\u001b[0;34m.\u001b[0m\u001b[0munit\u001b[0m\u001b[0;34m,\u001b[0m \u001b[0mStructuredUnit\u001b[0m\u001b[0;34m)\u001b[0m\u001b[0;34m:\u001b[0m\u001b[0;34m\u001b[0m\u001b[0;34m\u001b[0m\u001b[0m\n\u001b[1;32m    890\u001b[0m             \u001b[0;31m# Standard path, let unit to do work.\u001b[0m\u001b[0;34m\u001b[0m\u001b[0;34m\u001b[0m\u001b[0m\n\u001b[0;32m--> 891\u001b[0;31m             return self.unit.to(\n\u001b[0m\u001b[1;32m    892\u001b[0m                 \u001b[0munit\u001b[0m\u001b[0;34m,\u001b[0m \u001b[0mself\u001b[0m\u001b[0;34m.\u001b[0m\u001b[0mview\u001b[0m\u001b[0;34m(\u001b[0m\u001b[0mnp\u001b[0m\u001b[0;34m.\u001b[0m\u001b[0mndarray\u001b[0m\u001b[0;34m)\u001b[0m\u001b[0;34m,\u001b[0m \u001b[0mequivalencies\u001b[0m\u001b[0;34m=\u001b[0m\u001b[0mequivalencies\u001b[0m\u001b[0;34m\u001b[0m\u001b[0;34m\u001b[0m\u001b[0m\n\u001b[1;32m    893\u001b[0m             )\n",
      "\u001b[0;32m~/Documents/Work/gravitational_wave_toy/.venv/lib/python3.10/site-packages/astropy/units/core.py\u001b[0m in \u001b[0;36mto\u001b[0;34m(self, other, value, equivalencies)\u001b[0m\n\u001b[1;32m   1193\u001b[0m             \u001b[0;32mreturn\u001b[0m \u001b[0mUNITY\u001b[0m\u001b[0;34m\u001b[0m\u001b[0;34m\u001b[0m\u001b[0m\n\u001b[1;32m   1194\u001b[0m         \u001b[0;32melse\u001b[0m\u001b[0;34m:\u001b[0m\u001b[0;34m\u001b[0m\u001b[0;34m\u001b[0m\u001b[0m\n\u001b[0;32m-> 1195\u001b[0;31m             \u001b[0;32mreturn\u001b[0m \u001b[0mself\u001b[0m\u001b[0;34m.\u001b[0m\u001b[0m_get_converter\u001b[0m\u001b[0;34m(\u001b[0m\u001b[0mUnit\u001b[0m\u001b[0;34m(\u001b[0m\u001b[0mother\u001b[0m\u001b[0;34m)\u001b[0m\u001b[0;34m,\u001b[0m \u001b[0mequivalencies\u001b[0m\u001b[0;34m)\u001b[0m\u001b[0;34m(\u001b[0m\u001b[0mvalue\u001b[0m\u001b[0;34m)\u001b[0m\u001b[0;34m\u001b[0m\u001b[0;34m\u001b[0m\u001b[0m\n\u001b[0m\u001b[1;32m   1196\u001b[0m \u001b[0;34m\u001b[0m\u001b[0m\n\u001b[1;32m   1197\u001b[0m     \u001b[0;32mdef\u001b[0m \u001b[0min_units\u001b[0m\u001b[0;34m(\u001b[0m\u001b[0mself\u001b[0m\u001b[0;34m,\u001b[0m \u001b[0mother\u001b[0m\u001b[0;34m,\u001b[0m \u001b[0mvalue\u001b[0m\u001b[0;34m=\u001b[0m\u001b[0;36m1.0\u001b[0m\u001b[0;34m,\u001b[0m \u001b[0mequivalencies\u001b[0m\u001b[0;34m=\u001b[0m\u001b[0;34m[\u001b[0m\u001b[0;34m]\u001b[0m\u001b[0;34m)\u001b[0m\u001b[0;34m:\u001b[0m\u001b[0;34m\u001b[0m\u001b[0;34m\u001b[0m\u001b[0m\n",
      "\u001b[0;32m~/Documents/Work/gravitational_wave_toy/.venv/lib/python3.10/site-packages/astropy/units/core.py\u001b[0m in \u001b[0;36m_get_converter\u001b[0;34m(self, other, equivalencies)\u001b[0m\n\u001b[1;32m   1122\u001b[0m                             \u001b[0;32mreturn\u001b[0m \u001b[0;32mlambda\u001b[0m \u001b[0mv\u001b[0m\u001b[0;34m:\u001b[0m \u001b[0mb\u001b[0m\u001b[0;34m(\u001b[0m\u001b[0mconverter\u001b[0m\u001b[0;34m(\u001b[0m\u001b[0mv\u001b[0m\u001b[0;34m)\u001b[0m\u001b[0;34m)\u001b[0m\u001b[0;34m\u001b[0m\u001b[0;34m\u001b[0m\u001b[0m\n\u001b[1;32m   1123\u001b[0m \u001b[0;34m\u001b[0m\u001b[0m\n\u001b[0;32m-> 1124\u001b[0;31m             \u001b[0;32mraise\u001b[0m \u001b[0mexc\u001b[0m\u001b[0;34m\u001b[0m\u001b[0;34m\u001b[0m\u001b[0m\n\u001b[0m\u001b[1;32m   1125\u001b[0m \u001b[0;34m\u001b[0m\u001b[0m\n\u001b[1;32m   1126\u001b[0m     \u001b[0;32mdef\u001b[0m \u001b[0m_to\u001b[0m\u001b[0;34m(\u001b[0m\u001b[0mself\u001b[0m\u001b[0;34m,\u001b[0m \u001b[0mother\u001b[0m\u001b[0;34m)\u001b[0m\u001b[0;34m:\u001b[0m\u001b[0;34m\u001b[0m\u001b[0;34m\u001b[0m\u001b[0m\n",
      "\u001b[0;32m~/Documents/Work/gravitational_wave_toy/.venv/lib/python3.10/site-packages/astropy/units/core.py\u001b[0m in \u001b[0;36m_get_converter\u001b[0;34m(self, other, equivalencies)\u001b[0m\n\u001b[1;32m   1105\u001b[0m         \u001b[0;31m# if that doesn't work, maybe we can do it with equivalencies?\u001b[0m\u001b[0;34m\u001b[0m\u001b[0;34m\u001b[0m\u001b[0m\n\u001b[1;32m   1106\u001b[0m         \u001b[0;32mtry\u001b[0m\u001b[0;34m:\u001b[0m\u001b[0;34m\u001b[0m\u001b[0;34m\u001b[0m\u001b[0m\n\u001b[0;32m-> 1107\u001b[0;31m             return self._apply_equivalencies(\n\u001b[0m\u001b[1;32m   1108\u001b[0m                 \u001b[0mself\u001b[0m\u001b[0;34m,\u001b[0m \u001b[0mother\u001b[0m\u001b[0;34m,\u001b[0m \u001b[0mself\u001b[0m\u001b[0;34m.\u001b[0m\u001b[0m_normalize_equivalencies\u001b[0m\u001b[0;34m(\u001b[0m\u001b[0mequivalencies\u001b[0m\u001b[0;34m)\u001b[0m\u001b[0;34m\u001b[0m\u001b[0;34m\u001b[0m\u001b[0m\n\u001b[1;32m   1109\u001b[0m             )\n",
      "\u001b[0;32m~/Documents/Work/gravitational_wave_toy/.venv/lib/python3.10/site-packages/astropy/units/core.py\u001b[0m in \u001b[0;36m_apply_equivalencies\u001b[0;34m(self, unit, other, equivalencies)\u001b[0m\n\u001b[1;32m   1083\u001b[0m         \u001b[0mother_str\u001b[0m \u001b[0;34m=\u001b[0m \u001b[0mget_err_str\u001b[0m\u001b[0;34m(\u001b[0m\u001b[0mother\u001b[0m\u001b[0;34m)\u001b[0m\u001b[0;34m\u001b[0m\u001b[0;34m\u001b[0m\u001b[0m\n\u001b[1;32m   1084\u001b[0m \u001b[0;34m\u001b[0m\u001b[0m\n\u001b[0;32m-> 1085\u001b[0;31m         \u001b[0;32mraise\u001b[0m \u001b[0mUnitConversionError\u001b[0m\u001b[0;34m(\u001b[0m\u001b[0;34mf\"{unit_str} and {other_str} are not convertible\"\u001b[0m\u001b[0;34m)\u001b[0m\u001b[0;34m\u001b[0m\u001b[0;34m\u001b[0m\u001b[0m\n\u001b[0m\u001b[1;32m   1086\u001b[0m \u001b[0;34m\u001b[0m\u001b[0m\n\u001b[1;32m   1087\u001b[0m     \u001b[0;32mdef\u001b[0m \u001b[0m_get_converter\u001b[0m\u001b[0;34m(\u001b[0m\u001b[0mself\u001b[0m\u001b[0;34m,\u001b[0m \u001b[0mother\u001b[0m\u001b[0;34m,\u001b[0m \u001b[0mequivalencies\u001b[0m\u001b[0;34m=\u001b[0m\u001b[0;34m[\u001b[0m\u001b[0;34m]\u001b[0m\u001b[0;34m)\u001b[0m\u001b[0;34m:\u001b[0m\u001b[0;34m\u001b[0m\u001b[0;34m\u001b[0m\u001b[0m\n",
      "\u001b[0;31mUnitConversionError\u001b[0m: '' (dimensionless) and 'deg' (angle) are not convertible"
     ]
    }
   ],
   "source": [
    "# get gammapy photon flux curve using a constant power law\n",
    "index = -2.1\n",
    "amplitude = 4.415e-13 / u.cm**2 / u.s / u.MeV \n",
    "pivot = 1 * u.GeV\n",
    "model = PowerLawSpectralModel(index=index, amplitude=amplitude, reference=pivot)\n",
    "# gamma_unit = sens_gamma.get(t=1*u.s, index=index, amplitude=amplitude, reference=pivot, mode=\"sensitivity\")\n",
    "gamma_res = np.array([\n",
    "    # sens_gamma.get(\n",
    "    #     t=t.value, index=index, amplitude=amplitude, reference=pivot, mode=\"sensitivity\"\n",
    "    # ).value for t in time_bins\n",
    "    gamma_sens_old(\n",
    "        irf=irf20,\n",
    "        observatory=f\"cta_{irf20.site.name}\",\n",
    "        duration=t,\n",
    "        radius=3.0,\n",
    "        min_energy=0.03,\n",
    "        max_energy=10,\n",
    "        model=model,\n",
    "    ) for t in time_bins\n",
    "])"
   ]
  },
  {
   "cell_type": "code",
   "execution_count": 25,
   "metadata": {},
   "outputs": [],
   "source": [
    "ctools_table = pd.read_csv(\n",
    "    \"/Users/jarred/Documents/Work/gravitational_wave_toy/CTA_sensitivity/grbsens_output_v3_Sep_2022/alpha_configuration/grbsens-5.0sigma_t1s-t16384s_irf-South_z20_0.5h.txt\",\n",
    "    sep=\"\\t\",\n",
    "    names=[\n",
    "            \"obs_time\",\n",
    "            \"crab_flux\",\n",
    "            \"photon_flux\",\n",
    "            \"energy_flux\",\n",
    "            \"sensitivity\",\n",
    "        ],\n",
    "    comment=\"#\",\n",
    ")"
   ]
  },
  {
   "cell_type": "code",
   "execution_count": 26,
   "metadata": {},
   "outputs": [
    {
     "data": {
      "text/plain": [
       "[<matplotlib.lines.Line2D at 0x16bc30d60>]"
      ]
     },
     "execution_count": 26,
     "metadata": {},
     "output_type": "execute_result"
    },
    {
     "data": {
      "image/png": "[encoded data removed]",
      "text/plain": [
       "<Figure size 432x288 with 1 Axes>"
      ]
     },
     "metadata": {
      "needs_background": "light"
     },
     "output_type": "display_data"
    }
   ],
   "source": [
    "plt.loglog(ctools_table[\"obs_time\"], ctools_table[\"photon_flux\"], label=\"ctools\")\n"
   ]
  },
  {
   "cell_type": "code",
   "execution_count": 48,
   "metadata": {},
   "outputs": [
    {
     "data": {
      "text/html": [
       "<div><i>Table length=1</i>\n",
       "<table id=\"table6441655968\" class=\"table-striped table-bordered table-condensed\">\n",
       "<thead><tr><th>energy</th><th>e_ref</th><th>e_min</th><th>e_max</th><th>e2dnde</th><th>excess</th><th>background</th><th>criterion</th></tr></thead>\n",
       "<thead><tr><th>TeV</th><th>TeV</th><th>TeV</th><th>TeV</th><th>erg / (s cm2)</th><th></th><th></th><th></th></tr></thead>\n",
       "<thead><tr><th>float64</th><th>float64</th><th>float64</th><th>float64</th><th>float64</th><th>float64</th><th>float64</th><th>bytes12</th></tr></thead>\n",
       "<tr><td>0.547723</td><td>0.547723</td><td>0.03</td><td>10</td><td>1.90767e-10</td><td>7.2289</td><td>0.0188119</td><td>significance</td></tr>\n",
       "</table></div>"
      ],
      "text/plain": [
       "<Table length=1>\n",
       " energy   e_ref    e_min   e_max      e2dnde     excess background  criterion  \n",
       "  TeV      TeV      TeV     TeV   erg / (s cm2)                                \n",
       "float64  float64  float64 float64    float64    float64  float64     bytes12   \n",
       "-------- -------- ------- ------- ------------- ------- ---------- ------------\n",
       "0.547723 0.547723    0.03      10   1.90767e-10  7.2289  0.0188119 significance"
      ]
     },
     "execution_count": 48,
     "metadata": {},
     "output_type": "execute_result"
    }
   ],
   "source": [
    "sens_gamma.get(t=1*u.s, index=index, amplitude=amplitude, reference=pivot, mode=\"sensitivity\")\n",
    "sens_gamma._last_table"
   ]
  },
  {
   "cell_type": "code",
   "execution_count": 56,
   "metadata": {},
   "outputs": [
    {
     "data": {
      "text/latex": [
       "$[7.9852937 \\times 10^{-11},~5.141365 \\times 10^{-11},~3.3102896 \\times 10^{-11},~2.1313439 \\times 10^{-11},~1.3722748 \\times 10^{-11},~8.835449 \\times 10^{-12},~5.6887411 \\times 10^{-12},~3.66272 \\times 10^{-12},~2.3582577 \\times 10^{-12},~1.5183742 \\times 10^{-12},~9.7761162 \\times 10^{-13},~6.2943936 \\times 10^{-13},~4.0526719 \\times 10^{-13},~2.6093299 \\times 10^{-13},~1.6800281 \\times 10^{-13}] \\; \\mathrm{\\frac{erg}{s\\,cm^{2}}}$"
      ],
      "text/plain": [
       "<Quantity [7.98529365e-11, 5.14136501e-11, 3.31028956e-11, 2.13134390e-11,\n",
       "           1.37227476e-11, 8.83544896e-12, 5.68874110e-12, 3.66271996e-12,\n",
       "           2.35825770e-12, 1.51837417e-12, 9.77611617e-13, 6.29439365e-13,\n",
       "           4.05267191e-13, 2.60932991e-13, 1.68002807e-13] erg / (s cm2)>"
      ]
     },
     "execution_count": 56,
     "metadata": {},
     "output_type": "execute_result"
    }
   ],
   "source": [
    "ctools_res"
   ]
  },
  {
   "cell_type": "code",
   "execution_count": 53,
   "metadata": {},
   "outputs": [
    {
     "data": {
      "text/latex": [
       "$[3.6392045 \\times 10^{-20},~1.8657332 \\times 10^{-20},~9.7087028 \\times 10^{-21},~5.1590354 \\times 10^{-21},~2.8168396 \\times 10^{-21},~1.5881425 \\times 10^{-21},~9.2686385 \\times 10^{-22},~5.5970559 \\times 10^{-22},~3.4876973 \\times 10^{-22},~2.2335846 \\times 10^{-22},~1.4635594 \\times 10^{-22},~9.7696323 \\times 10^{-23},~6.6177234 \\times 10^{-23},~4.5336658 \\times 10^{-23},~3.1326213 \\times 10^{-23}] \\; \\mathrm{\\frac{erg}{s\\,cm^{2}}}$"
      ],
      "text/plain": [
       "<Quantity [3.63920451e-20, 1.86573316e-20, 9.70870278e-21, 5.15903537e-21,\n",
       "           2.81683963e-21, 1.58814253e-21, 9.26863847e-22, 5.59705592e-22,\n",
       "           3.48769725e-22, 2.23358463e-22, 1.46355941e-22, 9.76963226e-23,\n",
       "           6.61772337e-23, 4.53366579e-23, 3.13262134e-23] erg / (s cm2)>"
      ]
     },
     "execution_count": 53,
     "metadata": {},
     "output_type": "execute_result"
    }
   ],
   "source": [
    "gamma_res"
   ]
  },
  {
   "cell_type": "code",
   "execution_count": 34,
   "metadata": {},
   "outputs": [
    {
     "data": {
      "image/png": "[encoded data removed]",
      "text/plain": [
       "<Figure size 432x288 with 1 Axes>"
      ]
     },
     "metadata": {
      "needs_background": "light"
     },
     "output_type": "display_data"
    }
   ],
   "source": [
    "plt.loglog(time_bins, ctools_res*ctools_unit)\n",
    "plt.xlabel(\"log t [s]\")\n",
    "plt.ylabel(\"log ph flux [ph / cm2 s]\")\n",
    "plt.title(\"Photon Flux\")\n",
    "plt.show()"
   ]
  },
  {
   "cell_type": "code",
   "execution_count": 54,
   "metadata": {},
   "outputs": [
    {
     "data": {
      "text/latex": [
       "$[3.6392045 \\times 10^{-20},~1.8657332 \\times 10^{-20},~9.7087028 \\times 10^{-21},~5.1590354 \\times 10^{-21},~2.8168396 \\times 10^{-21},~1.5881425 \\times 10^{-21},~9.2686385 \\times 10^{-22},~5.5970559 \\times 10^{-22},~3.4876973 \\times 10^{-22},~2.2335846 \\times 10^{-22},~1.4635594 \\times 10^{-22},~9.7696323 \\times 10^{-23},~6.6177234 \\times 10^{-23},~4.5336658 \\times 10^{-23},~3.1326213 \\times 10^{-23}] \\; \\mathrm{\\frac{erg}{s\\,cm^{2}}}$"
      ],
      "text/plain": [
       "<Quantity [3.63920451e-20, 1.86573316e-20, 9.70870278e-21, 5.15903537e-21,\n",
       "           2.81683963e-21, 1.58814253e-21, 9.26863847e-22, 5.59705592e-22,\n",
       "           3.48769725e-22, 2.23358463e-22, 1.46355941e-22, 9.76963226e-23,\n",
       "           6.61772337e-23, 4.53366579e-23, 3.13262134e-23] erg / (s cm2)>"
      ]
     },
     "execution_count": 54,
     "metadata": {},
     "output_type": "execute_result"
    }
   ],
   "source": []
  },
  {
   "cell_type": "code",
   "execution_count": 738,
   "metadata": {},
   "outputs": [],
   "source": [
    "# cfile = \"/Users/jarred/Downloads/catO5_52.fits\"\n",
    "# file = \"/Users/jarred/Downloads/catO5_981.fits\"\n",
    "i = 4\n",
    "file = f\"/Users/jarred/Downloads/TeV Catalog O5/catO5_{i}.fits\"\n"
   ]
  },
  {
   "cell_type": "code",
   "execution_count": 901,
   "metadata": {},
   "outputs": [],
   "source": [
    "house = IRFHouse(base_directory=\"/Users/jarred/Documents/Work/CTA-IRFs\")\n",
    "\n",
    "irf20 = house.get_irf(\n",
    "    site=\"south\",\n",
    "    configuration=\"alpha\",\n",
    "    zenith=20,\n",
    "    duration=1800,\n",
    "    azimuth=\"average\",\n",
    "    version=\"prod5-v0.1\",\n",
    ")\n",
    "\n",
    "irf40 = house.get_irf(\n",
    "    site=\"south\",\n",
    "    configuration=\"alpha\",\n",
    "    zenith=40,\n",
    "    duration=1800,\n",
    "    azimuth=\"average\",\n",
    "    version=\"prod5-v0.1\",\n",
    ")\n",
    "\n",
    "irf60 = house.get_irf(\n",
    "    site=\"south\",\n",
    "    configuration=\"alpha\",\n",
    "    zenith=60,\n",
    "    duration=1800,\n",
    "    azimuth=\"average\",\n",
    "    version=\"prod5-v0.1\",\n",
    ")"
   ]
  },
  {
   "cell_type": "code",
   "execution_count": 902,
   "metadata": {},
   "outputs": [],
   "source": [
    "def get_emin(zenith: int):\n",
    "    if zenith == 20:\n",
    "        return 30 * u.GeV\n",
    "    elif zenith == 40:\n",
    "        return 40 * u.GeV\n",
    "    elif zenith == 60:\n",
    "        return 110 * u.GeV\n",
    "    else:\n",
    "        raise ValueError(\"Zenith must be 20, 40 or 60\")"
   ]
  },
  {
   "cell_type": "code",
   "execution_count": 942,
   "metadata": {},
   "outputs": [],
   "source": [
    "grb = GRB(file, min_energy=0.03*u.TeV, max_energy=100*u.TeV)\n",
    "ogrb = oGRB(file, min_energy=0.03*u.TeV, max_energy=100*u.TeV)\n",
    "\n",
    "\n",
    "s = SensitivityGammapy(\n",
    "    irf=irf20,\n",
    "    observatory=f\"cta_{irf20.site.name}\",\n",
    "    radius=3.0 * u.deg,\n",
    "    min_energy=get_emin(irf20.zenith.value),\n",
    "    max_energy=10000 * u.GeV,\n",
    ")\n",
    "\n",
    "sc = SensitivityCtools(\n",
    "    \"/Users/jarred/Documents/Work/gravitational_wave_toy/CTA_sensitivity/grbsens_output_v3_Sep_2022/alpha_configuration/grbsens-5.0sigma_t1s-t16384s_irf-South_z20_0.5h.txt\",\n",
    "    min_energy=0.03*u.TeV,\n",
    "    max_energy=10*u.TeV,\n",
    ")"
   ]
  },
  {
   "cell_type": "code",
   "execution_count": 740,
   "metadata": {},
   "outputs": [
    {
     "name": "stdout",
     "output_type": "stream",
     "text": [
      "Checking if visible from 1.0 s to 43201.0 s\n",
      "False after -43200.0 s: average_flux = 5.024047343195904e-12 1 / (s cm2) |:| photon_flux = nan 1 / (s cm2)\n"
     ]
    },
    {
     "data": {
      "text/plain": [
       "{'filepath': PosixPath('/Users/jarred/Downloads/TeV Catalog O5/catO5_4.fits'),\n",
       " 'min_energy': <Quantity 30. GeV>,\n",
       " 'max_energy': <Quantity 10000. GeV>,\n",
       " 'seen': False,\n",
       " 'obs_time': -1,\n",
       " 'start_time': <Quantity 1. s>,\n",
       " 'end_time': -1,\n",
       " 'error_message': '',\n",
       " 'long': 3.623,\n",
       " 'lat': 0.586,\n",
       " 'eiso': 1.95e+49,\n",
       " 'dist': 349000.0,\n",
       " 'angle': 28.554,\n",
       " '_num_iters': 0,\n",
       " '_last_guess': <Quantity 43201. s>}"
      ]
     },
     "execution_count": 740,
     "metadata": {},
     "output_type": "execute_result"
    }
   ],
   "source": [
    "ogrb.observe(sensitivity=sc, start_time=1*u.s, )"
   ]
  },
  {
   "cell_type": "code",
   "execution_count": 746,
   "metadata": {},
   "outputs": [
    {
     "name": "stdout",
     "output_type": "stream",
     "text": [
      "False after 0.0 s: average_flux = nan 1 / (s cm2) |:| photon_flux = inf 1 / (s cm2)\n",
      "False after 43200.0 s: average_flux = 2.191546045746836e-12 1 / (s cm2) |:| photon_flux = 2.2911290061662873e-12 1 / (s cm2)\n",
      "0.0       converged: True\n",
      "           flag: 'converged'\n",
      " function_calls: 2\n",
      "     iterations: 1\n",
      "           root: 0.0\n"
     ]
    },
    {
     "data": {
      "text/plain": [
       "{'filepath': PosixPath('/Users/jarred/Downloads/TeV Catalog O5/catO5_4.fits'),\n",
       " 'min_energy': <Quantity 30. GeV>,\n",
       " 'max_energy': <Quantity 10000. GeV>,\n",
       " 'seen': True,\n",
       " 'obs_time': <Quantity -1600. s>,\n",
       " 'start_time': <Quantity 1600. s>,\n",
       " 'end_time': <Quantity 0. s>,\n",
       " 'error_message': '',\n",
       " 'long': 3.623,\n",
       " 'lat': 0.586,\n",
       " 'eiso': 1.95e+49,\n",
       " 'dist': 349000.0,\n",
       " 'angle': 28.554}"
      ]
     },
     "execution_count": 746,
     "metadata": {},
     "output_type": "execute_result"
    }
   ],
   "source": [
    "grb.observe(sc, 1600*u.s)"
   ]
  },
  {
   "cell_type": "code",
   "execution_count": 747,
   "metadata": {},
   "outputs": [
    {
     "name": "stderr",
     "output_type": "stream",
     "text": [
      "WARNING:root:Table column name energy will be deprecated by e_ref since v1.2\n",
      "WARNING:root:Table column name energy will be deprecated by e_ref since v1.2\n"
     ]
    },
    {
     "name": "stdout",
     "output_type": "stream",
     "text": [
      "False after 0.0 s: average_flux = nan 1 / (s cm2) |:| photon_flux = inf 1 / (s cm2)\n",
      "True after 43200.0 s: average_flux = 2.191546045746836e-12 1 / (s cm2) |:| photon_flux = 1.0351076194443603e-13 1 / (s cm2)\n"
     ]
    },
    {
     "name": "stderr",
     "output_type": "stream",
     "text": [
      "WARNING:root:Table column name energy will be deprecated by e_ref since v1.2\n"
     ]
    },
    {
     "name": "stdout",
     "output_type": "stream",
     "text": [
      "True after 21600.0 s: average_flux = 3.78124216535173e-12 1 / (s cm2) |:| photon_flux = 1.4870505011505616e-13 1 / (s cm2)\n"
     ]
    },
    {
     "name": "stderr",
     "output_type": "stream",
     "text": [
      "WARNING:root:Table column name energy will be deprecated by e_ref since v1.2\n",
      "WARNING:root:Table column name energy will be deprecated by e_ref since v1.2\n"
     ]
    },
    {
     "name": "stdout",
     "output_type": "stream",
     "text": [
      "True after 10800.0 s: average_flux = 6.196234161250692e-12 1 / (s cm2) |:| photon_flux = 2.1472761356989675e-13 1 / (s cm2)\n",
      "True after 5400.0 s: average_flux = 9.469501808574766e-12 1 / (s cm2) |:| photon_flux = 3.134701910854122e-13 1 / (s cm2)\n"
     ]
    },
    {
     "name": "stderr",
     "output_type": "stream",
     "text": [
      "WARNING:root:Table column name energy will be deprecated by e_ref since v1.2\n"
     ]
    },
    {
     "name": "stdout",
     "output_type": "stream",
     "text": [
      "True after 2700.0 s: average_flux = 1.3268616971320892e-11 1 / (s cm2) |:| photon_flux = 4.606932847000337e-13 1 / (s cm2)\n"
     ]
    },
    {
     "name": "stderr",
     "output_type": "stream",
     "text": [
      "WARNING:root:Table column name energy will be deprecated by e_ref since v1.2\n",
      "WARNING:root:Table column name energy will be deprecated by e_ref since v1.2\n"
     ]
    },
    {
     "name": "stdout",
     "output_type": "stream",
     "text": [
      "True after 1350.0 s: average_flux = 1.693971863361271e-11 1 / (s cm2) |:| photon_flux = 6.873018169372448e-13 1 / (s cm2)\n",
      "True after 675.0 s: average_flux = 1.9790903918255936e-11 1 / (s cm2) |:| photon_flux = 1.041708537274334e-12 1 / (s cm2)\n"
     ]
    },
    {
     "name": "stderr",
     "output_type": "stream",
     "text": [
      "WARNING:root:Table column name energy will be deprecated by e_ref since v1.2\n"
     ]
    },
    {
     "name": "stdout",
     "output_type": "stream",
     "text": [
      "True after 337.5 s: average_flux = 2.1838181124684752e-11 1 / (s cm2) |:| photon_flux = 1.6120845031394732e-12 1 / (s cm2)\n"
     ]
    },
    {
     "name": "stderr",
     "output_type": "stream",
     "text": [
      "WARNING:root:Table column name energy will be deprecated by e_ref since v1.2\n"
     ]
    },
    {
     "name": "stdout",
     "output_type": "stream",
     "text": [
      "True after 168.75 s: average_flux = 2.3084202172256787e-11 1 / (s cm2) |:| photon_flux = 2.5590695247914298e-12 1 / (s cm2)\n"
     ]
    },
    {
     "name": "stderr",
     "output_type": "stream",
     "text": [
      "WARNING:root:Table column name energy will be deprecated by e_ref since v1.2\n"
     ]
    },
    {
     "name": "stdout",
     "output_type": "stream",
     "text": [
      "True after 84.375 s: average_flux = 2.3739760800648013e-11 1 / (s cm2) |:| photon_flux = 4.184528055818595e-12 1 / (s cm2)\n"
     ]
    },
    {
     "name": "stderr",
     "output_type": "stream",
     "text": [
      "WARNING:root:Table column name energy will be deprecated by e_ref since v1.2\n"
     ]
    },
    {
     "name": "stdout",
     "output_type": "stream",
     "text": [
      "True after 42.1875 s: average_flux = 2.4076415402826868e-11 1 / (s cm2) |:| photon_flux = 7.072807090499899e-12 1 / (s cm2)\n"
     ]
    },
    {
     "name": "stderr",
     "output_type": "stream",
     "text": [
      "WARNING:root:Table column name energy will be deprecated by e_ref since v1.2\n",
      "WARNING:root:Table column name energy will be deprecated by e_ref since v1.2\n"
     ]
    },
    {
     "name": "stdout",
     "output_type": "stream",
     "text": [
      "True after 21.09375 s: average_flux = 2.424706463540545e-11 1 / (s cm2) |:| photon_flux = 1.2375827346763486e-11 1 / (s cm2)\n",
      "True after 10.546875 s: average_flux = 2.4332983391531142e-11 1 / (s cm2) |:| photon_flux = 2.2389675899217694e-11 1 / (s cm2)\n"
     ]
    },
    {
     "name": "stderr",
     "output_type": "stream",
     "text": [
      "WARNING:root:Table column name energy will be deprecated by e_ref since v1.2\n",
      "WARNING:root:Table column name energy will be deprecated by e_ref since v1.2\n"
     ]
    },
    {
     "name": "stdout",
     "output_type": "stream",
     "text": [
      "False after 5.2734375 s: average_flux = 2.4376093062976886e-11 1 / (s cm2) |:| photon_flux = 4.171153036960927e-11 1 / (s cm2)\n",
      "False after 8.021666635252814 s: average_flux = 2.4353614089715974e-11 1 / (s cm2) |:| photon_flux = 2.8532922504636565e-11 1 / (s cm2)\n"
     ]
    },
    {
     "name": "stderr",
     "output_type": "stream",
     "text": [
      "WARNING:root:Table column name energy will be deprecated by e_ref since v1.2\n",
      "WARNING:root:Table column name energy will be deprecated by e_ref since v1.2\n"
     ]
    },
    {
     "name": "stdout",
     "output_type": "stream",
     "text": [
      "False after 9.302455697027199 s: average_flux = 2.4343147292390398e-11 1 / (s cm2) |:| photon_flux = 2.5010025815860343e-11 1 / (s cm2)\n",
      "True after 9.912566375765891 s: average_flux = 2.4338163462584992e-11 1 / (s cm2) |:| photon_flux = 2.3645172642558228e-11 1 / (s cm2)\n",
      "1609.3024556970272       converged: True\n",
      "           flag: 'converged'\n",
      " function_calls: 18\n",
      "     iterations: 17\n",
      "           root: 1609.3024556970272\n"
     ]
    },
    {
     "data": {
      "text/plain": [
       "{'filepath': PosixPath('/Users/jarred/Downloads/TeV Catalog O5/catO5_4.fits'),\n",
       " 'min_energy': <Quantity 30. GeV>,\n",
       " 'max_energy': <Quantity 10000. GeV>,\n",
       " 'seen': True,\n",
       " 'obs_time': <Quantity 9.3 s>,\n",
       " 'start_time': <Quantity 1600. s>,\n",
       " 'end_time': <Quantity 1609.3 s>,\n",
       " 'error_message': '',\n",
       " 'long': 3.623,\n",
       " 'lat': 0.586,\n",
       " 'eiso': 1.95e+49,\n",
       " 'dist': 349000.0,\n",
       " 'angle': 28.554}"
      ]
     },
     "execution_count": 747,
     "metadata": {},
     "output_type": "execute_result"
    }
   ],
   "source": [
    "grb.observe(s, 1600*u.s)"
   ]
  },
  {
   "cell_type": "code",
   "execution_count": 673,
   "metadata": {},
   "outputs": [
    {
     "name": "stderr",
     "output_type": "stream",
     "text": [
      "/Users/jarred/Documents/Work/gravitational_wave_toy/.venv/lib/python3.10/site-packages/astropy/units/quantity.py:666: RuntimeWarning: invalid value encountered in divide\n",
      "  result = super().__array_ufunc__(function, method, *arrays, **kwargs)\n",
      "WARNING:root:Table column name energy will be deprecated by e_ref since v1.2\n",
      "WARNING:root:Table column name energy will be deprecated by e_ref since v1.2\n"
     ]
    },
    {
     "name": "stdout",
     "output_type": "stream",
     "text": [
      "False after 0.0 s: average_flux = nan 1 / (s cm2) |:| photon_flux = inf 1 / (s cm2)\n",
      "False after -100.0 s: average_flux = 6.706646673300708e-13 1 / (s cm2) |:| photon_flux = nan 1 / (s cm2)\n"
     ]
    },
    {
     "name": "stderr",
     "output_type": "stream",
     "text": [
      "WARNING:root:Table column name energy will be deprecated by e_ref since v1.2\n",
      "WARNING:root:Table column name energy will be deprecated by e_ref since v1.2\n"
     ]
    },
    {
     "name": "stdout",
     "output_type": "stream",
     "text": [
      "False after -200.0 s: average_flux = 6.690498293862667e-13 1 / (s cm2) |:| photon_flux = nan 1 / (s cm2)\n",
      "False after -300.0 s: average_flux = 6.674386001910491e-13 1 / (s cm2) |:| photon_flux = nan 1 / (s cm2)\n"
     ]
    },
    {
     "name": "stderr",
     "output_type": "stream",
     "text": [
      "WARNING:root:Table column name energy will be deprecated by e_ref since v1.2\n",
      "WARNING:root:Table column name energy will be deprecated by e_ref since v1.2\n"
     ]
    },
    {
     "name": "stdout",
     "output_type": "stream",
     "text": [
      "False after -400.0 s: average_flux = 6.658309617695218e-13 1 / (s cm2) |:| photon_flux = nan 1 / (s cm2)\n",
      "False after -500.0 s: average_flux = 6.64226896289279e-13 1 / (s cm2) |:| photon_flux = nan 1 / (s cm2)\n"
     ]
    },
    {
     "name": "stderr",
     "output_type": "stream",
     "text": [
      "WARNING:root:Table column name energy will be deprecated by e_ref since v1.2\n",
      "WARNING:root:Table column name energy will be deprecated by e_ref since v1.2\n"
     ]
    },
    {
     "name": "stdout",
     "output_type": "stream",
     "text": [
      "False after -600.0 s: average_flux = 6.626263860588375e-13 1 / (s cm2) |:| photon_flux = nan 1 / (s cm2)\n",
      "False after -700.0 s: average_flux = 6.610294135261007e-13 1 / (s cm2) |:| photon_flux = nan 1 / (s cm2)\n"
     ]
    },
    {
     "name": "stderr",
     "output_type": "stream",
     "text": [
      "WARNING:root:Table column name energy will be deprecated by e_ref since v1.2\n",
      "WARNING:root:Table column name energy will be deprecated by e_ref since v1.2\n"
     ]
    },
    {
     "name": "stdout",
     "output_type": "stream",
     "text": [
      "False after -800.0 s: average_flux = 6.594359612768379e-13 1 / (s cm2) |:| photon_flux = nan 1 / (s cm2)\n",
      "False after -900.0 s: average_flux = 6.578460120331885e-13 1 / (s cm2) |:| photon_flux = nan 1 / (s cm2)\n"
     ]
    },
    {
     "name": "stderr",
     "output_type": "stream",
     "text": [
      "WARNING:root:Table column name energy will be deprecated by e_ref since v1.2\n",
      "WARNING:root:Table column name energy will be deprecated by e_ref since v1.2\n"
     ]
    },
    {
     "name": "stdout",
     "output_type": "stream",
     "text": [
      "False after -1000.0 s: average_flux = 6.562595486521842e-13 1 / (s cm2) |:| photon_flux = nan 1 / (s cm2)\n",
      "False after -1100.0 s: average_flux = 6.546765541242942e-13 1 / (s cm2) |:| photon_flux = nan 1 / (s cm2)\n"
     ]
    },
    {
     "name": "stderr",
     "output_type": "stream",
     "text": [
      "WARNING:root:Table column name energy will be deprecated by e_ref since v1.2\n",
      "WARNING:root:Table column name energy will be deprecated by e_ref since v1.2\n"
     ]
    },
    {
     "name": "stdout",
     "output_type": "stream",
     "text": [
      "False after -1200.0 s: average_flux = 6.530970115719876e-13 1 / (s cm2) |:| photon_flux = nan 1 / (s cm2)\n",
      "False after -1300.0 s: average_flux = 6.515209042483192e-13 1 / (s cm2) |:| photon_flux = nan 1 / (s cm2)\n"
     ]
    },
    {
     "name": "stderr",
     "output_type": "stream",
     "text": [
      "WARNING:root:Table column name energy will be deprecated by e_ref since v1.2\n",
      "WARNING:root:Table column name energy will be deprecated by e_ref since v1.2\n"
     ]
    },
    {
     "name": "stdout",
     "output_type": "stream",
     "text": [
      "False after -1400.0 s: average_flux = 6.499482155355318e-13 1 / (s cm2) |:| photon_flux = nan 1 / (s cm2)\n",
      "False after -1500.0 s: average_flux = 6.483789289436776e-13 1 / (s cm2) |:| photon_flux = nan 1 / (s cm2)\n"
     ]
    },
    {
     "name": "stderr",
     "output_type": "stream",
     "text": [
      "WARNING:root:Table column name energy will be deprecated by e_ref since v1.2\n",
      "WARNING:root:Table column name energy will be deprecated by e_ref since v1.2\n"
     ]
    },
    {
     "name": "stdout",
     "output_type": "stream",
     "text": [
      "False after -1600.0 s: average_flux = 6.468130281092611e-13 1 / (s cm2) |:| photon_flux = nan 1 / (s cm2)\n",
      "False after -1700.0 s: average_flux = 6.452661637494445e-13 1 / (s cm2) |:| photon_flux = nan 1 / (s cm2)\n"
     ]
    },
    {
     "name": "stderr",
     "output_type": "stream",
     "text": [
      "WARNING:root:Table column name energy will be deprecated by e_ref since v1.2\n",
      "WARNING:root:Table column name energy will be deprecated by e_ref since v1.2\n"
     ]
    },
    {
     "name": "stdout",
     "output_type": "stream",
     "text": [
      "False after -1800.0 s: average_flux = 6.43766685351453e-13 1 / (s cm2) |:| photon_flux = nan 1 / (s cm2)\n",
      "False after -1900.0 s: average_flux = 6.42310210224417e-13 1 / (s cm2) |:| photon_flux = nan 1 / (s cm2)\n"
     ]
    },
    {
     "name": "stderr",
     "output_type": "stream",
     "text": [
      "WARNING:root:Table column name energy will be deprecated by e_ref since v1.2\n",
      "WARNING:root:Table column name energy will be deprecated by e_ref since v1.2\n"
     ]
    },
    {
     "name": "stdout",
     "output_type": "stream",
     "text": [
      "False after -2000.0 s: average_flux = 6.408915452222116e-13 1 / (s cm2) |:| photon_flux = nan 1 / (s cm2)\n",
      "False after -2100.0 s: average_flux = 6.394983583666046e-13 1 / (s cm2) |:| photon_flux = nan 1 / (s cm2)\n"
     ]
    },
    {
     "name": "stderr",
     "output_type": "stream",
     "text": [
      "WARNING:root:Table column name energy will be deprecated by e_ref since v1.2\n",
      "WARNING:root:Table column name energy will be deprecated by e_ref since v1.2\n"
     ]
    },
    {
     "name": "stdout",
     "output_type": "stream",
     "text": [
      "False after -2200.0 s: average_flux = 6.381399963599724e-13 1 / (s cm2) |:| photon_flux = nan 1 / (s cm2)\n",
      "False after -2300.0 s: average_flux = 6.36799307399852e-13 1 / (s cm2) |:| photon_flux = nan 1 / (s cm2)\n"
     ]
    },
    {
     "name": "stderr",
     "output_type": "stream",
     "text": [
      "WARNING:root:Table column name energy will be deprecated by e_ref since v1.2\n",
      "WARNING:root:Table column name energy will be deprecated by e_ref since v1.2\n"
     ]
    },
    {
     "name": "stdout",
     "output_type": "stream",
     "text": [
      "False after -2400.0 s: average_flux = 6.354880892746935e-13 1 / (s cm2) |:| photon_flux = nan 1 / (s cm2)\n",
      "False after -2500.0 s: average_flux = 6.341795203800691e-13 1 / (s cm2) |:| photon_flux = nan 1 / (s cm2)\n"
     ]
    },
    {
     "name": "stderr",
     "output_type": "stream",
     "text": [
      "WARNING:root:Table column name energy will be deprecated by e_ref since v1.2\n",
      "WARNING:root:Table column name energy will be deprecated by e_ref since v1.2\n"
     ]
    },
    {
     "name": "stdout",
     "output_type": "stream",
     "text": [
      "False after -2600.0 s: average_flux = 6.329105165417225e-13 1 / (s cm2) |:| photon_flux = nan 1 / (s cm2)\n",
      "False after -2700.0 s: average_flux = 6.316470094785233e-13 1 / (s cm2) |:| photon_flux = nan 1 / (s cm2)\n"
     ]
    },
    {
     "name": "stderr",
     "output_type": "stream",
     "text": [
      "WARNING:root:Table column name energy will be deprecated by e_ref since v1.2\n",
      "WARNING:root:Table column name energy will be deprecated by e_ref since v1.2\n"
     ]
    },
    {
     "name": "stdout",
     "output_type": "stream",
     "text": [
      "False after -2800.0 s: average_flux = 6.303860361435405e-13 1 / (s cm2) |:| photon_flux = nan 1 / (s cm2)\n",
      "False after -2900.0 s: average_flux = 6.291550654516657e-13 1 / (s cm2) |:| photon_flux = nan 1 / (s cm2)\n"
     ]
    },
    {
     "name": "stderr",
     "output_type": "stream",
     "text": [
      "WARNING:root:Table column name energy will be deprecated by e_ref since v1.2\n",
      "WARNING:root:Table column name energy will be deprecated by e_ref since v1.2\n"
     ]
    },
    {
     "name": "stdout",
     "output_type": "stream",
     "text": [
      "False after -3000.0 s: average_flux = 6.279357015377255e-13 1 / (s cm2) |:| photon_flux = nan 1 / (s cm2)\n",
      "False after -3100.0 s: average_flux = 6.267187722099742e-13 1 / (s cm2) |:| photon_flux = nan 1 / (s cm2)\n"
     ]
    },
    {
     "name": "stderr",
     "output_type": "stream",
     "text": [
      "WARNING:root:Table column name energy will be deprecated by e_ref since v1.2\n",
      "WARNING:root:Table column name energy will be deprecated by e_ref since v1.2\n"
     ]
    },
    {
     "name": "stdout",
     "output_type": "stream",
     "text": [
      "False after -3200.0 s: average_flux = 6.255042665058739e-13 1 / (s cm2) |:| photon_flux = nan 1 / (s cm2)\n",
      "False after -3300.0 s: average_flux = 6.243097394575011e-13 1 / (s cm2) |:| photon_flux = nan 1 / (s cm2)\n"
     ]
    },
    {
     "name": "stderr",
     "output_type": "stream",
     "text": [
      "WARNING:root:Table column name energy will be deprecated by e_ref since v1.2\n",
      "WARNING:root:Table column name energy will be deprecated by e_ref since v1.2\n"
     ]
    },
    {
     "name": "stdout",
     "output_type": "stream",
     "text": [
      "False after -3400.0 s: average_flux = 6.23132272295885e-13 1 / (s cm2) |:| photon_flux = nan 1 / (s cm2)\n",
      "False after -3500.0 s: average_flux = 6.2195714640503e-13 1 / (s cm2) |:| photon_flux = nan 1 / (s cm2)\n"
     ]
    },
    {
     "name": "stderr",
     "output_type": "stream",
     "text": [
      "WARNING:root:Table column name energy will be deprecated by e_ref since v1.2\n"
     ]
    },
    {
     "name": "stdout",
     "output_type": "stream",
     "text": [
      "False after -3600.0 s: average_flux = 6.20784351290064e-13 1 / (s cm2) |:| photon_flux = nan 1 / (s cm2)\n"
     ]
    },
    {
     "name": "stderr",
     "output_type": "stream",
     "text": [
      "WARNING:root:Table column name energy will be deprecated by e_ref since v1.2\n",
      "WARNING:root:Table column name energy will be deprecated by e_ref since v1.2\n"
     ]
    },
    {
     "name": "stdout",
     "output_type": "stream",
     "text": [
      "False after -3700.0 s: average_flux = 6.196138765314245e-13 1 / (s cm2) |:| photon_flux = nan 1 / (s cm2)\n",
      "False after -3800.0 s: average_flux = 6.184457117841102e-13 1 / (s cm2) |:| photon_flux = nan 1 / (s cm2)\n"
     ]
    },
    {
     "name": "stderr",
     "output_type": "stream",
     "text": [
      "WARNING:root:Table column name energy will be deprecated by e_ref since v1.2\n",
      "WARNING:root:Table column name energy will be deprecated by e_ref since v1.2\n"
     ]
    },
    {
     "name": "stdout",
     "output_type": "stream",
     "text": [
      "False after -3900.0 s: average_flux = 6.173033928680416e-13 1 / (s cm2) |:| photon_flux = nan 1 / (s cm2)\n",
      "False after -4000.0 s: average_flux = 6.161669257639305e-13 1 / (s cm2) |:| photon_flux = nan 1 / (s cm2)\n"
     ]
    },
    {
     "name": "stderr",
     "output_type": "stream",
     "text": [
      "WARNING:root:Table column name energy will be deprecated by e_ref since v1.2\n",
      "WARNING:root:Table column name energy will be deprecated by e_ref since v1.2\n"
     ]
    },
    {
     "name": "stdout",
     "output_type": "stream",
     "text": [
      "False after -4100.0 s: average_flux = 6.150327023191361e-13 1 / (s cm2) |:| photon_flux = nan 1 / (s cm2)\n",
      "False after -4200.0 s: average_flux = 6.139007125745552e-13 1 / (s cm2) |:| photon_flux = nan 1 / (s cm2)\n"
     ]
    },
    {
     "name": "stderr",
     "output_type": "stream",
     "text": [
      "WARNING:root:Table column name energy will be deprecated by e_ref since v1.2\n",
      "WARNING:root:Table column name energy will be deprecated by e_ref since v1.2\n"
     ]
    },
    {
     "name": "stdout",
     "output_type": "stream",
     "text": [
      "False after -4300.0 s: average_flux = 6.127709466416615e-13 1 / (s cm2) |:| photon_flux = nan 1 / (s cm2)\n",
      "False after -4400.0 s: average_flux = 6.116433947018141e-13 1 / (s cm2) |:| photon_flux = nan 1 / (s cm2)\n"
     ]
    },
    {
     "name": "stderr",
     "output_type": "stream",
     "text": [
      "WARNING:root:Table column name energy will be deprecated by e_ref since v1.2\n",
      "WARNING:root:Table column name energy will be deprecated by e_ref since v1.2\n"
     ]
    },
    {
     "name": "stdout",
     "output_type": "stream",
     "text": [
      "False after -4500.0 s: average_flux = 6.105180470055715e-13 1 / (s cm2) |:| photon_flux = nan 1 / (s cm2)\n",
      "False after -4600.0 s: average_flux = 6.093949677629855e-13 1 / (s cm2) |:| photon_flux = nan 1 / (s cm2)\n"
     ]
    },
    {
     "name": "stderr",
     "output_type": "stream",
     "text": [
      "WARNING:root:Table column name energy will be deprecated by e_ref since v1.2\n",
      "WARNING:root:Table column name energy will be deprecated by e_ref since v1.2\n"
     ]
    },
    {
     "name": "stdout",
     "output_type": "stream",
     "text": [
      "False after -4700.0 s: average_flux = 6.082957454833727e-13 1 / (s cm2) |:| photon_flux = nan 1 / (s cm2)\n",
      "False after -4800.0 s: average_flux = 6.071986747921839e-13 1 / (s cm2) |:| photon_flux = nan 1 / (s cm2)\n"
     ]
    },
    {
     "name": "stderr",
     "output_type": "stream",
     "text": [
      "WARNING:root:Table column name energy will be deprecated by e_ref since v1.2\n"
     ]
    },
    {
     "name": "stdout",
     "output_type": "stream",
     "text": [
      "False after -4900.0 s: average_flux = 6.061037462626389e-13 1 / (s cm2) |:| photon_flux = nan 1 / (s cm2)\n"
     ]
    },
    {
     "data": {
      "text/plain": [
       "[<matplotlib.lines.Line2D at 0x293be6230>]"
      ]
     },
     "execution_count": 673,
     "metadata": {},
     "output_type": "execute_result"
    },
    {
     "data": {
      "image/png": "[encoded data removed]",
      "text/plain": [
       "<Figure size 432x288 with 1 Axes>"
      ]
     },
     "metadata": {},
     "output_type": "display_data"
    }
   ],
   "source": [
    "# 862.889001s @ 600s delay\n",
    "# 1800s delay why does it go down again??\n",
    "\n",
    "ex_times = np.arange(30000, 35000, 100)\n",
    "res = []\n",
    "for time in ex_times:\n",
    "    res.append(grb.check_if_visible(time*u.s, 30000*u.s, s, mode=\"difference\"))\n",
    "\n",
    "plt.plot(ex_times, res)"
   ]
  },
  {
   "cell_type": "code",
   "execution_count": 450,
   "metadata": {},
   "outputs": [
    {
     "ename": "RuntimeError",
     "evalue": "Unable to parse arguments",
     "output_type": "error",
     "traceback": [
      "\u001b[0;31m---------------------------------------------------------------------------\u001b[0m",
      "\u001b[0;31mRuntimeError\u001b[0m                              Traceback (most recent call last)",
      "\u001b[0;32m<ipython-input-450-dd93a0dc532f>\u001b[0m in \u001b[0;36m<cell line: 1>\u001b[0;34m()\u001b[0m\n\u001b[0;32m----> 1\u001b[0;31m \u001b[0mgrb\u001b[0m\u001b[0;34m.\u001b[0m\u001b[0mobserve\u001b[0m\u001b[0;34m(\u001b[0m\u001b[0msc\u001b[0m\u001b[0;34m,\u001b[0m \u001b[0;36m600\u001b[0m\u001b[0;34m*\u001b[0m\u001b[0mu\u001b[0m\u001b[0;34m.\u001b[0m\u001b[0ms\u001b[0m\u001b[0;34m,\u001b[0m \u001b[0mtarget_precision\u001b[0m\u001b[0;34m=\u001b[0m\u001b[0;36m1\u001b[0m\u001b[0;34m*\u001b[0m\u001b[0mu\u001b[0m\u001b[0;34m.\u001b[0m\u001b[0ms\u001b[0m\u001b[0;34m)\u001b[0m\u001b[0;34m\u001b[0m\u001b[0;34m\u001b[0m\u001b[0m\n\u001b[0m",
      "\u001b[0;32m<ipython-input-425-e3ca6e1898a4>\u001b[0m in \u001b[0;36mobserve\u001b[0;34m(self, sensitivity, start_time, min_energy, max_energy, max_time, target_precision, _max_loops)\u001b[0m\n\u001b[1;32m    400\u001b[0m \u001b[0;34m\u001b[0m\u001b[0m\n\u001b[1;32m    401\u001b[0m         \u001b[0;32mexcept\u001b[0m \u001b[0mException\u001b[0m \u001b[0;32mas\u001b[0m \u001b[0me\u001b[0m\u001b[0;34m:\u001b[0m\u001b[0;34m\u001b[0m\u001b[0;34m\u001b[0m\u001b[0m\n\u001b[0;32m--> 402\u001b[0;31m             \u001b[0;32mraise\u001b[0m \u001b[0me\u001b[0m\u001b[0;34m\u001b[0m\u001b[0;34m\u001b[0m\u001b[0m\n\u001b[0m\u001b[1;32m    403\u001b[0m \u001b[0;34m\u001b[0m\u001b[0m\n\u001b[1;32m    404\u001b[0m             \u001b[0mself\u001b[0m\u001b[0;34m.\u001b[0m\u001b[0mseen\u001b[0m \u001b[0;34m=\u001b[0m \u001b[0;34m\"error\"\u001b[0m\u001b[0;34m\u001b[0m\u001b[0;34m\u001b[0m\u001b[0m\n",
      "\u001b[0;32m<ipython-input-425-e3ca6e1898a4>\u001b[0m in \u001b[0;36mobserve\u001b[0;34m(self, sensitivity, start_time, min_energy, max_energy, max_time, target_precision, _max_loops)\u001b[0m\n\u001b[1;32m    383\u001b[0m \u001b[0;34m\u001b[0m\u001b[0m\n\u001b[1;32m    384\u001b[0m             \u001b[0;31m# find the root of the function\u001b[0m\u001b[0;34m\u001b[0m\u001b[0;34m\u001b[0m\u001b[0m\n\u001b[0;32m--> 385\u001b[0;31m             \u001b[0mroot\u001b[0m\u001b[0;34m,\u001b[0m \u001b[0mresult\u001b[0m \u001b[0;34m=\u001b[0m \u001b[0mbrentq\u001b[0m\u001b[0;34m(\u001b[0m\u001b[0mself\u001b[0m\u001b[0;34m.\u001b[0m\u001b[0mcheck_if_visible\u001b[0m\u001b[0;34m,\u001b[0m \u001b[0mstart_time\u001b[0m\u001b[0;34m,\u001b[0m \u001b[0mend_time\u001b[0m\u001b[0;34m,\u001b[0m \u001b[0margs\u001b[0m\u001b[0;34m=\u001b[0m\u001b[0;34m(\u001b[0m\u001b[0msensitivity\u001b[0m\u001b[0;34m,\u001b[0m \u001b[0mdelay\u001b[0m\u001b[0;34m,\u001b[0m \u001b[0mend_time\u001b[0m\u001b[0;34m,\u001b[0m \u001b[0;34m\"difference\"\u001b[0m\u001b[0;34m)\u001b[0m\u001b[0;34m,\u001b[0m \u001b[0mfull_output\u001b[0m\u001b[0;34m=\u001b[0m\u001b[0;32mTrue\u001b[0m\u001b[0;34m)\u001b[0m\u001b[0;34m\u001b[0m\u001b[0;34m\u001b[0m\u001b[0m\n\u001b[0m\u001b[1;32m    386\u001b[0m             \u001b[0mprint\u001b[0m\u001b[0;34m(\u001b[0m\u001b[0mroot\u001b[0m\u001b[0;34m,\u001b[0m \u001b[0mresult\u001b[0m\u001b[0;34m)\u001b[0m\u001b[0;34m\u001b[0m\u001b[0;34m\u001b[0m\u001b[0m\n\u001b[1;32m    387\u001b[0m \u001b[0;34m\u001b[0m\u001b[0m\n",
      "\u001b[0;32m~/Documents/Work/gravitational_wave_toy/.venv/lib/python3.10/site-packages/scipy/optimize/_zeros_py.py\u001b[0m in \u001b[0;36mbrentq\u001b[0;34m(f, a, b, args, xtol, rtol, maxiter, full_output, disp)\u001b[0m\n\u001b[1;32m    781\u001b[0m     \u001b[0;32mif\u001b[0m \u001b[0mrtol\u001b[0m \u001b[0;34m<\u001b[0m \u001b[0m_rtol\u001b[0m\u001b[0;34m:\u001b[0m\u001b[0;34m\u001b[0m\u001b[0;34m\u001b[0m\u001b[0m\n\u001b[1;32m    782\u001b[0m         \u001b[0;32mraise\u001b[0m \u001b[0mValueError\u001b[0m\u001b[0;34m(\u001b[0m\u001b[0;34m\"rtol too small (%g < %g)\"\u001b[0m \u001b[0;34m%\u001b[0m \u001b[0;34m(\u001b[0m\u001b[0mrtol\u001b[0m\u001b[0;34m,\u001b[0m \u001b[0m_rtol\u001b[0m\u001b[0;34m)\u001b[0m\u001b[0;34m)\u001b[0m\u001b[0;34m\u001b[0m\u001b[0;34m\u001b[0m\u001b[0m\n\u001b[0;32m--> 783\u001b[0;31m     \u001b[0mr\u001b[0m \u001b[0;34m=\u001b[0m \u001b[0m_zeros\u001b[0m\u001b[0;34m.\u001b[0m\u001b[0m_brentq\u001b[0m\u001b[0;34m(\u001b[0m\u001b[0mf\u001b[0m\u001b[0;34m,\u001b[0m \u001b[0ma\u001b[0m\u001b[0;34m,\u001b[0m \u001b[0mb\u001b[0m\u001b[0;34m,\u001b[0m \u001b[0mxtol\u001b[0m\u001b[0;34m,\u001b[0m \u001b[0mrtol\u001b[0m\u001b[0;34m,\u001b[0m \u001b[0mmaxiter\u001b[0m\u001b[0;34m,\u001b[0m \u001b[0margs\u001b[0m\u001b[0;34m,\u001b[0m \u001b[0mfull_output\u001b[0m\u001b[0;34m,\u001b[0m \u001b[0mdisp\u001b[0m\u001b[0;34m)\u001b[0m\u001b[0;34m\u001b[0m\u001b[0;34m\u001b[0m\u001b[0m\n\u001b[0m\u001b[1;32m    784\u001b[0m     \u001b[0;32mreturn\u001b[0m \u001b[0mresults_c\u001b[0m\u001b[0;34m(\u001b[0m\u001b[0mfull_output\u001b[0m\u001b[0;34m,\u001b[0m \u001b[0mr\u001b[0m\u001b[0;34m)\u001b[0m\u001b[0;34m\u001b[0m\u001b[0;34m\u001b[0m\u001b[0m\n\u001b[1;32m    785\u001b[0m \u001b[0;34m\u001b[0m\u001b[0m\n",
      "\u001b[0;31mRuntimeError\u001b[0m: Unable to parse arguments"
     ]
    }
   ],
   "source": []
  },
  {
   "cell_type": "markdown",
   "metadata": {},
   "source": [
    "# Create gammapy sensitivity class"
   ]
  },
  {
   "cell_type": "code",
   "execution_count": 9,
   "metadata": {},
   "outputs": [],
   "source": [
    "s = SensitivityGammapy(\n",
    "    irf=irf20,\n",
    "    observatory=f\"cta_{irf20.site.name}\",\n",
    "    radius=3.0 * u.deg,\n",
    "    min_energy=0.03 * u.TeV,\n",
    "    max_energy=10 * u.TeV,\n",
    ")\n",
    "\n",
    "sc = SensitivityCtools(\n",
    "    \"/Users/jarred/Documents/Work/gravitational_wave_toy/CTA_sensitivity/grbsens_output_v3_Sep_2022/alpha_configuration/grbsens-5.0sigma_t1s-t16384s_irf-South_z20_0.5h.txt\",\n",
    "    min_energy=0.03*u.TeV,\n",
    "    max_energy=10*u.TeV,\n",
    ")"
   ]
  },
  {
   "cell_type": "code",
   "execution_count": 10,
   "metadata": {},
   "outputs": [],
   "source": [
    "def get_grb_sens(grb: GRB, s: SensitivityGammapy, times: list[int]):\n",
    "    indices = []\n",
    "    amplitudes = []\n",
    "    s_sens = []\n",
    "    \n",
    "    for t in times:\n",
    "        with suppress_warnings_and_logs(False): \n",
    "            ss = s.get(t=t, index=grb.get_spectral_index(t), amplitude=grb.get_spectral_amplitude(t), mode=\"photon_flux\")\n",
    "            # scs = sc.get(t=t)\n",
    "            indices.append(grb.index_at(np.log10(t.value)))\n",
    "            amplitudes.append(grb.amplitude_at(np.log10(t.value)))\n",
    "            s_sens.append(ss.value)\n",
    "            # sc_sens.append(scs)\n",
    "        \n",
    "    return indices, amplitudes, s_sens"
   ]
  },
  {
   "cell_type": "code",
   "execution_count": 11,
   "metadata": {},
   "outputs": [
    {
     "name": "stderr",
     "output_type": "stream",
     "text": [
      "  0%|          | 0/10 [00:00<?, ?it/s]"
     ]
    },
    {
     "name": "stderr",
     "output_type": "stream",
     "text": [
      "100%|██████████| 10/10 [00:29<00:00,  2.93s/it]\n"
     ]
    }
   ],
   "source": [
    "grb_dir = \"/Users/jarred/Downloads/TeV Catalog O5\"\n",
    "\n",
    "# get first 100 GRB files with pathlib\n",
    "grb_files = list(Path(grb_dir).glob(\"*.fits\"))[:100]\n",
    "\n",
    "res = {}\n",
    "\n",
    "times = [2**i*u.s for i in range(1, 15)]\n",
    "\n",
    "sc_sens = []\n",
    "for t in times:\n",
    "    scs = sc.get(t=t)\n",
    "    sc_sens.append(scs)\n",
    "\n",
    "# pick 10 random files\n",
    "for g in tqdm(random.sample(grb_files, 10)):\n",
    "    grb = GRB(g)\n",
    "    grb_number = int(g.stem.split(\"_\")[1])\n",
    "    res[grb_number] = get_grb_sens(grb, s, times)\n",
    "    \n"
   ]
  },
  {
   "cell_type": "code",
   "execution_count": 39,
   "metadata": {},
   "outputs": [
    {
     "data": {
      "image/png": "[encoded data removed]",
      "text/plain": [
       "<Figure size 432x288 with 1 Axes>"
      ]
     },
     "metadata": {
      "needs_background": "light"
     },
     "output_type": "display_data"
    }
   ],
   "source": [
    "for grb_number, (indices, amplitudes, s_sens) in res.items():\n",
    "    label = None\n",
    "    if grb_number == list(res.keys())[0]:\n",
    "        label = \"gammapy\"\n",
    "    plt.loglog([t.value for t in times], s_sens, color=\"blue\", alpha=0.6, label=label)\n",
    "    # plt.loglog(times, sc_sens, color=\"red\", alpha=0.1)\n",
    "# plt.loglog(times, np.array(s_sens), label=\"Gammapy\")\n",
    "plt.loglog([t.value for t in times], [sval.value for sval in sc_sens], color=\"red\", label=\"Ctools\", alpha=0.6)\n",
    "plt.xlabel(\"Time (s)\")\n",
    "plt.ylabel(\"Sensitivity (erg / cm^2 s)\")\n",
    "plt.title(\"Comparison of prod5-v0.1 Alpha South z20\")\n",
    "plt.legend()\n",
    "\n",
    "\n",
    "plt.show()"
   ]
  },
  {
   "cell_type": "markdown",
   "metadata": {},
   "source": [
    "# Comparing with ctools powerlaws"
   ]
  },
  {
   "cell_type": "code",
   "execution_count": 14,
   "metadata": {},
   "outputs": [],
   "source": [
    "ct = pd.read_csv(\"integral-models.csv\")\n"
   ]
  },
  {
   "cell_type": "code",
   "execution_count": 42,
   "metadata": {},
   "outputs": [
    {
     "data": {
      "image/png": "[encoded data removed]",
      "text/plain": [
       "<Figure size 432x288 with 1 Axes>"
      ]
     },
     "metadata": {
      "needs_background": "light"
     },
     "output_type": "display_data"
    }
   ],
   "source": [
    "plt.loglog(ct.duration, ct.photon_flux, label=\"ctools ph flux\")\n",
    "# plt.title(\"ctools prod5-v0.1 Alpha South z20\")\n",
    "plt.title(\"ctools prod5-v0.1 Alpha South z20\")\n",
    "plt.ylabel(\"Log Photon Flux (cm^-2 s^-1)\")\n",
    "plt.xlabel(\"Log Duration (s)\")\n",
    "plt.legend()\n",
    "plt.show()"
   ]
  },
  {
   "cell_type": "code",
   "execution_count": 18,
   "metadata": {},
   "outputs": [],
   "source": [
    "# fit a line to ct.duration, ct.model_prefactor\n",
    "m, b = np.polyfit(np.log10(ct.duration), np.log10(ct.model_prefactor), 1)\n"
   ]
  },
  {
   "cell_type": "code",
   "execution_count": 20,
   "metadata": {},
   "outputs": [
    {
     "data": {
      "text/plain": [
       "(-0.5523195343439522, -10.257979663323091)"
      ]
     },
     "execution_count": 20,
     "metadata": {},
     "output_type": "execute_result"
    }
   ],
   "source": [
    "m, b"
   ]
  },
  {
   "cell_type": "code",
   "execution_count": 15,
   "metadata": {},
   "outputs": [
    {
     "data": {
      "text/plain": [
       "Text(0.5, 1.0, 'ctools prod5-v0.1 Alpha South z20')"
      ]
     },
     "execution_count": 15,
     "metadata": {},
     "output_type": "execute_result"
    },
    {
     "data": {
      "image/png": "[encoded data removed]",
      "text/plain": [
       "<Figure size 432x288 with 1 Axes>"
      ]
     },
     "metadata": {
      "needs_background": "light"
     },
     "output_type": "display_data"
    }
   ],
   "source": [
    "plt.loglog(ct.duration, ct.model_prefactor)\n",
    "plt.loglog(ct.duration, ct.model_prefactor + ct.model_prefactor_error, alpha=0.1, color=\"blue\")\n",
    "plt.loglog(ct.duration, ct.model_prefactor - ct.model_prefactor_error, alpha=0.1, color=\"blue\")\n",
    "plt.fill_between(ct.duration, ct.model_prefactor + ct.model_prefactor_error, ct.model_prefactor - ct.model_prefactor_error, alpha=0.2)\n",
    "plt.title(\"ctools prod5-v0.1 Alpha South z20\")"
   ]
  },
  {
   "cell_type": "code",
   "execution_count": 16,
   "metadata": {},
   "outputs": [
    {
     "data": {
      "image/png": "[encoded data removed]",
      "text/plain": [
       "<Figure size 432x288 with 1 Axes>"
      ]
     },
     "metadata": {
      "needs_background": "light"
     },
     "output_type": "display_data"
    }
   ],
   "source": [
    "color_scale = plt.cm.viridis(np.linspace(0, 1, len(ct)))\n",
    "\n",
    "for i, row in enumerate(ct.iterrows()):\n",
    "    power_law = PowerLawSpectralModel(\n",
    "        index=-row[1].model_index,\n",
    "        amplitude=(row[1].model_prefactor * u.Unit(\"cm-2 s-1 MeV-1\")),\n",
    "        reference=row[1].model_pivot * u.MeV,\n",
    "    )\n",
    "    \n",
    "    # Plot with rotated colors\n",
    "    power_law.plot(energy_bounds=[0.03, 10] * u.TeV, label=f\"{int(row[1].duration)}s\", color=color_scale[i])\n",
    "    \n",
    "# plot a few grb models\n",
    "# for grb_number, (indices, amplitudes, s_sens) in res.items():\n",
    "#     power_law = PowerLawSpectralModel(\n",
    "#         index=-indices[5],\n",
    "#         amplitude=(amplitudes[5] * u.Unit(\"cm-2 s-1 TeV-1\")),\n",
    "#         reference=1 * u.MeV,\n",
    "#     )\n",
    "#     \n",
    "#     power_law.plot(energy_bounds=[0.03, 10] * u.TeV, color=\"red\", alpha=0.5)\n",
    "    \n",
    "plt.title(\"ctools: How does the model change with time?\")\n",
    "plt.legend()\n",
    "plt.show()"
   ]
  },
  {
   "cell_type": "code",
   "execution_count": null,
   "metadata": {},
   "outputs": [],
   "source": []
  },
  {
   "cell_type": "code",
   "execution_count": 878,
   "metadata": {},
   "outputs": [
    {
     "name": "stderr",
     "output_type": "stream",
     "text": [
      "WARNING:root:Table column name energy will be deprecated by e_ref since v1.2\n",
      "WARNING:root:Table column name energy will be deprecated by e_ref since v1.2\n"
     ]
    },
    {
     "name": "stdout",
     "output_type": "stream",
     "text": [
      "1.0 4.41551867787115e-11 7.006191586407862e-14 erg / (s cm2)\n",
      "2.0 5.9048152580877e-11 3.59190695969787e-14 erg / (s cm2)\n"
     ]
    },
    {
     "name": "stderr",
     "output_type": "stream",
     "text": [
      "WARNING:root:Table column name energy will be deprecated by e_ref since v1.2\n",
      "WARNING:root:Table column name energy will be deprecated by e_ref since v1.2\n"
     ]
    },
    {
     "name": "stdout",
     "output_type": "stream",
     "text": [
      "4.0 1.72152815829582e-11 1.8691181435831686e-14 erg / (s cm2)\n",
      "8.0 2.3724105462816398e-11 9.932167913347881e-15 erg / (s cm2)\n"
     ]
    },
    {
     "name": "stderr",
     "output_type": "stream",
     "text": [
      "WARNING:root:Table column name energy will be deprecated by e_ref since v1.2\n"
     ]
    },
    {
     "name": "stdout",
     "output_type": "stream",
     "text": [
      "16.0 8.986302748655729e-12 5.4229758465646034e-15 erg / (s cm2)\n"
     ]
    },
    {
     "name": "stderr",
     "output_type": "stream",
     "text": [
      "WARNING:root:Table column name energy will be deprecated by e_ref since v1.2\n",
      "WARNING:root:Table column name energy will be deprecated by e_ref since v1.2\n"
     ]
    },
    {
     "name": "stdout",
     "output_type": "stream",
     "text": [
      "32.0 5.43159694723257e-12 3.0574898491418e-15 erg / (s cm2)\n",
      "64.0 6.473339375409639e-12 1.784397021661562e-15 erg / (s cm2)\n"
     ]
    },
    {
     "name": "stderr",
     "output_type": "stream",
     "text": [
      "WARNING:root:Table column name energy will be deprecated by e_ref since v1.2\n",
      "WARNING:root:Table column name energy will be deprecated by e_ref since v1.2\n"
     ]
    },
    {
     "name": "stdout",
     "output_type": "stream",
     "text": [
      "128.0 5.28641510885781e-12 1.0775444479716329e-15 erg / (s cm2)\n",
      "256.0 2.35082342982632e-12 6.714510026000161e-16 erg / (s cm2)\n"
     ]
    },
    {
     "name": "stderr",
     "output_type": "stream",
     "text": [
      "WARNING:root:Table column name energy will be deprecated by e_ref since v1.2\n",
      "WARNING:root:Table column name energy will be deprecated by e_ref since v1.2\n"
     ]
    },
    {
     "name": "stdout",
     "output_type": "stream",
     "text": [
      "512.0 2.26409721141778e-12 4.300094101248179e-16 erg / (s cm2)\n",
      "1024.0 1.8698915307681197e-12 2.8176425866926156e-16 erg / (s cm2)\n"
     ]
    },
    {
     "name": "stderr",
     "output_type": "stream",
     "text": [
      "WARNING:root:Table column name energy will be deprecated by e_ref since v1.2\n",
      "WARNING:root:Table column name energy will be deprecated by e_ref since v1.2\n"
     ]
    },
    {
     "name": "stdout",
     "output_type": "stream",
     "text": [
      "4096.0 4.07701938970433e-13 1.2740432070728354e-16 erg / (s cm2)\n",
      "8192.0 3.14634408000517e-13 8.728207236117553e-17 erg / (s cm2)\n"
     ]
    },
    {
     "name": "stderr",
     "output_type": "stream",
     "text": [
      "WARNING:root:Table column name energy will be deprecated by e_ref since v1.2\n"
     ]
    },
    {
     "name": "stdout",
     "output_type": "stream",
     "text": [
      "16384.0 2.53062485155118e-13 6.030918359294031e-17 erg / (s cm2)\n"
     ]
    }
   ],
   "source": [
    "# calculate sensitivity using gammapy with the same models as ctools\n",
    "sens = []\n",
    "\n",
    "for i, row in enumerate(ct.iterrows()):\n",
    "            \n",
    "    time_sens = s.get(\n",
    "        t=row[1].duration * u.s,\n",
    "        index=-row[1].model_index,\n",
    "        amplitude=(row[1].model_prefactor * u.Unit(\"cm-2 s-1 MeV-1\")).to(\"cm-2 s-1 TeV-1\"),\n",
    "        reference=row[1].model_pivot * u.MeV,\n",
    "        mode=\"sensitivity\",\n",
    "    ).to(\"erg / (cm2 s)\")\n",
    "    \n",
    "    print(row[1].duration, row[1].model_prefactor, time_sens)\n",
    "    \n",
    "    \n",
    "    sens.append(time_sens.value)"
   ]
  },
  {
   "cell_type": "code",
   "execution_count": 879,
   "metadata": {},
   "outputs": [
    {
     "data": {
      "text/plain": [
       "[7.006191586407862e-14,\n",
       " 3.59190695969787e-14,\n",
       " 1.8691181435831686e-14,\n",
       " 9.932167913347881e-15,\n",
       " 5.4229758465646034e-15,\n",
       " 3.0574898491418e-15,\n",
       " 1.784397021661562e-15,\n",
       " 1.0775444479716329e-15,\n",
       " 6.714510026000161e-16,\n",
       " 4.300094101248179e-16,\n",
       " 2.8176425866926156e-16,\n",
       " 1.2740432070728354e-16,\n",
       " 8.728207236117553e-17,\n",
       " 6.030918359294031e-17]"
      ]
     },
     "execution_count": 879,
     "metadata": {},
     "output_type": "execute_result"
    }
   ],
   "source": [
    "sens"
   ]
  },
  {
   "cell_type": "code",
   "execution_count": 880,
   "metadata": {},
   "outputs": [
    {
     "data": {
      "image/png": "[encoded data removed]",
      "text/plain": [
       "<Figure size 432x288 with 1 Axes>"
      ]
     },
     "metadata": {},
     "output_type": "display_data"
    }
   ],
   "source": [
    "plt.loglog(ct.duration, ct.sensitivity, label=\"Ctools\")\n",
    "plt.loglog(ct.duration, np.array(sens), label=\"Gammapy\")\n",
    "# plt.title(\"ctools prod5-v0.1 Alpha South z20\")\n",
    "plt.title(\"ctools vs. gammapy prod5-v0.1 Alpha South z20\")\n",
    "plt.legend()\n",
    "plt.show()"
   ]
  },
  {
   "cell_type": "markdown",
   "metadata": {},
   "source": [
    "# testing observations\n"
   ]
  },
  {
   "cell_type": "code",
   "execution_count": 856,
   "metadata": {},
   "outputs": [
    {
     "ename": "ValueError",
     "evalue": "Quantity truthiness is ambiguous, especially for logarithmic units and temperatures. Use explicit comparisons.",
     "output_type": "error",
     "traceback": [
      "\u001b[0;31m---------------------------------------------------------------------------\u001b[0m",
      "\u001b[0;31mValueError\u001b[0m                                Traceback (most recent call last)",
      "\u001b[0;32m<ipython-input-856-acc2c532e211>\u001b[0m in \u001b[0;36m<cell line: 3>\u001b[0;34m()\u001b[0m\n\u001b[1;32m      1\u001b[0m \u001b[0mgrb\u001b[0m \u001b[0;34m=\u001b[0m \u001b[0mGRB\u001b[0m\u001b[0;34m(\u001b[0m\u001b[0mgrb_files\u001b[0m\u001b[0;34m[\u001b[0m\u001b[0;36m99\u001b[0m\u001b[0;34m]\u001b[0m\u001b[0;34m)\u001b[0m\u001b[0;34m\u001b[0m\u001b[0;34m\u001b[0m\u001b[0m\n\u001b[1;32m      2\u001b[0m \u001b[0;34m\u001b[0m\u001b[0m\n\u001b[0;32m----> 3\u001b[0;31m grb.observe(\n\u001b[0m\u001b[1;32m      4\u001b[0m     \u001b[0msensitivity\u001b[0m\u001b[0;34m=\u001b[0m\u001b[0ms\u001b[0m\u001b[0;34m,\u001b[0m\u001b[0;34m\u001b[0m\u001b[0;34m\u001b[0m\u001b[0m\n\u001b[1;32m      5\u001b[0m     \u001b[0mstart_time\u001b[0m\u001b[0;34m=\u001b[0m\u001b[0;36m60\u001b[0m\u001b[0;34m*\u001b[0m\u001b[0mu\u001b[0m\u001b[0;34m.\u001b[0m\u001b[0ms\u001b[0m\u001b[0;34m,\u001b[0m\u001b[0;34m\u001b[0m\u001b[0;34m\u001b[0m\u001b[0m\n",
      "\u001b[0;32m~/Documents/Work/gravitational_wave_toy/gravitational_wave_toy/observe.py\u001b[0m in \u001b[0;36mobserve\u001b[0;34m(self, sensitivity, start_time, min_energy, max_energy, max_time, target_precision, _max_loops)\u001b[0m\n\u001b[1;32m    396\u001b[0m \u001b[0;34m\u001b[0m\u001b[0m\n\u001b[1;32m    397\u001b[0m         \u001b[0;31m# set energy limits to match the sensitivity\u001b[0m\u001b[0;34m\u001b[0m\u001b[0;34m\u001b[0m\u001b[0m\n\u001b[0;32m--> 398\u001b[0;31m         \u001b[0;32mif\u001b[0m \u001b[0;32mnot\u001b[0m \u001b[0mmin_energy\u001b[0m \u001b[0;32mor\u001b[0m \u001b[0;32mnot\u001b[0m \u001b[0mmax_energy\u001b[0m\u001b[0;34m:\u001b[0m\u001b[0;34m\u001b[0m\u001b[0;34m\u001b[0m\u001b[0m\n\u001b[0m\u001b[1;32m    399\u001b[0m             \u001b[0mself\u001b[0m\u001b[0;34m.\u001b[0m\u001b[0mmin_energy\u001b[0m\u001b[0;34m,\u001b[0m \u001b[0mself\u001b[0m\u001b[0;34m.\u001b[0m\u001b[0mmax_energy\u001b[0m \u001b[0;34m=\u001b[0m \u001b[0msensitivity\u001b[0m\u001b[0;34m.\u001b[0m\u001b[0menergy_limits\u001b[0m\u001b[0;34m\u001b[0m\u001b[0;34m\u001b[0m\u001b[0m\n\u001b[1;32m    400\u001b[0m \u001b[0;34m\u001b[0m\u001b[0m\n",
      "\u001b[0;32m~/Documents/Work/gravitational_wave_toy/.venv/lib/python3.10/site-packages/astropy/units/quantity.py\u001b[0m in \u001b[0;36m__bool__\u001b[0;34m(self)\u001b[0m\n\u001b[1;32m   1332\u001b[0m         \u001b[0mespecially\u001b[0m \u001b[0;32mfor\u001b[0m \u001b[0mlogarithmic\u001b[0m \u001b[0munits\u001b[0m \u001b[0;32mand\u001b[0m \u001b[0mtemperatures\u001b[0m\u001b[0;34m.\u001b[0m \u001b[0mUse\u001b[0m \u001b[0mexplicit\u001b[0m \u001b[0mcomparisons\u001b[0m\u001b[0;34m.\u001b[0m\u001b[0;34m\u001b[0m\u001b[0;34m\u001b[0m\u001b[0m\n\u001b[1;32m   1333\u001b[0m         \"\"\"\n\u001b[0;32m-> 1334\u001b[0;31m         raise ValueError(\n\u001b[0m\u001b[1;32m   1335\u001b[0m             \u001b[0;34mf\"{type(self).__name__} truthiness is ambiguous, especially for logarithmic units\"\u001b[0m\u001b[0;34m\u001b[0m\u001b[0;34m\u001b[0m\u001b[0m\n\u001b[1;32m   1336\u001b[0m             \u001b[0;34m\" and temperatures. Use explicit comparisons.\"\u001b[0m\u001b[0;34m\u001b[0m\u001b[0;34m\u001b[0m\u001b[0m\n",
      "\u001b[0;31mValueError\u001b[0m: Quantity truthiness is ambiguous, especially for logarithmic units and temperatures. Use explicit comparisons."
     ]
    }
   ],
   "source": [
    "grb = GRB(grb_files[99])\n",
    "\n",
    "grb.observe(\n",
    "    sensitivity=s,\n",
    "    start_time=60*u.s,\n",
    "    min_energy=get_emin(irf20.zenith.value),\n",
    "    max_energy=10000 * u.GeV,\n",
    ")"
   ]
  },
  {
   "cell_type": "code",
   "execution_count": 352,
   "metadata": {},
   "outputs": [
    {
     "name": "stdout",
     "output_type": "stream",
     "text": [
      "Quantity truthiness is ambiguous, especially for logarithmic units and temperatures. Use explicit comparisons.\n"
     ]
    },
    {
     "data": {
      "text/plain": [
       "{'filepath': PosixPath('/Users/jarred/Downloads/TeV Catalog O5/catO5_1053.fits'),\n",
       " 'min_energy': None,\n",
       " 'max_energy': None,\n",
       " 'seen': 'error',\n",
       " 'obs_time': -1,\n",
       " 'start_time': -1,\n",
       " 'end_time': -1,\n",
       " 'error_message': 'Quantity truthiness is ambiguous, especially for logarithmic units and temperatures. Use explicit comparisons.',\n",
       " 'long': 4.494,\n",
       " 'lat': -0.289,\n",
       " 'eiso': 1.54e+50,\n",
       " 'dist': 360000.0,\n",
       " 'angle': 48.999}"
      ]
     },
     "execution_count": 352,
     "metadata": {},
     "output_type": "execute_result"
    }
   ],
   "source": [
    "grb.observe(\n",
    "    sensitivity=sc,\n",
    "    start_time=0,\n",
    "    min_energy=get_emin(irf20.zenith.value),\n",
    "    max_energy=10000 * u.GeV,\n",
    ")"
   ]
  },
  {
   "cell_type": "code",
   "execution_count": null,
   "metadata": {},
   "outputs": [],
   "source": []
  }
 ],
 "metadata": {
  "kernelspec": {
   "display_name": ".venv",
   "language": "python",
   "name": "python3"
  },
  "language_info": {
   "codemirror_mode": {
    "name": "ipython",
    "version": 3
   },
   "file_extension": ".py",
   "mimetype": "text/x-python",
   "name": "python",
   "nbconvert_exporter": "python",
   "pygments_lexer": "ipython3",
   "version": "3.10.13"
  }
 },
 "nbformat": 4,
 "nbformat_minor": 2
}
