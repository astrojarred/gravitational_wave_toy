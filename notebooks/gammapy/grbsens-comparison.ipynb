{
 "cells": [
  {
   "cell_type": "markdown",
   "metadata": {},
   "source": [
    "# Comparing grbsens and ctools"
   ]
  },
  {
   "cell_type": "code",
   "execution_count": 1,
   "metadata": {},
   "outputs": [],
   "source": [
    "\n",
    "import logging\n",
    "import random\n",
    "from pathlib import Path\n",
    "\n",
    "import astropy.units as u\n",
    "\n",
    "# %matplotlib inline\n",
    "import matplotlib.pyplot as plt\n",
    "import numpy as np\n",
    "import pandas as pd\n",
    "import seaborn as sns\n",
    "from astropy.io import fits\n",
    "from gammapy.modeling.models import PowerLawSpectralModel\n",
    "from scipy import integrate\n",
    "from scipy.interpolate import RegularGridInterpolator, interp1d\n",
    "from scipy.optimize import brentq\n",
    "from tqdm import tqdm\n",
    "\n",
    "from gravitational_wave_toy.ctairf import IRFHouse\n",
    "from gravitational_wave_toy.observe import GRB, oGRB\n",
    "from gravitational_wave_toy.sensitivity import SensitivityCtools, SensitivityGammapy, gamma_sens_old\n",
    "from gravitational_wave_toy.util import suppress_warnings_and_logs\n",
    "\n",
    "sns.set()\n",
    "    \n",
    "# set logging level to debug\n",
    "# logging.basicConfig(level=logging.DEBUG)\n"
   ]
  },
  {
   "cell_type": "markdown",
   "metadata": {},
   "source": [
    "### Load in IRF (South Alpha z20 prod5-v0.1)"
   ]
  },
  {
   "cell_type": "code",
   "execution_count": 3,
   "metadata": {},
   "outputs": [],
   "source": [
    "house = IRFHouse(base_directory=\"/Users/jarred/Documents/Work/CTA-IRFs\")\n",
    "\n",
    "irf = house.get_irf(\n",
    "    site=\"south\",\n",
    "    configuration=\"alpha\",\n",
    "    zenith=20,\n",
    "    duration=1800,\n",
    "    azimuth=\"average\",\n",
    "    version=\"prod5-v0.1\",\n",
    ")"
   ]
  },
  {
   "cell_type": "markdown",
   "metadata": {},
   "source": [
    "### Load in ctools sensitivity\n",
    "- direct from file, no fitting atm"
   ]
  },
  {
   "cell_type": "code",
   "execution_count": 32,
   "metadata": {},
   "outputs": [
    {
     "data": {
      "text/plain": [
       "Text(0, 0.5, 'Log Sensitivity [erg cm^-2 s^-1]')"
      ]
     },
     "execution_count": 32,
     "metadata": {},
     "output_type": "execute_result"
    },
    {
     "data": {
      "image/png": "[encoded data removed]",
      "text/plain": [
       "<Figure size 432x288 with 1 Axes>"
      ]
     },
     "metadata": {
      "needs_background": "light"
     },
     "output_type": "display_data"
    }
   ],
   "source": [
    "grbsens_dir = Path(\n",
    "    \"/Users/jarred/Documents/Work/gravitational_wave_toy/CTA_sensitivity/grbsens_output_v3_Sep_2022/alpha_configuration\"\n",
    ")\n",
    "file = (\n",
    "    grbsens_dir\n",
    "    / f\"grbsens-5.0sigma_t1s-t16384s_irf-{irf.site.name.capitalize()}_z{irf.zenith}_0.5h.txt\"\n",
    ")\n",
    "cols = [\n",
    "    \"duration\",\n",
    "    \"crab_flux\",\n",
    "    \"photon_flux\",\n",
    "    \"energy_flux\",\n",
    "    \"sensitivity\",\n",
    "]\n",
    "\n",
    "ctools_curve = pd.read_csv(file, sep=\"\\t\", comment=\"#\", names=cols)\n",
    "\n",
    "plt.loglog(ctools_curve[\"duration\"], ctools_curve[\"sensitivity\"], label=\"ctools\")\n",
    "plt.xlabel(\"Log Duration [s]\")\n",
    "plt.ylabel(\"Log Sensitivity [erg cm^-2 s^-1]\")"
   ]
  },
  {
   "cell_type": "markdown",
   "metadata": {},
   "source": [
    "### Load in gammapy sensitivity\n",
    "- first try with a fixed power law modela"
   ]
  },
  {
   "cell_type": "code",
   "execution_count": 34,
   "metadata": {},
   "outputs": [
    {
     "data": {
      "text/plain": [
       "array([    1,     2,     4,     8,    16,    32,    64,   128,   256,\n",
       "         512,  1024,  2048,  4096,  8192, 16384])"
      ]
     },
     "execution_count": 34,
     "metadata": {},
     "output_type": "execute_result"
    }
   ],
   "source": [
    "ctools_curve.duration.to_numpy()"
   ]
  },
  {
   "cell_type": "code",
   "execution_count": 35,
   "metadata": {},
   "outputs": [
    {
     "name": "stderr",
     "output_type": "stream",
     "text": [
      "Processing IRF: prod5-v0.1 Site.south 20deg 1800s:   0%|          | 0/15 [00:00<?, ?it/s]"
     ]
    },
    {
     "name": "stderr",
     "output_type": "stream",
     "text": [
      "/Users/jarred/Documents/Work/gravitational_wave_toy/.venv/lib/python3.10/site-packages/gammapy/data/observations.py:226: GammapyDeprecationWarning: Pointing will be required to be provided as FixedPointingInfo\n",
      "  warnings.warn(\n",
      "Processing IRF: prod5-v0.1 Site.south 20deg 1800s:   7%|▋         | 1/15 [00:00<00:04,  3.18it/s]/Users/jarred/Documents/Work/gravitational_wave_toy/.venv/lib/python3.10/site-packages/gammapy/data/observations.py:226: GammapyDeprecationWarning: Pointing will be required to be provided as FixedPointingInfo\n",
      "  warnings.warn(\n",
      "Processing IRF: prod5-v0.1 Site.south 20deg 1800s:  13%|█▎        | 2/15 [00:00<00:03,  3.53it/s]/Users/jarred/Documents/Work/gravitational_wave_toy/.venv/lib/python3.10/site-packages/gammapy/data/observations.py:226: GammapyDeprecationWarning: Pointing will be required to be provided as FixedPointingInfo\n",
      "  warnings.warn(\n",
      "Processing IRF: prod5-v0.1 Site.south 20deg 1800s:  20%|██        | 3/15 [00:00<00:03,  3.64it/s]/Users/jarred/Documents/Work/gravitational_wave_toy/.venv/lib/python3.10/site-packages/gammapy/data/observations.py:226: GammapyDeprecationWarning: Pointing will be required to be provided as FixedPointingInfo\n",
      "  warnings.warn(\n",
      "Processing IRF: prod5-v0.1 Site.south 20deg 1800s:  27%|██▋       | 4/15 [00:01<00:02,  3.76it/s]/Users/jarred/Documents/Work/gravitational_wave_toy/.venv/lib/python3.10/site-packages/gammapy/data/observations.py:226: GammapyDeprecationWarning: Pointing will be required to be provided as FixedPointingInfo\n",
      "  warnings.warn(\n",
      "Processing IRF: prod5-v0.1 Site.south 20deg 1800s:  33%|███▎      | 5/15 [00:01<00:02,  3.86it/s]/Users/jarred/Documents/Work/gravitational_wave_toy/.venv/lib/python3.10/site-packages/gammapy/data/observations.py:226: GammapyDeprecationWarning: Pointing will be required to be provided as FixedPointingInfo\n",
      "  warnings.warn(\n",
      "Processing IRF: prod5-v0.1 Site.south 20deg 1800s:  40%|████      | 6/15 [00:01<00:02,  3.90it/s]/Users/jarred/Documents/Work/gravitational_wave_toy/.venv/lib/python3.10/site-packages/gammapy/data/observations.py:226: GammapyDeprecationWarning: Pointing will be required to be provided as FixedPointingInfo\n",
      "  warnings.warn(\n",
      "Processing IRF: prod5-v0.1 Site.south 20deg 1800s:  47%|████▋     | 7/15 [00:01<00:02,  3.96it/s]/Users/jarred/Documents/Work/gravitational_wave_toy/.venv/lib/python3.10/site-packages/gammapy/data/observations.py:226: GammapyDeprecationWarning: Pointing will be required to be provided as FixedPointingInfo\n",
      "  warnings.warn(\n",
      "Processing IRF: prod5-v0.1 Site.south 20deg 1800s:  53%|█████▎    | 8/15 [00:02<00:01,  3.98it/s]/Users/jarred/Documents/Work/gravitational_wave_toy/.venv/lib/python3.10/site-packages/gammapy/data/observations.py:226: GammapyDeprecationWarning: Pointing will be required to be provided as FixedPointingInfo\n",
      "  warnings.warn(\n",
      "Processing IRF: prod5-v0.1 Site.south 20deg 1800s:  60%|██████    | 9/15 [00:02<00:01,  4.00it/s]/Users/jarred/Documents/Work/gravitational_wave_toy/.venv/lib/python3.10/site-packages/gammapy/data/observations.py:226: GammapyDeprecationWarning: Pointing will be required to be provided as FixedPointingInfo\n",
      "  warnings.warn(\n",
      "Processing IRF: prod5-v0.1 Site.south 20deg 1800s:  67%|██████▋   | 10/15 [00:02<00:01,  4.02it/s]/Users/jarred/Documents/Work/gravitational_wave_toy/.venv/lib/python3.10/site-packages/gammapy/data/observations.py:226: GammapyDeprecationWarning: Pointing will be required to be provided as FixedPointingInfo\n",
      "  warnings.warn(\n",
      "Processing IRF: prod5-v0.1 Site.south 20deg 1800s:  73%|███████▎  | 11/15 [00:02<00:00,  4.02it/s]/Users/jarred/Documents/Work/gravitational_wave_toy/.venv/lib/python3.10/site-packages/gammapy/data/observations.py:226: GammapyDeprecationWarning: Pointing will be required to be provided as FixedPointingInfo\n",
      "  warnings.warn(\n",
      "Processing IRF: prod5-v0.1 Site.south 20deg 1800s:  80%|████████  | 12/15 [00:03<00:00,  4.05it/s]/Users/jarred/Documents/Work/gravitational_wave_toy/.venv/lib/python3.10/site-packages/gammapy/data/observations.py:226: GammapyDeprecationWarning: Pointing will be required to be provided as FixedPointingInfo\n",
      "  warnings.warn(\n",
      "Processing IRF: prod5-v0.1 Site.south 20deg 1800s:  87%|████████▋ | 13/15 [00:03<00:00,  4.05it/s]/Users/jarred/Documents/Work/gravitational_wave_toy/.venv/lib/python3.10/site-packages/gammapy/data/observations.py:226: GammapyDeprecationWarning: Pointing will be required to be provided as FixedPointingInfo\n",
      "  warnings.warn(\n",
      "Processing IRF: prod5-v0.1 Site.south 20deg 1800s:  93%|█████████▎| 14/15 [00:03<00:00,  4.04it/s]/Users/jarred/Documents/Work/gravitational_wave_toy/.venv/lib/python3.10/site-packages/gammapy/data/observations.py:226: GammapyDeprecationWarning: Pointing will be required to be provided as FixedPointingInfo\n",
      "  warnings.warn(\n",
      "Processing IRF: prod5-v0.1 Site.south 20deg 1800s: 100%|██████████| 15/15 [00:03<00:00,  3.93it/s]\n"
     ]
    }
   ],
   "source": [
    "times = ctools_curve.duration.to_numpy()\n",
    "tables = {}\n",
    "gammapy_res = {}\n",
    "\n",
    "model = PowerLawSpectralModel(\n",
    "    index=2.1, amplitude=\"5.7e-13 cm-2 s-1 TeV-1\", reference=\"1 TeV\"\n",
    ")\n",
    "\n",
    "for duration in tqdm(\n",
    "    times,\n",
    "    desc=f\"Processing IRF: {irf.version} {irf.site} {irf.zenith}deg {irf.duration}s\",\n",
    "):\n",
    "    s = gamma_sens_old(\n",
    "        irf=irf.filepath,\n",
    "        observatory=f\"cta_{irf.site.name}\",\n",
    "        duration=duration,\n",
    "        model=model,\n",
    "        radius=3.0,\n",
    "        min_energy=0.03,\n",
    "        max_energy=10,\n",
    "        sigma=5,\n",
    "        bins=1,\n",
    "        offset=0.0,\n",
    "    )\n",
    "\n",
    "    tables[duration] = s\n",
    "    gammapy_res[duration] = s[\"e2dnde\"][0]"
   ]
  },
  {
   "cell_type": "markdown",
   "metadata": {},
   "source": []
  },
  {
   "cell_type": "code",
   "execution_count": 41,
   "metadata": {},
   "outputs": [
    {
     "data": {
      "text/plain": [
       "[<matplotlib.lines.Line2D at 0x297f75990>]"
      ]
     },
     "execution_count": 41,
     "metadata": {},
     "output_type": "execute_result"
    },
    {
     "data": {
      "image/png": "[encoded data removed]",
      "text/plain": [
       "<Figure size 432x288 with 1 Axes>"
      ]
     },
     "metadata": {
      "needs_background": "light"
     },
     "output_type": "display_data"
    }
   ],
   "source": [
    "plt.loglog(times, gammapy_res.values(), label=\"gammapy\")\n",
    "plt.loglog(ctools_curve[\"duration\"], ctools_curve[\"sensitivity\"], label=\"ctools\")"
   ]
  },
  {
   "cell_type": "code",
   "execution_count": null,
   "metadata": {},
   "outputs": [],
   "source": []
  }
 ],
 "metadata": {
  "kernelspec": {
   "display_name": ".venv",
   "language": "python",
   "name": "python3"
  },
  "language_info": {
   "codemirror_mode": {
    "name": "ipython",
    "version": 3
   },
   "file_extension": ".py",
   "mimetype": "text/x-python",
   "name": "python",
   "nbconvert_exporter": "python",
   "pygments_lexer": "ipython3",
   "version": "3.10.13"
  }
 },
 "nbformat": 4,
 "nbformat_minor": 2
}
