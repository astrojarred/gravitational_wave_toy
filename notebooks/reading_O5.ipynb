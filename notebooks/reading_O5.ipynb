{
 "cells": [
  {
   "cell_type": "markdown",
   "id": "e394e642-8ac5-4d08-b454-26928183d5e5",
   "metadata": {},
   "source": [
    "# Reading O5 Catalog"
   ]
  },
  {
   "cell_type": "code",
   "execution_count": 1,
   "id": "df97c949-93fd-4b44-87f9-9e22c39bf20d",
   "metadata": {},
   "outputs": [],
   "source": [
    "import os\n",
    "import subprocess\n",
    "import yaml\n",
    "\n",
    "from astropy.io import fits\n",
    "import numpy as np\n",
    "import pandas as pd\n",
    "import glob\n",
    "from tqdm import tqdm\n",
    "import random\n",
    "from scipy.stats import norm\n",
    "import glob\n",
    "from pathlib import Path\n",
    "\n",
    "from matplotlib import pyplot as plt\n",
    "import seaborn as sns"
   ]
  },
  {
   "cell_type": "code",
   "execution_count": 2,
   "id": "f8ef4fdc-8479-4a1b-a283-bb12bfc6c7f8",
   "metadata": {},
   "outputs": [],
   "source": [
    "sns.set()"
   ]
  },
  {
   "cell_type": "markdown",
   "id": "22fa42b5-3dee-47c4-b14d-5dcf4592be0c",
   "metadata": {},
   "source": [
    "# Opening a file"
   ]
  },
  {
   "cell_type": "code",
   "execution_count": 112,
   "id": "4e41b4c1-3830-4c2c-a671-f51753d92a4b",
   "metadata": {},
   "outputs": [],
   "source": [
    "fp = \"../GammaCatalog_O5/\""
   ]
  },
  {
   "cell_type": "code",
   "execution_count": 113,
   "id": "8a8dd6ae-3745-4b30-8276-3ef7f69a0f3e",
   "metadata": {},
   "outputs": [],
   "source": [
    "f = glob.glob(fp + \"*.fits\")[55]"
   ]
  },
  {
   "cell_type": "code",
   "execution_count": 114,
   "id": "cec1917f-ea51-4a5d-a118-e1847c221dba",
   "metadata": {},
   "outputs": [],
   "source": [
    "g = fits.open(f)"
   ]
  },
  {
   "cell_type": "code",
   "execution_count": 115,
   "id": "ed94f909-4912-44d1-a6b9-8ebdef6e8a8c",
   "metadata": {},
   "outputs": [
    {
     "name": "stdout",
     "output_type": "stream",
     "text": [
      "Filename: ../GammaCatalog_O5/catO5_0.fits\n",
      "No.    Name      Ver    Type      Cards   Dimensions   Format\n",
      "  0  PRIMARY       1 PrimaryHDU      13   ()      \n",
      "  1  ENERGIES      1 BinTableHDU     13   41R x 1C   [E]   \n",
      "  2  TIMES         1 BinTableHDU     17   70R x 2C   [E, E]   \n",
      "  3  SPECTRA       1 BinTableHDU     92   70R x 41C   [D, D, D, D, D, D, D, D, D, D, D, D, D, D, D, D, D, D, D, D, D, D, D, D, D, D, D, D, D, D, D, D, D, D, D, D, D, D, D, D, D]   \n"
     ]
    }
   ],
   "source": [
    "g.info()"
   ]
  },
  {
   "cell_type": "code",
   "execution_count": 116,
   "id": "4a6c5e02-fc06-407a-bc6e-7bda32fde6a3",
   "metadata": {},
   "outputs": [
    {
     "data": {
      "text/plain": [
       "SIMPLE  =                    T / conforms to FITS standard                      \n",
       "BITPIX  =                    8 / array data type                                \n",
       "NAXIS   =                    0 / number of array dimensions                     \n",
       "EXTEND  =                    T                                                  \n",
       "MERGERID= '' / identif. num. for a given realization                            \n",
       "LONG    =                5.923 / longitude                                      \n",
       "LAT     =                1.053 / latitude                                       \n",
       "EISO    =             2.86E+49 / Eiso prompt emission of the GRB (erg)          \n",
       "DISTANCE=             263000.0 / distance (kpc)                                 \n",
       "ANGLE   =               63.682 / viewing angle (deg)                            \n",
       "AUTHOR  = '' / Lara                                                             \n",
       "PROJECT = '' / CTA-GW                                                           \n",
       "HISTORY Created Sept 2021. BNS catalog from B. Patricelli. Catalog O5           "
      ]
     },
     "execution_count": 116,
     "metadata": {},
     "output_type": "execute_result"
    }
   ],
   "source": [
    "g[0].header"
   ]
  },
  {
   "cell_type": "code",
   "execution_count": 117,
   "id": "6ed55a20-a06f-48be-99f0-cb404c9125ea",
   "metadata": {},
   "outputs": [],
   "source": [
    "d = g[3].data"
   ]
  },
  {
   "cell_type": "code",
   "execution_count": 118,
   "id": "3effe23c-64be-4937-9fdb-415e4a47a03a",
   "metadata": {},
   "outputs": [],
   "source": [
    "start_times = [i[0] for i in g[2].data]\n",
    "\n",
    "def get_spec(time_bin, data):\n",
    "    \n",
    "    return [i[time_bin] for i in data]"
   ]
  },
  {
   "cell_type": "code",
   "execution_count": 119,
   "id": "aff6d790-28b2-4ec1-9733-1dfc25d2a8f7",
   "metadata": {},
   "outputs": [
    {
     "data": {
      "image/png": "[encoded data removed]",
      "text/plain": [
       "<Figure size 432x288 with 1 Axes>"
      ]
     },
     "metadata": {
      "needs_background": "light"
     },
     "output_type": "display_data"
    }
   ],
   "source": [
    "plt.loglog(start_times, get_spec(0, g[3].data))\n",
    "plt.xlabel(\"time (s)\")\n",
    "plt.ylabel(\"spec\")\n",
    "plt.show()"
   ]
  },
  {
   "cell_type": "markdown",
   "id": "81e58466-2231-4a1f-9565-acded2e52895",
   "metadata": {},
   "source": [
    "# Extracting info from files"
   ]
  },
  {
   "cell_type": "code",
   "execution_count": 120,
   "id": "ea5998ef-6d00-48d9-adee-738c66f6aa58",
   "metadata": {},
   "outputs": [
    {
     "data": {
      "text/plain": [
       "SIMPLE  =                    T / conforms to FITS standard                      \n",
       "BITPIX  =                    8 / array data type                                \n",
       "NAXIS   =                    0 / number of array dimensions                     \n",
       "EXTEND  =                    T                                                  \n",
       "MERGERID= '' / identif. num. for a given realization                            \n",
       "LONG    =                5.923 / longitude                                      \n",
       "LAT     =                1.053 / latitude                                       \n",
       "EISO    =             2.86E+49 / Eiso prompt emission of the GRB (erg)          \n",
       "DISTANCE=             263000.0 / distance (kpc)                                 \n",
       "ANGLE   =               63.682 / viewing angle (deg)                            \n",
       "AUTHOR  = '' / Lara                                                             \n",
       "PROJECT = '' / CTA-GW                                                           \n",
       "HISTORY Created Sept 2021. BNS catalog from B. Patricelli. Catalog O5           "
      ]
     },
     "execution_count": 120,
     "metadata": {},
     "output_type": "execute_result"
    }
   ],
   "source": [
    "g[0].header"
   ]
  },
  {
   "cell_type": "code",
   "execution_count": 121,
   "id": "7bb33c22-3c44-45fa-9971-d65156f3fdb2",
   "metadata": {},
   "outputs": [],
   "source": [
    "p = Path(f)"
   ]
  },
  {
   "cell_type": "code",
   "execution_count": 122,
   "id": "fe816471-f1af-4ad1-82ad-1b8c03b7adbb",
   "metadata": {},
   "outputs": [
    {
     "data": {
      "text/plain": [
       "'0'"
      ]
     },
     "execution_count": 122,
     "metadata": {},
     "output_type": "execute_result"
    }
   ],
   "source": [
    "p.stem.strip(\"catO?5_\")"
   ]
  },
  {
   "cell_type": "code",
   "execution_count": 123,
   "id": "dad82a9d-0a22-475d-8923-4cba8579f0a1",
   "metadata": {},
   "outputs": [],
   "source": [
    "info = {}\n",
    "\n",
    "for gw in glob.glob(fp + \"*.fits\"):\n",
    "    \n",
    "    try:\n",
    "        gw_id = int(Path(gw).stem[6:])\n",
    "    except ValueError as e:\n",
    "        \n",
    "        print(gw)\n",
    "        raise e\n",
    "    \n",
    "    g = fits.open(gw)\n",
    "    \n",
    "    h = g[0].header\n",
    "    \n",
    "    info[gw_id] = {\n",
    "        \"event_id\": gw_id,\n",
    "        \"long\": h[\"LONG\"],\n",
    "        \"lat\": h[\"LAT\"],\n",
    "        \"eiso\": h[\"EISO\"],\n",
    "        \"dist\": h[\"DISTANCE\"],\n",
    "        \"angle\": h[\"ANGLE\"],\n",
    "    }\n",
    "    \n",
    "    g.close()"
   ]
  },
  {
   "cell_type": "code",
   "execution_count": 124,
   "id": "89f73adf-a2ad-45e9-b51c-372b0c2cc1cc",
   "metadata": {},
   "outputs": [],
   "source": [
    "events = pd.DataFrame.from_dict(info, orient=\"index\")"
   ]
  },
  {
   "cell_type": "markdown",
   "id": "ccb738e8-83a5-495d-aaaf-b102b34a9af0",
   "metadata": {},
   "source": [
    "## Read in times"
   ]
  },
  {
   "cell_type": "code",
   "execution_count": 125,
   "id": "d81b965a-efe4-4238-8a3d-bfa6f9eb891e",
   "metadata": {},
   "outputs": [],
   "source": [
    "times = pd.read_csv(\n",
    "    \"../GammaCatalog_O5/times.txt\", \n",
    "    sep=\"\\t\", \n",
    "    names=[\"event_id\", \"time_utc\"], \n",
    "    parse_dates=[\"time_utc\"],\n",
    "    skiprows=1\n",
    ") "
   ]
  },
  {
   "cell_type": "code",
   "execution_count": 126,
   "id": "1c075dbf-4c7e-4f9d-852e-45c764003e0e",
   "metadata": {},
   "outputs": [],
   "source": [
    "events = pd.merge(events, times, on=\"event_id\").set_index(\"event_id\").sort_index()"
   ]
  },
  {
   "cell_type": "code",
   "execution_count": 127,
   "id": "cdc5acd8-5dde-4c76-aeb1-a515ad8cb377",
   "metadata": {},
   "outputs": [],
   "source": [
    "events.to_csv(\"../GammaCatalog_O5/events.csv\")"
   ]
  },
  {
   "cell_type": "code",
   "execution_count": 128,
   "id": "0a713a47-3008-46bf-8251-ac6fac7935d0",
   "metadata": {},
   "outputs": [
    {
     "data": {
      "text/html": [
       "<div>\n",
       "<style scoped>\n",
       "    .dataframe tbody tr th:only-of-type {\n",
       "        vertical-align: middle;\n",
       "    }\n",
       "\n",
       "    .dataframe tbody tr th {\n",
       "        vertical-align: top;\n",
       "    }\n",
       "\n",
       "    .dataframe thead th {\n",
       "        text-align: right;\n",
       "    }\n",
       "</style>\n",
       "<table border=\"1\" class=\"dataframe\">\n",
       "  <thead>\n",
       "    <tr style=\"text-align: right;\">\n",
       "      <th></th>\n",
       "      <th>long</th>\n",
       "      <th>lat</th>\n",
       "      <th>eiso</th>\n",
       "      <th>dist</th>\n",
       "      <th>angle</th>\n",
       "      <th>time_utc</th>\n",
       "    </tr>\n",
       "    <tr>\n",
       "      <th>event_id</th>\n",
       "      <th></th>\n",
       "      <th></th>\n",
       "      <th></th>\n",
       "      <th></th>\n",
       "      <th></th>\n",
       "      <th></th>\n",
       "    </tr>\n",
       "  </thead>\n",
       "  <tbody>\n",
       "    <tr>\n",
       "      <th>0</th>\n",
       "      <td>5.923</td>\n",
       "      <td>1.053</td>\n",
       "      <td>2.860000e+49</td>\n",
       "      <td>263000.0</td>\n",
       "      <td>63.682</td>\n",
       "      <td>2012-06-29 01:24:30.971</td>\n",
       "    </tr>\n",
       "    <tr>\n",
       "      <th>1</th>\n",
       "      <td>1.666</td>\n",
       "      <td>-0.917</td>\n",
       "      <td>3.080000e+50</td>\n",
       "      <td>1280000.0</td>\n",
       "      <td>28.794</td>\n",
       "      <td>2011-10-28 00:12:50.906</td>\n",
       "    </tr>\n",
       "    <tr>\n",
       "      <th>2</th>\n",
       "      <td>1.653</td>\n",
       "      <td>-0.551</td>\n",
       "      <td>5.730000e+47</td>\n",
       "      <td>909000.0</td>\n",
       "      <td>59.989</td>\n",
       "      <td>2012-01-16 13:16:18.682</td>\n",
       "    </tr>\n",
       "    <tr>\n",
       "      <th>3</th>\n",
       "      <td>0.749</td>\n",
       "      <td>1.098</td>\n",
       "      <td>6.660000e+48</td>\n",
       "      <td>1290000.0</td>\n",
       "      <td>55.033</td>\n",
       "      <td>2012-09-10 11:15:45.680</td>\n",
       "    </tr>\n",
       "    <tr>\n",
       "      <th>4</th>\n",
       "      <td>3.623</td>\n",
       "      <td>0.586</td>\n",
       "      <td>1.950000e+49</td>\n",
       "      <td>349000.0</td>\n",
       "      <td>28.554</td>\n",
       "      <td>2012-01-03 04:56:29.356</td>\n",
       "    </tr>\n",
       "    <tr>\n",
       "      <th>...</th>\n",
       "      <td>...</td>\n",
       "      <td>...</td>\n",
       "      <td>...</td>\n",
       "      <td>...</td>\n",
       "      <td>...</td>\n",
       "      <td>...</td>\n",
       "    </tr>\n",
       "    <tr>\n",
       "      <th>2302</th>\n",
       "      <td>3.211</td>\n",
       "      <td>-0.385</td>\n",
       "      <td>1.320000e+51</td>\n",
       "      <td>971000.0</td>\n",
       "      <td>61.195</td>\n",
       "      <td>2011-09-28 05:31:34.925</td>\n",
       "    </tr>\n",
       "    <tr>\n",
       "      <th>2303</th>\n",
       "      <td>4.022</td>\n",
       "      <td>1.049</td>\n",
       "      <td>6.180000e+47</td>\n",
       "      <td>548000.0</td>\n",
       "      <td>62.712</td>\n",
       "      <td>2012-07-05 22:51:02.557</td>\n",
       "    </tr>\n",
       "    <tr>\n",
       "      <th>2304</th>\n",
       "      <td>0.156</td>\n",
       "      <td>1.260</td>\n",
       "      <td>1.550000e+48</td>\n",
       "      <td>424000.0</td>\n",
       "      <td>32.844</td>\n",
       "      <td>2012-08-03 17:57:40.139</td>\n",
       "    </tr>\n",
       "    <tr>\n",
       "      <th>2305</th>\n",
       "      <td>2.164</td>\n",
       "      <td>0.393</td>\n",
       "      <td>4.530000e+49</td>\n",
       "      <td>310000.0</td>\n",
       "      <td>4.042</td>\n",
       "      <td>2011-11-16 18:12:14.910</td>\n",
       "    </tr>\n",
       "    <tr>\n",
       "      <th>2306</th>\n",
       "      <td>1.467</td>\n",
       "      <td>0.486</td>\n",
       "      <td>6.140000e+50</td>\n",
       "      <td>205000.0</td>\n",
       "      <td>56.052</td>\n",
       "      <td>2011-10-18 08:11:55.920</td>\n",
       "    </tr>\n",
       "  </tbody>\n",
       "</table>\n",
       "<p>2307 rows × 6 columns</p>\n",
       "</div>"
      ],
      "text/plain": [
       "           long    lat          eiso       dist   angle  \\\n",
       "event_id                                                  \n",
       "0         5.923  1.053  2.860000e+49   263000.0  63.682   \n",
       "1         1.666 -0.917  3.080000e+50  1280000.0  28.794   \n",
       "2         1.653 -0.551  5.730000e+47   909000.0  59.989   \n",
       "3         0.749  1.098  6.660000e+48  1290000.0  55.033   \n",
       "4         3.623  0.586  1.950000e+49   349000.0  28.554   \n",
       "...         ...    ...           ...        ...     ...   \n",
       "2302      3.211 -0.385  1.320000e+51   971000.0  61.195   \n",
       "2303      4.022  1.049  6.180000e+47   548000.0  62.712   \n",
       "2304      0.156  1.260  1.550000e+48   424000.0  32.844   \n",
       "2305      2.164  0.393  4.530000e+49   310000.0   4.042   \n",
       "2306      1.467  0.486  6.140000e+50   205000.0  56.052   \n",
       "\n",
       "                        time_utc  \n",
       "event_id                          \n",
       "0        2012-06-29 01:24:30.971  \n",
       "1        2011-10-28 00:12:50.906  \n",
       "2        2012-01-16 13:16:18.682  \n",
       "3        2012-09-10 11:15:45.680  \n",
       "4        2012-01-03 04:56:29.356  \n",
       "...                          ...  \n",
       "2302     2011-09-28 05:31:34.925  \n",
       "2303     2012-07-05 22:51:02.557  \n",
       "2304     2012-08-03 17:57:40.139  \n",
       "2305     2011-11-16 18:12:14.910  \n",
       "2306     2011-10-18 08:11:55.920  \n",
       "\n",
       "[2307 rows x 6 columns]"
      ]
     },
     "execution_count": 128,
     "metadata": {},
     "output_type": "execute_result"
    }
   ],
   "source": [
    "events"
   ]
  },
  {
   "cell_type": "markdown",
   "id": "d8908b85-3005-4590-a722-41e7d08fe641",
   "metadata": {},
   "source": [
    "# Interacting with GW Toy"
   ]
  },
  {
   "cell_type": "code",
   "execution_count": 3,
   "id": "0ceb8e60-fcb0-475e-be2f-4cfa69b6ded7",
   "metadata": {},
   "outputs": [],
   "source": [
    "import sys\n",
    "sys.path.append(\"..\")"
   ]
  },
  {
   "cell_type": "code",
   "execution_count": 4,
   "id": "39457de5-6ae8-4c9e-8eae-71018205247e",
   "metadata": {},
   "outputs": [],
   "source": [
    "from gravitational_wave_toy import GWToyV5 as GW"
   ]
  },
  {
   "cell_type": "code",
   "execution_count": 73,
   "id": "cdae866e-8efb-40db-b985-df4989e04d00",
   "metadata": {},
   "outputs": [],
   "source": [
    "sens = GW.Sensitivity(\n",
    "    \"/Users/jarred/Documents/grbsens/notebooks/grbsens_output/no_ebl/grbsens_results/grbsens-5.0sigma_t1s-t16384s_irf-South_z20_0.5h.txt\",\n",
    "    min_energy=0.3,     # as determined by the range of the IRFs\n",
    "    max_energy=10000,\n",
    ")"
   ]
  },
  {
   "cell_type": "code",
   "execution_count": 173,
   "id": "ea9d1a91-fd1a-40a5-a877-7d8dd65860af",
   "metadata": {},
   "outputs": [],
   "source": [
    "grb = GW.GRB(\"../GammaCatalog_O5/catO5_100.fits\")"
   ]
  },
  {
   "cell_type": "code",
   "execution_count": 174,
   "id": "b2ad6481-ee9f-499b-ba2d-d49e2e612fcf",
   "metadata": {},
   "outputs": [
    {
     "data": {
      "text/plain": [
       "{'filepath': '../GammaCatalog_O5/catO5_100.fits',\n",
       " 'min_energy': 0.3,\n",
       " 'max_energy': 10000,\n",
       " 'seen': False,\n",
       " 'obs_time': -1,\n",
       " 'start_time': 3600,\n",
       " 'end_time': -1,\n",
       " 'error_message': '',\n",
       " 'long': 6.155,\n",
       " 'lat': -1.0,\n",
       " 'eiso': 5.73e+47,\n",
       " 'dist': 1240000.0,\n",
       " 'angle': 54.081}"
      ]
     },
     "execution_count": 174,
     "metadata": {},
     "output_type": "execute_result"
    }
   ],
   "source": [
    "grb.observe(sensitivity=sens, start_time=3600, target_precision=0.1)"
   ]
  },
  {
   "cell_type": "code",
   "execution_count": 32,
   "id": "bf5b9bf7-2df4-4452-b279-b38fcf8ebeb9",
   "metadata": {},
   "outputs": [
    {
     "data": {
      "text/plain": [
       "{'filepath': '../GammaCatalog_O5/catO5_1.fits',\n",
       " 'min_energy': 0.3,\n",
       " 'max_energy': 10000,\n",
       " 'seen': True,\n",
       " 'obs_time': 6,\n",
       " 'start_time': 7200,\n",
       " 'end_time': 7206,\n",
       " 'error_message': '',\n",
       " 'long': 1.666,\n",
       " 'lat': -0.917,\n",
       " 'eiso': 3.08e+50,\n",
       " 'dist': 1280000.0,\n",
       " 'angle': 28.794}"
      ]
     },
     "execution_count": 32,
     "metadata": {},
     "output_type": "execute_result"
    }
   ],
   "source": [
    "# OR\n",
    "\n",
    "GW.observe_grb(\n",
    "    \"../GammaCatalog_O5/catO5_100.fits\",\n",
    "    sensitivity=s,\n",
    "    start_time=7200,\n",
    ")"
   ]
  },
  {
   "cell_type": "code",
   "execution_count": null,
   "id": "760ed4d4-d0ae-49b3-8998-e00450b58cb8",
   "metadata": {},
   "outputs": [],
   "source": []
  }
 ],
 "metadata": {
  "kernelspec": {
   "display_name": "gw-toy",
   "language": "python",
   "name": "gw-toy"
  },
  "language_info": {
   "codemirror_mode": {
    "name": "ipython",
    "version": 3
   },
   "file_extension": ".py",
   "mimetype": "text/x-python",
   "name": "python",
   "nbconvert_exporter": "python",
   "pygments_lexer": "ipython3",
   "version": "3.8.13"
  },
  "toc-autonumbering": true
 },
 "nbformat": 4,
 "nbformat_minor": 5
}
