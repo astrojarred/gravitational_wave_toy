{
 "cells": [
  {
   "cell_type": "markdown",
   "id": "7d6f20a4-825a-4009-96ae-e490a134e175",
   "metadata": {},
   "source": [
    "# Simulations for WAVEFIER"
   ]
  },
  {
   "cell_type": "code",
   "execution_count": 5,
   "id": "9112dfdc-973e-4758-96ef-d7a1c585c3f9",
   "metadata": {},
   "outputs": [],
   "source": [
    "import os\n",
    "import subprocess\n",
    "import yaml\n",
    "import sys\n",
    "\n",
    "from astropy.io import fits\n",
    "import numpy as np\n",
    "import pandas as pd\n",
    "import glob\n",
    "from tqdm import tqdm\n",
    "import random\n",
    "from scipy.stats import norm\n",
    "import glob\n",
    "from pathlib import Path\n",
    "\n",
    "from matplotlib import pyplot as plt\n",
    "import seaborn as sns"
   ]
  },
  {
   "cell_type": "code",
   "execution_count": 151,
   "id": "21c198ae-f1af-4e63-915d-7db96a5b38bf",
   "metadata": {},
   "outputs": [],
   "source": [
    "sns.set()\n",
    "tqdm.pandas()"
   ]
  },
  {
   "cell_type": "markdown",
   "id": "a3a47517-4b42-4340-9b1f-87be1d79887d",
   "metadata": {},
   "source": [
    "# Importing Data"
   ]
  },
  {
   "cell_type": "code",
   "execution_count": 222,
   "id": "f9e64334-66eb-4c8a-9e29-fc83c1e1c763",
   "metadata": {},
   "outputs": [],
   "source": [
    "events = pd.read_csv(\"../GammaCatalog_O5/events.csv\")"
   ]
  },
  {
   "cell_type": "markdown",
   "id": "11de6da0-f851-4030-ba7e-583b1734ce66",
   "metadata": {},
   "source": [
    "# Simulate Observations with GW Toy"
   ]
  },
  {
   "cell_type": "code",
   "execution_count": 8,
   "id": "b16c7c07-86d5-4fae-b4f3-daded15737e3",
   "metadata": {},
   "outputs": [],
   "source": [
    "sys.path.append(\"..\")\n",
    "from gravitational_wave_toy import gwobserve as gw"
   ]
  },
  {
   "cell_type": "markdown",
   "id": "01a3daf0-dca4-4219-80a7-109815df4388",
   "metadata": {},
   "source": [
    "## Select Random Delay for each event"
   ]
  },
  {
   "cell_type": "code",
   "execution_count": 82,
   "id": "d3122748-fa36-4451-8f48-57d73e372a94",
   "metadata": {},
   "outputs": [],
   "source": [
    "# let's let the seed = the number of events for reproducibility\n",
    "\n",
    "seed = len(events)"
   ]
  },
  {
   "cell_type": "code",
   "execution_count": 223,
   "id": "3d11d213-28c2-4774-8e32-2c54305c91aa",
   "metadata": {},
   "outputs": [],
   "source": [
    "rng = np.random.default_rng(seed)\n",
    "\n",
    "delays = []\n",
    "\n",
    "for _ in range(len(events)):\n",
    "    delays.append(rng.integers(0, 601))\n",
    "    \n",
    "delays = np.array(delays)"
   ]
  },
  {
   "cell_type": "code",
   "execution_count": 224,
   "id": "825b55b5-46f8-4caf-b0fc-2c9c20bcba8a",
   "metadata": {},
   "outputs": [],
   "source": [
    "# add delays to events table\n",
    "\n",
    "events[\"delay\"] = delays"
   ]
  },
  {
   "cell_type": "markdown",
   "id": "9e85126b-2b88-481b-aa44-db8ce13e9eb9",
   "metadata": {},
   "source": [
    "## Import Sensitivity\n",
    "- CTA South\n",
    "- z20\n",
    "- no EBL"
   ]
  },
  {
   "cell_type": "code",
   "execution_count": 225,
   "id": "db73b553-690c-4da7-a824-bd2a662bd17f",
   "metadata": {},
   "outputs": [],
   "source": [
    "sens_file = \"/Users/jarred/Documents/grbsens/notebooks/grbsens_output/no_ebl/grbsens_results/grbsens-5.0sigma_t1s-t16384s_irf-South_z20_0.5h.txt\""
   ]
  },
  {
   "cell_type": "code",
   "execution_count": 226,
   "id": "6123fb67-2473-419f-a023-e74760166426",
   "metadata": {},
   "outputs": [],
   "source": [
    "# Set up sensitivity\n",
    "sens = gw.Sensitivity(\n",
    "    sens_file,\n",
    "    min_energy=0.3,     # as determined by the range of the IRFs\n",
    "    max_energy=10000,\n",
    ")"
   ]
  },
  {
   "cell_type": "code",
   "execution_count": 258,
   "id": "14499d2f-8e80-44b1-aa49-3e35e3c2ec66",
   "metadata": {},
   "outputs": [],
   "source": [
    "def observe_wavefier(row, sensitivity):\n",
    "    \n",
    "    filename = f\"../GammaCatalog_O5/catO5_{row.event_id}.fits\"\n",
    "    \n",
    "    grb = gw.GRB(filename)\n",
    "    \n",
    "    res = grb.observe(sensitivity=sensitivity, start_time=row.delay, target_precision=1, max_time=3600)\n",
    "    \n",
    "    return res[\"seen\"], res[\"obs_time\"], res[\"end_time\"]"
   ]
  },
  {
   "cell_type": "code",
   "execution_count": 228,
   "id": "c330a85c-cb48-4475-b966-266829f5b0f9",
   "metadata": {},
   "outputs": [
    {
     "name": "stderr",
     "output_type": "stream",
     "text": [
      "100%|██████████| 2307/2307 [03:15<00:00, 11.81it/s]\n"
     ]
    }
   ],
   "source": [
    "events[[\"seen\", \"obs_time\", \"end_time\"]] = events.progress_apply(observe_wavefier, sensitivity=sens, axis=1, result_type=\"expand\")"
   ]
  },
  {
   "cell_type": "code",
   "execution_count": 253,
   "id": "c72d8c34-ebcc-436c-9854-00a7603e684b",
   "metadata": {},
   "outputs": [],
   "source": [
    "events.to_csv(\"wavefier_gw.csv\", index=False)"
   ]
  },
  {
   "cell_type": "markdown",
   "id": "d0e97f51-cdad-439d-b367-36661c59011a",
   "metadata": {},
   "source": [
    "## Try with all delays at 60s"
   ]
  },
  {
   "cell_type": "code",
   "execution_count": 255,
   "id": "e724a7b9-2c08-40de-84f0-e556d910448b",
   "metadata": {},
   "outputs": [],
   "source": [
    "events_60s = pd.read_csv(\"../GammaCatalog_O5/events.csv\")"
   ]
  },
  {
   "cell_type": "code",
   "execution_count": 259,
   "id": "f84fb272-3ac1-4e38-9389-f7fa12c480b3",
   "metadata": {},
   "outputs": [],
   "source": [
    "def observe_wavefier_60s(row, sensitivity):\n",
    "    \n",
    "    filename = f\"../GammaCatalog_O5/catO5_{row.event_id}.fits\"\n",
    "    \n",
    "    grb = gw.GRB(filename)\n",
    "    \n",
    "    res = grb.observe(sensitivity=sensitivity, start_time=60, target_precision=1, max_time=3600)\n",
    "    \n",
    "    return res[\"seen\"], res[\"obs_time\"], res[\"end_time\"]"
   ]
  },
  {
   "cell_type": "code",
   "execution_count": 260,
   "id": "aacf20a6-ae27-45cf-87fb-68553169e45d",
   "metadata": {},
   "outputs": [
    {
     "name": "stderr",
     "output_type": "stream",
     "text": [
      "100%|██████████| 2307/2307 [04:18<00:00,  8.92it/s]\n"
     ]
    }
   ],
   "source": [
    "events_60s[[\"seen\", \"obs_time\", \"end_time\"]] = events_60s.progress_apply(observe_wavefier_60s, sensitivity=sens, axis=1, result_type=\"expand\")"
   ]
  },
  {
   "cell_type": "code",
   "execution_count": 268,
   "id": "521cba2b-9d8e-4d8a-b1d4-590ee5e3d866",
   "metadata": {},
   "outputs": [],
   "source": [
    "events_60s.to_csv(\"wavefier_gw_60s.csv\", index=False)"
   ]
  },
  {
   "cell_type": "code",
   "execution_count": 273,
   "id": "13a71a83-b64c-46f8-855d-b298a841641c",
   "metadata": {},
   "outputs": [
    {
     "data": {
      "text/html": [
       "<div>\n",
       "<style scoped>\n",
       "    .dataframe tbody tr th:only-of-type {\n",
       "        vertical-align: middle;\n",
       "    }\n",
       "\n",
       "    .dataframe tbody tr th {\n",
       "        vertical-align: top;\n",
       "    }\n",
       "\n",
       "    .dataframe thead th {\n",
       "        text-align: right;\n",
       "    }\n",
       "</style>\n",
       "<table border=\"1\" class=\"dataframe\">\n",
       "  <thead>\n",
       "    <tr style=\"text-align: right;\">\n",
       "      <th></th>\n",
       "      <th>event_id</th>\n",
       "      <th>long</th>\n",
       "      <th>lat</th>\n",
       "      <th>eiso</th>\n",
       "      <th>dist</th>\n",
       "      <th>angle</th>\n",
       "      <th>time_utc</th>\n",
       "      <th>seen</th>\n",
       "      <th>obs_time</th>\n",
       "      <th>end_time</th>\n",
       "    </tr>\n",
       "  </thead>\n",
       "  <tbody>\n",
       "    <tr>\n",
       "      <th>0</th>\n",
       "      <td>0</td>\n",
       "      <td>5.923</td>\n",
       "      <td>1.053</td>\n",
       "      <td>2.860000e+49</td>\n",
       "      <td>263000.0</td>\n",
       "      <td>63.682</td>\n",
       "      <td>2012-06-29 01:24:30.971</td>\n",
       "      <td>False</td>\n",
       "      <td>-1</td>\n",
       "      <td>-1</td>\n",
       "    </tr>\n",
       "    <tr>\n",
       "      <th>2</th>\n",
       "      <td>2</td>\n",
       "      <td>1.653</td>\n",
       "      <td>-0.551</td>\n",
       "      <td>5.730000e+47</td>\n",
       "      <td>909000.0</td>\n",
       "      <td>59.989</td>\n",
       "      <td>2012-01-16 13:16:18.682</td>\n",
       "      <td>False</td>\n",
       "      <td>-1</td>\n",
       "      <td>-1</td>\n",
       "    </tr>\n",
       "    <tr>\n",
       "      <th>3</th>\n",
       "      <td>3</td>\n",
       "      <td>0.749</td>\n",
       "      <td>1.098</td>\n",
       "      <td>6.660000e+48</td>\n",
       "      <td>1290000.0</td>\n",
       "      <td>55.033</td>\n",
       "      <td>2012-09-10 11:15:45.680</td>\n",
       "      <td>False</td>\n",
       "      <td>-1</td>\n",
       "      <td>-1</td>\n",
       "    </tr>\n",
       "    <tr>\n",
       "      <th>6</th>\n",
       "      <td>6</td>\n",
       "      <td>2.958</td>\n",
       "      <td>-0.543</td>\n",
       "      <td>4.500000e+51</td>\n",
       "      <td>315000.0</td>\n",
       "      <td>79.246</td>\n",
       "      <td>2012-08-22 07:26:53.204</td>\n",
       "      <td>False</td>\n",
       "      <td>-1</td>\n",
       "      <td>-1</td>\n",
       "    </tr>\n",
       "    <tr>\n",
       "      <th>9</th>\n",
       "      <td>9</td>\n",
       "      <td>4.450</td>\n",
       "      <td>-0.501</td>\n",
       "      <td>5.300000e+47</td>\n",
       "      <td>389000.0</td>\n",
       "      <td>85.783</td>\n",
       "      <td>2011-10-05 09:35:28.464</td>\n",
       "      <td>False</td>\n",
       "      <td>-1</td>\n",
       "      <td>-1</td>\n",
       "    </tr>\n",
       "    <tr>\n",
       "      <th>...</th>\n",
       "      <td>...</td>\n",
       "      <td>...</td>\n",
       "      <td>...</td>\n",
       "      <td>...</td>\n",
       "      <td>...</td>\n",
       "      <td>...</td>\n",
       "      <td>...</td>\n",
       "      <td>...</td>\n",
       "      <td>...</td>\n",
       "      <td>...</td>\n",
       "    </tr>\n",
       "    <tr>\n",
       "      <th>2300</th>\n",
       "      <td>2300</td>\n",
       "      <td>2.761</td>\n",
       "      <td>0.829</td>\n",
       "      <td>6.120000e+51</td>\n",
       "      <td>318000.0</td>\n",
       "      <td>62.799</td>\n",
       "      <td>2012-03-27 15:53:07.042</td>\n",
       "      <td>False</td>\n",
       "      <td>-1</td>\n",
       "      <td>-1</td>\n",
       "    </tr>\n",
       "    <tr>\n",
       "      <th>2301</th>\n",
       "      <td>2301</td>\n",
       "      <td>1.924</td>\n",
       "      <td>-0.882</td>\n",
       "      <td>9.720000e+50</td>\n",
       "      <td>319000.0</td>\n",
       "      <td>64.025</td>\n",
       "      <td>2011-11-25 05:41:28.700</td>\n",
       "      <td>False</td>\n",
       "      <td>-1</td>\n",
       "      <td>-1</td>\n",
       "    </tr>\n",
       "    <tr>\n",
       "      <th>2302</th>\n",
       "      <td>2302</td>\n",
       "      <td>3.211</td>\n",
       "      <td>-0.385</td>\n",
       "      <td>1.320000e+51</td>\n",
       "      <td>971000.0</td>\n",
       "      <td>61.195</td>\n",
       "      <td>2011-09-28 05:31:34.925</td>\n",
       "      <td>False</td>\n",
       "      <td>-1</td>\n",
       "      <td>-1</td>\n",
       "    </tr>\n",
       "    <tr>\n",
       "      <th>2303</th>\n",
       "      <td>2303</td>\n",
       "      <td>4.022</td>\n",
       "      <td>1.049</td>\n",
       "      <td>6.180000e+47</td>\n",
       "      <td>548000.0</td>\n",
       "      <td>62.712</td>\n",
       "      <td>2012-07-05 22:51:02.557</td>\n",
       "      <td>False</td>\n",
       "      <td>-1</td>\n",
       "      <td>-1</td>\n",
       "    </tr>\n",
       "    <tr>\n",
       "      <th>2306</th>\n",
       "      <td>2306</td>\n",
       "      <td>1.467</td>\n",
       "      <td>0.486</td>\n",
       "      <td>6.140000e+50</td>\n",
       "      <td>205000.0</td>\n",
       "      <td>56.052</td>\n",
       "      <td>2011-10-18 08:11:55.920</td>\n",
       "      <td>False</td>\n",
       "      <td>-1</td>\n",
       "      <td>-1</td>\n",
       "    </tr>\n",
       "  </tbody>\n",
       "</table>\n",
       "<p>1291 rows × 10 columns</p>\n",
       "</div>"
      ],
      "text/plain": [
       "      event_id   long    lat          eiso       dist   angle  \\\n",
       "0            0  5.923  1.053  2.860000e+49   263000.0  63.682   \n",
       "2            2  1.653 -0.551  5.730000e+47   909000.0  59.989   \n",
       "3            3  0.749  1.098  6.660000e+48  1290000.0  55.033   \n",
       "6            6  2.958 -0.543  4.500000e+51   315000.0  79.246   \n",
       "9            9  4.450 -0.501  5.300000e+47   389000.0  85.783   \n",
       "...        ...    ...    ...           ...        ...     ...   \n",
       "2300      2300  2.761  0.829  6.120000e+51   318000.0  62.799   \n",
       "2301      2301  1.924 -0.882  9.720000e+50   319000.0  64.025   \n",
       "2302      2302  3.211 -0.385  1.320000e+51   971000.0  61.195   \n",
       "2303      2303  4.022  1.049  6.180000e+47   548000.0  62.712   \n",
       "2306      2306  1.467  0.486  6.140000e+50   205000.0  56.052   \n",
       "\n",
       "                     time_utc   seen  obs_time  end_time  \n",
       "0     2012-06-29 01:24:30.971  False        -1        -1  \n",
       "2     2012-01-16 13:16:18.682  False        -1        -1  \n",
       "3     2012-09-10 11:15:45.680  False        -1        -1  \n",
       "6     2012-08-22 07:26:53.204  False        -1        -1  \n",
       "9     2011-10-05 09:35:28.464  False        -1        -1  \n",
       "...                       ...    ...       ...       ...  \n",
       "2300  2012-03-27 15:53:07.042  False        -1        -1  \n",
       "2301  2011-11-25 05:41:28.700  False        -1        -1  \n",
       "2302  2011-09-28 05:31:34.925  False        -1        -1  \n",
       "2303  2012-07-05 22:51:02.557  False        -1        -1  \n",
       "2306  2011-10-18 08:11:55.920  False        -1        -1  \n",
       "\n",
       "[1291 rows x 10 columns]"
      ]
     },
     "execution_count": 273,
     "metadata": {},
     "output_type": "execute_result"
    }
   ],
   "source": [
    "events_60s[~events_60s.seen]"
   ]
  },
  {
   "cell_type": "markdown",
   "id": "2d68115b-67bf-4d1c-9cb8-18176e2f5907",
   "metadata": {},
   "source": [
    "```yml\n",
    "Summary of results, all with a delay of 60s:\n",
    "- Total number of events: 2307\n",
    "- detected within 1h: 1016 (44%)\n",
    "- not detected: 1291 (56%)\n",
    "\n",
    "- average detection time: 182s (3min)\n",
    "- number of events detected in ~1s: 662 (~28% of all events, 65% of detected events)\n",
    "\n",
    "- average delay of detected events: 303s\n",
    "- average delay of non-detected events: 293s\n",
    "\n",
    "- average angle of detected events: 27º\n",
    "- average angle of non-detected events: 52º\n",
    "```"
   ]
  },
  {
   "cell_type": "code",
   "execution_count": null,
   "id": "0ff087a4-3e52-41ca-978b-8e167602b030",
   "metadata": {},
   "outputs": [],
   "source": []
  }
 ],
 "metadata": {
  "kernelspec": {
   "display_name": "gw-toy",
   "language": "python",
   "name": "gw-toy"
  },
  "language_info": {
   "codemirror_mode": {
    "name": "ipython",
    "version": 3
   },
   "file_extension": ".py",
   "mimetype": "text/x-python",
   "name": "python",
   "nbconvert_exporter": "python",
   "pygments_lexer": "ipython3",
   "version": "3.8.13"
  },
  "toc-autonumbering": true
 },
 "nbformat": 4,
 "nbformat_minor": 5
}
