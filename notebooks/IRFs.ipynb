{
 "cells": [
  {
   "cell_type": "markdown",
   "metadata": {},
   "source": [
    "# an IRF reading module"
   ]
  },
  {
   "cell_type": "code",
   "execution_count": 1,
   "metadata": {},
   "outputs": [],
   "source": [
    "from gravitational_wave_toy import ctairf"
   ]
  },
  {
   "cell_type": "code",
   "execution_count": 27,
   "metadata": {},
   "outputs": [],
   "source": [
    "h = ctairf.IRFHouse(\n",
    "    base_directory=\"/Users/jarred/Documents/Work/CTA-IRFs\"\n",
    ")"
   ]
  },
  {
   "cell_type": "code",
   "execution_count": 34,
   "metadata": {},
   "outputs": [],
   "source": [
    "irf = h.get_irf(\n",
    "    site=\"south\",\n",
    "    configuration=\"omega\",\n",
    "    zenith=20,\n",
    "    duration=1800,\n",
    "    azimuth=\"average\",\n",
    "    nsb=False,\n",
    "    version=\"prod5-v0.2\",\n",
    "    modified=True,\n",
    ")"
   ]
  },
  {
   "cell_type": "code",
   "execution_count": 35,
   "metadata": {},
   "outputs": [
    {
     "data": {
      "text/plain": [
       "CTA IRF [prod5-v0.2]\n",
       "    filepath: /Users/jarred/Documents/Work/CTA-IRFs/prod5-v0.2/fits/Prod5-South-20deg-AverageAz-4LSTs25MSTs70SSTs.1800s-v0.2.fits.gz\n",
       "    config: alpha - 70 SSTs // 25 MSTs // 4 LSTs\n",
       "    site: south \n",
       "    zenith: 20º\n",
       "    duration: 1800s\n",
       "    azimuth: average"
      ]
     },
     "execution_count": 35,
     "metadata": {},
     "output_type": "execute_result"
    }
   ],
   "source": [
    "irf"
   ]
  },
  {
   "cell_type": "code",
   "execution_count": null,
   "metadata": {},
   "outputs": [],
   "source": []
  }
 ],
 "metadata": {
  "kernelspec": {
   "display_name": ".venv",
   "language": "python",
   "name": "python3"
  },
  "language_info": {
   "codemirror_mode": {
    "name": "ipython",
    "version": 3
   },
   "file_extension": ".py",
   "mimetype": "text/x-python",
   "name": "python",
   "nbconvert_exporter": "python",
   "pygments_lexer": "ipython3",
   "version": "3.10.13"
  }
 },
 "nbformat": 4,
 "nbformat_minor": 2
}
