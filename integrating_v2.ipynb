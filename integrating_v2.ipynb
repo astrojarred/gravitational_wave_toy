{
 "cells": [
  {
   "cell_type": "markdown",
   "id": "boxed-parts",
   "metadata": {},
   "source": [
    "# Integrating v2"
   ]
  },
  {
   "cell_type": "code",
   "execution_count": 1,
   "id": "white-baking",
   "metadata": {},
   "outputs": [],
   "source": [
    "%load_ext autoreload\n",
    "%autoreload 2"
   ]
  },
  {
   "cell_type": "code",
   "execution_count": 12,
   "id": "loving-ghana",
   "metadata": {},
   "outputs": [],
   "source": [
    "import os\n",
    "import subprocess\n",
    "import yaml\n",
    "\n",
    "from astropy.io import fits\n",
    "import numpy as np\n",
    "import pandas as pd\n",
    "import glob\n",
    "from tqdm import tqdm\n",
    "import random\n",
    "\n",
    "from scipy import integrate\n",
    "from scipy.interpolate import interp2d, RectBivariateSpline\n",
    "from matplotlib import pyplot as plt"
   ]
  },
  {
   "cell_type": "code",
   "execution_count": 3,
   "id": "unlike-february",
   "metadata": {},
   "outputs": [
    {
     "name": "stderr",
     "output_type": "stream",
     "text": [
      "/Users/jarred/Documents/Projects/gravitational_wave_toy/.venv/lib/python3.7/site-packages/ray/autoscaler/_private/cli_logger.py:61: FutureWarning: Not all Ray CLI dependencies were found. In Ray 1.4+, the Ray CLI, autoscaler, and dashboard will only be usable via `pip install 'ray[default]'`. Please update your install command.\n",
      "  \"update your install command.\", FutureWarning)\n"
     ]
    }
   ],
   "source": [
    "from gravitational_wave_toy import GWToyV2 as gwt"
   ]
  },
  {
   "cell_type": "markdown",
   "id": "artistic-grammar",
   "metadata": {},
   "source": [
    "## Import a sample grb"
   ]
  },
  {
   "cell_type": "code",
   "execution_count": 4,
   "id": "comparative-replica",
   "metadata": {},
   "outputs": [],
   "source": [
    "filepath = \"./GammaCatalogV2.0/run0639_ID000222.fits\""
   ]
  },
  {
   "cell_type": "code",
   "execution_count": 5,
   "id": "quarterly-mobile",
   "metadata": {},
   "outputs": [],
   "source": [
    "grb = gwt.GRB(filepath)"
   ]
  },
  {
   "cell_type": "markdown",
   "id": "oriented-display",
   "metadata": {},
   "source": [
    "## Test the extrapolations"
   ]
  },
  {
   "cell_type": "code",
   "execution_count": 289,
   "id": "modular-integer",
   "metadata": {},
   "outputs": [
    {
     "name": "stdout",
     "output_type": "stream",
     "text": [
      "Spectrum at t=10000.0s:\n",
      "[8.63502424e-18 5.27549920e-18 3.22302414e-18 1.96908039e-18\n",
      " 1.20299344e-18 7.34959249e-19 4.49017492e-19 2.74323656e-19\n",
      " 1.67595839e-19 1.02391059e-19 6.25542882e-20 3.82155421e-20\n",
      " 2.33474807e-20 1.42639571e-20 8.71444111e-21 5.32392314e-21\n",
      " 3.25222328e-21 1.98523708e-21 1.21286476e-21 7.40985362e-22\n",
      " 4.52678923e-22 2.76444973e-22 1.68380404e-22 1.02708634e-22\n",
      " 6.27439278e-23 3.83145104e-23 2.33234840e-23 1.40566756e-23\n",
      " 8.58121812e-24 5.22333427e-24 3.07889038e-24 1.87396066e-24\n",
      " 1.11737198e-24 6.55875186e-25 3.75313085e-25 2.20153637e-25\n",
      " 1.22507256e-25 6.47949218e-26 2.60612051e-26 4.39645129e-27\n",
      " 0.00000000e+00]\n",
      "\n",
      "Value at 10.0 GeV:\n",
      "6.255428820326217e-20\n",
      "\n",
      "Lightcurve at energy 10.0 GeV:\n",
      "[0.00000000e+00 0.00000000e+00 0.00000000e+00 0.00000000e+00\n",
      " 0.00000000e+00 0.00000000e+00 0.00000000e+00 0.00000000e+00\n",
      " 0.00000000e+00 0.00000000e+00 0.00000000e+00 0.00000000e+00\n",
      " 0.00000000e+00 0.00000000e+00 0.00000000e+00 0.00000000e+00\n",
      " 5.77748540e-27 1.59431806e-26 3.56370279e-26 6.49518841e-26\n",
      " 1.12733168e-25 1.90125986e-25 3.02651059e-25 4.67179983e-25\n",
      " 7.17603785e-25 1.11239107e-24 1.74451275e-24 2.70119487e-24\n",
      " 4.16377708e-24 6.39565046e-24 9.91419588e-24 1.55479862e-23\n",
      " 2.40744246e-23 3.71097023e-23 5.70012948e-23 8.83603638e-23\n",
      " 1.38571573e-22 2.14563535e-22 3.30740570e-22 5.08024574e-22\n",
      " 7.87512571e-22 1.23502045e-21 1.91229952e-21 2.94772843e-21\n",
      " 4.52777378e-21 7.01871317e-21 1.10071313e-20 1.70433872e-20\n",
      " 2.62716558e-20 4.03538175e-20 6.25542882e-20 9.81007526e-20\n",
      " 1.51896850e-19 2.34130355e-19 3.59559334e-19 5.56887508e-19\n",
      " 8.70005851e-19 1.32823964e-18 1.94293351e-18 2.76118836e-18\n",
      " 3.70638436e-18 6.00891192e-18 1.05563111e-17 1.47621721e-17\n",
      " 1.80718594e-17 2.57817896e-17 3.33551019e-17 4.34602250e-17\n",
      " 5.03160426e-17 6.11923160e-17]\n",
      "\n",
      "LC value at t=10000.0s:\n",
      "6.255428820326217e-20\n"
     ]
    }
   ],
   "source": [
    "time_index = 50\n",
    "energy_index = 10\n",
    "print(f\"Spectrum at t={grb.time[time_index]}s:\")\n",
    "print(np.array(grb.lc[time_index]))\n",
    "print()\n",
    "print(f\"Value at {grb.energy[energy_index]} GeV:\")\n",
    "print(np.array(grb.lc[time_index])[energy_index])\n",
    "print()\n",
    "print(f\"Lightcurve at energy {grb.energy[energy_index]} GeV:\")\n",
    "print(grb.lc.field(10))\n",
    "print()\n",
    "print(f\"LC value at t={grb.time[time_index]}s:\")\n",
    "print(grb.lc.field(10)[time_index])"
   ]
  },
  {
   "cell_type": "code",
   "execution_count": 299,
   "id": "christian-income",
   "metadata": {},
   "outputs": [
    {
     "data": {
      "text/plain": [
       "array([1.55617664e-23, 9.50733707e-24, 5.80843172e-24, 3.54861402e-24,\n",
       "       2.16799640e-24, 1.32452011e-24, 8.09205000e-25, 4.94377341e-25,\n",
       "       3.02035872e-25, 1.84525845e-25, 1.12733168e-25, 6.88704282e-26,\n",
       "       4.20758388e-26, 2.57058982e-26, 1.57047940e-26, 9.59452848e-27,\n",
       "       5.86093189e-27, 3.57732648e-27, 2.18553908e-27, 1.33522831e-27,\n",
       "       8.15706748e-28, 4.98118456e-28, 3.03300997e-28, 1.84976275e-28,\n",
       "       1.12999599e-28, 6.89994938e-29, 4.19860618e-29, 2.52664027e-29,\n",
       "       1.54231285e-29, 9.38409586e-30, 5.50909135e-30, 3.35164106e-30,\n",
       "       1.99269236e-30, 1.16399745e-30, 6.60339383e-31, 3.85218069e-31,\n",
       "       2.11525897e-31, 1.09137318e-31, 4.01687486e-32, 3.72658767e-33,\n",
       "       0.00000000e+00])"
      ]
     },
     "execution_count": 299,
     "metadata": {},
     "output_type": "execute_result"
    }
   ],
   "source": [
    "grb.get_spectrum(time=10)"
   ]
  },
  {
   "cell_type": "code",
   "execution_count": 296,
   "id": "solid-verse",
   "metadata": {},
   "outputs": [
    {
     "data": {
      "text/plain": [
       "array([ 1.48468592e-49, -8.57677536e-49,  2.83674822e-48, -7.87484184e-48,\n",
       "        2.10621376e-47, -5.60769423e-47,  1.49287273e-46, -3.97846373e-46,\n",
       "        1.05927011e-45, -2.81764994e-45,  7.46766184e-45, -1.98371314e-44,\n",
       "        5.29865982e-44, -1.42582119e-43,  3.89560973e-43, -1.23314265e-42,\n",
       "        5.77748540e-27,  1.59431806e-26,  3.56370279e-26,  6.49518841e-26,\n",
       "        1.12733168e-25,  1.90125986e-25,  3.02651059e-25,  4.67179983e-25,\n",
       "        7.17603785e-25,  1.11239107e-24,  1.74451275e-24,  2.70119487e-24,\n",
       "        4.16377708e-24,  6.39565046e-24,  9.91419588e-24,  1.55479862e-23,\n",
       "        2.40744246e-23,  3.71097023e-23,  5.70012948e-23,  8.83603638e-23,\n",
       "        1.38571573e-22,  2.14563535e-22,  3.30740570e-22,  5.08024574e-22,\n",
       "        7.87512571e-22,  1.23502045e-21,  1.91229952e-21,  2.94772843e-21,\n",
       "        4.52777378e-21,  7.01871317e-21,  1.10071313e-20,  1.70433872e-20,\n",
       "        2.62716558e-20,  4.03538175e-20,  6.25542882e-20,  9.81007526e-20,\n",
       "        1.51896850e-19,  2.34130355e-19,  3.59559334e-19,  5.56887508e-19,\n",
       "        8.70005851e-19,  1.32823964e-18,  1.94293351e-18,  2.76118836e-18,\n",
       "        3.70638436e-18,  6.00891192e-18,  1.05563111e-17,  1.47621721e-17,\n",
       "        1.80718594e-17,  2.57817896e-17,  3.33551019e-17,  4.34602250e-17,\n",
       "        5.03160426e-17,  6.11923160e-17])"
      ]
     },
     "execution_count": 296,
     "metadata": {},
     "output_type": "execute_result"
    }
   ],
   "source": [
    "grb.get_lightcurve(energy=10)"
   ]
  },
  {
   "cell_type": "markdown",
   "id": "proper-yukon",
   "metadata": {},
   "source": [
    "## Test an integration"
   ]
  },
  {
   "cell_type": "code",
   "execution_count": 13,
   "id": "engaging-monthly",
   "metadata": {},
   "outputs": [],
   "source": [
    "def get_integral_spectrum(grb, time, min_energy, max_energy):\n",
    "    \n",
    "    return integrate.quad(lambda energy: grb.get_spectrum(time, energy), min_energy, max_energy)"
   ]
  },
  {
   "cell_type": "code",
   "execution_count": 16,
   "id": "another-mobility",
   "metadata": {},
   "outputs": [
    {
     "data": {
      "text/plain": [
       "1.1273316817094178e-25"
      ]
     },
     "execution_count": 16,
     "metadata": {},
     "output_type": "execute_result"
    }
   ],
   "source": [
    "grb.get_spectrum(10, energy=10)"
   ]
  },
  {
   "cell_type": "code",
   "execution_count": 35,
   "id": "referenced-joining",
   "metadata": {},
   "outputs": [
    {
     "data": {
      "text/plain": [
       "2.503879354990221e-24"
      ]
     },
     "execution_count": 35,
     "metadata": {},
     "output_type": "execute_result"
    }
   ],
   "source": [
    "grb.get_integral_flux(10)"
   ]
  },
  {
   "cell_type": "code",
   "execution_count": 27,
   "id": "serial-software",
   "metadata": {},
   "outputs": [
    {
     "data": {
      "text/plain": [
       "1.3894608980755688e-18"
      ]
     },
     "execution_count": 27,
     "metadata": {},
     "output_type": "execute_result"
    }
   ],
   "source": [
    "grb.get_integral_spectrum(10000)"
   ]
  },
  {
   "cell_type": "code",
   "execution_count": 44,
   "id": "recreational-tattoo",
   "metadata": {},
   "outputs": [
    {
     "data": {
      "text/plain": [
       "1.8462223964041814e-21"
      ]
     },
     "execution_count": 44,
     "metadata": {},
     "output_type": "execute_result"
    }
   ],
   "source": [
    "grb.get_fluence(0, 1000000000)"
   ]
  },
  {
   "cell_type": "code",
   "execution_count": 32,
   "id": "published-layer",
   "metadata": {},
   "outputs": [
    {
     "data": {
      "text/plain": [
       "array([0.00000000e+00, 0.00000000e+00, 0.00000000e+00, 0.00000000e+00,\n",
       "       0.00000000e+00, 0.00000000e+00, 0.00000000e+00, 0.00000000e+00,\n",
       "       0.00000000e+00, 0.00000000e+00, 0.00000000e+00, 0.00000000e+00,\n",
       "       0.00000000e+00, 0.00000000e+00, 0.00000000e+00, 0.00000000e+00,\n",
       "       4.87235425e-25, 1.34456127e-24, 3.00545731e-24, 5.47772234e-24,\n",
       "       9.50733707e-24, 1.60342271e-23, 2.55240103e-23, 3.93995274e-23,\n",
       "       6.05189507e-23, 9.38132042e-23, 1.47122979e-22, 2.27804669e-22,\n",
       "       3.51151281e-22, 5.39375716e-22, 8.36111063e-22, 1.31123493e-21,\n",
       "       2.03031125e-21, 3.12963909e-21, 4.80719113e-21, 7.45184769e-21,\n",
       "       1.16863936e-20, 1.80951680e-20, 2.78929377e-20, 4.28441361e-20,\n",
       "       6.64146624e-20, 1.04155093e-19, 1.61273355e-19, 2.48596069e-19,\n",
       "       3.81848764e-19, 5.91921302e-19, 9.28283236e-19, 1.43735027e-18,\n",
       "       2.21561467e-18, 3.40322995e-18, 5.27549920e-18, 8.27329862e-18,\n",
       "       1.28101871e-17, 1.97453352e-17, 3.03233541e-17, 4.69649601e-17,\n",
       "       7.33716974e-17, 1.12016828e-16, 1.63857083e-16, 2.32864746e-16,\n",
       "       3.12578439e-16, 5.06761554e-16, 8.90260060e-16, 1.24495348e-15,\n",
       "       1.52408969e-15, 2.17433238e-15, 2.81299996e-15, 3.66520711e-15,\n",
       "       4.24337874e-15, 5.16057393e-15])"
      ]
     },
     "execution_count": 32,
     "metadata": {},
     "output_type": "execute_result"
    }
   ],
   "source": [
    "grb.spectra[1]"
   ]
  },
  {
   "cell_type": "code",
   "execution_count": null,
   "id": "treated-drilling",
   "metadata": {},
   "outputs": [],
   "source": [
    "integral_spectrum = "
   ]
  }
 ],
 "metadata": {
  "kernelspec": {
   "display_name": "gw-toy",
   "language": "python",
   "name": "gw-toy"
  },
  "language_info": {
   "codemirror_mode": {
    "name": "ipython",
    "version": 3
   },
   "file_extension": ".py",
   "mimetype": "text/x-python",
   "name": "python",
   "nbconvert_exporter": "python",
   "pygments_lexer": "ipython3",
   "version": "3.7.10"
  }
 },
 "nbformat": 4,
 "nbformat_minor": 5
}
