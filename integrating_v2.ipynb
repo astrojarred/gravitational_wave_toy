{
 "cells": [
  {
   "cell_type": "markdown",
   "id": "atomic-newport",
   "metadata": {},
   "source": [
    "# Integrating v2"
   ]
  },
  {
   "cell_type": "code",
   "execution_count": 1,
   "id": "aboriginal-aberdeen",
   "metadata": {},
   "outputs": [],
   "source": [
    "%load_ext autoreload\n",
    "%autoreload 2"
   ]
  },
  {
   "cell_type": "code",
   "execution_count": 56,
   "id": "junior-estonia",
   "metadata": {},
   "outputs": [],
   "source": [
    "import os\n",
    "import subprocess\n",
    "import yaml\n",
    "\n",
    "from astropy.io import fits\n",
    "import numpy as np\n",
    "import pandas as pd\n",
    "import glob\n",
    "from tqdm import tqdm\n",
    "import random\n",
    "\n",
    "from scipy.interpolate import interp2d, RectBivariateSpline\n",
    "from matplotlib import pyplot as plt"
   ]
  },
  {
   "cell_type": "code",
   "execution_count": 4,
   "id": "adjusted-humor",
   "metadata": {},
   "outputs": [
    {
     "name": "stderr",
     "output_type": "stream",
     "text": [
      "/Users/jarred/Documents/Projects/gravitational_wave_toy/.venv/lib/python3.7/site-packages/ray/autoscaler/_private/cli_logger.py:61: FutureWarning: Not all Ray CLI dependencies were found. In Ray 1.4+, the Ray CLI, autoscaler, and dashboard will only be usable via `pip install 'ray[default]'`. Please update your install command.\n",
      "  \"update your install command.\", FutureWarning)\n"
     ]
    }
   ],
   "source": [
    "from gravitational_wave_toy import GWToyV2 as gwt"
   ]
  },
  {
   "cell_type": "markdown",
   "id": "leading-intersection",
   "metadata": {},
   "source": [
    "## Import a sample grb"
   ]
  },
  {
   "cell_type": "code",
   "execution_count": 5,
   "id": "aboriginal-addiction",
   "metadata": {},
   "outputs": [],
   "source": [
    "filepath = \"./GammaCatalogV2.0/run0639_ID000222.fits\""
   ]
  },
  {
   "cell_type": "code",
   "execution_count": 235,
   "id": "inside-moses",
   "metadata": {},
   "outputs": [],
   "source": [
    "grb = gwt.GRB(filepath)"
   ]
  },
  {
   "cell_type": "code",
   "execution_count": 289,
   "id": "vulnerable-people",
   "metadata": {},
   "outputs": [
    {
     "name": "stdout",
     "output_type": "stream",
     "text": [
      "Spectrum at t=10000.0s:\n",
      "[8.63502424e-18 5.27549920e-18 3.22302414e-18 1.96908039e-18\n",
      " 1.20299344e-18 7.34959249e-19 4.49017492e-19 2.74323656e-19\n",
      " 1.67595839e-19 1.02391059e-19 6.25542882e-20 3.82155421e-20\n",
      " 2.33474807e-20 1.42639571e-20 8.71444111e-21 5.32392314e-21\n",
      " 3.25222328e-21 1.98523708e-21 1.21286476e-21 7.40985362e-22\n",
      " 4.52678923e-22 2.76444973e-22 1.68380404e-22 1.02708634e-22\n",
      " 6.27439278e-23 3.83145104e-23 2.33234840e-23 1.40566756e-23\n",
      " 8.58121812e-24 5.22333427e-24 3.07889038e-24 1.87396066e-24\n",
      " 1.11737198e-24 6.55875186e-25 3.75313085e-25 2.20153637e-25\n",
      " 1.22507256e-25 6.47949218e-26 2.60612051e-26 4.39645129e-27\n",
      " 0.00000000e+00]\n",
      "\n",
      "Value at 10.0 GeV:\n",
      "6.255428820326217e-20\n",
      "\n",
      "Lightcurve at energy 10.0 GeV:\n",
      "[0.00000000e+00 0.00000000e+00 0.00000000e+00 0.00000000e+00\n",
      " 0.00000000e+00 0.00000000e+00 0.00000000e+00 0.00000000e+00\n",
      " 0.00000000e+00 0.00000000e+00 0.00000000e+00 0.00000000e+00\n",
      " 0.00000000e+00 0.00000000e+00 0.00000000e+00 0.00000000e+00\n",
      " 5.77748540e-27 1.59431806e-26 3.56370279e-26 6.49518841e-26\n",
      " 1.12733168e-25 1.90125986e-25 3.02651059e-25 4.67179983e-25\n",
      " 7.17603785e-25 1.11239107e-24 1.74451275e-24 2.70119487e-24\n",
      " 4.16377708e-24 6.39565046e-24 9.91419588e-24 1.55479862e-23\n",
      " 2.40744246e-23 3.71097023e-23 5.70012948e-23 8.83603638e-23\n",
      " 1.38571573e-22 2.14563535e-22 3.30740570e-22 5.08024574e-22\n",
      " 7.87512571e-22 1.23502045e-21 1.91229952e-21 2.94772843e-21\n",
      " 4.52777378e-21 7.01871317e-21 1.10071313e-20 1.70433872e-20\n",
      " 2.62716558e-20 4.03538175e-20 6.25542882e-20 9.81007526e-20\n",
      " 1.51896850e-19 2.34130355e-19 3.59559334e-19 5.56887508e-19\n",
      " 8.70005851e-19 1.32823964e-18 1.94293351e-18 2.76118836e-18\n",
      " 3.70638436e-18 6.00891192e-18 1.05563111e-17 1.47621721e-17\n",
      " 1.80718594e-17 2.57817896e-17 3.33551019e-17 4.34602250e-17\n",
      " 5.03160426e-17 6.11923160e-17]\n",
      "\n",
      "LC value at t=10000.0s:\n",
      "6.255428820326217e-20\n"
     ]
    }
   ],
   "source": [
    "time_index = 50\n",
    "energy_index = 10\n",
    "print(f\"Spectrum at t={grb.time[time_index]}s:\")\n",
    "print(np.array(grb.lc[time_index]))\n",
    "print()\n",
    "print(f\"Value at {grb.energy[energy_index]} GeV:\")\n",
    "print(np.array(grb.lc[time_index])[energy_index])\n",
    "print()\n",
    "print(f\"Lightcurve at energy {grb.energy[energy_index]} GeV:\")\n",
    "print(grb.lc.field(10))\n",
    "print()\n",
    "print(f\"LC value at t={grb.time[time_index]}s:\")\n",
    "print(grb.lc.field(10)[time_index])"
   ]
  },
  {
   "cell_type": "code",
   "execution_count": 296,
   "id": "embedded-chemical",
   "metadata": {},
   "outputs": [
    {
     "data": {
      "text/plain": [
       "array([ 1.48468592e-49, -8.57677536e-49,  2.83674822e-48, -7.87484184e-48,\n",
       "        2.10621376e-47, -5.60769423e-47,  1.49287273e-46, -3.97846373e-46,\n",
       "        1.05927011e-45, -2.81764994e-45,  7.46766184e-45, -1.98371314e-44,\n",
       "        5.29865982e-44, -1.42582119e-43,  3.89560973e-43, -1.23314265e-42,\n",
       "        5.77748540e-27,  1.59431806e-26,  3.56370279e-26,  6.49518841e-26,\n",
       "        1.12733168e-25,  1.90125986e-25,  3.02651059e-25,  4.67179983e-25,\n",
       "        7.17603785e-25,  1.11239107e-24,  1.74451275e-24,  2.70119487e-24,\n",
       "        4.16377708e-24,  6.39565046e-24,  9.91419588e-24,  1.55479862e-23,\n",
       "        2.40744246e-23,  3.71097023e-23,  5.70012948e-23,  8.83603638e-23,\n",
       "        1.38571573e-22,  2.14563535e-22,  3.30740570e-22,  5.08024574e-22,\n",
       "        7.87512571e-22,  1.23502045e-21,  1.91229952e-21,  2.94772843e-21,\n",
       "        4.52777378e-21,  7.01871317e-21,  1.10071313e-20,  1.70433872e-20,\n",
       "        2.62716558e-20,  4.03538175e-20,  6.25542882e-20,  9.81007526e-20,\n",
       "        1.51896850e-19,  2.34130355e-19,  3.59559334e-19,  5.56887508e-19,\n",
       "        8.70005851e-19,  1.32823964e-18,  1.94293351e-18,  2.76118836e-18,\n",
       "        3.70638436e-18,  6.00891192e-18,  1.05563111e-17,  1.47621721e-17,\n",
       "        1.80718594e-17,  2.57817896e-17,  3.33551019e-17,  4.34602250e-17,\n",
       "        5.03160426e-17,  6.11923160e-17])"
      ]
     },
     "execution_count": 296,
     "metadata": {},
     "output_type": "execute_result"
    }
   ],
   "source": [
    "grb.get_lightcurve(energy=10)"
   ]
  },
  {
   "cell_type": "code",
   "execution_count": 281,
   "id": "early-stone",
   "metadata": {},
   "outputs": [
    {
     "data": {
      "text/plain": [
       "[1.0795650218133582e-27,\n",
       " 6.595516404439192e-28,\n",
       " 4.0294781486295275e-28,\n",
       " 2.4617776969537166e-28,\n",
       " 1.504003699936573e-28,\n",
       " 9.188590659046855e-29,\n",
       " 5.613696183266511e-29,\n",
       " 3.429642913409602e-29,\n",
       " 2.0953129918044504e-29,\n",
       " 1.2801141922118306e-29,\n",
       " 7.820797069820316e-30,\n",
       " 4.777880480030704e-30,\n",
       " 2.9190079752267282e-30,\n",
       " 1.783344643100568e-30,\n",
       " 1.0895202470400104e-30,\n",
       " 6.656320880546478e-31,\n",
       " 4.066811192647157e-31,\n",
       " 2.481416869396856e-31,\n",
       " 1.5160018468241531e-31,\n",
       " 9.261887522479381e-32,\n",
       " 5.658439215936143e-32,\n",
       " 3.456286952321224e-32,\n",
       " 2.0907165506891694e-32,\n",
       " 1.2669965766282003e-32,\n",
       " 7.740519272293967e-33,\n",
       " 4.729982342619433e-33,\n",
       " 2.8623191498030298e-33,\n",
       " 1.6390339617543527e-33,\n",
       " 1.0016937907853615e-33,\n",
       " 6.0848245223796335e-34,\n",
       " 3.0974550558112413e-34,\n",
       " 1.8851771038467183e-34,\n",
       " 1.016347709455294e-34,\n",
       " 4.85480429797648e-35,\n",
       " 1.6813379340803876e-35,\n",
       " 7.162825798379051e-36,\n",
       " -3.7998604550471205e-36,\n",
       " -7.038842543183004e-37,\n",
       " 3.7594585167584404e-37,\n",
       " 5.943491187042372e-39,\n",
       " 0.0]"
      ]
     },
     "execution_count": 281,
     "metadata": {},
     "output_type": "execute_result"
    }
   ],
   "source": [
    "grb.get_spectrum(time=2.5)"
   ]
  },
  {
   "cell_type": "code",
   "execution_count": 263,
   "id": "grave-location",
   "metadata": {},
   "outputs": [
    {
     "name": "stdout",
     "output_type": "stream",
     "text": [
      "OK2\n"
     ]
    },
    {
     "data": {
      "text/plain": [
       "[8.635024243057115e-18,\n",
       " 5.275499196162016e-18,\n",
       " 3.2230241426376792e-18,\n",
       " 1.9690803863891188e-18,\n",
       " 1.2029934411963554e-18,\n",
       " 7.349592489126227e-19,\n",
       " 4.490174917537552e-19,\n",
       " 2.7432365563006103e-19,\n",
       " 1.675958388498435e-19,\n",
       " 1.0239105940916851e-19,\n",
       " 6.255428820326218e-20,\n",
       " 3.821554211446624e-20,\n",
       " 2.3347480682276223e-20,\n",
       " 1.4263957124473537e-20,\n",
       " 8.714441109470907e-21,\n",
       " 5.3239231413388244e-21,\n",
       " 3.2522232778986624e-21,\n",
       " 1.9852370838713978e-21,\n",
       " 1.2128647639380246e-21,\n",
       " 7.409853618727054e-22,\n",
       " 4.526789233698462e-22,\n",
       " 2.7644497340906085e-22,\n",
       " 1.6838040402805863e-22,\n",
       " 1.0270863403890972e-22,\n",
       " 6.274392778670068e-23,\n",
       " 3.831451036445969e-23,\n",
       " 2.33234840367218e-23,\n",
       " 1.4056675563369916e-23,\n",
       " 8.581218120636172e-24,\n",
       " 5.223334269021948e-24,\n",
       " 3.0788903836856427e-24,\n",
       " 1.8739606598765672e-24,\n",
       " 1.11737197567468e-24,\n",
       " 6.558751864964922e-25,\n",
       " 3.7531308462308093e-25,\n",
       " 2.201536373956032e-25,\n",
       " 1.2250725578146778e-25,\n",
       " 6.479492180983373e-26,\n",
       " 2.6061205139868023e-26,\n",
       " 4.396451293008555e-27,\n",
       " 0.0]"
      ]
     },
     "execution_count": 263,
     "metadata": {},
     "output_type": "execute_result"
    }
   ],
   "source": [
    "[ i[0] for i in grb.get_spectrum(10000)(grb.energy) ]"
   ]
  },
  {
   "cell_type": "code",
   "execution_count": 102,
   "id": "spatial-sweet",
   "metadata": {},
   "outputs": [
    {
     "name": "stdout",
     "output_type": "stream",
     "text": [
      "CPU times: user 2 µs, sys: 1e+03 ns, total: 3 µs\n",
      "Wall time: 5.01 µs\n"
     ]
    }
   ],
   "source": [
    "%time\n",
    "f = RectBivariateSpline(grb.energy, grb.time, grb.spectra)"
   ]
  },
  {
   "cell_type": "code",
   "execution_count": 103,
   "id": "according-vault",
   "metadata": {},
   "outputs": [
    {
     "name": "stdout",
     "output_type": "stream",
     "text": [
      "CPU times: user 2 µs, sys: 1 µs, total: 3 µs\n",
      "Wall time: 5.25 µs\n"
     ]
    }
   ],
   "source": [
    "%time\n",
    "f2 = interp2d(grb.time, grb.energy, grb.spectra, kind=\"linear\")"
   ]
  },
  {
   "cell_type": "code",
   "execution_count": 147,
   "id": "atlantic-austria",
   "metadata": {},
   "outputs": [
    {
     "ename": "ValueError",
     "evalue": "x and y must have same first dimension, but have shapes (100,) and (1,)",
     "output_type": "error",
     "traceback": [
      "\u001b[0;31m---------------------------------------------------------------------------\u001b[0m",
      "\u001b[0;31mValueError\u001b[0m                                Traceback (most recent call last)",
      "\u001b[0;32m<ipython-input-147-391d370918a4>\u001b[0m in \u001b[0;36m<module>\u001b[0;34m\u001b[0m\n\u001b[1;32m      1\u001b[0m \u001b[0mx\u001b[0m \u001b[0;34m=\u001b[0m \u001b[0mnp\u001b[0m\u001b[0;34m.\u001b[0m\u001b[0mlinspace\u001b[0m\u001b[0;34m(\u001b[0m\u001b[0;36m1\u001b[0m\u001b[0;34m,\u001b[0m \u001b[0;36m1000000\u001b[0m\u001b[0;34m,\u001b[0m \u001b[0;36m100\u001b[0m\u001b[0;34m)\u001b[0m\u001b[0;34m\u001b[0m\u001b[0;34m\u001b[0m\u001b[0m\n\u001b[0;32m----> 2\u001b[0;31m \u001b[0mplt\u001b[0m\u001b[0;34m.\u001b[0m\u001b[0mplot\u001b[0m\u001b[0;34m(\u001b[0m\u001b[0mx\u001b[0m\u001b[0;34m,\u001b[0m \u001b[0mf\u001b[0m\u001b[0;34m(\u001b[0m\u001b[0mx\u001b[0m\u001b[0;34m,\u001b[0m \u001b[0;36m1\u001b[0m\u001b[0;34m)\u001b[0m\u001b[0;34m[\u001b[0m\u001b[0;36m0\u001b[0m\u001b[0;34m]\u001b[0m\u001b[0;34m)\u001b[0m\u001b[0;34m\u001b[0m\u001b[0;34m\u001b[0m\u001b[0m\n\u001b[0m",
      "\u001b[0;32m~/Documents/Projects/gravitational_wave_toy/.venv/lib/python3.7/site-packages/matplotlib/pyplot.py\u001b[0m in \u001b[0;36mplot\u001b[0;34m(scalex, scaley, data, *args, **kwargs)\u001b[0m\n\u001b[1;32m   3019\u001b[0m     return gca().plot(\n\u001b[1;32m   3020\u001b[0m         \u001b[0;34m*\u001b[0m\u001b[0margs\u001b[0m\u001b[0;34m,\u001b[0m \u001b[0mscalex\u001b[0m\u001b[0;34m=\u001b[0m\u001b[0mscalex\u001b[0m\u001b[0;34m,\u001b[0m \u001b[0mscaley\u001b[0m\u001b[0;34m=\u001b[0m\u001b[0mscaley\u001b[0m\u001b[0;34m,\u001b[0m\u001b[0;34m\u001b[0m\u001b[0;34m\u001b[0m\u001b[0m\n\u001b[0;32m-> 3021\u001b[0;31m         **({\"data\": data} if data is not None else {}), **kwargs)\n\u001b[0m\u001b[1;32m   3022\u001b[0m \u001b[0;34m\u001b[0m\u001b[0m\n\u001b[1;32m   3023\u001b[0m \u001b[0;34m\u001b[0m\u001b[0m\n",
      "\u001b[0;32m~/Documents/Projects/gravitational_wave_toy/.venv/lib/python3.7/site-packages/matplotlib/axes/_axes.py\u001b[0m in \u001b[0;36mplot\u001b[0;34m(self, scalex, scaley, data, *args, **kwargs)\u001b[0m\n\u001b[1;32m   1603\u001b[0m         \"\"\"\n\u001b[1;32m   1604\u001b[0m         \u001b[0mkwargs\u001b[0m \u001b[0;34m=\u001b[0m \u001b[0mcbook\u001b[0m\u001b[0;34m.\u001b[0m\u001b[0mnormalize_kwargs\u001b[0m\u001b[0;34m(\u001b[0m\u001b[0mkwargs\u001b[0m\u001b[0;34m,\u001b[0m \u001b[0mmlines\u001b[0m\u001b[0;34m.\u001b[0m\u001b[0mLine2D\u001b[0m\u001b[0;34m)\u001b[0m\u001b[0;34m\u001b[0m\u001b[0;34m\u001b[0m\u001b[0m\n\u001b[0;32m-> 1605\u001b[0;31m         \u001b[0mlines\u001b[0m \u001b[0;34m=\u001b[0m \u001b[0;34m[\u001b[0m\u001b[0;34m*\u001b[0m\u001b[0mself\u001b[0m\u001b[0;34m.\u001b[0m\u001b[0m_get_lines\u001b[0m\u001b[0;34m(\u001b[0m\u001b[0;34m*\u001b[0m\u001b[0margs\u001b[0m\u001b[0;34m,\u001b[0m \u001b[0mdata\u001b[0m\u001b[0;34m=\u001b[0m\u001b[0mdata\u001b[0m\u001b[0;34m,\u001b[0m \u001b[0;34m**\u001b[0m\u001b[0mkwargs\u001b[0m\u001b[0;34m)\u001b[0m\u001b[0;34m]\u001b[0m\u001b[0;34m\u001b[0m\u001b[0;34m\u001b[0m\u001b[0m\n\u001b[0m\u001b[1;32m   1606\u001b[0m         \u001b[0;32mfor\u001b[0m \u001b[0mline\u001b[0m \u001b[0;32min\u001b[0m \u001b[0mlines\u001b[0m\u001b[0;34m:\u001b[0m\u001b[0;34m\u001b[0m\u001b[0;34m\u001b[0m\u001b[0m\n\u001b[1;32m   1607\u001b[0m             \u001b[0mself\u001b[0m\u001b[0;34m.\u001b[0m\u001b[0madd_line\u001b[0m\u001b[0;34m(\u001b[0m\u001b[0mline\u001b[0m\u001b[0;34m)\u001b[0m\u001b[0;34m\u001b[0m\u001b[0;34m\u001b[0m\u001b[0m\n",
      "\u001b[0;32m~/Documents/Projects/gravitational_wave_toy/.venv/lib/python3.7/site-packages/matplotlib/axes/_base.py\u001b[0m in \u001b[0;36m__call__\u001b[0;34m(self, data, *args, **kwargs)\u001b[0m\n\u001b[1;32m    313\u001b[0m                 \u001b[0mthis\u001b[0m \u001b[0;34m+=\u001b[0m \u001b[0margs\u001b[0m\u001b[0;34m[\u001b[0m\u001b[0;36m0\u001b[0m\u001b[0;34m]\u001b[0m\u001b[0;34m,\u001b[0m\u001b[0;34m\u001b[0m\u001b[0;34m\u001b[0m\u001b[0m\n\u001b[1;32m    314\u001b[0m                 \u001b[0margs\u001b[0m \u001b[0;34m=\u001b[0m \u001b[0margs\u001b[0m\u001b[0;34m[\u001b[0m\u001b[0;36m1\u001b[0m\u001b[0;34m:\u001b[0m\u001b[0;34m]\u001b[0m\u001b[0;34m\u001b[0m\u001b[0;34m\u001b[0m\u001b[0m\n\u001b[0;32m--> 315\u001b[0;31m             \u001b[0;32myield\u001b[0m \u001b[0;32mfrom\u001b[0m \u001b[0mself\u001b[0m\u001b[0;34m.\u001b[0m\u001b[0m_plot_args\u001b[0m\u001b[0;34m(\u001b[0m\u001b[0mthis\u001b[0m\u001b[0;34m,\u001b[0m \u001b[0mkwargs\u001b[0m\u001b[0;34m)\u001b[0m\u001b[0;34m\u001b[0m\u001b[0;34m\u001b[0m\u001b[0m\n\u001b[0m\u001b[1;32m    316\u001b[0m \u001b[0;34m\u001b[0m\u001b[0m\n\u001b[1;32m    317\u001b[0m     \u001b[0;32mdef\u001b[0m \u001b[0mget_next_color\u001b[0m\u001b[0;34m(\u001b[0m\u001b[0mself\u001b[0m\u001b[0;34m)\u001b[0m\u001b[0;34m:\u001b[0m\u001b[0;34m\u001b[0m\u001b[0;34m\u001b[0m\u001b[0m\n",
      "\u001b[0;32m~/Documents/Projects/gravitational_wave_toy/.venv/lib/python3.7/site-packages/matplotlib/axes/_base.py\u001b[0m in \u001b[0;36m_plot_args\u001b[0;34m(self, tup, kwargs, return_kwargs)\u001b[0m\n\u001b[1;32m    499\u001b[0m \u001b[0;34m\u001b[0m\u001b[0m\n\u001b[1;32m    500\u001b[0m         \u001b[0;32mif\u001b[0m \u001b[0mx\u001b[0m\u001b[0;34m.\u001b[0m\u001b[0mshape\u001b[0m\u001b[0;34m[\u001b[0m\u001b[0;36m0\u001b[0m\u001b[0;34m]\u001b[0m \u001b[0;34m!=\u001b[0m \u001b[0my\u001b[0m\u001b[0;34m.\u001b[0m\u001b[0mshape\u001b[0m\u001b[0;34m[\u001b[0m\u001b[0;36m0\u001b[0m\u001b[0;34m]\u001b[0m\u001b[0;34m:\u001b[0m\u001b[0;34m\u001b[0m\u001b[0;34m\u001b[0m\u001b[0m\n\u001b[0;32m--> 501\u001b[0;31m             raise ValueError(f\"x and y must have same first dimension, but \"\n\u001b[0m\u001b[1;32m    502\u001b[0m                              f\"have shapes {x.shape} and {y.shape}\")\n\u001b[1;32m    503\u001b[0m         \u001b[0;32mif\u001b[0m \u001b[0mx\u001b[0m\u001b[0;34m.\u001b[0m\u001b[0mndim\u001b[0m \u001b[0;34m>\u001b[0m \u001b[0;36m2\u001b[0m \u001b[0;32mor\u001b[0m \u001b[0my\u001b[0m\u001b[0;34m.\u001b[0m\u001b[0mndim\u001b[0m \u001b[0;34m>\u001b[0m \u001b[0;36m2\u001b[0m\u001b[0;34m:\u001b[0m\u001b[0;34m\u001b[0m\u001b[0;34m\u001b[0m\u001b[0m\n",
      "\u001b[0;31mValueError\u001b[0m: x and y must have same first dimension, but have shapes (100,) and (1,)"
     ]
    },
    {
     "data": {
      "image/png": "[encoded data removed]",
      "text/plain": [
       "<Figure size 432x288 with 1 Axes>"
      ]
     },
     "metadata": {
      "needs_background": "light"
     },
     "output_type": "display_data"
    }
   ],
   "source": [
    "x = np.linspace(1, 1000000, 100)\n",
    "plt.plot(x, f(x, 1)[0])"
   ]
  },
  {
   "cell_type": "code",
   "execution_count": 125,
   "id": "isolated-prompt",
   "metadata": {},
   "outputs": [
    {
     "data": {
      "text/plain": [
       "array([[1.55617664e-23]])"
      ]
     },
     "execution_count": 125,
     "metadata": {},
     "output_type": "execute_result"
    }
   ],
   "source": [
    "f(1, 10)"
   ]
  },
  {
   "cell_type": "code",
   "execution_count": 79,
   "id": "living-conspiracy",
   "metadata": {},
   "outputs": [
    {
     "data": {
      "text/plain": [
       "array([1.0000000e-01, 1.2589253e-01, 1.5848932e-01, 1.9952624e-01,\n",
       "       2.5118864e-01, 3.1622776e-01, 3.9810717e-01, 5.0118721e-01,\n",
       "       6.3095737e-01, 7.9432821e-01, 1.0000000e+00, 1.2589254e+00,\n",
       "       1.5848932e+00, 1.9952623e+00, 2.5118864e+00, 3.1622777e+00,\n",
       "       3.9810717e+00, 5.0118723e+00, 6.3095737e+00, 7.9432821e+00,\n",
       "       1.0000000e+01, 1.2589254e+01, 1.5848932e+01, 1.9952623e+01,\n",
       "       2.5118864e+01, 3.1622776e+01, 3.9810719e+01, 5.0118725e+01,\n",
       "       6.3095734e+01, 7.9432823e+01, 1.0000000e+02, 1.2589254e+02,\n",
       "       1.5848932e+02, 1.9952623e+02, 2.5118864e+02, 3.1622775e+02,\n",
       "       3.9810718e+02, 5.0118723e+02, 6.3095734e+02, 7.9432825e+02,\n",
       "       1.0000000e+03, 1.2589254e+03, 1.5848932e+03, 1.9952623e+03,\n",
       "       2.5118865e+03, 3.1622776e+03, 3.9810718e+03, 5.0118726e+03,\n",
       "       6.3095732e+03, 7.9432822e+03, 1.0000000e+04, 1.2589254e+04,\n",
       "       1.5848932e+04, 1.9952623e+04, 2.5118865e+04, 3.1622777e+04,\n",
       "       3.9810719e+04, 5.0118723e+04, 6.3095734e+04, 7.9432820e+04,\n",
       "       1.0000000e+05, 1.2589254e+05, 1.5848931e+05, 1.9952623e+05,\n",
       "       2.5118864e+05, 3.1622778e+05, 3.9810716e+05, 5.0118722e+05,\n",
       "       6.3095738e+05, 7.9432825e+05], dtype=float32)"
      ]
     },
     "execution_count": 79,
     "metadata": {},
     "output_type": "execute_result"
    }
   ],
   "source": [
    "grb.time"
   ]
  },
  {
   "cell_type": "code",
   "execution_count": null,
   "id": "painted-polish",
   "metadata": {},
   "outputs": [],
   "source": []
  }
 ],
 "metadata": {
  "kernelspec": {
   "display_name": "gw-toy",
   "language": "python",
   "name": "gw-toy"
  },
  "language_info": {
   "codemirror_mode": {
    "name": "ipython",
    "version": 3
   },
   "file_extension": ".py",
   "mimetype": "text/x-python",
   "name": "python",
   "nbconvert_exporter": "python",
   "pygments_lexer": "ipython3",
   "version": "3.7.10"
  }
 },
 "nbformat": 4,
 "nbformat_minor": 5
}
