{
 "cells": [
  {
   "cell_type": "markdown",
   "id": "chinese-spouse",
   "metadata": {},
   "source": [
    "# Integrating v2"
   ]
  },
  {
   "cell_type": "code",
   "execution_count": 1,
   "id": "variable-knife",
   "metadata": {},
   "outputs": [],
   "source": [
    "%load_ext autoreload\n",
    "%autoreload 2"
   ]
  },
  {
   "cell_type": "code",
   "execution_count": 2,
   "id": "natural-sleeve",
   "metadata": {},
   "outputs": [],
   "source": [
    "import os\n",
    "import subprocess\n",
    "import yaml\n",
    "\n",
    "from astropy.io import fits\n",
    "import numpy as np\n",
    "import pandas as pd\n",
    "import glob\n",
    "from tqdm import tqdm\n",
    "import random\n",
    "\n",
    "from scipy import integrate\n",
    "from scipy.interpolate import interp2d, RectBivariateSpline\n",
    "from matplotlib import pyplot as plt"
   ]
  },
  {
   "cell_type": "code",
   "execution_count": 3,
   "id": "canadian-folks",
   "metadata": {},
   "outputs": [
    {
     "name": "stderr",
     "output_type": "stream",
     "text": [
      "/Users/jarred/Documents/Projects/gravitational_wave_toy/.venv/lib/python3.7/site-packages/ray/autoscaler/_private/cli_logger.py:61: FutureWarning: Not all Ray CLI dependencies were found. In Ray 1.4+, the Ray CLI, autoscaler, and dashboard will only be usable via `pip install 'ray[default]'`. Please update your install command.\n",
      "  \"update your install command.\", FutureWarning)\n"
     ]
    }
   ],
   "source": [
    "from gravitational_wave_toy import GWToyV2 as gwt\n",
    "from gravitational_wave_toy import GWToy as gwto\n",
    "from gravitational_wave_toy import GWPlotter as gwp"
   ]
  },
  {
   "cell_type": "markdown",
   "id": "functional-injection",
   "metadata": {},
   "source": [
    "## Import a sample grb"
   ]
  },
  {
   "cell_type": "code",
   "execution_count": 4,
   "id": "incoming-layer",
   "metadata": {},
   "outputs": [],
   "source": [
    "filepath = \"./GammaCatalogV2.0/run0639_ID000222.fits\"\n",
    "filepath = \"./GammaCatalogV2.0/run0016_ID000340.fits\""
   ]
  },
  {
   "cell_type": "code",
   "execution_count": 18,
   "id": "incorporate-policy",
   "metadata": {},
   "outputs": [],
   "source": [
    "grb = gwt.GRB(filepath)"
   ]
  },
  {
   "cell_type": "code",
   "execution_count": 17,
   "id": "numerous-algorithm",
   "metadata": {},
   "outputs": [
    {
     "name": "stdout",
     "output_type": "stream",
     "text": [
      "Settings file found!\n"
     ]
    }
   ],
   "source": [
    "with open(\"./gw_settings.yaml\") as file:\n",
    "    print(\"Settings file found!\")\n",
    "    parsed_yaml_file = yaml.load(file, Loader=yaml.FullLoader)\n",
    "    \n",
    "sensitivity = gwt.Sensitivities(parsed_yaml_file[\"grbsens_files\"], parsed_yaml_file[\"energy_limits\"])"
   ]
  },
  {
   "cell_type": "markdown",
   "id": "urban-payment",
   "metadata": {},
   "source": [
    "## Test the extrapolations"
   ]
  },
  {
   "cell_type": "code",
   "execution_count": 6,
   "id": "posted-antique",
   "metadata": {},
   "outputs": [
    {
     "name": "stdout",
     "output_type": "stream",
     "text": [
      "Spectrum at t=10000.0s:\n",
      "[1.04168603e-06 6.29124848e-07 3.79959090e-07 2.29475771e-07\n",
      " 1.38591578e-07 8.37021934e-08 5.05518250e-08 3.05307054e-08\n",
      " 1.84389777e-08 1.11361953e-08 6.72568989e-09 4.06197119e-09\n",
      " 2.45322193e-09 1.48162002e-09 8.94822382e-10 5.40426751e-10\n",
      " 3.26389996e-10 1.97122791e-10 1.19052039e-10 7.19013071e-11\n",
      " 4.34246624e-11 2.62261439e-11 1.58389466e-11 9.56505583e-12\n",
      " 5.77498711e-12 3.48554021e-12 2.10269992e-12 1.26792985e-12\n",
      " 7.64511320e-13 4.59613128e-13 2.74850017e-13 1.63707380e-13\n",
      " 9.55582055e-14 5.63948409e-14 3.13733175e-14 1.75472036e-14\n",
      " 8.79377525e-15 4.10965819e-15 1.70569349e-15 4.61341528e-16\n",
      " 0.00000000e+00]\n",
      "\n",
      "Value at 10.0 GeV:\n",
      "6.725689885086982e-09\n",
      "\n",
      "Lightcurve at energy 10.0 GeV:\n",
      "[1.08445940e-13 1.70921199e-13 2.79319407e-13 4.33693028e-13\n",
      " 6.82427056e-13 1.09708082e-12 1.72903451e-12 2.82555370e-12\n",
      " 4.38715674e-12 6.90329556e-12 1.10978457e-11 1.74905587e-11\n",
      " 2.85827211e-11 4.43795764e-11 6.98323196e-11 1.12263527e-10\n",
      " 1.76930898e-10 2.89136934e-10 4.48934677e-10 7.06409398e-10\n",
      " 1.13563478e-09 1.78979661e-09 2.92484982e-09 4.54133095e-09\n",
      " 7.14589233e-09 1.14878480e-08 1.81052142e-08 2.95871715e-08\n",
      " 4.59391169e-08 7.22857105e-08 1.16202895e-07 1.83088607e-07\n",
      " 2.98447437e-07 4.59325560e-07 6.78836423e-07 8.44071918e-07\n",
      " 7.65275302e-07 5.92348363e-07 4.37484010e-07 3.17005432e-07\n",
      " 2.37204919e-07 1.74175695e-07 1.24076763e-07 8.81175895e-08\n",
      " 6.23695622e-08 4.47376526e-08 3.14531814e-08 2.17021139e-08\n",
      " 1.46783133e-08 9.86055241e-09 6.72568989e-09 4.50088633e-09\n",
      " 2.96366649e-09 1.94293129e-09 1.26820102e-09 8.15000739e-10\n",
      " 5.16664812e-10 3.24024337e-10 2.03420792e-10 1.26720171e-10\n",
      " 7.74389601e-11 4.68020879e-11 2.81113344e-11 1.65985885e-11\n",
      " 9.54934835e-12 5.40749521e-12 2.98723884e-12 1.62150168e-12\n",
      " 9.14843677e-13 5.66570320e-13]\n",
      "\n",
      "LC value at t=10000.0s:\n",
      "6.725689885086982e-09\n"
     ]
    }
   ],
   "source": [
    "time_index = 50\n",
    "energy_index = 10\n",
    "\n",
    "time = grb.time[time_index]\n",
    "energy = grb.energy[energy_index]\n",
    "print(f\"Spectrum at t={time}s:\")\n",
    "print(grb.get_spectrum(time))\n",
    "print()\n",
    "print(f\"Value at {energy} GeV:\")\n",
    "print(grb.get_spectrum(time, energy))\n",
    "print()\n",
    "print(f\"Lightcurve at energy {energy} GeV:\")\n",
    "print(grb.get_flux(energy))\n",
    "print()\n",
    "print(f\"LC value at t={time}s:\")\n",
    "print(grb.get_flux(energy, time))"
   ]
  },
  {
   "cell_type": "code",
   "execution_count": 7,
   "id": "sublime-assistant",
   "metadata": {},
   "outputs": [
    {
     "data": {
      "text/plain": [
       "array([1.75889001e-07, 1.06227921e-07, 6.41562075e-08, 3.87470536e-08,\n",
       "       2.34012299e-08, 1.41331407e-08, 8.53569096e-09, 5.15511886e-09,\n",
       "       3.11342697e-09, 1.88034995e-09, 1.13563478e-09, 6.85865066e-10,\n",
       "       4.14227267e-10, 2.50171990e-10, 1.51091030e-10, 9.12512207e-11,\n",
       "       5.51110497e-11, 3.32842429e-11, 2.01019729e-11, 1.21405590e-11,\n",
       "       7.33227395e-12, 4.42831680e-12, 2.67447586e-12, 1.61524603e-12,\n",
       "       9.75525625e-13, 5.89167361e-13, 3.55826811e-13, 2.14901096e-13,\n",
       "       1.29789176e-13, 7.83858963e-14, 4.73409029e-14, 2.85910632e-14,\n",
       "       1.72668550e-14, 1.04267195e-14, 6.29426524e-15, 3.79546153e-15,\n",
       "       2.27942414e-15, 1.35202096e-15, 7.72566494e-16, 3.73229175e-16,\n",
       "       0.00000000e+00])"
      ]
     },
     "execution_count": 7,
     "metadata": {},
     "output_type": "execute_result"
    }
   ],
   "source": [
    "grb.get_spectrum(time=10)"
   ]
  },
  {
   "cell_type": "code",
   "execution_count": 8,
   "id": "immune-durham",
   "metadata": {},
   "outputs": [
    {
     "data": {
      "text/plain": [
       "array([1.08445940e-13, 1.70921199e-13, 2.79319407e-13, 4.33693028e-13,\n",
       "       6.82427056e-13, 1.09708082e-12, 1.72903451e-12, 2.82555370e-12,\n",
       "       4.38715674e-12, 6.90329556e-12, 1.10978457e-11, 1.74905587e-11,\n",
       "       2.85827211e-11, 4.43795764e-11, 6.98323196e-11, 1.12263527e-10,\n",
       "       1.76930898e-10, 2.89136934e-10, 4.48934677e-10, 7.06409398e-10,\n",
       "       1.13563478e-09, 1.78979661e-09, 2.92484982e-09, 4.54133095e-09,\n",
       "       7.14589233e-09, 1.14878480e-08, 1.81052142e-08, 2.95871715e-08,\n",
       "       4.59391169e-08, 7.22857105e-08, 1.16202895e-07, 1.83088607e-07,\n",
       "       2.98447437e-07, 4.59325560e-07, 6.78836423e-07, 8.44071918e-07,\n",
       "       7.65275302e-07, 5.92348363e-07, 4.37484010e-07, 3.17005432e-07,\n",
       "       2.37204919e-07, 1.74175695e-07, 1.24076763e-07, 8.81175895e-08,\n",
       "       6.23695622e-08, 4.47376526e-08, 3.14531814e-08, 2.17021139e-08,\n",
       "       1.46783133e-08, 9.86055241e-09, 6.72568989e-09, 4.50088633e-09,\n",
       "       2.96366649e-09, 1.94293129e-09, 1.26820102e-09, 8.15000739e-10,\n",
       "       5.16664812e-10, 3.24024337e-10, 2.03420792e-10, 1.26720171e-10,\n",
       "       7.74389601e-11, 4.68020879e-11, 2.81113344e-11, 1.65985885e-11,\n",
       "       9.54934835e-12, 5.40749521e-12, 2.98723884e-12, 1.62150168e-12,\n",
       "       9.14843677e-13, 5.66570320e-13])"
      ]
     },
     "execution_count": 8,
     "metadata": {},
     "output_type": "execute_result"
    }
   ],
   "source": [
    "grb.get_flux(energy=10)"
   ]
  },
  {
   "cell_type": "markdown",
   "id": "opened-melbourne",
   "metadata": {},
   "source": [
    "## Test an integration"
   ]
  },
  {
   "cell_type": "code",
   "execution_count": 12,
   "id": "vulnerable-lawrence",
   "metadata": {},
   "outputs": [
    {
     "ename": "TypeError",
     "evalue": "get_integral_spectrum() missing 2 required positional arguments: 'min_energy' and 'max_energy'",
     "output_type": "error",
     "traceback": [
      "\u001b[0;31m---------------------------------------------------------------------------\u001b[0m",
      "\u001b[0;31mTypeError\u001b[0m                                 Traceback (most recent call last)",
      "\u001b[0;32m<ipython-input-12-c3fa4d70f567>\u001b[0m in \u001b[0;36m<module>\u001b[0;34m\u001b[0m\n\u001b[0;32m----> 1\u001b[0;31m \u001b[0mgrb\u001b[0m\u001b[0;34m.\u001b[0m\u001b[0mget_integral_spectrum\u001b[0m\u001b[0;34m(\u001b[0m\u001b[0;36m10\u001b[0m\u001b[0;34m)\u001b[0m\u001b[0;34m\u001b[0m\u001b[0;34m\u001b[0m\u001b[0m\n\u001b[0m",
      "\u001b[0;31mTypeError\u001b[0m: get_integral_spectrum() missing 2 required positional arguments: 'min_energy' and 'max_energy'"
     ]
    }
   ],
   "source": [
    "grb.get_integral_spectrum(10)"
   ]
  },
  {
   "cell_type": "code",
   "execution_count": 155,
   "id": "monthly-evening",
   "metadata": {},
   "outputs": [
    {
     "ename": "TypeError",
     "evalue": "get_fluence() missing 2 required positional arguments: 'min_energy' and 'max_energy'",
     "output_type": "error",
     "traceback": [
      "\u001b[0;31m---------------------------------------------------------------------------\u001b[0m",
      "\u001b[0;31mTypeError\u001b[0m                                 Traceback (most recent call last)",
      "\u001b[0;32m<ipython-input-155-daad4f0c506a>\u001b[0m in \u001b[0;36m<module>\u001b[0;34m\u001b[0m\n\u001b[0;32m----> 1\u001b[0;31m \u001b[0mgrb\u001b[0m\u001b[0;34m.\u001b[0m\u001b[0mget_fluence\u001b[0m\u001b[0;34m(\u001b[0m\u001b[0;36m0\u001b[0m\u001b[0;34m,\u001b[0m \u001b[0;36m3600\u001b[0m\u001b[0;34m*\u001b[0m\u001b[0;36m2\u001b[0m\u001b[0;34m)\u001b[0m\u001b[0;34m\u001b[0m\u001b[0;34m\u001b[0m\u001b[0m\n\u001b[0m",
      "\u001b[0;31mTypeError\u001b[0m: get_fluence() missing 2 required positional arguments: 'min_energy' and 'max_energy'"
     ]
    }
   ],
   "source": [
    "grb.get_fluence(0, 3600*2)"
   ]
  },
  {
   "cell_type": "markdown",
   "id": "auburn-enemy",
   "metadata": {},
   "source": [
    "## Comparing numbers\n",
    "for run0016_ID000340"
   ]
  },
  {
   "cell_type": "code",
   "execution_count": 15,
   "id": "perfect-heavy",
   "metadata": {},
   "outputs": [
    {
     "data": {
      "text/plain": [
       "2.1556069489602007e-08"
      ]
     },
     "execution_count": 15,
     "metadata": {},
     "output_type": "execute_result"
    }
   ],
   "source": [
    "t = grb.time[1]\n",
    "grb.get_flux(t, grb.energy[0]) * (grb.energy[5]**(-grb.get_spectral_index(t)))"
   ]
  },
  {
   "cell_type": "code",
   "execution_count": 16,
   "id": "magnetic-ballot",
   "metadata": {},
   "outputs": [
    {
     "data": {
      "text/plain": [
       "1.7387561657620888e-08"
      ]
     },
     "execution_count": 16,
     "metadata": {},
     "output_type": "execute_result"
    }
   ],
   "source": [
    "grb.get_flux(t, grb.energy[5])"
   ]
  },
  {
   "cell_type": "code",
   "execution_count": 543,
   "id": "subsequent-clear",
   "metadata": {},
   "outputs": [
    {
     "data": {
      "image/png": "[encoded data removed]",
      "text/plain": [
       "<Figure size 432x288 with 1 Axes>"
      ]
     },
     "metadata": {
      "needs_background": "light"
     },
     "output_type": "display_data"
    }
   ],
   "source": [
    "plt.loglog(grb.energy, [grb.get_flux(energy, t) for energy in grb.energy])\n",
    "plt.loglog(grb.energy, [grb.power_law(energy, spectral_index=grb.get_spectral_index(t)) * grb.get_flux(grb.energy[0], t) for energy in grb.energy])\n",
    "plt.show()"
   ]
  },
  {
   "cell_type": "code",
   "execution_count": 17,
   "id": "excess-copying",
   "metadata": {},
   "outputs": [
    {
     "data": {
      "image/png": "[encoded data removed]",
      "text/plain": [
       "<Figure size 432x288 with 1 Axes>"
      ]
     },
     "metadata": {
      "needs_background": "light"
     },
     "output_type": "display_data"
    }
   ],
   "source": [
    "plt.plot(grb.energy, np.array([grb.get_flux(energy, t) for energy in grb.energy])/np.array([grb.power_law(energy, spectral_index=grb.get_spectral_index(t)) * grb.get_flux(grb.energy[0], t) for energy in grb.energy]))\n",
    "plt.xlim(0, 6000)\n",
    "plt.ylim(0.9, 1.1)\n",
    "plt.show()"
   ]
  },
  {
   "cell_type": "code",
   "execution_count": 492,
   "id": "narrative-renewal",
   "metadata": {},
   "outputs": [
    {
     "name": "stdout",
     "output_type": "stream",
     "text": [
      "5.125264282972462e-08\n",
      "-2.2772542503722426\n",
      "2937.528544989053\n"
     ]
    }
   ],
   "source": [
    "print(grb.get_flux(min(grb.energy), time=49602))\n",
    "print(grb.get_spectral_index(time=49602))\n",
    "print(grb.power_law(\n",
    "                0.03,\n",
    "                normalization=grb.get_flux(min(grb.energy), time=49602),\n",
    "                spectral_index=grb.get_spectral_index(49602),\n",
    "            ))"
   ]
  },
  {
   "cell_type": "code",
   "execution_count": 522,
   "id": "wrapped-boundary",
   "metadata": {},
   "outputs": [
    {
     "data": {
      "text/plain": [
       "1.28740818102992e-10"
      ]
     },
     "execution_count": 522,
     "metadata": {},
     "output_type": "execute_result"
    }
   ],
   "source": [
    "grb.power_law(\n",
    "                10,\n",
    "                energy_0=min(grb.energy),\n",
    "                normalization=grb.get_flux(min(grb.energy), time=49602),\n",
    "                spectral_index=-2.6,\n",
    "            )"
   ]
  },
  {
   "cell_type": "code",
   "execution_count": 553,
   "id": "referenced-webmaster",
   "metadata": {},
   "outputs": [
    {
     "data": {
      "text/plain": [
       "5.125264282972462e-08"
      ]
     },
     "execution_count": 553,
     "metadata": {},
     "output_type": "execute_result"
    }
   ],
   "source": [
    "grb.get_flux(min(grb.energy), time=49602)"
   ]
  },
  {
   "cell_type": "code",
   "execution_count": 562,
   "id": "cross-flooring",
   "metadata": {},
   "outputs": [
    {
     "data": {
      "text/plain": [
       "0.03"
      ]
     },
     "execution_count": 562,
     "metadata": {},
     "output_type": "execute_result"
    }
   ],
   "source": [
    "grb.min_energy"
   ]
  },
  {
   "cell_type": "code",
   "execution_count": 21,
   "id": "postal-burst",
   "metadata": {},
   "outputs": [
    {
     "data": {
      "text/plain": [
       "0.02925206682488822"
      ]
     },
     "execution_count": 21,
     "metadata": {},
     "output_type": "execute_result"
    }
   ],
   "source": [
    "t0 = 49602\n",
    "t1 = 59602\n",
    "\n",
    "# analytically solve inner energy integral\n",
    "integrate.quad(lambda time: grb.get_flux(min(grb.energy), time=time) * \n",
    "               min(grb.energy)**(-grb.get_spectral_index(time)) * \n",
    "               1/(grb.get_spectral_index(time) + 1) * \n",
    "               (grb.max_energy**(grb.get_spectral_index(time)+1) - grb.min_energy**(grb.get_spectral_index(time)+1)), \n",
    "                t0, t1)[0]"
   ]
  },
  {
   "cell_type": "code",
   "execution_count": 22,
   "id": "therapeutic-costume",
   "metadata": {},
   "outputs": [
    {
     "data": {
      "text/plain": [
       "0.018268711167137"
      ]
     },
     "execution_count": 22,
     "metadata": {},
     "output_type": "execute_result"
    }
   ],
   "source": [
    "t0 = 49602\n",
    "t1 = 59602\n",
    "\n",
    "# analytically solve inner energy integral\n",
    "integrate.quad(lambda time: grb.get_flux(min(grb.energy), time=time) * \n",
    "               min(grb.energy)**(-2.1) * \n",
    "               1/(-2.1 + 1) * \n",
    "               (grb.max_energy**(-2.1+1) - grb.min_energy**(-2.1+1)), \n",
    "                t0, t1)[0]"
   ]
  },
  {
   "cell_type": "code",
   "execution_count": 40,
   "id": "modern-publisher",
   "metadata": {},
   "outputs": [
    {
     "data": {
      "text/plain": [
       "1.6796287381150824e-11"
      ]
     },
     "execution_count": 40,
     "metadata": {},
     "output_type": "execute_result"
    }
   ],
   "source": [
    "grb.get_spectrum(time=grb.time[0], energy=grb.energy[0])"
   ]
  },
  {
   "cell_type": "code",
   "execution_count": 42,
   "id": "religious-construction",
   "metadata": {},
   "outputs": [
    {
     "data": {
      "text/plain": [
       "1.6796287381150824e-11"
      ]
     },
     "execution_count": 42,
     "metadata": {},
     "output_type": "execute_result"
    }
   ],
   "source": [
    "grb.get_flux(energy=grb.energy[0], time=grb.time[0])"
   ]
  },
  {
   "cell_type": "code",
   "execution_count": 66,
   "id": "controlled-pantyhose",
   "metadata": {},
   "outputs": [
    {
     "data": {
      "text/plain": [
       "(0.03, 10)"
      ]
     },
     "execution_count": 66,
     "metadata": {},
     "output_type": "execute_result"
    }
   ],
   "source": [
    "grb.min_energy, grb.max_energy"
   ]
  },
  {
   "cell_type": "code",
   "execution_count": 36,
   "id": "conventional-german",
   "metadata": {},
   "outputs": [
    {
     "name": "stdout",
     "output_type": "stream",
     "text": [
      "NEW LOOP; t=71810.00, dt=1.00, previous_t=71810.00, previous_dt=-1.00 n=1.00\n",
      "    AUTOSTEP; t=71810 dt=10000\n",
      "    AUTOSTEP; resetting n\n",
      "    Updating t: t: 81809.00, obs_t: 10000.00 start_time: 71809.00, n: 1.00, dt: 10000.00\n",
      "    Normalization_flux: 0.00021137043187386144 Integral_spectrum: 2.1491821675912746e-06\n",
      "    Fluence: 4.5708438144760254e-14 norm*int_spec = 4.5427356293936936e-10\n",
      "    t=81809.00, dt=10000.00, avgflux=2.1491821675912745e-10, photon_flux=6.408230545297048e-12\n",
      "\n",
      "Close solution, t=81809, avgflux=2.1491821675912745e-10, photon_flux=6.408230545297048e-12\n",
      "NEW LOOP; t=81809.00, dt=1000.00, previous_t=71810.00, previous_dt=-1.00 n=0.00\n",
      "    Updating t: t: 71810.00, obs_t: 1.00 start_time: 71810.00, n: 0.00, dt: 1000.00\n",
      "    Normalization_flux: 2.4186811419535322e-08 Integral_spectrum: 2.463385204338326e-10\n",
      "    Fluence: 5.958143339513933e-18 norm*int_spec = 5.958143339100457e-18\n",
      "    t=71810.00, dt=1000.00, avgflux=2.463385204338326e-10, photon_flux=2.793960733894476e-09\n",
      "    Updating n: 0.10\n",
      "NEW LOOP; t=71810.00, dt=1000.00, previous_t=71810.00, previous_dt=1000.00 n=0.10\n",
      "    Updating t: t: 71910.00, obs_t: 101.00 start_time: 71810.00, n: 0.10, dt: 1000.00\n",
      "    Normalization_flux: 2.4393668038048662e-06 Integral_spectrum: 2.484414908276024e-08\n",
      "    Fluence: 6.000399543613186e-16 norm*int_spec = 6.060399254126444e-14\n",
      "    t=71910.00, dt=1000.00, avgflux=2.4598167408673504e-10, photon_flux=1.3293142665530156e-10\n",
      "\n",
      "Close solution, t=71910.0, avgflux=2.4598167408673504e-10, photon_flux=1.3293142665530156e-10\n",
      "NEW LOOP; t=71910.00, dt=100.00, previous_t=71810.00, previous_dt=1000.00 n=0.00\n",
      "    Updating t: t: 71810.00, obs_t: 1.00 start_time: 71810.00, n: 0.00, dt: 100.00\n",
      "    Normalization_flux: 2.4186811419535322e-08 Integral_spectrum: 2.463385204338326e-10\n",
      "    Fluence: 5.958143339513933e-18 norm*int_spec = 5.958143339100457e-18\n",
      "    t=71810.00, dt=100.00, avgflux=2.463385204338326e-10, photon_flux=2.793960733894476e-09\n",
      "    Updating n: 0.10\n",
      "NEW LOOP; t=71810.00, dt=100.00, previous_t=71810.00, previous_dt=100.00 n=0.10\n",
      "    Updating t: t: 71820.00, obs_t: 11.00 start_time: 71810.00, n: 0.10, dt: 100.00\n",
      "    Normalization_flux: 2.66016746419779e-07 Integral_spectrum: 2.7093307135458754e-09\n",
      "    Fluence: 6.552066794944175e-17 norm*int_spec = 7.20727341392652e-16\n",
      "    t=71820.00, dt=100.00, avgflux=2.4630279214053414e-10, photon_flux=5.741639778054398e-10\n",
      "    Updating n: 0.20\n",
      "NEW LOOP; t=71820.00, dt=100.00, previous_t=71820.00, previous_dt=100.00 n=0.20\n",
      "    Updating t: t: 71830.00, obs_t: 21.00 start_time: 71810.00, n: 0.20, dt: 100.00\n",
      "    Normalization_flux: 5.077772850284049e-07 Integral_spectrum: 5.1716085447170175e-09\n",
      "    Fluence: 1.250488298291904e-16 norm*int_spec = 2.6260253460661075e-15\n",
      "    t=71830.00, dt=100.00, avgflux=2.462670735579532e-10, photon_flux=3.74737137284686e-10\n",
      "    Updating n: 0.30\n",
      "NEW LOOP; t=71830.00, dt=100.00, previous_t=71830.00, previous_dt=100.00 n=0.30\n",
      "    Updating t: t: 71840.00, obs_t: 31.00 start_time: 71810.00, n: 0.30, dt: 100.00\n",
      "    Normalization_flux: 7.494684562719259e-07 Integral_spectrum: 7.633172305166357e-09\n",
      "    Fluence: 1.8454265307715731e-16 norm*int_spec = 5.720821864010647e-15\n",
      "    t=71840.00, dt=100.00, avgflux=2.462313646827857e-10, photon_flux=2.8981085497203265e-10\n",
      "    Updating n: 0.40\n",
      "NEW LOOP; t=71840.00, dt=100.00, previous_t=71840.00, previous_dt=100.00 n=0.40\n",
      "    Updating t: t: 71850.00, obs_t: 41.00 start_time: 71810.00, n: 0.40, dt: 100.00\n",
      "    Normalization_flux: 9.910902891617318e-07 Integral_spectrum: 1.009402228598087e-08\n",
      "    Fluence: 2.440021617725475e-16 norm*int_spec = 1.0004087466217746e-14\n",
      "    t=71850.00, dt=100.00, avgflux=2.461956655117285e-10, photon_flux=2.409859591992032e-10\n",
      "\n",
      "Close solution, t=71850.0, avgflux=2.461956655117285e-10, photon_flux=2.409859591992032e-10\n",
      "NEW LOOP; t=71850.00, dt=10.00, previous_t=71840.00, previous_dt=100.00 n=0.00\n",
      "    Updating t: t: 71840.00, obs_t: 31.00 start_time: 71840.00, n: 0.00, dt: 10.00\n",
      "    Normalization_flux: 7.494684562719259e-07 Integral_spectrum: 7.633172305166357e-09\n",
      "    Fluence: 1.8454265307715731e-16 norm*int_spec = 5.720821864010647e-15\n",
      "    t=71840.00, dt=10.00, avgflux=2.462313646827857e-10, photon_flux=2.8981085497203265e-10\n",
      "    Updating n: 0.10\n",
      "NEW LOOP; t=71840.00, dt=10.00, previous_t=71840.00, previous_dt=10.00 n=0.10\n",
      "    Updating t: t: 71841.00, obs_t: 32.00 start_time: 71840.00, n: 0.10, dt: 10.00\n",
      "    Normalization_flux: 7.736337593082668e-07 Integral_spectrum: 7.879289418529582e-09\n",
      "    Fluence: 1.904901477044216e-16 norm*int_spec = 6.095684293534888e-15\n",
      "    t=71841.00, dt=10.00, avgflux=2.4622779432904944e-10, photon_flux=2.838024663588746e-10\n",
      "    Updating n: 0.20\n",
      "NEW LOOP; t=71841.00, dt=10.00, previous_t=71841.00, previous_dt=10.00 n=0.20\n",
      "    Updating t: t: 71842.00, obs_t: 33.00 start_time: 71840.00, n: 0.20, dt: 10.00\n",
      "    Normalization_flux: 7.977983689900861e-07 Integral_spectrum: 8.125399394387583e-09\n",
      "    Fluence: 1.9643729921024451e-16 norm*int_spec = 6.482430384235447e-15\n",
      "    t=71842.00, dt=10.00, avgflux=2.4622422407235097e-10, photon_flux=2.7809788167259696e-10\n",
      "    Updating n: 0.30\n",
      "NEW LOOP; t=71842.00, dt=10.00, previous_t=71842.00, previous_dt=10.00 n=0.30\n",
      "    Updating t: t: 71843.00, obs_t: 34.00 start_time: 71840.00, n: 0.30, dt: 10.00\n",
      "    Normalization_flux: 8.219622853463852e-07 Integral_spectrum: 8.371502233031372e-09\n",
      "    Fluence: 2.0238410761869312e-16 norm*int_spec = 6.881059107244834e-15\n",
      "    t=71843.00, dt=10.00, avgflux=2.462206539126874e-10, photon_flux=2.7267321214688507e-10\n",
      "    Updating n: 0.40\n",
      "NEW LOOP; t=71843.00, dt=10.00, previous_t=71843.00, previous_dt=10.00 n=0.40\n",
      "    Updating t: t: 71844.00, obs_t: 35.00 start_time: 71840.00, n: 0.40, dt: 10.00\n",
      "    Normalization_flux: 8.461255084061645e-07 Integral_spectrum: 8.617597934751911e-09\n",
      "    Fluence: 2.0833057295383177e-16 norm*int_spec = 7.291569433781874e-15\n",
      "    t=71844.00, dt=10.00, avgflux=2.462170838500546e-10, photon_flux=2.67507079495305e-10\n",
      "    Updating n: 0.50\n",
      "NEW LOOP; t=71844.00, dt=10.00, previous_t=71844.00, previous_dt=10.00 n=0.50\n",
      "    Updating t: t: 71845.00, obs_t: 36.00 start_time: 71840.00, n: 0.50, dt: 10.00\n",
      "    Normalization_flux: 8.702880381984221e-07 Integral_spectrum: 8.86368649984021e-09\n",
      "    Fluence: 2.14276695239724e-16 norm*int_spec = 7.713960335151776e-15\n",
      "    t=71845.00, dt=10.00, avgflux=2.462135138844503e-10, photon_flux=2.625802893665433e-10\n",
      "    Updating n: 0.60\n",
      "NEW LOOP; t=71845.00, dt=10.00, previous_t=71845.00, previous_dt=10.00 n=0.60\n",
      "    Updating t: t: 71846.00, obs_t: 37.00 start_time: 71840.00, n: 0.60, dt: 10.00\n",
      "    Normalization_flux: 8.944498747521554e-07 Integral_spectrum: 9.10976792858718e-09\n",
      "    Fluence: 2.202224745004297e-16 norm*int_spec = 8.148230782746006e-15\n",
      "    t=71846.00, dt=10.00, avgflux=2.4620994401586976e-10, photon_flux=2.578755549892615e-10\n",
      "    Updating n: 0.70\n",
      "NEW LOOP; t=71846.00, dt=10.00, previous_t=71846.00, previous_dt=10.00 n=0.70\n",
      "    Updating t: t: 71847.00, obs_t: 38.00 start_time: 71840.00, n: 0.70, dt: 10.00\n",
      "    Normalization_flux: 9.186110180963597e-07 Integral_spectrum: 9.355842221283818e-09\n",
      "    Fluence: 2.261679107600091e-16 norm*int_spec = 8.594379748042435e-15\n",
      "    t=71847.00, dt=10.00, avgflux=2.46206374244311e-10, photon_flux=2.533772621693325e-10\n",
      "    Updating n: 0.80\n",
      "NEW LOOP; t=71847.00, dt=10.00, previous_t=71847.00, previous_dt=10.00 n=0.80\n",
      "    Updating t: t: 71848.00, obs_t: 39.00 start_time: 71840.00, n: 0.80, dt: 10.00\n",
      "    Normalization_flux: 9.427714682600293e-07 Integral_spectrum: 9.601909378221018e-09\n",
      "    Fluence: 2.3211300404251834e-16 norm*int_spec = 9.052406202605174e-15\n",
      "    t=71848.00, dt=10.00, avgflux=2.462028045697697e-10, photon_flux=2.4907126854583413e-10\n",
      "    Updating n: 0.90\n",
      "NEW LOOP; t=71848.00, dt=10.00, previous_t=71848.00, previous_dt=10.00 n=0.90\n",
      "    Updating t: t: 71849.00, obs_t: 40.00 start_time: 71840.00, n: 0.90, dt: 10.00\n",
      "    Normalization_flux: 9.669312252721562e-07 Integral_spectrum: 9.847969399689728e-09\n",
      "    Fluence: 2.3805775437201335e-16 norm*int_spec = 9.522309118084689e-15\n",
      "    t=71849.00, dt=10.00, avgflux=2.461992349922432e-10, photon_flux=2.449447313766075e-10\n",
      "\n",
      "Close solution, t=71849.0, avgflux=2.461992349922432e-10, photon_flux=2.449447313766075e-10\n",
      "NEW LOOP; t=71849.00, dt=1.00, previous_t=71848.00, previous_dt=10.00 n=0.00\n",
      "    Updating t: t: 71848.00, obs_t: 39.00 start_time: 71848.00, n: 0.00, dt: 1.00\n",
      "    Normalization_flux: 9.427714682600293e-07 Integral_spectrum: 9.601909378221018e-09\n",
      "    Fluence: 2.3211300404251834e-16 norm*int_spec = 9.052406202605174e-15\n",
      "    t=71848.00, dt=1.00, avgflux=2.462028045697697e-10, photon_flux=2.4907126854583413e-10\n",
      "    Updating n: 0.10\n",
      "NEW LOOP; t=71848.00, dt=1.00, previous_t=71848.00, previous_dt=1.00 n=0.10\n",
      "    Updating t: t: 71848.10, obs_t: 39.10 start_time: 71848.00, n: 0.10, dt: 1.00\n",
      "    Normalization_flux: 9.451874751527235e-07 Integral_spectrum: 9.626515701460611e-09\n",
      "    Fluence: 2.327074945079914e-16 norm*int_spec = 9.098862070381604e-15\n",
      "    t=71848.10, dt=1.00, avgflux=2.462024476076516e-10, photon_flux=2.486507407689844e-10\n",
      "    Updating n: 0.20\n",
      "NEW LOOP; t=71848.10, dt=1.00, previous_t=71848.10, previous_dt=1.00 n=0.20\n",
      "    Updating t: t: 71848.20, obs_t: 39.20 start_time: 71848.00, n: 0.20, dt: 1.00\n",
      "    Normalization_flux: 9.476034751135799e-07 Integral_spectrum: 9.651121953342221e-09\n",
      "    Fluence: 2.333019815438716e-16 norm*int_spec = 9.14543670173205e-15\n",
      "    t=71848.20, dt=1.00, avgflux=2.462020906465035e-10, photon_flux=2.482319944334536e-10\n",
      "    Updating n: 0.30\n",
      "NEW LOOP; t=71848.20, dt=1.00, previous_t=71848.20, previous_dt=1.00 n=0.30\n",
      "    Updating t: t: 71848.30, obs_t: 39.30 start_time: 71848.00, n: 0.30, dt: 1.00\n",
      "    Normalization_flux: 9.500194681433308e-07 Integral_spectrum: 9.675728133873305e-09\n",
      "    Fluence: 2.3389646515035626e-16 norm*int_spec = 9.19213009564178e-15\n",
      "    t=71848.30, dt=1.00, avgflux=2.4620173368632543e-10, photon_flux=2.4781501747688497e-10\n",
      "    Updating n: 0.40\n",
      "NEW LOOP; t=71848.30, dt=1.00, previous_t=71848.30, previous_dt=1.00 n=0.40\n",
      "    Updating t: t: 71848.40, obs_t: 39.40 start_time: 71848.00, n: 0.40, dt: 1.00\n",
      "    Normalization_flux: 9.52435454241301e-07 Integral_spectrum: 9.700334243047013e-09\n",
      "    Fluence: 2.3449094532729673e-16 norm*int_spec = 9.238942251068928e-15\n",
      "    t=71848.40, dt=1.00, avgflux=2.462013767271179e-10, photon_flux=2.473997979492633e-10\n",
      "    Updating n: 0.50\n",
      "NEW LOOP; t=71848.40, dt=1.00, previous_t=71848.40, previous_dt=1.00 n=0.50\n",
      "    Updating t: t: 71848.50, obs_t: 39.50 start_time: 71848.00, n: 0.50, dt: 1.00\n",
      "    Normalization_flux: 9.548514334082236e-07 Integral_spectrum: 9.724940280870772e-09\n",
      "    Fluence: 2.3508542207488964e-16 norm*int_spec = 9.285873166998828e-15\n",
      "    t=71848.50, dt=1.00, avgflux=2.462010197688803e-10, photon_flux=2.4698632401109975e-10\n",
      "    Updating n: 0.60\n",
      "NEW LOOP; t=71848.50, dt=1.00, previous_t=71848.50, previous_dt=1.00 n=0.60\n",
      "    Updating t: t: 71848.60, obs_t: 39.60 start_time: 71848.00, n: 0.60, dt: 1.00\n",
      "    Normalization_flux: 9.572674056437757e-07 Integral_spectrum: 9.749546247341287e-09\n",
      "    Fluence: 2.3567989539307236e-16 norm*int_spec = 9.332922842396404e-15\n",
      "    t=71848.60, dt=1.00, avgflux=2.4620066281161247e-10, photon_flux=2.465745839325566e-10\n",
      "    Updating n: 0.70\n",
      "NEW LOOP; t=71848.60, dt=1.00, previous_t=71848.60, previous_dt=1.00 n=0.70\n",
      "    Updating t: t: 71848.70, obs_t: 39.70 start_time: 71848.00, n: 0.70, dt: 1.00\n",
      "    Normalization_flux: 9.596833709476345e-07 Integral_spectrum: 9.7741521424553e-09\n",
      "    Fluence: 2.362743652817832e-16 norm*int_spec = 9.380091276226546e-15\n",
      "    t=71848.70, dt=1.00, avgflux=2.462003058553153e-10, photon_flux=2.461645660919755e-10\n",
      "\n",
      "Close solution, t=71848.7, avgflux=2.462003058553153e-10, photon_flux=2.461645660919755e-10\n",
      "NEW LOOP; t=71848.70, dt=0.10, previous_t=71848.60, previous_dt=1.00 n=0.00\n",
      "    Updating t: t: 71848.60, obs_t: 39.60 start_time: 71848.60, n: 0.00, dt: 0.10\n",
      "    Normalization_flux: 9.572674056437757e-07 Integral_spectrum: 9.749546247341287e-09\n",
      "    Fluence: 2.3567989539307236e-16 norm*int_spec = 9.332922842396404e-15\n",
      "    t=71848.60, dt=0.10, avgflux=2.4620066281161247e-10, photon_flux=2.465745839325566e-10\n",
      "    Updating n: 0.10\n",
      "NEW LOOP; t=71848.60, dt=0.10, previous_t=71848.60, previous_dt=0.10 n=0.10\n",
      "    Updating t: t: 71848.61, obs_t: 39.61 start_time: 71848.60, n: 0.10, dt: 0.10\n",
      "    Normalization_flux: 9.57509002485966e-07 Integral_spectrum: 9.752006840062494e-09\n",
      "    Fluence: 2.3573934253623966e-16 norm*int_spec = 9.337634341664556e-15\n",
      "    t=71848.61, dt=0.10, avgflux=2.4620062711593915e-10, photon_flux=2.465335048386384e-10\n",
      "    Updating n: 0.20\n",
      "NEW LOOP; t=71848.61, dt=0.10, previous_t=71848.61, previous_dt=0.10 n=0.20\n",
      "    Updating t: t: 71848.62, obs_t: 39.62 start_time: 71848.60, n: 0.20, dt: 0.10\n",
      "    Normalization_flux: 9.577505992591946e-07 Integral_spectrum: 9.754467432073752e-09\n",
      "    Fluence: 2.3579878964519943e-16 norm*int_spec = 9.342347028522933e-15\n",
      "    t=71848.62, dt=0.10, avgflux=2.462005914202755e-10, photon_flux=2.464924429553895e-10\n",
      "    Updating n: 0.30\n",
      "NEW LOOP; t=71848.62, dt=0.10, previous_t=71848.62, previous_dt=0.10 n=0.30\n",
      "    Updating t: t: 71848.63, obs_t: 39.63 start_time: 71848.60, n: 0.30, dt: 0.10\n",
      "    Normalization_flux: 9.579921959627581e-07 Integral_spectrum: 9.756928023367895e-09\n",
      "    Fluence: 2.3585823671977877e-16 norm*int_spec = 9.347060902956783e-15\n",
      "    t=71848.63, dt=0.10, avgflux=2.4620055572462147e-10, photon_flux=2.4645139827137604e-10\n",
      "    Updating n: 0.40\n",
      "NEW LOOP; t=71848.63, dt=0.10, previous_t=71848.63, previous_dt=0.10 n=0.40\n",
      "    Updating t: t: 71848.64, obs_t: 39.64 start_time: 71848.60, n: 0.40, dt: 0.10\n",
      "    Normalization_flux: 9.582337925970083e-07 Integral_spectrum: 9.759388613948511e-09\n",
      "    Fluence: 2.3591768376006426e-16 norm*int_spec = 9.351775964971942e-15\n",
      "    t=71848.64, dt=0.10, avgflux=2.4620052002897715e-10, photon_flux=2.4641037077499816e-10\n",
      "    Updating n: 0.50\n",
      "NEW LOOP; t=71848.64, dt=0.10, previous_t=71848.64, previous_dt=0.10 n=0.50\n",
      "    Updating t: t: 71848.65, obs_t: 39.65 start_time: 71848.60, n: 0.50, dt: 0.10\n",
      "    Normalization_flux: 9.584753891622966e-07 Integral_spectrum: 9.761849203819166e-09\n",
      "    Fluence: 2.3597713076614227e-16 norm*int_spec = 9.35649221457423e-15\n",
      "    t=71848.65, dt=0.10, avgflux=2.4620048433334214e-10, photon_flux=2.46369360454665e-10\n",
      "    Updating n: 0.60\n",
      "NEW LOOP; t=71848.65, dt=0.10, previous_t=71848.65, previous_dt=0.10 n=0.60\n",
      "    Updating t: t: 71848.66, obs_t: 39.66 start_time: 71848.60, n: 0.60, dt: 0.10\n",
      "    Normalization_flux: 9.587169856579207e-07 Integral_spectrum: 9.764309792972732e-09\n",
      "    Fluence: 2.360365777378407e-16 norm*int_spec = 9.361209651748934e-15\n",
      "    t=71848.66, dt=0.10, avgflux=2.462004486377174e-10, photon_flux=2.463283672989756e-10\n",
      "    Updating n: 0.70\n",
      "NEW LOOP; t=71848.66, dt=0.10, previous_t=71848.66, previous_dt=0.10 n=0.70\n",
      "    Updating t: t: 71848.67, obs_t: 39.67 start_time: 71848.60, n: 0.70, dt: 0.10\n",
      "    Normalization_flux: 9.589585820845825e-07 Integral_spectrum: 9.766770381416347e-09\n",
      "    Fluence: 2.3609602467533163e-16 norm*int_spec = 9.365928276508718e-15\n",
      "    t=71848.67, dt=0.10, avgflux=2.462004129421022e-10, photon_flux=2.462873912963011e-10\n",
      "    Updating n: 0.80\n",
      "NEW LOOP; t=71848.67, dt=0.10, previous_t=71848.67, previous_dt=0.10 n=0.80\n",
      "    Updating t: t: 71848.68, obs_t: 39.68 start_time: 71848.60, n: 0.80, dt: 0.10\n",
      "    Normalization_flux: 9.5920017844158e-07 Integral_spectrum: 9.769230969142873e-09\n",
      "    Fluence: 2.3615547157844283e-16 norm*int_spec = 9.370648088838852e-15\n",
      "    t=71848.68, dt=0.10, avgflux=2.4620037724649723e-10, photon_flux=2.4624643243526395e-10\n",
      "    Updating n: 0.90\n",
      "NEW LOOP; t=71848.68, dt=0.10, previous_t=71848.68, previous_dt=0.10 n=0.90\n",
      "    Updating t: t: 71848.69, obs_t: 39.69 start_time: 71848.60, n: 0.90, dt: 0.10\n",
      "    Normalization_flux: 9.594417747292638e-07 Integral_spectrum: 9.771691556155842e-09\n",
      "    Fluence: 2.3621491844725964e-16 norm*int_spec = 9.375369088745122e-15\n",
      "    t=71848.69, dt=0.10, avgflux=2.462003415509012e-10, photon_flux=2.462054907043141e-10\n",
      "    Updating n: 1.00\n",
      "NEW LOOP; t=71848.69, dt=0.10, previous_t=71848.69, previous_dt=0.10 n=1.00\n",
      "    Updating t: t: 71848.70, obs_t: 39.70 start_time: 71848.60, n: 1.00, dt: 0.10\n",
      "    Normalization_flux: 9.596833709479863e-07 Integral_spectrum: 9.774152142458886e-09\n",
      "    Fluence: 2.3627436528186986e-16 norm*int_spec = 9.380091276233425e-15\n",
      "    t=71848.70, dt=0.10, avgflux=2.4620030585531535e-10, photon_flux=2.461645660919161e-10\n",
      "\n",
      "Close solution, t=71848.7, avgflux=2.4620030585531535e-10, photon_flux=2.461645660919161e-10\n",
      "NEW LOOP; t=71848.70, dt=0.01, previous_t=71848.69, previous_dt=0.10 n=0.00\n",
      "    Updating t: t: 71848.69, obs_t: 39.69 start_time: 71848.69, n: 0.00, dt: 0.01\n",
      "    Normalization_flux: 9.594417747292638e-07 Integral_spectrum: 9.771691556155842e-09\n",
      "    Fluence: 2.3621491844725964e-16 norm*int_spec = 9.375369088745122e-15\n",
      "    t=71848.69, dt=0.01, avgflux=2.462003415509012e-10, photon_flux=2.462054907043141e-10\n",
      "    Updating n: 0.10\n",
      "NEW LOOP; t=71848.69, dt=0.01, previous_t=71848.69, previous_dt=0.01 n=0.10\n",
      "    Updating t: t: 71848.69, obs_t: 39.69 start_time: 71848.69, n: 0.10, dt: 0.01\n",
      "    Normalization_flux: 9.59465934354326e-07 Integral_spectrum: 9.771937614818975e-09\n",
      "    Fluence: 2.3622086313228135e-16 norm*int_spec = 9.375841254054472e-15\n",
      "    t=71848.69, dt=0.01, avgflux=2.462003379813423e-10, photon_flux=2.462013974729139e-10\n",
      "    Updating n: 0.20\n",
      "NEW LOOP; t=71848.69, dt=0.01, previous_t=71848.69, previous_dt=0.01 n=0.20\n",
      "    Updating t: t: 71848.69, obs_t: 39.69 start_time: 71848.69, n: 0.20, dt: 0.01\n",
      "    Normalization_flux: 9.594900939783428e-07 Integral_spectrum: 9.772183673471388e-09\n",
      "    Fluence: 2.362268078168734e-16 norm*int_spec = 9.37631343123269e-15\n",
      "    t=71848.69, dt=0.01, avgflux=2.4620033441178337e-10, photon_flux=2.461973044127479e-10\n",
      "\n",
      "Close solution, t=71848.69, avgflux=2.4620033441178337e-10, photon_flux=2.461973044127479e-10\n"
     ]
    },
    {
     "data": {
      "text/html": [
       "<div>\n",
       "<style scoped>\n",
       "    .dataframe tbody tr th:only-of-type {\n",
       "        vertical-align: middle;\n",
       "    }\n",
       "\n",
       "    .dataframe tbody tr th {\n",
       "        vertical-align: top;\n",
       "    }\n",
       "\n",
       "    .dataframe thead th {\n",
       "        text-align: right;\n",
       "    }\n",
       "</style>\n",
       "<table border=\"1\" class=\"dataframe\">\n",
       "  <thead>\n",
       "    <tr style=\"text-align: right;\">\n",
       "      <th></th>\n",
       "      <th>zenith</th>\n",
       "      <th>site</th>\n",
       "      <th>min_energy</th>\n",
       "      <th>max_energy</th>\n",
       "      <th>seen</th>\n",
       "      <th>obs_time</th>\n",
       "      <th>start_time</th>\n",
       "      <th>end_time</th>\n",
       "      <th>run</th>\n",
       "      <th>id</th>\n",
       "      <th>ra</th>\n",
       "      <th>dec</th>\n",
       "      <th>eiso</th>\n",
       "      <th>z</th>\n",
       "      <th>angle</th>\n",
       "    </tr>\n",
       "  </thead>\n",
       "  <tbody>\n",
       "    <tr>\n",
       "      <th>000340_0016</th>\n",
       "      <td>20</td>\n",
       "      <td>north</td>\n",
       "      <td>30</td>\n",
       "      <td>10000</td>\n",
       "      <td>True</td>\n",
       "      <td>39.69</td>\n",
       "      <td>71809</td>\n",
       "      <td>71848.69</td>\n",
       "      <td>0016</td>\n",
       "      <td>000340</td>\n",
       "      <td>-77.259</td>\n",
       "      <td>17.294</td>\n",
       "      <td>2.090000e+51</td>\n",
       "      <td>0.054</td>\n",
       "      <td>2.56</td>\n",
       "    </tr>\n",
       "  </tbody>\n",
       "</table>\n",
       "</div>"
      ],
      "text/plain": [
       "             zenith   site  min_energy  max_energy  seen  obs_time  \\\n",
       "000340_0016      20  north          30       10000  True     39.69   \n",
       "\n",
       "             start_time  end_time   run      id      ra     dec          eiso  \\\n",
       "000340_0016       71809  71848.69  0016  000340 -77.259  17.294  2.090000e+51   \n",
       "\n",
       "                 z  angle  \n",
       "000340_0016  0.054   2.56  "
      ]
     },
     "execution_count": 36,
     "metadata": {},
     "output_type": "execute_result"
    }
   ],
   "source": [
    "gwt.observe_grb(filepath, sensitivity, start_time=71809, zeniths=[20], sites=[\"north\"], precision=2)"
   ]
  },
  {
   "cell_type": "code",
   "execution_count": null,
   "id": "controversial-security",
   "metadata": {},
   "outputs": [],
   "source": [
    "grb.get_integral_spectrum(49603.00, grb.min_energy, grb.max_energy) "
   ]
  },
  {
   "cell_type": "code",
   "execution_count": 443,
   "id": "boring-publication",
   "metadata": {},
   "outputs": [
    {
     "data": {
      "text/plain": [
       "42.9580448189514"
      ]
     },
     "execution_count": 443,
     "metadata": {},
     "output_type": "execute_result"
    }
   ],
   "source": [
    "integrate.quad(lambda x: gwto.spectrum(x), grb.min_energy, grb.max_energy)[0]"
   ]
  },
  {
   "cell_type": "code",
   "execution_count": 462,
   "id": "dirty-spring",
   "metadata": {},
   "outputs": [
    {
     "data": {
      "text/plain": [
       "7484.013385660429"
      ]
     },
     "execution_count": 462,
     "metadata": {},
     "output_type": "execute_result"
    }
   ],
   "source": [
    "9.41972207974572e-10 / 1.258645808650498e-13 "
   ]
  },
  {
   "cell_type": "markdown",
   "id": "formal-coupon",
   "metadata": {},
   "source": [
    "### Testing v2 stuff with v1 code"
   ]
  },
  {
   "cell_type": "code",
   "execution_count": 396,
   "id": "wicked-supplier",
   "metadata": {},
   "outputs": [],
   "source": [
    "v2n = gwp.open_gw_file(\"gw_toy_results_log_v2.pkl\")\n",
    "v1n = gwp.open_gw_file(\"gw_toy_results_log.pkl\")"
   ]
  },
  {
   "cell_type": "code",
   "execution_count": 44,
   "id": "prerequisite-sterling",
   "metadata": {},
   "outputs": [
    {
     "name": "stdout",
     "output_type": "stream",
     "text": [
      "NEW LOOP; t=49603.00, dt=1.00, previous_t=49603.00, previous_dt=-1.00 n=1.00\n",
      "    AUTOSTEP; t=49603.00 dt=10000.00\n",
      "    AUTOSTEP; resetting n\n",
      "    Updating t: 59602.00, obs_t: 10000.00 start_time: 49602.00, n: 1.00, dt: 10000.00\n",
      "    Normalization_flux: 0.0004375156402580362 Integral_spectrum: 0.021530023644846605\n",
      "    t=59602.00, dt=10000.00, avgflux=9.41972207974572e-10, photon_flux=6.408230545297048e-12\n",
      "\n",
      "Close solution, t=59602, avgflux=9.41972207974572e-10, photon_flux=6.408230545297048e-12\n",
      "NEW LOOP; t=59602.00, dt=1000.00, previous_t=49603.00, previous_dt=-1.00 n=0.00\n",
      "    Updating t: 49603.00, obs_t: 1.00 start_time: 49603.00, n: 0.00, dt: 1000.00\n",
      "    Normalization_flux: 5.167963219339084e-08 Integral_spectrum: 0.021530023644846605\n",
      "    t=49603.00, dt=1000.00, avgflux=1.1126637030806806e-09, photon_flux=2.793960733894476e-09\n",
      "    Updating n: 0.10\n",
      "NEW LOOP; t=49603.00, dt=1000.00, previous_t=49603.00, previous_dt=1000.00 n=0.10\n",
      "    Updating t: 49703.00, obs_t: 101.00 start_time: 49603.00, n: 0.10, dt: 1000.00\n",
      "    Normalization_flux: 5.205025646296667e-06 Integral_spectrum: 0.021530023644846605\n",
      "    t=49703.00, dt=1000.00, avgflux=1.1095477746217844e-09, photon_flux=1.3293142665530156e-10\n",
      "\n",
      "Close solution, t=49703.0, avgflux=1.1095477746217844e-09, photon_flux=1.3293142665530156e-10\n",
      "NEW LOOP; t=49703.00, dt=100.00, previous_t=49603.00, previous_dt=1000.00 n=0.00\n",
      "    Updating t: 49603.00, obs_t: 1.00 start_time: 49603.00, n: 0.00, dt: 100.00\n",
      "    Normalization_flux: 5.167963219339084e-08 Integral_spectrum: 0.021530023644846605\n",
      "    t=49603.00, dt=100.00, avgflux=1.1126637030806806e-09, photon_flux=2.793960733894476e-09\n",
      "    Updating n: 0.10\n",
      "NEW LOOP; t=49603.00, dt=100.00, previous_t=49603.00, previous_dt=100.00 n=0.10\n",
      "    Updating t: 49613.00, obs_t: 11.00 start_time: 49603.00, n: 0.10, dt: 100.00\n",
      "    Normalization_flux: 5.683167568425529e-07 Integral_spectrum: 0.021530023644846605\n",
      "    t=49613.00, dt=100.00, avgflux=1.1123521102347912e-09, photon_flux=5.741639778054398e-10\n",
      "\n",
      "Close solution, t=49613.0, avgflux=1.1123521102347912e-09, photon_flux=5.741639778054398e-10\n",
      "NEW LOOP; t=49613.00, dt=10.00, previous_t=49603.00, previous_dt=100.00 n=0.00\n",
      "    Updating t: 49603.00, obs_t: 1.00 start_time: 49603.00, n: 0.00, dt: 10.00\n",
      "    Normalization_flux: 5.167963219339084e-08 Integral_spectrum: 0.021530023644846605\n",
      "    t=49603.00, dt=10.00, avgflux=1.1126637030806806e-09, photon_flux=2.793960733894476e-09\n",
      "    Updating n: 0.10\n",
      "NEW LOOP; t=49603.00, dt=10.00, previous_t=49603.00, previous_dt=10.00 n=0.10\n",
      "    Updating t: 49604.00, obs_t: 2.00 start_time: 49603.00, n: 0.10, dt: 10.00\n",
      "    Normalization_flux: 1.0335636989069537e-07 Integral_spectrum: 0.021530023644846605\n",
      "    t=49604.00, dt=10.00, avgflux=1.1126325437960915e-09, photon_flux=1.7683957874589484e-09\n",
      "    Updating n: 0.20\n",
      "NEW LOOP; t=49604.00, dt=10.00, previous_t=49604.00, previous_dt=10.00 n=0.20\n",
      "    Updating t: 49605.00, obs_t: 3.00 start_time: 49603.00, n: 0.20, dt: 10.00\n",
      "    Normalization_flux: 1.5503021309191365e-07 Integral_spectrum: 0.021530023644846605\n",
      "    t=49605.00, dt=10.00, avgflux=1.1126013845115028e-09, photon_flux=1.3532624678794445e-09\n",
      "    Updating n: 0.30\n",
      "NEW LOOP; t=49605.00, dt=10.00, previous_t=49605.00, previous_dt=10.00 n=0.30\n",
      "    Updating t: 49606.00, obs_t: 4.00 start_time: 49603.00, n: 0.30, dt: 10.00\n",
      "    Normalization_flux: 2.0670116179704553e-07 Integral_spectrum: 0.021530023644846605\n",
      "    t=49606.00, dt=10.00, avgflux=1.1125702252269135e-09, photon_flux=1.1192797461915457e-09\n",
      "    Updating n: 0.40\n",
      "NEW LOOP; t=49606.00, dt=10.00, previous_t=49606.00, previous_dt=10.00 n=0.40\n",
      "    Updating t: 49607.00, obs_t: 5.00 start_time: 49603.00, n: 0.40, dt: 10.00\n",
      "    Normalization_flux: 2.5836921600609124e-07 Integral_spectrum: 0.021530023644846605\n",
      "    t=49607.00, dt=10.00, avgflux=1.112539065942325e-09, photon_flux=9.660299301961739e-10\n",
      "\n",
      "Close solution, t=49607.0, avgflux=1.112539065942325e-09, photon_flux=9.660299301961739e-10\n",
      "NEW LOOP; t=49607.00, dt=1.00, previous_t=49606.00, previous_dt=10.00 n=0.00\n",
      "    Updating t: 49606.00, obs_t: 4.00 start_time: 49606.00, n: 0.00, dt: 1.00\n",
      "    Normalization_flux: 2.0670116179704553e-07 Integral_spectrum: 0.021530023644846605\n",
      "    t=49606.00, dt=1.00, avgflux=1.1125702252269135e-09, photon_flux=1.1192797461915457e-09\n",
      "    Updating n: 0.10\n",
      "NEW LOOP; t=49606.00, dt=1.00, previous_t=49606.00, previous_dt=1.00 n=0.10\n",
      "    Updating t: 49606.10, obs_t: 4.10 start_time: 49606.00, n: 0.10, dt: 1.00\n",
      "    Normalization_flux: 2.118680974701988e-07 Integral_spectrum: 0.021530023644846605\n",
      "    t=49606.10, dt=1.00, avgflux=1.1125671092984546e-09, photon_flux=1.1011900592119974e-09\n",
      "\n",
      "Close solution, t=49606.1, avgflux=1.1125671092984546e-09, photon_flux=1.1011900592119974e-09\n",
      "NEW LOOP; t=49606.10, dt=0.10, previous_t=49606.00, previous_dt=1.00 n=0.00\n",
      "    Updating t: 49606.00, obs_t: 4.00 start_time: 49606.00, n: 0.00, dt: 0.10\n",
      "    Normalization_flux: 2.0670116179704553e-07 Integral_spectrum: 0.021530023644846605\n",
      "    t=49606.00, dt=0.10, avgflux=1.1125702252269135e-09, photon_flux=1.1192797461915457e-09\n",
      "    Updating n: 0.10\n",
      "NEW LOOP; t=49606.00, dt=0.10, previous_t=49606.00, previous_dt=0.10 n=0.10\n",
      "    Updating t: 49606.01, obs_t: 4.01 start_time: 49606.00, n: 0.10, dt: 0.10\n",
      "    Normalization_flux: 2.072178566669969e-07 Integral_spectrum: 0.021530023644846605\n",
      "    t=49606.01, dt=0.10, avgflux=1.1125699136340675e-09, photon_flux=1.1174371194685894e-09\n",
      "    Updating n: 0.20\n",
      "NEW LOOP; t=49606.01, dt=0.10, previous_t=49606.01, previous_dt=0.10 n=0.20\n",
      "    Updating t: 49606.02, obs_t: 4.02 start_time: 49606.00, n: 0.20, dt: 0.10\n",
      "    Normalization_flux: 2.0773455124712275e-07 Integral_spectrum: 0.021530023644846605\n",
      "    t=49606.02, dt=0.10, avgflux=1.1125696020412223e-09, photon_flux=1.1156021042337701e-09\n",
      "    Updating n: 0.30\n",
      "NEW LOOP; t=49606.02, dt=0.10, previous_t=49606.02, previous_dt=0.10 n=0.30\n",
      "    Updating t: 49606.03, obs_t: 4.03 start_time: 49606.00, n: 0.30, dt: 0.10\n",
      "    Normalization_flux: 2.0825124553817484e-07 Integral_spectrum: 0.021530023644846605\n",
      "    t=49606.03, dt=0.10, avgflux=1.112569290448376e-09, photon_flux=1.113774650226033e-09\n",
      "    Updating n: 0.40\n",
      "NEW LOOP; t=49606.03, dt=0.10, previous_t=49606.03, previous_dt=0.10 n=0.40\n",
      "    Updating t: 49606.04, obs_t: 4.04 start_time: 49606.00, n: 0.40, dt: 0.10\n",
      "    Normalization_flux: 2.0876793953977733e-07 Integral_spectrum: 0.021530023644846605\n",
      "    t=49606.04, dt=0.10, avgflux=1.1125689788555299e-09, photon_flux=1.1119547076438149e-09\n",
      "\n",
      "Close solution, t=49606.04, avgflux=1.1125689788555299e-09, photon_flux=1.1119547076438149e-09\n",
      "NEW LOOP; t=49606.04, dt=0.01, previous_t=49606.03, previous_dt=0.10 n=0.00\n",
      "    Updating t: 49606.03, obs_t: 4.03 start_time: 49606.03, n: 0.00, dt: 0.01\n",
      "    Normalization_flux: 2.0825124553817484e-07 Integral_spectrum: 0.021530023644846605\n",
      "    t=49606.03, dt=0.01, avgflux=1.112569290448376e-09, photon_flux=1.113774650226033e-09\n",
      "    Updating n: 0.10\n",
      "NEW LOOP; t=49606.03, dt=0.01, previous_t=49606.03, previous_dt=0.01 n=0.10\n",
      "    Updating t: 49606.03, obs_t: 4.03 start_time: 49606.03, n: 0.10, dt: 0.01\n",
      "    Normalization_flux: 2.0830291495117243e-07 Integral_spectrum: 0.021530023644846605\n",
      "    t=49606.03, dt=0.01, avgflux=1.112569259289092e-09, photon_flux=1.1135923187721572e-09\n",
      "    Updating n: 0.20\n",
      "NEW LOOP; t=49606.03, dt=0.01, previous_t=49606.03, previous_dt=0.01 n=0.20\n",
      "    Updating t: 49606.03, obs_t: 4.03 start_time: 49606.03, n: 0.20, dt: 0.01\n",
      "    Normalization_flux: 2.0835458436165127e-07 Integral_spectrum: 0.021530023644846605\n",
      "    t=49606.03, dt=0.01, avgflux=1.1125692281298068e-09, photon_flux=1.1134100623812826e-09\n",
      "    Updating n: 0.30\n",
      "NEW LOOP; t=49606.03, dt=0.01, previous_t=49606.03, previous_dt=0.01 n=0.30\n",
      "    Updating t: 49606.03, obs_t: 4.03 start_time: 49606.03, n: 0.30, dt: 0.01\n",
      "    Normalization_flux: 2.0840625376885984e-07 Integral_spectrum: 0.021530023644846605\n",
      "    t=49606.03, dt=0.01, avgflux=1.1125691969705225e-09, photon_flux=1.1132278810065568e-09\n",
      "    Updating n: 0.40\n",
      "NEW LOOP; t=49606.03, dt=0.01, previous_t=49606.03, previous_dt=0.01 n=0.40\n",
      "    Updating t: 49606.03, obs_t: 4.03 start_time: 49606.03, n: 0.40, dt: 0.01\n",
      "    Normalization_flux: 2.0845792317354978e-07 Integral_spectrum: 0.021530023644846605\n",
      "    t=49606.03, dt=0.01, avgflux=1.1125691658112377e-09, photon_flux=1.1130457745958589e-09\n",
      "    Updating n: 0.50\n",
      "NEW LOOP; t=49606.03, dt=0.01, previous_t=49606.03, previous_dt=0.01 n=0.50\n",
      "    Updating t: 49606.03, obs_t: 4.03 start_time: 49606.03, n: 0.50, dt: 0.01\n",
      "    Normalization_flux: 2.0850959257496928e-07 Integral_spectrum: 0.021530023644846605\n",
      "    t=49606.03, dt=0.01, avgflux=1.112569134651953e-09, photon_flux=1.1128637431024285e-09\n",
      "    Updating n: 0.60\n",
      "NEW LOOP; t=49606.03, dt=0.01, previous_t=49606.03, previous_dt=0.01 n=0.60\n",
      "    Updating t: 49606.04, obs_t: 4.04 start_time: 49606.03, n: 0.60, dt: 0.01\n",
      "    Normalization_flux: 2.0856126197387037e-07 Integral_spectrum: 0.021530023644846605\n",
      "    t=49606.04, dt=0.01, avgflux=1.1125691034926687e-09, photon_flux=1.1126817864742343e-09\n",
      "    Updating n: 0.70\n",
      "NEW LOOP; t=49606.04, dt=0.01, previous_t=49606.04, previous_dt=0.01 n=0.70\n",
      "    Updating t: 49606.04, obs_t: 4.04 start_time: 49606.03, n: 0.70, dt: 0.01\n",
      "    Normalization_flux: 2.0861293136950082e-07 Integral_spectrum: 0.021530023644846605\n",
      "    t=49606.04, dt=0.01, avgflux=1.1125690723333839e-09, photon_flux=1.1124999046645985e-09\n",
      "\n",
      "Close solution, t=49606.04, avgflux=1.1125690723333839e-09, photon_flux=1.1124999046645985e-09\n"
     ]
    },
    {
     "data": {
      "text/html": [
       "<div>\n",
       "<style scoped>\n",
       "    .dataframe tbody tr th:only-of-type {\n",
       "        vertical-align: middle;\n",
       "    }\n",
       "\n",
       "    .dataframe tbody tr th {\n",
       "        vertical-align: top;\n",
       "    }\n",
       "\n",
       "    .dataframe thead th {\n",
       "        text-align: right;\n",
       "    }\n",
       "</style>\n",
       "<table border=\"1\" class=\"dataframe\">\n",
       "  <thead>\n",
       "    <tr style=\"text-align: right;\">\n",
       "      <th></th>\n",
       "      <th>run</th>\n",
       "      <th>id</th>\n",
       "      <th>ra</th>\n",
       "      <th>dec</th>\n",
       "      <th>eiso</th>\n",
       "      <th>z</th>\n",
       "      <th>angle</th>\n",
       "      <th>observatory</th>\n",
       "      <th>zenith</th>\n",
       "      <th>seen</th>\n",
       "      <th>tend</th>\n",
       "      <th>obstime</th>\n",
       "      <th>tstart</th>\n",
       "    </tr>\n",
       "  </thead>\n",
       "  <tbody>\n",
       "    <tr>\n",
       "      <th>413</th>\n",
       "      <td>0016</td>\n",
       "      <td>000340</td>\n",
       "      <td>-77.259</td>\n",
       "      <td>17.294</td>\n",
       "      <td>2.090000e+51</td>\n",
       "      <td>0.054</td>\n",
       "      <td>2.56</td>\n",
       "      <td>north</td>\n",
       "      <td>20</td>\n",
       "      <td>True</td>\n",
       "      <td>49606.04</td>\n",
       "      <td>4.04</td>\n",
       "      <td>49602</td>\n",
       "    </tr>\n",
       "  </tbody>\n",
       "</table>\n",
       "</div>"
      ],
      "text/plain": [
       "      run      id      ra     dec          eiso      z  angle observatory  \\\n",
       "413  0016  000340 -77.259  17.294  2.090000e+51  0.054   2.56       north   \n",
       "\n",
       "     zenith  seen      tend  obstime  tstart  \n",
       "413      20  True  49606.04     4.04   49602  "
      ]
     },
     "execution_count": 44,
     "metadata": {},
     "output_type": "execute_result"
    }
   ],
   "source": [
    "files = {\n",
    "    \"north\": {\n",
    "        20: \"grbsens_output_v1_July_2020/grbsens-5.0sigma_t1s-t16384s_irf-North_z20_0.5h.txt\",\n",
    "        40: \"grbsens_output_v1_July_2020/grbsens-5.0sigma_t1s-t16384s_irf-North_z40_0.5h.txt\",\n",
    "        60: \"grbsens_output_v1_July_2020/grbsens-5.0sigma_t1s-t16384s_irf-North_z60_0.5h.txt\",\n",
    "    },\n",
    "    \"south\": {\n",
    "        20: \"grbsens_output_v1_July_2020/grbsens-5.0sigma_t1s-t16384s_irf-South_z20_0.5h.txt\",\n",
    "        40: \"grbsens_output_v1_July_2020/grbsens-5.0sigma_t1s-t16384s_irf-South_z40_0.5h.txt\",\n",
    "        60: \"grbsens_output_v1_July_2020/grbsens-5.0sigma_t1s-t16384s_irf-South_z60_0.5h.txt\",\n",
    "    },\n",
    "}\n",
    "\n",
    "interpolations = gwto.get_fit_dict(files)\n",
    "spectral_dict = gwto.get_integral_spectra(zeniths=[20, 40, 60])\n",
    "\n",
    "bns = gwto.ParseBNS(\"BNS-GW.txt\", sep=\"\\t\")\n",
    "\n",
    "gwto.observe_grb(\n",
    "    413,\n",
    "    bns,\n",
    "    interpolations,\n",
    "    spectral_dict,\n",
    "    tstart=49602,\n",
    "    zenith=20,\n",
    "    observatory=\"north\",\n",
    "    precision=2\n",
    ")"
   ]
  },
  {
   "cell_type": "code",
   "execution_count": 400,
   "id": "dedicated-bacteria",
   "metadata": {},
   "outputs": [
    {
     "data": {
      "text/html": [
       "<div>\n",
       "<style scoped>\n",
       "    .dataframe tbody tr th:only-of-type {\n",
       "        vertical-align: middle;\n",
       "    }\n",
       "\n",
       "    .dataframe tbody tr th {\n",
       "        vertical-align: top;\n",
       "    }\n",
       "\n",
       "    .dataframe thead th {\n",
       "        text-align: right;\n",
       "    }\n",
       "</style>\n",
       "<table border=\"1\" class=\"dataframe\">\n",
       "  <thead>\n",
       "    <tr style=\"text-align: right;\">\n",
       "      <th></th>\n",
       "      <th>run</th>\n",
       "      <th>id</th>\n",
       "      <th>ra</th>\n",
       "      <th>dec</th>\n",
       "      <th>eiso</th>\n",
       "      <th>z</th>\n",
       "      <th>angle</th>\n",
       "      <th>zenith</th>\n",
       "      <th>observatory</th>\n",
       "      <th>seen</th>\n",
       "      <th>tend</th>\n",
       "      <th>obstime</th>\n",
       "      <th>tstart</th>\n",
       "    </tr>\n",
       "  </thead>\n",
       "  <tbody>\n",
       "    <tr>\n",
       "      <th>0</th>\n",
       "      <td>0016</td>\n",
       "      <td>000340</td>\n",
       "      <td>-77.259</td>\n",
       "      <td>17.294</td>\n",
       "      <td>2.090000e+51</td>\n",
       "      <td>0.054</td>\n",
       "      <td>2.56</td>\n",
       "      <td>20</td>\n",
       "      <td>North</td>\n",
       "      <td>True</td>\n",
       "      <td>86421.69</td>\n",
       "      <td>21.69</td>\n",
       "      <td>86400</td>\n",
       "    </tr>\n",
       "    <tr>\n",
       "      <th>0</th>\n",
       "      <td>0016</td>\n",
       "      <td>000340</td>\n",
       "      <td>-77.259</td>\n",
       "      <td>17.294</td>\n",
       "      <td>2.090000e+51</td>\n",
       "      <td>0.054</td>\n",
       "      <td>2.56</td>\n",
       "      <td>20</td>\n",
       "      <td>North</td>\n",
       "      <td>True</td>\n",
       "      <td>71821.01</td>\n",
       "      <td>12.01</td>\n",
       "      <td>71809</td>\n",
       "    </tr>\n",
       "    <tr>\n",
       "      <th>0</th>\n",
       "      <td>0016</td>\n",
       "      <td>000340</td>\n",
       "      <td>-77.259</td>\n",
       "      <td>17.294</td>\n",
       "      <td>2.090000e+51</td>\n",
       "      <td>0.054</td>\n",
       "      <td>2.56</td>\n",
       "      <td>20</td>\n",
       "      <td>North</td>\n",
       "      <td>True</td>\n",
       "      <td>59687.86</td>\n",
       "      <td>6.86</td>\n",
       "      <td>59681</td>\n",
       "    </tr>\n",
       "    <tr>\n",
       "      <th>0</th>\n",
       "      <td>0016</td>\n",
       "      <td>000340</td>\n",
       "      <td>-77.259</td>\n",
       "      <td>17.294</td>\n",
       "      <td>2.090000e+51</td>\n",
       "      <td>0.054</td>\n",
       "      <td>2.56</td>\n",
       "      <td>20</td>\n",
       "      <td>North</td>\n",
       "      <td>True</td>\n",
       "      <td>49606.04</td>\n",
       "      <td>4.04</td>\n",
       "      <td>49602</td>\n",
       "    </tr>\n",
       "    <tr>\n",
       "      <th>0</th>\n",
       "      <td>0016</td>\n",
       "      <td>000340</td>\n",
       "      <td>-77.259</td>\n",
       "      <td>17.294</td>\n",
       "      <td>2.090000e+51</td>\n",
       "      <td>0.054</td>\n",
       "      <td>2.56</td>\n",
       "      <td>20</td>\n",
       "      <td>North</td>\n",
       "      <td>True</td>\n",
       "      <td>41227.25</td>\n",
       "      <td>2.25</td>\n",
       "      <td>41225</td>\n",
       "    </tr>\n",
       "    <tr>\n",
       "      <th>0</th>\n",
       "      <td>0016</td>\n",
       "      <td>000340</td>\n",
       "      <td>-77.259</td>\n",
       "      <td>17.294</td>\n",
       "      <td>2.090000e+51</td>\n",
       "      <td>0.054</td>\n",
       "      <td>2.56</td>\n",
       "      <td>20</td>\n",
       "      <td>North</td>\n",
       "      <td>True</td>\n",
       "      <td>34264.26</td>\n",
       "      <td>1.26</td>\n",
       "      <td>34263</td>\n",
       "    </tr>\n",
       "    <tr>\n",
       "      <th>0</th>\n",
       "      <td>0016</td>\n",
       "      <td>000340</td>\n",
       "      <td>-77.259</td>\n",
       "      <td>17.294</td>\n",
       "      <td>2.090000e+51</td>\n",
       "      <td>0.054</td>\n",
       "      <td>2.56</td>\n",
       "      <td>20</td>\n",
       "      <td>North</td>\n",
       "      <td>True</td>\n",
       "      <td>28478.00</td>\n",
       "      <td>1.00</td>\n",
       "      <td>28477</td>\n",
       "    </tr>\n",
       "    <tr>\n",
       "      <th>0</th>\n",
       "      <td>0016</td>\n",
       "      <td>000340</td>\n",
       "      <td>-77.259</td>\n",
       "      <td>17.294</td>\n",
       "      <td>2.090000e+51</td>\n",
       "      <td>0.054</td>\n",
       "      <td>2.56</td>\n",
       "      <td>20</td>\n",
       "      <td>North</td>\n",
       "      <td>True</td>\n",
       "      <td>23669.00</td>\n",
       "      <td>1.00</td>\n",
       "      <td>23668</td>\n",
       "    </tr>\n",
       "    <tr>\n",
       "      <th>0</th>\n",
       "      <td>0016</td>\n",
       "      <td>000340</td>\n",
       "      <td>-77.259</td>\n",
       "      <td>17.294</td>\n",
       "      <td>2.090000e+51</td>\n",
       "      <td>0.054</td>\n",
       "      <td>2.56</td>\n",
       "      <td>20</td>\n",
       "      <td>North</td>\n",
       "      <td>True</td>\n",
       "      <td>19672.00</td>\n",
       "      <td>1.00</td>\n",
       "      <td>19671</td>\n",
       "    </tr>\n",
       "    <tr>\n",
       "      <th>0</th>\n",
       "      <td>0016</td>\n",
       "      <td>000340</td>\n",
       "      <td>-77.259</td>\n",
       "      <td>17.294</td>\n",
       "      <td>2.090000e+51</td>\n",
       "      <td>0.054</td>\n",
       "      <td>2.56</td>\n",
       "      <td>20</td>\n",
       "      <td>North</td>\n",
       "      <td>True</td>\n",
       "      <td>16350.00</td>\n",
       "      <td>1.00</td>\n",
       "      <td>16349</td>\n",
       "    </tr>\n",
       "  </tbody>\n",
       "</table>\n",
       "</div>"
      ],
      "text/plain": [
       "    run      id      ra     dec          eiso      z  angle  zenith  \\\n",
       "0  0016  000340 -77.259  17.294  2.090000e+51  0.054   2.56      20   \n",
       "0  0016  000340 -77.259  17.294  2.090000e+51  0.054   2.56      20   \n",
       "0  0016  000340 -77.259  17.294  2.090000e+51  0.054   2.56      20   \n",
       "0  0016  000340 -77.259  17.294  2.090000e+51  0.054   2.56      20   \n",
       "0  0016  000340 -77.259  17.294  2.090000e+51  0.054   2.56      20   \n",
       "0  0016  000340 -77.259  17.294  2.090000e+51  0.054   2.56      20   \n",
       "0  0016  000340 -77.259  17.294  2.090000e+51  0.054   2.56      20   \n",
       "0  0016  000340 -77.259  17.294  2.090000e+51  0.054   2.56      20   \n",
       "0  0016  000340 -77.259  17.294  2.090000e+51  0.054   2.56      20   \n",
       "0  0016  000340 -77.259  17.294  2.090000e+51  0.054   2.56      20   \n",
       "\n",
       "  observatory  seen      tend  obstime  tstart  \n",
       "0       North  True  86421.69    21.69   86400  \n",
       "0       North  True  71821.01    12.01   71809  \n",
       "0       North  True  59687.86     6.86   59681  \n",
       "0       North  True  49606.04     4.04   49602  \n",
       "0       North  True  41227.25     2.25   41225  \n",
       "0       North  True  34264.26     1.26   34263  \n",
       "0       North  True  28478.00     1.00   28477  \n",
       "0       North  True  23669.00     1.00   23668  \n",
       "0       North  True  19672.00     1.00   19671  \n",
       "0       North  True  16350.00     1.00   16349  "
      ]
     },
     "execution_count": 400,
     "metadata": {},
     "output_type": "execute_result"
    }
   ],
   "source": [
    "v2n[v2n.run == \"0016\"][:10]"
   ]
  },
  {
   "cell_type": "markdown",
   "id": "perceived-heaven",
   "metadata": {},
   "source": [
    "### Testing the v1 code.  [it works]"
   ]
  },
  {
   "cell_type": "code",
   "execution_count": 399,
   "id": "powered-reader",
   "metadata": {},
   "outputs": [
    {
     "data": {
      "text/html": [
       "<div>\n",
       "<style scoped>\n",
       "    .dataframe tbody tr th:only-of-type {\n",
       "        vertical-align: middle;\n",
       "    }\n",
       "\n",
       "    .dataframe tbody tr th {\n",
       "        vertical-align: top;\n",
       "    }\n",
       "\n",
       "    .dataframe thead th {\n",
       "        text-align: right;\n",
       "    }\n",
       "</style>\n",
       "<table border=\"1\" class=\"dataframe\">\n",
       "  <thead>\n",
       "    <tr style=\"text-align: right;\">\n",
       "      <th></th>\n",
       "      <th>run</th>\n",
       "      <th>id</th>\n",
       "      <th>ra</th>\n",
       "      <th>dec</th>\n",
       "      <th>eiso</th>\n",
       "      <th>z</th>\n",
       "      <th>angle</th>\n",
       "      <th>observatory</th>\n",
       "      <th>zenith</th>\n",
       "      <th>seen</th>\n",
       "      <th>tend</th>\n",
       "      <th>obstime</th>\n",
       "      <th>tstart</th>\n",
       "    </tr>\n",
       "  </thead>\n",
       "  <tbody>\n",
       "    <tr>\n",
       "      <th>413</th>\n",
       "      <td>0016</td>\n",
       "      <td>000340</td>\n",
       "      <td>-77.259</td>\n",
       "      <td>17.294</td>\n",
       "      <td>1.001666e+52</td>\n",
       "      <td>0.054</td>\n",
       "      <td>2.563</td>\n",
       "      <td>north</td>\n",
       "      <td>20</td>\n",
       "      <td>True</td>\n",
       "      <td>49673.99</td>\n",
       "      <td>71.99</td>\n",
       "      <td>49602</td>\n",
       "    </tr>\n",
       "  </tbody>\n",
       "</table>\n",
       "</div>"
      ],
      "text/plain": [
       "      run      id      ra     dec          eiso      z  angle observatory  \\\n",
       "413  0016  000340 -77.259  17.294  1.001666e+52  0.054  2.563       north   \n",
       "\n",
       "     zenith  seen      tend  obstime  tstart  \n",
       "413      20  True  49673.99    71.99   49602  "
      ]
     },
     "execution_count": 399,
     "metadata": {},
     "output_type": "execute_result"
    }
   ],
   "source": [
    "files = {\n",
    "    \"north\": {\n",
    "        20: \"grbsens_output_v1_July_2020/grbsens-5.0sigma_t1s-t16384s_irf-North_z20_0.5h.txt\",\n",
    "        40: \"grbsens_output_v1_July_2020/grbsens-5.0sigma_t1s-t16384s_irf-North_z40_0.5h.txt\",\n",
    "        60: \"grbsens_output_v1_July_2020/grbsens-5.0sigma_t1s-t16384s_irf-North_z60_0.5h.txt\",\n",
    "    },\n",
    "    \"south\": {\n",
    "        20: \"grbsens_output_v1_July_2020/grbsens-5.0sigma_t1s-t16384s_irf-South_z20_0.5h.txt\",\n",
    "        40: \"grbsens_output_v1_July_2020/grbsens-5.0sigma_t1s-t16384s_irf-South_z40_0.5h.txt\",\n",
    "        60: \"grbsens_output_v1_July_2020/grbsens-5.0sigma_t1s-t16384s_irf-South_z60_0.5h.txt\",\n",
    "    },\n",
    "}\n",
    "\n",
    "interpolations = gwto.get_fit_dict(files)\n",
    "spectral_dict = gwto.get_integral_spectra(zeniths=[20, 40, 60])\n",
    "\n",
    "bns = gwto.ParseBNS(\"BNS-GW.txt\", sep=\"\\t\")\n",
    "\n",
    "gwto.observe_grb(\n",
    "    413,\n",
    "    bns,\n",
    "    interpolations,\n",
    "    spectral_dict,\n",
    "    tstart=49602,\n",
    "    zenith=20,\n",
    "    observatory=\"north\",\n",
    "    precision=2\n",
    ")"
   ]
  },
  {
   "cell_type": "code",
   "execution_count": 398,
   "id": "freelance-dryer",
   "metadata": {},
   "outputs": [
    {
     "data": {
      "text/html": [
       "<div>\n",
       "<style scoped>\n",
       "    .dataframe tbody tr th:only-of-type {\n",
       "        vertical-align: middle;\n",
       "    }\n",
       "\n",
       "    .dataframe tbody tr th {\n",
       "        vertical-align: top;\n",
       "    }\n",
       "\n",
       "    .dataframe thead th {\n",
       "        text-align: right;\n",
       "    }\n",
       "</style>\n",
       "<table border=\"1\" class=\"dataframe\">\n",
       "  <thead>\n",
       "    <tr style=\"text-align: right;\">\n",
       "      <th></th>\n",
       "      <th>run</th>\n",
       "      <th>id</th>\n",
       "      <th>ra</th>\n",
       "      <th>dec</th>\n",
       "      <th>eiso</th>\n",
       "      <th>z</th>\n",
       "      <th>angle</th>\n",
       "      <th>zenith</th>\n",
       "      <th>observatory</th>\n",
       "      <th>seen</th>\n",
       "      <th>tend</th>\n",
       "      <th>obstime</th>\n",
       "      <th>tstart</th>\n",
       "    </tr>\n",
       "  </thead>\n",
       "  <tbody>\n",
       "    <tr>\n",
       "      <th>0</th>\n",
       "      <td>0016</td>\n",
       "      <td>000340</td>\n",
       "      <td>-77.259</td>\n",
       "      <td>17.294</td>\n",
       "      <td>1.001666e+52</td>\n",
       "      <td>0.054</td>\n",
       "      <td>2.563</td>\n",
       "      <td>20</td>\n",
       "      <td>North</td>\n",
       "      <td>True</td>\n",
       "      <td>86624.34</td>\n",
       "      <td>224.34</td>\n",
       "      <td>86400</td>\n",
       "    </tr>\n",
       "    <tr>\n",
       "      <th>0</th>\n",
       "      <td>0016</td>\n",
       "      <td>000340</td>\n",
       "      <td>-77.259</td>\n",
       "      <td>17.294</td>\n",
       "      <td>1.001666e+52</td>\n",
       "      <td>0.054</td>\n",
       "      <td>2.563</td>\n",
       "      <td>20</td>\n",
       "      <td>North</td>\n",
       "      <td>True</td>\n",
       "      <td>71960.77</td>\n",
       "      <td>151.77</td>\n",
       "      <td>71809</td>\n",
       "    </tr>\n",
       "    <tr>\n",
       "      <th>0</th>\n",
       "      <td>0016</td>\n",
       "      <td>000340</td>\n",
       "      <td>-77.259</td>\n",
       "      <td>17.294</td>\n",
       "      <td>1.001666e+52</td>\n",
       "      <td>0.054</td>\n",
       "      <td>2.563</td>\n",
       "      <td>20</td>\n",
       "      <td>North</td>\n",
       "      <td>True</td>\n",
       "      <td>59784.83</td>\n",
       "      <td>103.83</td>\n",
       "      <td>59681</td>\n",
       "    </tr>\n",
       "    <tr>\n",
       "      <th>0</th>\n",
       "      <td>0016</td>\n",
       "      <td>000340</td>\n",
       "      <td>-77.259</td>\n",
       "      <td>17.294</td>\n",
       "      <td>1.001666e+52</td>\n",
       "      <td>0.054</td>\n",
       "      <td>2.563</td>\n",
       "      <td>20</td>\n",
       "      <td>North</td>\n",
       "      <td>True</td>\n",
       "      <td>49673.99</td>\n",
       "      <td>71.99</td>\n",
       "      <td>49602</td>\n",
       "    </tr>\n",
       "    <tr>\n",
       "      <th>0</th>\n",
       "      <td>0016</td>\n",
       "      <td>000340</td>\n",
       "      <td>-77.259</td>\n",
       "      <td>17.294</td>\n",
       "      <td>1.001666e+52</td>\n",
       "      <td>0.054</td>\n",
       "      <td>2.563</td>\n",
       "      <td>20</td>\n",
       "      <td>North</td>\n",
       "      <td>True</td>\n",
       "      <td>41273.54</td>\n",
       "      <td>48.54</td>\n",
       "      <td>41225</td>\n",
       "    </tr>\n",
       "    <tr>\n",
       "      <th>0</th>\n",
       "      <td>0016</td>\n",
       "      <td>000340</td>\n",
       "      <td>-77.259</td>\n",
       "      <td>17.294</td>\n",
       "      <td>1.001666e+52</td>\n",
       "      <td>0.054</td>\n",
       "      <td>2.563</td>\n",
       "      <td>20</td>\n",
       "      <td>North</td>\n",
       "      <td>True</td>\n",
       "      <td>34295.67</td>\n",
       "      <td>32.67</td>\n",
       "      <td>34263</td>\n",
       "    </tr>\n",
       "    <tr>\n",
       "      <th>0</th>\n",
       "      <td>0016</td>\n",
       "      <td>000340</td>\n",
       "      <td>-77.259</td>\n",
       "      <td>17.294</td>\n",
       "      <td>1.001666e+52</td>\n",
       "      <td>0.054</td>\n",
       "      <td>2.563</td>\n",
       "      <td>20</td>\n",
       "      <td>North</td>\n",
       "      <td>True</td>\n",
       "      <td>28499.21</td>\n",
       "      <td>22.21</td>\n",
       "      <td>28477</td>\n",
       "    </tr>\n",
       "    <tr>\n",
       "      <th>0</th>\n",
       "      <td>0016</td>\n",
       "      <td>000340</td>\n",
       "      <td>-77.259</td>\n",
       "      <td>17.294</td>\n",
       "      <td>1.001666e+52</td>\n",
       "      <td>0.054</td>\n",
       "      <td>2.563</td>\n",
       "      <td>20</td>\n",
       "      <td>North</td>\n",
       "      <td>True</td>\n",
       "      <td>23683.27</td>\n",
       "      <td>15.27</td>\n",
       "      <td>23668</td>\n",
       "    </tr>\n",
       "    <tr>\n",
       "      <th>0</th>\n",
       "      <td>0016</td>\n",
       "      <td>000340</td>\n",
       "      <td>-77.259</td>\n",
       "      <td>17.294</td>\n",
       "      <td>1.001666e+52</td>\n",
       "      <td>0.054</td>\n",
       "      <td>2.563</td>\n",
       "      <td>20</td>\n",
       "      <td>North</td>\n",
       "      <td>True</td>\n",
       "      <td>19681.64</td>\n",
       "      <td>10.64</td>\n",
       "      <td>19671</td>\n",
       "    </tr>\n",
       "    <tr>\n",
       "      <th>0</th>\n",
       "      <td>0016</td>\n",
       "      <td>000340</td>\n",
       "      <td>-77.259</td>\n",
       "      <td>17.294</td>\n",
       "      <td>1.001666e+52</td>\n",
       "      <td>0.054</td>\n",
       "      <td>2.563</td>\n",
       "      <td>20</td>\n",
       "      <td>North</td>\n",
       "      <td>True</td>\n",
       "      <td>16356.27</td>\n",
       "      <td>7.27</td>\n",
       "      <td>16349</td>\n",
       "    </tr>\n",
       "  </tbody>\n",
       "</table>\n",
       "</div>"
      ],
      "text/plain": [
       "    run      id      ra     dec          eiso      z  angle  zenith  \\\n",
       "0  0016  000340 -77.259  17.294  1.001666e+52  0.054  2.563      20   \n",
       "0  0016  000340 -77.259  17.294  1.001666e+52  0.054  2.563      20   \n",
       "0  0016  000340 -77.259  17.294  1.001666e+52  0.054  2.563      20   \n",
       "0  0016  000340 -77.259  17.294  1.001666e+52  0.054  2.563      20   \n",
       "0  0016  000340 -77.259  17.294  1.001666e+52  0.054  2.563      20   \n",
       "0  0016  000340 -77.259  17.294  1.001666e+52  0.054  2.563      20   \n",
       "0  0016  000340 -77.259  17.294  1.001666e+52  0.054  2.563      20   \n",
       "0  0016  000340 -77.259  17.294  1.001666e+52  0.054  2.563      20   \n",
       "0  0016  000340 -77.259  17.294  1.001666e+52  0.054  2.563      20   \n",
       "0  0016  000340 -77.259  17.294  1.001666e+52  0.054  2.563      20   \n",
       "\n",
       "  observatory  seen      tend  obstime  tstart  \n",
       "0       North  True  86624.34   224.34   86400  \n",
       "0       North  True  71960.77   151.77   71809  \n",
       "0       North  True  59784.83   103.83   59681  \n",
       "0       North  True  49673.99    71.99   49602  \n",
       "0       North  True  41273.54    48.54   41225  \n",
       "0       North  True  34295.67    32.67   34263  \n",
       "0       North  True  28499.21    22.21   28477  \n",
       "0       North  True  23683.27    15.27   23668  \n",
       "0       North  True  19681.64    10.64   19671  \n",
       "0       North  True  16356.27     7.27   16349  "
      ]
     },
     "execution_count": 398,
     "metadata": {},
     "output_type": "execute_result"
    }
   ],
   "source": [
    "v1n[v1n.run == \"0016\"][0:10]"
   ]
  },
  {
   "cell_type": "code",
   "execution_count": null,
   "id": "existing-persian",
   "metadata": {},
   "outputs": [],
   "source": []
  }
 ],
 "metadata": {
  "kernelspec": {
   "display_name": "gw-toy",
   "language": "python",
   "name": "gw-toy"
  },
  "language_info": {
   "codemirror_mode": {
    "name": "ipython",
    "version": 3
   },
   "file_extension": ".py",
   "mimetype": "text/x-python",
   "name": "python",
   "nbconvert_exporter": "python",
   "pygments_lexer": "ipython3",
   "version": "3.7.10"
  }
 },
 "nbformat": 4,
 "nbformat_minor": 5
}
